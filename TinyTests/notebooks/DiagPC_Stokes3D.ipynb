{
 "cells": [
  {
   "cell_type": "code",
   "execution_count": 17,
   "metadata": {},
   "outputs": [],
   "source": [
    "from sympy import *\n",
    "\n",
    "PE, PW, PS, PN          = symbols('PE, PW, PS, PN')\n",
    "VxC, VxW, VxE, VxN, VxS, VxF, VxB = symbols('VxC, VxW, VxE, VxN, VxS, VxF, VxB')\n",
    "VySW, VySE, VyNW, VyNE  = symbols('VySW, VySE, VyNW, VyNE ')\n",
    "VzFW, VzFE, VzBW, VzBE  = symbols('VzFW, VzFE, VzBW, VzBE ')\n",
    "VyC, VyW, VyE, VyN, VyS = symbols('VyC, VyW, VyE, VyN, VyS')\n",
    "VxSW, VxSE, VxNW, VxNE  = symbols('VxSW, VxSE, VxNW, VxNE')\n",
    "dx, dy, dz, eta_W, eta_E, eta_S, eta_N = symbols('dx, dy, dz, eta_W, eta_E, eta_S, eta_N', positive=True)"
   ]
  },
  {
   "cell_type": "code",
   "execution_count": 18,
   "metadata": {},
   "outputs": [
    {
     "data": {
      "text/latex": [
       "$\\displaystyle - \\frac{- \\frac{\\eta_{N}}{dy} - \\frac{\\eta_{S}}{dy}}{dy} - \\frac{- \\frac{4 \\eta_{E}}{3 dx} - \\frac{4 \\eta_{W}}{3 dx}}{dx}$"
      ],
      "text/plain": [
       "-(-eta_N/dy - eta_S/dy)/dy - (-4*eta_E/(3*dx) - 4*eta_W/(3*dx))/dx"
      ]
     },
     "metadata": {},
     "output_type": "display_data"
    }
   ],
   "source": [
    "########################################### VX ###########################################\n",
    "dVxdxW = (VxC-VxW)/dx\n",
    "dVxdxE = (VxE-VxC)/dx\n",
    "dVydyW = (VyNW-VySW)/dy\n",
    "dVydyE = (VyNE-VySE)/dy\n",
    "dVzdzW = (VzFW-VzBW)/dz\n",
    "dVzdzE = (VzFE-VzBE)/dz\n",
    "\n",
    "dVxdyS = (VxC - VxS)     / dy\n",
    "dVxdyN = (VxN - VxC)     / dy\n",
    "dVxdzB = (VxC - VxB)     / dz\n",
    "dVxdzF = (VxF - VxC)     / dz\n",
    "dVydxS = (VySE   - VySW) / dx\n",
    "dVydxN = (VyNE - VyNW)   / dx\n",
    "\n",
    "divW   = dVxdxW + dVydyW\n",
    "divE   = dVxdxE + dVydyE\n",
    "ExxW   = dVxdxW - Rational(1,3)*divW\n",
    "ExxE   = dVxdxE - Rational(1,3)*divE\n",
    "\n",
    "EyxS   = Rational(1,2)*(dVxdyS + dVydxS)\n",
    "EyxN   = Rational(1,2)*(dVxdyN + dVydxN)\n",
    "\n",
    "TxxW   = 2*eta_W*ExxW\n",
    "TxxE   = 2*eta_E*ExxE\n",
    "TyxS   = 2*eta_S*EyxS\n",
    "TyxN   = 2*eta_N*EyxN\n",
    "Fx     = -((TxxE - TxxW)/dx + (TyxN - TyxS)/dy - (PE-PW)/dx)\n",
    "\n",
    "display( (Fx.diff(VxC)) )"
   ]
  },
  {
   "cell_type": "code",
   "execution_count": 19,
   "metadata": {},
   "outputs": [
    {
     "data": {
      "text/latex": [
       "$\\displaystyle - \\frac{6 dx^{2} \\left(\\eta_{N} + \\eta_{S}\\right) + 8 dy^{2} \\left(\\eta_{E} + \\eta_{W}\\right)}{3 dx^{2} dy^{2}}$"
      ],
      "text/plain": [
       "-(6*dx**2*(eta_N + eta_S) + 8*dy**2*(eta_E + eta_W))/(3*dx**2*dy**2)"
      ]
     },
     "metadata": {},
     "output_type": "display_data"
    },
    {
     "name": "stdout",
     "output_type": "stream",
     "text": [
      "-(6 * dx .^ 2 .* (eta_N + eta_S) + 8 * dy .^ 2 .* (eta_E + eta_W)) ./ (3 * dx .^ 2 .* dy .^ 2)\n"
     ]
    }
   ],
   "source": [
    "lambda_max_x = ( -Fx.diff(VxC) + Fx.diff(VxW) + (Fx.diff(VxE)) + (Fx.diff(VxS)) + (Fx.diff(VxN)) + (Fx.diff(VySW)) + (Fx.diff(VySE)) + (Fx.diff(VyNW)) + (Fx.diff(VyNE)))\n",
    "display( lambda_max_x.simplify() )\n",
    "print( julia_code(lambda_max_x.simplify()) )"
   ]
  },
  {
   "cell_type": "code",
   "execution_count": 20,
   "metadata": {},
   "outputs": [
    {
     "name": "stdout",
     "output_type": "stream",
     "text": [
      "cVxC  = -(-eta_N ./ dy - eta_S ./ dy) ./ dy - (-4 // 3 * eta_E ./ dx - 4 // 3 * eta_W ./ dx) ./ dx\n",
      "cVxW  = -4 // 3 * eta_W ./ dx .^ 2\n",
      "cVxE  = -4 // 3 * eta_E ./ dx .^ 2\n",
      "cVxS  = -eta_S ./ dy .^ 2\n",
      "cVxN  = -eta_N ./ dy .^ 2\n",
      "cVySW = -eta_S ./ (dx .* dy) + (2 // 3) * eta_W ./ (dx .* dy)\n",
      "cVySE = -2 // 3 * eta_E ./ (dx .* dy) + eta_S ./ (dx .* dy)\n",
      "cVyNW = eta_N ./ (dx .* dy) - 2 // 3 * eta_W ./ (dx .* dy)\n",
      "cVyNE = (2 // 3) * eta_E ./ (dx .* dy) - eta_N ./ (dx .* dy)\n",
      "cPW   = -1 ./ dx\n",
      "cPE   = 1 ./ dx\n"
     ]
    }
   ],
   "source": [
    "print( 'cVxC  = ' + julia_code( (Fx.diff(VxC  )) ) )\n",
    "print( 'cVxW  = ' + julia_code( (Fx.diff(VxW  )) ) )\n",
    "print( 'cVxE  = ' + julia_code( (Fx.diff(VxE  )) ) )\n",
    "print( 'cVxS  = ' + julia_code( (Fx.diff(VxS  )) ) )\n",
    "print( 'cVxN  = ' + julia_code( (Fx.diff(VxN  )) ) )\n",
    "print( 'cVySW = ' + julia_code( (Fx.diff(VySW )) ) )\n",
    "print( 'cVySE = ' + julia_code( (Fx.diff(VySE )) ) )\n",
    "print( 'cVyNW = ' + julia_code( (Fx.diff(VyNW )) ) )\n",
    "print( 'cVyNE = ' + julia_code( (Fx.diff(VyNE )) ) )\n",
    "print( 'cPW   = ' + julia_code( (Fx.diff(PW   )) ) )\n",
    "print( 'cPE   = ' + julia_code( (Fx.diff(PE   )) ) )\n"
   ]
  },
  {
   "cell_type": "code",
   "execution_count": 21,
   "metadata": {},
   "outputs": [
    {
     "name": "stdout",
     "output_type": "stream",
     "text": [
      "abs((2 // 3) * eta_E ./ (dx .* dy) - eta_N ./ (dx .* dy)) + abs((2 // 3) * eta_E ./ (dx .* dy) - eta_S ./ (dx .* dy)) + abs(eta_N ./ (dx .* dy) - 2 // 3 * eta_W ./ (dx .* dy)) + abs(eta_S ./ (dx .* dy) - 2 // 3 * eta_W ./ (dx .* dy)) + (eta_N ./ dy + eta_S ./ dy) ./ dy + eta_N ./ dy .^ 2 + eta_S ./ dy .^ 2 + ((4 // 3) * eta_E ./ dx + (4 // 3) * eta_W ./ dx) ./ dx + 2 ./ dx + (4 // 3) * eta_E ./ dx .^ 2 + (4 // 3) * eta_W ./ dx .^ 2\n"
     ]
    }
   ],
   "source": [
    "lmax  = abs(Fx.diff(VxC  ))\n",
    "lmax += abs(Fx.diff(VxW  ))\n",
    "lmax += abs(Fx.diff(VxE  ))\n",
    "lmax += abs(Fx.diff(VxS  ))\n",
    "lmax += abs(Fx.diff(VxN  ))\n",
    "lmax += abs(Fx.diff(VySW ))\n",
    "lmax += abs(Fx.diff(VySE ))\n",
    "lmax += abs(Fx.diff(VyNW ))\n",
    "lmax += abs(Fx.diff(VyNE ))\n",
    "lmax += abs(Fx.diff(PW   ))\n",
    "lmax += abs(Fx.diff(PE   ))\n",
    "print( julia_code(lmax))"
   ]
  },
  {
   "cell_type": "code",
   "execution_count": 22,
   "metadata": {},
   "outputs": [
    {
     "data": {
      "text/latex": [
       "$\\displaystyle - \\frac{- \\frac{4 \\eta_{N}}{3 dy} - \\frac{4 \\eta_{S}}{3 dy}}{dy} - \\frac{- \\frac{\\eta_{E}}{dx} - \\frac{\\eta_{W}}{dx}}{dx}$"
      ],
      "text/plain": [
       "-(-4*eta_N/(3*dy) - 4*eta_S/(3*dy))/dy - (-eta_E/dx - eta_W/dx)/dx"
      ]
     },
     "metadata": {},
     "output_type": "display_data"
    }
   ],
   "source": [
    "########################################### VY ###########################################\n",
    "dVxdxS = (VxSE-VxSW)/dx\n",
    "dVxdxN = (VxNE-VxNW)/dx\n",
    "dVydyS = (VyC-VyS)/dy\n",
    "dVydyN = (VyN-VyC)/dy\n",
    "\n",
    "dVxdyW = (VxNW - VxSW) / dy\n",
    "dVxdyE = (VxNE - VxSE) / dy\n",
    "dVydxW = (VyC  - VyW) / dx\n",
    "dVydxE = (VyE  - VyC) / dx\n",
    "\n",
    "divS   = dVxdxS + dVydyS\n",
    "divN   = dVxdxN + dVydyN\n",
    "EyyS   = dVydyS - Rational(1,3)*divS\n",
    "EyyN   = dVydyN - Rational(1,3)*divN\n",
    "\n",
    "ExyW   = Rational(1,2)*(dVxdyW + dVydxW)\n",
    "ExyE   = Rational(1,2)*(dVxdyE + dVydxE)\n",
    "\n",
    "TyyS   = 2*eta_S*EyyS\n",
    "TyyN   = 2*eta_N*EyyN\n",
    "TxyW   = 2*eta_W*ExyW\n",
    "TxyE   = 2*eta_E*ExyE\n",
    "Fy     = -((TyyN - TyyS)/dy + (TxyE - TxyW)/dx - (PN-PS)/dy)\n",
    "\n",
    "display( (Fy.diff(VyC)) )"
   ]
  },
  {
   "cell_type": "code",
   "execution_count": 23,
   "metadata": {},
   "outputs": [
    {
     "data": {
      "text/latex": [
       "$\\displaystyle - \\frac{8 dx^{2} \\left(\\eta_{N} + \\eta_{S}\\right) + 6 dy^{2} \\left(\\eta_{E} + \\eta_{W}\\right)}{3 dx^{2} dy^{2}}$"
      ],
      "text/plain": [
       "-(8*dx**2*(eta_N + eta_S) + 6*dy**2*(eta_E + eta_W))/(3*dx**2*dy**2)"
      ]
     },
     "metadata": {},
     "output_type": "display_data"
    },
    {
     "name": "stdout",
     "output_type": "stream",
     "text": [
      "-(8 * dx .^ 2 .* (eta_N + eta_S) + 6 * dy .^ 2 .* (eta_E + eta_W)) ./ (3 * dx .^ 2 .* dy .^ 2)\n"
     ]
    }
   ],
   "source": [
    "lambda_max_y = ( -Fy.diff(VyC) + Fy.diff(VyW) + (Fy.diff(VyE)) + (Fy.diff(VyS)) + (Fy.diff(VyN)) + (Fy.diff(VxSW)) + (Fy.diff(VxSE)) + (Fy.diff(VxNW)) + (Fy.diff(VxNE)))\n",
    "display( lambda_max_y.simplify() )\n",
    "print( julia_code(lambda_max_y.simplify()) )"
   ]
  },
  {
   "cell_type": "code",
   "execution_count": 24,
   "metadata": {},
   "outputs": [
    {
     "data": {
      "text/latex": [
       "$\\displaystyle - \\frac{\\eta_{S}}{dy^{2}}$"
      ],
      "text/plain": [
       "-eta_S/dy**2"
      ]
     },
     "metadata": {},
     "output_type": "display_data"
    },
    {
     "data": {
      "text/latex": [
       "$\\displaystyle - \\frac{4 \\eta_{W}}{3 dx^{2}}$"
      ],
      "text/plain": [
       "-4*eta_W/(3*dx**2)"
      ]
     },
     "metadata": {},
     "output_type": "display_data"
    },
    {
     "data": {
      "text/latex": [
       "$\\displaystyle - \\frac{- \\frac{\\eta_{N}}{dy} - \\frac{\\eta_{S}}{dy}}{dy} - \\frac{- \\frac{4 \\eta_{E}}{3 dx} - \\frac{4 \\eta_{W}}{3 dx}}{dx}$"
      ],
      "text/plain": [
       "-(-eta_N/dy - eta_S/dy)/dy - (-4*eta_E/(3*dx) - 4*eta_W/(3*dx))/dx"
      ]
     },
     "metadata": {},
     "output_type": "display_data"
    },
    {
     "data": {
      "text/latex": [
       "$\\displaystyle - \\frac{4 \\eta_{E}}{3 dx^{2}}$"
      ],
      "text/plain": [
       "-4*eta_E/(3*dx**2)"
      ]
     },
     "metadata": {},
     "output_type": "display_data"
    },
    {
     "data": {
      "text/latex": [
       "$\\displaystyle - \\frac{\\eta_{N}}{dy^{2}}$"
      ],
      "text/plain": [
       "-eta_N/dy**2"
      ]
     },
     "metadata": {},
     "output_type": "display_data"
    },
    {
     "data": {
      "text/latex": [
       "$\\displaystyle - \\frac{\\eta_{S}}{dx dy} + \\frac{2 \\eta_{W}}{3 dx dy}$"
      ],
      "text/plain": [
       "-eta_S/(dx*dy) + 2*eta_W/(3*dx*dy)"
      ]
     },
     "metadata": {},
     "output_type": "display_data"
    },
    {
     "data": {
      "text/latex": [
       "$\\displaystyle - \\frac{2 \\eta_{E}}{3 dx dy} + \\frac{\\eta_{S}}{dx dy}$"
      ],
      "text/plain": [
       "-2*eta_E/(3*dx*dy) + eta_S/(dx*dy)"
      ]
     },
     "metadata": {},
     "output_type": "display_data"
    },
    {
     "data": {
      "text/latex": [
       "$\\displaystyle \\frac{\\eta_{N}}{dx dy} - \\frac{2 \\eta_{W}}{3 dx dy}$"
      ],
      "text/plain": [
       "eta_N/(dx*dy) - 2*eta_W/(3*dx*dy)"
      ]
     },
     "metadata": {},
     "output_type": "display_data"
    },
    {
     "data": {
      "text/latex": [
       "$\\displaystyle \\frac{2 \\eta_{E}}{3 dx dy} - \\frac{\\eta_{N}}{dx dy}$"
      ],
      "text/plain": [
       "2*eta_E/(3*dx*dy) - eta_N/(dx*dy)"
      ]
     },
     "metadata": {},
     "output_type": "display_data"
    }
   ],
   "source": [
    "# Schur complement assembly\n",
    "gamma = symbols('gamma', positive=True)\n",
    "\n",
    "dVxdxW = (VxC-VxW)/dx\n",
    "dVxdxE = (VxE-VxC)/dx\n",
    "dVydyW = (VyNW-VySW)/dy\n",
    "dVydyE = (VyNE-VySE)/dy\n",
    "\n",
    "dVxdyS = (VxC - VxS)     / dy\n",
    "dVxdyN = (VxN - VxC)     / dy\n",
    "dVydxS = (VySE   - VySW) / dx\n",
    "dVydxN = (VyNE - VyNW)   / dx\n",
    "\n",
    "divW   = dVxdxW + dVydyW\n",
    "divE   = dVxdxE + dVydyE\n",
    "ExxW   = 0*(dVxdxW - Rational(1,3)*divW)\n",
    "ExxE   = 0*(dVxdxE - Rational(1,3)*divE)\n",
    "\n",
    "EyxS   = 0.5*(dVxdyS + dVydxS)\n",
    "EyxN   = 0.5*(dVxdyN + dVydxN)\n",
    "\n",
    "TxxW   = 2.0*eta_W*ExxW*0 + gamma*divW\n",
    "TxxE   = 2.0*eta_E*ExxE*0 + gamma*divE\n",
    "TyxS   = 2.0*eta_S*EyxS*0\n",
    "TyxN   = 2.0*eta_N*EyxN*0\n",
    "Fx_SC  = (TxxE - TxxW)/dx + (TyxN - TyxS)/dy\n",
    "\n",
    "display(Fx.diff(VxS))\n",
    "display(Fx.diff(VxW))\n",
    "display(Fx.diff(VxC))\n",
    "display(Fx.diff(VxE))\n",
    "display(Fx.diff(VxN))\n",
    "display(Fx.diff(VySW))\n",
    "display(Fx.diff(VySE))\n",
    "display(Fx.diff(VyNW))\n",
    "display(Fx.diff(VyNE))"
   ]
  },
  {
   "cell_type": "code",
   "execution_count": 25,
   "metadata": {},
   "outputs": [
    {
     "data": {
      "text/latex": [
       "$\\displaystyle \\left|{\\frac{2 \\eta_{E}}{3 dx dy} - \\frac{\\eta_{N}}{dx dy}}\\right| + \\left|{\\frac{2 \\eta_{E}}{3 dx dy} - \\frac{\\eta_{S}}{dx dy}}\\right| + \\left|{\\frac{\\eta_{N}}{dx dy} - \\frac{2 \\eta_{W}}{3 dx dy}}\\right| + \\left|{\\frac{\\eta_{S}}{dx dy} - \\frac{2 \\eta_{W}}{3 dx dy}}\\right| - \\frac{- \\frac{\\eta_{N}}{dy} - \\frac{\\eta_{S}}{dy}}{dy} + \\frac{\\eta_{N}}{dy^{2}} + \\frac{\\eta_{S}}{dy^{2}} - \\frac{- \\frac{4 \\eta_{E}}{3 dx} - \\frac{4 \\eta_{W}}{3 dx}}{dx} + \\frac{4 \\eta_{E}}{3 dx^{2}} + \\frac{4 \\eta_{W}}{3 dx^{2}}$"
      ],
      "text/plain": [
       "Abs(2*eta_E/(3*dx*dy) - eta_N/(dx*dy)) + Abs(2*eta_E/(3*dx*dy) - eta_S/(dx*dy)) + Abs(eta_N/(dx*dy) - 2*eta_W/(3*dx*dy)) + Abs(eta_S/(dx*dy) - 2*eta_W/(3*dx*dy)) - (-eta_N/dy - eta_S/dy)/dy + eta_N/dy**2 + eta_S/dy**2 - (-4*eta_E/(3*dx) - 4*eta_W/(3*dx))/dx + 4*eta_E/(3*dx**2) + 4*eta_W/(3*dx**2)"
      ]
     },
     "metadata": {},
     "output_type": "display_data"
    }
   ],
   "source": [
    "display(Fx.diff(VxC) + abs(Fx.diff(VxW)) + abs(Fx.diff(VxE)) + abs(Fx.diff(VxS)) + abs(Fx.diff(VxN)) + abs(Fx.diff(VySW)) + abs(Fx.diff(VySE)) + abs(Fx.diff(VyNW)) + abs(Fx.diff(VyNE)))"
   ]
  },
  {
   "cell_type": "code",
   "execution_count": 26,
   "metadata": {},
   "outputs": [
    {
     "name": "stdout",
     "output_type": "stream",
     "text": [
      "cVyC  = -(-4 // 3 * eta_N ./ dy - 4 // 3 * eta_S ./ dy) ./ dy - (-eta_E ./ dx - eta_W ./ dx) ./ dx\n",
      "cVyW  = -eta_W ./ dx .^ 2\n",
      "cVyE  = -eta_E ./ dx .^ 2\n",
      "cVyS  = -4 // 3 * eta_S ./ dy .^ 2\n",
      "cVyN  = -4 // 3 * eta_N ./ dy .^ 2\n",
      "cVxSW = (2 // 3) * eta_S ./ (dx .* dy) - eta_W ./ (dx .* dy)\n",
      "cVxSE = eta_E ./ (dx .* dy) - 2 // 3 * eta_S ./ (dx .* dy)\n",
      "cVxNW = -2 // 3 * eta_N ./ (dx .* dy) + eta_W ./ (dx .* dy)\n",
      "cVxNE = -eta_E ./ (dx .* dy) + (2 // 3) * eta_N ./ (dx .* dy)\n",
      "cPS   = -1 ./ dy\n",
      "cPN   = 1 ./ dy\n"
     ]
    }
   ],
   "source": [
    "print( 'cVyC  = ' +julia_code( (Fy.diff(VyC  )) ) )\n",
    "print( 'cVyW  = ' +julia_code( (Fy.diff(VyW  )) ) )\n",
    "print( 'cVyE  = ' +julia_code( (Fy.diff(VyE  )) ) )\n",
    "print( 'cVyS  = ' +julia_code( (Fy.diff(VyS  )) ) )\n",
    "print( 'cVyN  = ' +julia_code( (Fy.diff(VyN  )) ) )\n",
    "print( 'cVxSW = ' +julia_code( (Fy.diff(VxSW )) ) )\n",
    "print( 'cVxSE = ' +julia_code( (Fy.diff(VxSE )) ) )\n",
    "print( 'cVxNW = ' +julia_code( (Fy.diff(VxNW )) ) )\n",
    "print( 'cVxNE = ' +julia_code( (Fy.diff(VxNE )) ) )\n",
    "print( 'cPS   = ' +julia_code( (Fy.diff(PS   )) ) )\n",
    "print( 'cPN   = ' +julia_code( (Fy.diff(PN   )) ) )"
   ]
  },
  {
   "cell_type": "code",
   "execution_count": 27,
   "metadata": {},
   "outputs": [
    {
     "name": "stdout",
     "output_type": "stream",
     "text": [
      "abs(eta_E ./ (dx .* dy) - 2 // 3 * eta_N ./ (dx .* dy)) + abs(eta_E ./ (dx .* dy) - 2 // 3 * eta_S ./ (dx .* dy)) + abs((2 // 3) * eta_N ./ (dx .* dy) - eta_W ./ (dx .* dy)) + abs((2 // 3) * eta_S ./ (dx .* dy) - eta_W ./ (dx .* dy)) + ((4 // 3) * eta_N ./ dy + (4 // 3) * eta_S ./ dy) ./ dy + 2 ./ dy + (4 // 3) * eta_N ./ dy .^ 2 + (4 // 3) * eta_S ./ dy .^ 2 + (eta_E ./ dx + eta_W ./ dx) ./ dx + eta_E ./ dx .^ 2 + eta_W ./ dx .^ 2\n"
     ]
    }
   ],
   "source": [
    "lmax  = abs(Fy.diff(VyC  ))\n",
    "lmax += abs(Fy.diff(VyW  ))\n",
    "lmax += abs(Fy.diff(VyE  ))\n",
    "lmax += abs(Fy.diff(VyS  ))\n",
    "lmax += abs(Fy.diff(VyN  ))\n",
    "lmax += abs(Fy.diff(VxSW ))\n",
    "lmax += abs(Fy.diff(VxSE ))\n",
    "lmax += abs(Fy.diff(VxNW ))\n",
    "lmax += abs(Fy.diff(VxNE ))\n",
    "lmax += abs(Fy.diff(PS   ))\n",
    "lmax += abs(Fy.diff(PN   ))\n",
    "print( julia_code(lmax))"
   ]
  },
  {
   "cell_type": "code",
   "execution_count": 29,
   "metadata": {},
   "outputs": [
    {
     "name": "stdout",
     "output_type": "stream",
     "text": [
      "cVxW  = -1 ./ dx\n",
      "cVxE  = 1 ./ dx\n",
      "cVyS  = -1 ./ dy\n",
      "cVyN  = 1 ./ dy\n",
      "cVzS  = 1 ./ dz\n",
      "cVzB  = -1 ./ dz\n",
      "cPC   = 1 ./ (K .* dt)\n"
     ]
    }
   ],
   "source": [
    "VxW, VxE, VyS, VyN, VzF, VzB, PC, PC0 = symbols('VxW, VxE, VyS, VyN, VzF, VzB, PC, PC0')\n",
    "K,dt = symbols('K,dt')\n",
    "Fp = ( (VxE-VxW)/dx + (VyN-VyS)/dy + (VzF-VzB)/dz ) + (PC-PC0)/K/dt\n",
    "\n",
    "print( 'cVxW  = ' +julia_code( (Fp.diff(VxW  )) ) )\n",
    "print( 'cVxE  = ' +julia_code( (Fp.diff(VxE  )) ) )\n",
    "print( 'cVyS  = ' +julia_code( (Fp.diff(VyS  )) ) )\n",
    "print( 'cVyN  = ' +julia_code( (Fp.diff(VyN  )) ) )\n",
    "print( 'cVzS  = ' +julia_code( (Fp.diff(VzF  )) ) )\n",
    "print( 'cVzB  = ' +julia_code( (Fp.diff(VzB  )) ) )\n",
    "print( 'cPC   = ' +julia_code( (Fp.diff(PC  )) ) )"
   ]
  },
  {
   "cell_type": "code",
   "execution_count": null,
   "metadata": {},
   "outputs": [],
   "source": []
  }
 ],
 "metadata": {
  "kernelspec": {
   "display_name": "base",
   "language": "python",
   "name": "python3"
  },
  "language_info": {
   "codemirror_mode": {
    "name": "ipython",
    "version": 3
   },
   "file_extension": ".py",
   "mimetype": "text/x-python",
   "name": "python",
   "nbconvert_exporter": "python",
   "pygments_lexer": "ipython3",
   "version": "3.9.6"
  },
  "orig_nbformat": 4,
  "vscode": {
   "interpreter": {
    "hash": "309baa410e37084482bcba9b39a5b9e635e78b91cd7553c4b48a2d89780d0f88"
   }
  }
 },
 "nbformat": 4,
 "nbformat_minor": 2
}
