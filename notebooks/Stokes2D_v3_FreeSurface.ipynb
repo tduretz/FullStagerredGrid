{
 "cells": [
  {
   "cell_type": "code",
   "execution_count": 240,
   "metadata": {},
   "outputs": [],
   "source": [
    "from sympy import *"
   ]
  },
  {
   "cell_type": "markdown",
   "metadata": {},
   "source": [
    "<font size= 6> Generic case: free surface: </font>\n",
    "\n",
    "1. `dVxdy = C0*P + C1*dudx + C2*dvdx`\n",
    "2. `dVydy = D0*P + D1*dudx + D2*dvdx`\n",
    "\n",
    "see notebook: FreeSurface_v5.ipynb"
   ]
  },
  {
   "cell_type": "code",
   "execution_count": 241,
   "metadata": {},
   "outputs": [],
   "source": [
    "def eval_dVxdy(dudx,dvdx,P,C0,C1,C2):\n",
    "    # dVxdy = -dvdx\n",
    "    dVxdy = (C0*P + C1*dudx + C2*dvdx)\n",
    "    return dVxdy\n",
    "def eval_dVydy(dudx,dvdx,P,D0,D1,D2):\n",
    "    #dVydy = dudx/2 + 3/4*P/eta\n",
    "    dVydy = (D0*P + D1*dudx + D2*dvdx)\n",
    "    return dVydy"
   ]
  },
  {
   "cell_type": "markdown",
   "metadata": {},
   "source": [
    "<font size= 6> Discretisation of the linear momentum balance </font>"
   ]
  },
  {
   "cell_type": "code",
   "execution_count": 242,
   "metadata": {},
   "outputs": [],
   "source": [
    "ani       = 1\n",
    "free_surf = 2 # 0: inner points, 1: vertices at surface, 2: centers next to surface"
   ]
  },
  {
   "cell_type": "code",
   "execution_count": 243,
   "metadata": {},
   "outputs": [],
   "source": [
    "def d_dx2(dudxi,dudeta,dksidx,detadx):\n",
    "    return dksidx*dudxi + detadx*dudeta\n",
    "def d_dy2(dvdxi,dvdeta,dksidy,detady):\n",
    "    return dksidy*dvdxi + detady*dvdeta"
   ]
  },
  {
   "cell_type": "code",
   "execution_count": 244,
   "metadata": {},
   "outputs": [],
   "source": [
    "dx, dy, dt = symbols('dx, dy, dt')\n",
    "VxC, VxW, VxE, VxS, VxN = symbols('VxC, VxW, VxE, VxS, VxN')\n",
    "VyC, VyW, VyE, VyS, VyN = symbols('VyC, VyW, VyE, VyS, VyN')\n",
    "VySW, VySE, VyNW, VyNE = symbols('VySW, VySE, VyNW, VyNE')\n",
    "VxSW, VxSE, VxNW, VxNE = symbols('VxSW, VxSE, VxNW, VxNE')\n",
    "pS, pN, pE, pW = symbols('pS, pN, pE, pW')\n",
    "D11E, D11W, D12E, D12W, D13E, D13W = symbols('D11E, D11W, D12E, D12W, D13E, D13W')\n",
    "D21N, D21S, D22N, D22S, D23N, D23S = symbols('D21N, D21S, D22N, D22S, D23N, D23S')\n",
    "D11N, D11S, D12N, D12S, D13N, D13S = symbols('D11N, D11S, D12N, D12S, D13N, D13S')\n",
    "D21E, D21W, D22E, D22W, D23E, D23W = symbols('D21E, D21W, D22E, D22W, D23E, D23W')\n",
    "D31E, D31W, D32E, D32W, D33E, D33W = symbols('D31E, D31W, D32E, D32W, D33E, D33W')\n",
    "D31N, D31S, D32N, D32S, D33S, D33N = symbols('D31N, D31S, D32N, D32S, D33S, D33N')"
   ]
  },
  {
   "cell_type": "code",
   "execution_count": 245,
   "metadata": {},
   "outputs": [],
   "source": [
    "dofsV = [VxC, VxW, VxE, VxS, VxN, VxSW, VxSE, VxNW, VxNE,\n",
    "         VyC, VyW, VyE, VyS, VyN, VySW, VySE, VyNW, VyNE]\n",
    "dofsP = [ pW, pE, pS, pN ]"
   ]
  },
  {
   "cell_type": "code",
   "execution_count": 246,
   "metadata": {},
   "outputs": [],
   "source": [
    "# Jacobian terms\n",
    "aW,bW,cW,dW = symbols('aW,bW,cW,dW')\n",
    "aE,bE,cE,dE = symbols('aE,bE,cE,dE')\n",
    "aS,bS,cS,dS = symbols('aS,bS,cS,dS')\n",
    "aN,bN,cN,dN = symbols('aN,bN,cN,dN')\n",
    "aC,bC,cC,dC = symbols('aC,bC,cC,dC')\n",
    "# Free surface for dVxdy\n",
    "c0C,c1C,c2C = symbols('c0C,c1C,c2C')\n",
    "c0W,c1W,c2W = symbols('c0W,c1W,c2W')\n",
    "c0E,c1E,c2E = symbols('c0E,c1E,c2E')\n",
    "c0S,c1S,c2S = symbols('c0S,c1S,c2S')\n",
    "c0N,c1N,c2N = symbols('c0N,c1N,c2N')\n",
    "# Free surface for dVydy\n",
    "d0C,d1C,d2C = symbols('d0C,d1C,d2C')\n",
    "d0W,d1W,d2W = symbols('d0W,d1W,d2W')\n",
    "d0E,d1E,d2E = symbols('d0E,d1E,d2E')\n",
    "d0S,d1S,d2S = symbols('d0S,d1S,d2S')\n",
    "d0N,d1N,d2N = symbols('d0N,d1N,d2N')"
   ]
  },
  {
   "cell_type": "code",
   "execution_count": 247,
   "metadata": {},
   "outputs": [],
   "source": [
    "# Velocity gradients\n",
    "# 1. `dVxdy = -dVydx`\n",
    "# 2. `dVydy = 1/2*dVxdx + 3/4*P/eta`\n",
    "eta_N = symbols('eta_N')\n",
    "eta_W = symbols('eta_W')\n",
    "eta_E = symbols('eta_E')\n",
    "# Velocity gradients on reference grid\n",
    "if free_surf == 1: # for vertices\n",
    "    # East\n",
    "    dVxdxiE  = (VxE - VxC )/dx\n",
    "    dVydxiE  = (VyE - VyC )/dx\n",
    "    dVxdetaE = eval_dVxdy(dVxdxiE,dVydxiE,pE,c0E,c1E,c2E) \n",
    "    dVydetaE = eval_dVydy(dVxdxiE,dVydxiE,pE,d0E,d1E,d2E)\n",
    "    # West\n",
    "    dVxdxiW  = (VxC - VxW )/dx\n",
    "    dVydxiW  = (VyC - VyW )/dx\n",
    "    dVxdetaW = eval_dVxdy(dVxdxiW,dVydxiW,pW,c0W,c1W,c2W)\n",
    "    dVydetaW = eval_dVydy(dVxdxiW,dVydxiW,pW,d0W,d1W,d2W)\n",
    "    # North\n",
    "    dVxdxiN  = 0*(VxNE- VxNW)/dx\n",
    "    dVxdetaN = 0*(VxN - VxC )/dy\n",
    "    dVydxiN  = 0*(VyNE- VyNW)/dx\n",
    "    dVydetaN = 0*(VyN - VyC )/dy\n",
    "    # South\n",
    "    dVxdxiS  = (VxSE- VxSW)/dx\n",
    "    dVxdetaS = (VxC - VxS )/dy\n",
    "    dVydxiS  = (VySE- VySW)/dx\n",
    "    dVydetaS = (VyC - VyS )/dy\n",
    "if free_surf == 2: # for centroids\n",
    "    # East\n",
    "    dVxdxiE  = (VxE - VxC )/dx\n",
    "    dVxdetaE = (VxNE- VxSE)/dy\n",
    "    dVydxiE  = (VyE - VyC )/dx\n",
    "    dVydetaE = (VyNE- VySE)/dy\n",
    "    # West\n",
    "    dVxdxiW  = (VxC - VxW )/dx\n",
    "    dVxdetaW = (VxNW- VxSW)/dy\n",
    "    dVydxiW  = (VyC - VyW )/dx\n",
    "    dVydetaW = (VyNW- VySW)/dy\n",
    "    # North\n",
    "    dVxdxiN  = (VxNE- VxNW)/dx\n",
    "    dVydxiN  = (VyNE- VyNW)/dx\n",
    "    dVxdetaN = eval_dVxdy(dVxdxiN,dVydxiN,pN,c0N,c1N,c2N)\n",
    "    dVydetaN = eval_dVydy(dVxdxiN,dVydxiN,pN,d0N,d1N,d2N)\n",
    "    # South\n",
    "    dVxdxiS  = (VxSE- VxSW)/dx\n",
    "    dVxdetaS = (VxC - VxS )/dy\n",
    "    dVydxiS  = (VySE- VySW)/dx\n",
    "    dVydetaS = (VyC - VyS )/dy\n",
    "if free_surf == 0:\n",
    "    # East\n",
    "    dVxdxiE  = (VxE - VxC )/dx\n",
    "    dVxdetaE = (VxNE- VxSE)/dy\n",
    "    dVydxiE  = (VyE - VyC )/dx\n",
    "    dVydetaE = (VyNE- VySE)/dy\n",
    "    # West\n",
    "    dVxdxiW  = (VxC - VxW )/dx\n",
    "    dVxdetaW = (VxNW- VxSW)/dy\n",
    "    dVydxiW  = (VyC - VyW )/dx\n",
    "    dVydetaW = (VyNW- VySW)/dy\n",
    "    # North\n",
    "    dVxdxiN  = (VxNE- VxNW)/dx\n",
    "    dVxdetaN = (VxN - VxC )/dy\n",
    "    dVydxiN  = (VyNE- VyNW)/dx\n",
    "    dVydetaN = (VyN - VyC )/dy\n",
    "    # South\n",
    "    dVxdxiS  = (VxSE- VxSW)/dx\n",
    "    dVxdetaS = (VxC - VxS )/dy\n",
    "    dVydxiS  = (VySE- VySW)/dx\n",
    "    dVydetaS = (VyC - VyS )/dy\n",
    "# Velocity gradients on deformed grid\n",
    "dVxdxE = d_dx2(dVxdxiE, dVxdetaE, aE,bE)\n",
    "dVydyE = d_dy2(dVydxiE, dVydetaE, cE,dE)\n",
    "dVxdxW = d_dx2(dVxdxiW, dVxdetaW, aW,bW)\n",
    "dVydyW = d_dy2(dVydxiW, dVydetaW, cW,dW)\n",
    "# ----------\n",
    "dVxdxN = d_dx2(dVxdxiN, dVxdetaN, aN,bN)\n",
    "dVydyN = d_dy2(dVydxiN, dVydetaN, cN,dN)\n",
    "dVxdxS = d_dx2(dVxdxiS, dVxdetaS, aS,bS)\n",
    "dVydyS = d_dy2(dVydxiS, dVydetaS, cS,dS)\n",
    "# ----------\n",
    "dVydxN = d_dx2(dVydxiN, dVydetaN, aN,bN)\n",
    "dVxdyN = d_dy2(dVxdxiN, dVxdetaN, cN,dN)\n",
    "dVydxS = d_dx2(dVydxiS, dVydetaS, aS,bS)\n",
    "dVxdyS = d_dy2(dVxdxiS, dVxdetaS, cS,dS)\n",
    "# ----------\n",
    "dVydxE = d_dx2(dVydxiE, dVydetaE, aE,bE)\n",
    "dVxdyE = d_dy2(dVxdxiE, dVxdetaE, cE,dE)\n",
    "dVydxW = d_dx2(dVydxiW, dVydetaW, aW,bW)\n",
    "dVxdyW = d_dy2(dVxdxiW, dVxdetaW, cW,dW)"
   ]
  },
  {
   "cell_type": "code",
   "execution_count": 248,
   "metadata": {},
   "outputs": [],
   "source": [
    "# Kinematics\n",
    "divE   = dVxdxE + dVydyE\n",
    "divW   = dVxdxW + dVydyW\n",
    "divN   = dVxdxN + dVydyN\n",
    "divS   = dVxdxS + dVydyS\n",
    "ExxE   = dVxdxE - Rational(1,3)*divE\n",
    "ExxW   = dVxdxW - Rational(1,3)*divW\n",
    "ExxN   = dVxdxN - Rational(1,3)*divN\n",
    "ExxS   = dVxdxS - Rational(1,3)*divS\n",
    "EyyE   = dVydyE - Rational(1,3)*divE\n",
    "EyyW   = dVydyW - Rational(1,3)*divW\n",
    "EyyN   = dVydyN - Rational(1,3)*divN\n",
    "EyyS   = dVydyS - Rational(1,3)*divS\n",
    "ExyN   = Rational(1,2)*(dVxdyN + dVydxN)\n",
    "ExyS   = Rational(1,2)*(dVxdyS + dVydxS)\n",
    "ExyE   = Rational(1,2)*(dVxdyE + dVydxE)\n",
    "ExyW   = Rational(1,2)*(dVxdyW + dVydxW)"
   ]
  },
  {
   "cell_type": "code",
   "execution_count": 249,
   "metadata": {},
   "outputs": [],
   "source": [
    "# Deviatoric stress\n",
    "TxxE   =     D11E*ExxE + ani*D12E*EyyE + ani*D13E*ExyE\n",
    "TxxW   =     D11W*ExxW + ani*D12W*EyyW + ani*D13W*ExyW\n",
    "TxxN   =     D11N*ExxN + ani*D12N*EyyN + ani*D13N*ExyN\n",
    "TxxS   =     D11S*ExxS + ani*D12S*EyyS + ani*D13S*ExyS\n",
    "TyyE   = ani*D21E*ExxE +     D22E*EyyE + ani*D23E*ExyE\n",
    "TyyW   = ani*D21W*ExxW +     D22W*EyyW + ani*D23W*ExyW\n",
    "TyyN   = ani*D21N*ExxN +     D22N*EyyN + ani*D23N*ExyN\n",
    "TyyS   = ani*D21S*ExxS +     D22S*EyyS + ani*D23S*ExyS\n",
    "TxyE   = ani*D31E*ExxE + ani*D32E*EyyE +     D33E*ExyE\n",
    "TxyW   = ani*D31W*ExxW + ani*D32W*EyyW +     D33W*ExyW\n",
    "TxyN   = ani*D31N*ExxN + ani*D32N*EyyN +     D33N*ExyN\n",
    "TxyS   = ani*D31S*ExxS + ani*D32S*EyyS +     D33S*ExyS"
   ]
  },
  {
   "cell_type": "code",
   "execution_count": 250,
   "metadata": {},
   "outputs": [],
   "source": [
    "# Stress gradient\n",
    "dTxxdx = (TxxE - TxxW)/dx\n",
    "dTxxdy = (TxxN - TxxS)/dy\n",
    "dTyydx = (TyyE - TyyW)/dx\n",
    "dTyydy = (TyyN - TyyS)/dy\n",
    "dTxydx = (TxyE - TxyW)/dx\n",
    "dTxydy = (TxyN - TxyS)/dy\n",
    "dpdx   = (pE - pW)/dx\n",
    "dpdy   = (pN - pS)/dy\n",
    "# Linear momentum balance\n",
    "Fx = -( d_dx2(dTxxdx,dTxxdy,aC,bC) + d_dy2(dTxydx,dTxydy,cC,dC) - d_dx2(dpdx,dpdy,aC,bC) )\n",
    "Fy = -( d_dy2(dTyydx,dTyydy,cC,dC) + d_dx2(dTxydx,dTxydy,aC,bC) - d_dy2(dpdx,dpdy,cC,dC) )"
   ]
  },
  {
   "cell_type": "code",
   "execution_count": 251,
   "metadata": {},
   "outputs": [],
   "source": [
    "a = ('D11E', 'D11W', 'D12E', 'D12W', 'D13E', 'D13W',\n",
    "     'D21N', 'D21S', 'D22N', 'D22S', 'D23N', 'D23S',\n",
    "     'D11N', 'D11S', 'D12N', 'D12S', 'D13N', 'D13S',\n",
    "     'D21E', 'D21W', 'D22E', 'D22W', 'D23E', 'D23W',\n",
    "     'D31E', 'D31W', 'D32E', 'D32W', 'D33E', 'D33W',\n",
    "     'D31N', 'D31S', 'D32N', 'D32S', 'D33S', 'D33N')\n",
    "b = ('D.D11E', 'D.D11W', 'D.D12E', 'D.D12W', 'D.D13E', 'D.D13W',\n",
    "     'D.D21N', 'D.D21S', 'D.D22N', 'D.D22S', 'D.D23N', 'D.D23S',\n",
    "     'D.D11N', 'D.D11S', 'D.D12N', 'D.D12S', 'D.D13N', 'D.D13S',\n",
    "     'D.D21E', 'D.D21W', 'D.D22E', 'D.D22W', 'D.D23E', 'D.D23W',\n",
    "     'D.D31E', 'D.D31W', 'D.D32E', 'D.D32W', 'D.D33E', 'D.D33W',\n",
    "     'D.D31N', 'D.D31S', 'D.D32N', 'D.D32S', 'D.D33S', 'D.D33N')\n",
    "c = ('aW','bW','cW','dW',\n",
    "     'aE','bE','cE','dE',\n",
    "     'aS','bS','cS','dS',\n",
    "     'aN','bN','cN','dN',\n",
    "     'aC','bC','cC','dC')\n",
    "d = ('a.W','b.W','c.W','d.W',\n",
    "     'a.E','b.E','c.E','d.E',\n",
    "     'a.S','b.S','c.S','d.S',\n",
    "     'a.N','b.N','c.N','d.N',\n",
    "     'a.C','b.C','c.C','d.C')\n",
    "# for free surface coeffs\n",
    "\n",
    "e = ('c0C','c1C','c2C',\n",
    "     'c0W','c1W','c2W',\n",
    "     'c0E','c1E','c2E',\n",
    "     'c0S','c1S','c2S',\n",
    "     'c0N','c1N','c2N')\n",
    "f = ('fs.C0C','fs.C1C','fs.C2C',\n",
    "     'fs.C0W','fs.C1W','fs.C2W',\n",
    "     'fs.C0E','fs.C1E','fs.C2E',\n",
    "     'fs.C0S','fs.C1S','fs.C2S',\n",
    "     'fs.C0N','fs.C1N','fs.C2N')\n",
    "g = ('d0C','d1C','d2C',\n",
    "     'd0W','d1W','d2W',\n",
    "     'd0E','d1E','d2E',\n",
    "     'd0S','d1S','d2S',\n",
    "     'd0N','d1N','d2N')\n",
    "h = ('fs.D0C','fs.D1C','fs.D2C',\n",
    "     'fs.D0W','fs.D1W','fs.D2W',\n",
    "     'fs.D0E','fs.D1E','fs.D2E',\n",
    "     'fs.D0S','fs.D1S','fs.D2S',\n",
    "     'fs.D0N','fs.D1N','fs.D2N')\n"
   ]
  },
  {
   "cell_type": "code",
   "execution_count": 252,
   "metadata": {},
   "outputs": [
    {
     "name": "stdout",
     "output_type": "stream",
     "text": [
      "v_uu[1] = (dx .^ 2 .* (b.C .* (4 * D.D11S .* b.S - 2 * D.D12S .* b.S + 3 * D.D13S .* d.S) + d.C .* (4 * D.D31S .* b.S - 2 * D.D32S .* b.S + 3 * D.D33S .* d.S)) + dy .^ 2 .* (a.C .* (4 * D.D11E .* a.E + 4 * D.D11W .* a.W - 2 * D.D12E .* a.E - 2 * D.D12W .* a.W + 3 * D.D13E .* c.E + 3 * D.D13W .* c.W) + c.C .* (4 * D.D31E .* a.E + 4 * D.D31W .* a.W - 2 * D.D32E .* a.E - 2 * D.D32W .* a.W + 3 * D.D33E .* c.E + 3 * D.D33W .* c.W))) ./ (6 * dx .^ 2 .* dy .^ 2)\n",
      "v_uu[2] = (-a.C .* (4 * D.D11W .* a.W - 2 * D.D12W .* a.W + 3 * D.D13W .* c.W) - c.C .* (4 * D.D31W .* a.W - 2 * D.D32W .* a.W + 3 * D.D33W .* c.W)) ./ (6 * dx .^ 2)\n",
      "v_uu[3] = (-a.C .* (4 * D.D11E .* a.E - 2 * D.D12E .* a.E + 3 * D.D13E .* c.E) - c.C .* (4 * D.D31E .* a.E - 2 * D.D32E .* a.E + 3 * D.D33E .* c.E)) ./ (6 * dx .^ 2)\n",
      "v_uu[4] = (-b.C .* (4 * D.D11S .* b.S - 2 * D.D12S .* b.S + 3 * D.D13S .* d.S) - d.C .* (4 * D.D31S .* b.S - 2 * D.D32S .* b.S + 3 * D.D33S .* d.S)) ./ (6 * dy .^ 2)\n",
      "v_uu[5] = 0\n",
      "v_uu[6] = (-a.C .* (4 * D.D11W .* b.W - 2 * D.D12W .* b.W + 3 * D.D13W .* d.W) - b.C .* (4 * D.D11S .* a.S - 2 * D.D12S .* a.S + 3 * D.D13S .* c.S) - c.C .* (4 * D.D31W .* b.W - 2 * D.D32W .* b.W + 3 * D.D33W .* d.W) - d.C .* (4 * D.D31S .* a.S - 2 * D.D32S .* a.S + 3 * D.D33S .* c.S)) ./ (6 * dx .* dy)\n",
      "v_uu[7] = (a.C .* (4 * D.D11E .* b.E - 2 * D.D12E .* b.E + 3 * D.D13E .* d.E) + b.C .* (4 * D.D11S .* a.S - 2 * D.D12S .* a.S + 3 * D.D13S .* c.S) + c.C .* (4 * D.D31E .* b.E - 2 * D.D32E .* b.E + 3 * D.D33E .* d.E) + d.C .* (4 * D.D31S .* a.S - 2 * D.D32S .* a.S + 3 * D.D33S .* c.S)) ./ (6 * dx .* dy)\n",
      "v_uu[8] = (a.C .* (4 * D.D11W .* b.W - 2 * D.D12W .* b.W + 3 * D.D13W .* d.W) + b.C .* (2 * D.D11N .* (2 * a.N + 2 * b.N .* fs.C1N - fs.D1N .* d.N) - 2 * D.D12N .* (a.N + b.N .* fs.C1N - 2 * fs.D1N .* d.N) + 3 * D.D13N .* (b.N .* fs.D1N + fs.C1N .* d.N + c.N)) + c.C .* (4 * D.D31W .* b.W - 2 * D.D32W .* b.W + 3 * D.D33W .* d.W) + d.C .* (2 * D.D31N .* (2 * a.N + 2 * b.N .* fs.C1N - fs.D1N .* d.N) - 2 * D.D32N .* (a.N + b.N .* fs.C1N - 2 * fs.D1N .* d.N) + 3 * D.D33N .* (b.N .* fs.D1N + fs.C1N .* d.N + c.N))) ./ (6 * dx .* dy)\n",
      "v_uu[9] = (-a.C .* (4 * D.D11E .* b.E - 2 * D.D12E .* b.E + 3 * D.D13E .* d.E) - b.C .* (2 * D.D11N .* (2 * a.N + 2 * b.N .* fs.C1N - fs.D1N .* d.N) - 2 * D.D12N .* (a.N + b.N .* fs.C1N - 2 * fs.D1N .* d.N) + 3 * D.D13N .* (b.N .* fs.D1N + fs.C1N .* d.N + c.N)) - c.C .* (4 * D.D31E .* b.E - 2 * D.D32E .* b.E + 3 * D.D33E .* d.E) - d.C .* (2 * D.D31N .* (2 * a.N + 2 * b.N .* fs.C1N - fs.D1N .* d.N) - 2 * D.D32N .* (a.N + b.N .* fs.C1N - 2 * fs.D1N .* d.N) + 3 * D.D33N .* (b.N .* fs.D1N + fs.C1N .* d.N + c.N))) ./ (6 * dx .* dy)\n",
      "v_uu[10] = (dx .^ 2 .* (b.C .* (-2 * D.D11S .* d.S + 4 * D.D12S .* d.S + 3 * D.D13S .* b.S) + d.C .* (-2 * D.D31S .* d.S + 4 * D.D32S .* d.S + 3 * D.D33S .* b.S)) + dy .^ 2 .* (a.C .* (-2 * D.D11E .* c.E - 2 * D.D11W .* c.W + 4 * D.D12E .* c.E + 4 * D.D12W .* c.W + 3 * D.D13E .* a.E + 3 * D.D13W .* a.W) + c.C .* (-2 * D.D31E .* c.E - 2 * D.D31W .* c.W + 4 * D.D32E .* c.E + 4 * D.D32W .* c.W + 3 * D.D33E .* a.E + 3 * D.D33W .* a.W))) ./ (6 * dx .^ 2 .* dy .^ 2)\n",
      "v_uu[11] = (-a.C .* (-2 * D.D11W .* c.W + 4 * D.D12W .* c.W + 3 * D.D13W .* a.W) - c.C .* (-2 * D.D31W .* c.W + 4 * D.D32W .* c.W + 3 * D.D33W .* a.W)) ./ (6 * dx .^ 2)\n",
      "v_uu[12] = (-a.C .* (-2 * D.D11E .* c.E + 4 * D.D12E .* c.E + 3 * D.D13E .* a.E) - c.C .* (-2 * D.D31E .* c.E + 4 * D.D32E .* c.E + 3 * D.D33E .* a.E)) ./ (6 * dx .^ 2)\n",
      "v_uu[13] = (-b.C .* (-2 * D.D11S .* d.S + 4 * D.D12S .* d.S + 3 * D.D13S .* b.S) - d.C .* (-2 * D.D31S .* d.S + 4 * D.D32S .* d.S + 3 * D.D33S .* b.S)) ./ (6 * dy .^ 2)\n",
      "v_uu[14] = 0\n",
      "v_uu[15] = (-a.C .* (-2 * D.D11W .* d.W + 4 * D.D12W .* d.W + 3 * D.D13W .* b.W) - b.C .* (-2 * D.D11S .* c.S + 4 * D.D12S .* c.S + 3 * D.D13S .* a.S) - c.C .* (-2 * D.D31W .* d.W + 4 * D.D32W .* d.W + 3 * D.D33W .* b.W) - d.C .* (-2 * D.D31S .* c.S + 4 * D.D32S .* c.S + 3 * D.D33S .* a.S)) ./ (6 * dx .* dy)\n",
      "v_uu[16] = (a.C .* (-2 * D.D11E .* d.E + 4 * D.D12E .* d.E + 3 * D.D13E .* b.E) + b.C .* (-2 * D.D11S .* c.S + 4 * D.D12S .* c.S + 3 * D.D13S .* a.S) + c.C .* (-2 * D.D31E .* d.E + 4 * D.D32E .* d.E + 3 * D.D33E .* b.E) + d.C .* (-2 * D.D31S .* c.S + 4 * D.D32S .* c.S + 3 * D.D33S .* a.S)) ./ (6 * dx .* dy)\n",
      "v_uu[17] = (a.C .* (-2 * D.D11W .* d.W + 4 * D.D12W .* d.W + 3 * D.D13W .* b.W) + b.C .* (-2 * D.D11N .* (-2 * b.N .* fs.C2N + c.N + fs.D2N .* d.N) + 2 * D.D12N .* (-b.N .* fs.C2N + 2 * c.N + 2 * fs.D2N .* d.N) + 3 * D.D13N .* (a.N + b.N .* fs.D2N + fs.C2N .* d.N)) + c.C .* (-2 * D.D31W .* d.W + 4 * D.D32W .* d.W + 3 * D.D33W .* b.W) + d.C .* (-2 * D.D31N .* (-2 * b.N .* fs.C2N + c.N + fs.D2N .* d.N) + 2 * D.D32N .* (-b.N .* fs.C2N + 2 * c.N + 2 * fs.D2N .* d.N) + 3 * D.D33N .* (a.N + b.N .* fs.D2N + fs.C2N .* d.N))) ./ (6 * dx .* dy)\n",
      "v_uu[18] = (-a.C .* (-2 * D.D11E .* d.E + 4 * D.D12E .* d.E + 3 * D.D13E .* b.E) - b.C .* (-2 * D.D11N .* (-2 * b.N .* fs.C2N + c.N + fs.D2N .* d.N) + 2 * D.D12N .* (-b.N .* fs.C2N + 2 * c.N + 2 * fs.D2N .* d.N) + 3 * D.D13N .* (a.N + b.N .* fs.D2N + fs.C2N .* d.N)) - c.C .* (-2 * D.D31E .* d.E + 4 * D.D32E .* d.E + 3 * D.D33E .* b.E) - d.C .* (-2 * D.D31N .* (-2 * b.N .* fs.C2N + c.N + fs.D2N .* d.N) + 2 * D.D32N .* (-b.N .* fs.C2N + 2 * c.N + 2 * fs.D2N .* d.N) + 3 * D.D33N .* (a.N + b.N .* fs.D2N + fs.C2N .* d.N))) ./ (6 * dx .* dy)\n",
      "v_up[1] = -a.C ./ dx\n",
      "v_up[2] = a.C ./ dx\n",
      "v_up[3] = -b.C ./ dy\n",
      "v_up[4] = (-b.C .* (2 * D.D11N .* (2 * b.N .* fs.C0N - fs.D0N .* d.N) - 2 * D.D12N .* (b.N .* fs.C0N - 2 * fs.D0N .* d.N) + 3 * D.D13N .* (b.N .* fs.D0N + fs.C0N .* d.N)) + 6 * b.C - d.C .* (2 * D.D31N .* (2 * b.N .* fs.C0N - fs.D0N .* d.N) - 2 * D.D32N .* (b.N .* fs.C0N - 2 * fs.D0N .* d.N) + 3 * D.D33N .* (b.N .* fs.D0N + fs.C0N .* d.N))) ./ (6 * dy)\n"
     ]
    }
   ],
   "source": [
    "i=0\n",
    "for dof in dofsV:\n",
    "    i+=1\n",
    "    coeff = Fx.diff(dof)\n",
    "    final = 'v_uu[' + str(i) + '] = ' + julia_code(coeff.simplify())\n",
    "    for id in range(36):\n",
    "        final = final.replace( a[id], b[id] )\n",
    "    for id in range(20):\n",
    "        final = final.replace( c[id], d[id] )\n",
    "    for id in range(15):\n",
    "        final = final.replace( e[id], f[id] )\n",
    "    for id in range(15):\n",
    "        final = final.replace( g[id], h[id] )\n",
    "    print(final)\n",
    "i=0\n",
    "for dof in dofsP:\n",
    "    i+=1\n",
    "    coeff = Fx.diff(dof)\n",
    "    final = 'v_up[' + str(i) + '] = ' + julia_code(coeff.simplify())\n",
    "    for id in range(36):\n",
    "        final = final.replace( a[id], b[id] )\n",
    "    for id in range(20):\n",
    "        final = final.replace( c[id], d[id] )\n",
    "    for id in range(15):\n",
    "        final = final.replace( e[id], f[id] )\n",
    "    for id in range(15):\n",
    "        final = final.replace( g[id], h[id] )\n",
    "    print(final)"
   ]
  },
  {
   "cell_type": "code",
   "execution_count": 253,
   "metadata": {},
   "outputs": [
    {
     "name": "stdout",
     "output_type": "stream",
     "text": [
      "v_uu[1] = (dx .^ 2 .* (b.C .* (4 * D.D31S .* b.S - 2 * D.D32S .* b.S + 3 * D.D33S .* d.S) + d.C .* (4 * D.D21S .* b.S - 2 * D.D22S .* b.S + 3 * D.D23S .* d.S)) + dy .^ 2 .* (a.C .* (4 * D.D31E .* a.E + 4 * D.D31W .* a.W - 2 * D.D32E .* a.E - 2 * D.D32W .* a.W + 3 * D.D33E .* c.E + 3 * D.D33W .* c.W) + c.C .* (4 * D.D21E .* a.E + 4 * D.D21W .* a.W - 2 * D.D22E .* a.E - 2 * D.D22W .* a.W + 3 * D.D23E .* c.E + 3 * D.D23W .* c.W))) ./ (6 * dx .^ 2 .* dy .^ 2)\n",
      "v_uu[2] = (-a.C .* (4 * D.D31W .* a.W - 2 * D.D32W .* a.W + 3 * D.D33W .* c.W) - c.C .* (4 * D.D21W .* a.W - 2 * D.D22W .* a.W + 3 * D.D23W .* c.W)) ./ (6 * dx .^ 2)\n",
      "v_uu[3] = (-a.C .* (4 * D.D31E .* a.E - 2 * D.D32E .* a.E + 3 * D.D33E .* c.E) - c.C .* (4 * D.D21E .* a.E - 2 * D.D22E .* a.E + 3 * D.D23E .* c.E)) ./ (6 * dx .^ 2)\n",
      "v_uu[4] = (-b.C .* (4 * D.D31S .* b.S - 2 * D.D32S .* b.S + 3 * D.D33S .* d.S) - d.C .* (4 * D.D21S .* b.S - 2 * D.D22S .* b.S + 3 * D.D23S .* d.S)) ./ (6 * dy .^ 2)\n",
      "v_uu[5] = 0\n",
      "v_uu[6] = (-a.C .* (4 * D.D31W .* b.W - 2 * D.D32W .* b.W + 3 * D.D33W .* d.W) - b.C .* (4 * D.D31S .* a.S - 2 * D.D32S .* a.S + 3 * D.D33S .* c.S) - c.C .* (4 * D.D21W .* b.W - 2 * D.D22W .* b.W + 3 * D.D23W .* d.W) - d.C .* (4 * D.D21S .* a.S - 2 * D.D22S .* a.S + 3 * D.D23S .* c.S)) ./ (6 * dx .* dy)\n",
      "v_uu[7] = (a.C .* (4 * D.D31E .* b.E - 2 * D.D32E .* b.E + 3 * D.D33E .* d.E) + b.C .* (4 * D.D31S .* a.S - 2 * D.D32S .* a.S + 3 * D.D33S .* c.S) + c.C .* (4 * D.D21E .* b.E - 2 * D.D22E .* b.E + 3 * D.D23E .* d.E) + d.C .* (4 * D.D21S .* a.S - 2 * D.D22S .* a.S + 3 * D.D23S .* c.S)) ./ (6 * dx .* dy)\n",
      "v_uu[8] = (a.C .* (4 * D.D31W .* b.W - 2 * D.D32W .* b.W + 3 * D.D33W .* d.W) + b.C .* (2 * D.D31N .* (2 * a.N + 2 * b.N .* fs.C1N - fs.D1N .* d.N) - 2 * D.D32N .* (a.N + b.N .* fs.C1N - 2 * fs.D1N .* d.N) + 3 * D.D33N .* (b.N .* fs.D1N + fs.C1N .* d.N + c.N)) + c.C .* (4 * D.D21W .* b.W - 2 * D.D22W .* b.W + 3 * D.D23W .* d.W) + d.C .* (2 * D.D21N .* (2 * a.N + 2 * b.N .* fs.C1N - fs.D1N .* d.N) - 2 * D.D22N .* (a.N + b.N .* fs.C1N - 2 * fs.D1N .* d.N) + 3 * D.D23N .* (b.N .* fs.D1N + fs.C1N .* d.N + c.N))) ./ (6 * dx .* dy)\n",
      "v_uu[9] = (-a.C .* (4 * D.D31E .* b.E - 2 * D.D32E .* b.E + 3 * D.D33E .* d.E) - b.C .* (2 * D.D31N .* (2 * a.N + 2 * b.N .* fs.C1N - fs.D1N .* d.N) - 2 * D.D32N .* (a.N + b.N .* fs.C1N - 2 * fs.D1N .* d.N) + 3 * D.D33N .* (b.N .* fs.D1N + fs.C1N .* d.N + c.N)) - c.C .* (4 * D.D21E .* b.E - 2 * D.D22E .* b.E + 3 * D.D23E .* d.E) - d.C .* (2 * D.D21N .* (2 * a.N + 2 * b.N .* fs.C1N - fs.D1N .* d.N) - 2 * D.D22N .* (a.N + b.N .* fs.C1N - 2 * fs.D1N .* d.N) + 3 * D.D23N .* (b.N .* fs.D1N + fs.C1N .* d.N + c.N))) ./ (6 * dx .* dy)\n",
      "v_uu[10] = (dx .^ 2 .* (b.C .* (-2 * D.D31S .* d.S + 4 * D.D32S .* d.S + 3 * D.D33S .* b.S) + d.C .* (-2 * D.D21S .* d.S + 4 * D.D22S .* d.S + 3 * D.D23S .* b.S)) + dy .^ 2 .* (a.C .* (-2 * D.D31E .* c.E - 2 * D.D31W .* c.W + 4 * D.D32E .* c.E + 4 * D.D32W .* c.W + 3 * D.D33E .* a.E + 3 * D.D33W .* a.W) + c.C .* (-2 * D.D21E .* c.E - 2 * D.D21W .* c.W + 4 * D.D22E .* c.E + 4 * D.D22W .* c.W + 3 * D.D23E .* a.E + 3 * D.D23W .* a.W))) ./ (6 * dx .^ 2 .* dy .^ 2)\n",
      "v_uu[11] = (-a.C .* (-2 * D.D31W .* c.W + 4 * D.D32W .* c.W + 3 * D.D33W .* a.W) - c.C .* (-2 * D.D21W .* c.W + 4 * D.D22W .* c.W + 3 * D.D23W .* a.W)) ./ (6 * dx .^ 2)\n",
      "v_uu[12] = (-a.C .* (-2 * D.D31E .* c.E + 4 * D.D32E .* c.E + 3 * D.D33E .* a.E) - c.C .* (-2 * D.D21E .* c.E + 4 * D.D22E .* c.E + 3 * D.D23E .* a.E)) ./ (6 * dx .^ 2)\n",
      "v_uu[13] = (-b.C .* (-2 * D.D31S .* d.S + 4 * D.D32S .* d.S + 3 * D.D33S .* b.S) - d.C .* (-2 * D.D21S .* d.S + 4 * D.D22S .* d.S + 3 * D.D23S .* b.S)) ./ (6 * dy .^ 2)\n",
      "v_uu[14] = 0\n",
      "v_uu[15] = (-a.C .* (-2 * D.D31W .* d.W + 4 * D.D32W .* d.W + 3 * D.D33W .* b.W) - b.C .* (-2 * D.D31S .* c.S + 4 * D.D32S .* c.S + 3 * D.D33S .* a.S) - c.C .* (-2 * D.D21W .* d.W + 4 * D.D22W .* d.W + 3 * D.D23W .* b.W) - d.C .* (-2 * D.D21S .* c.S + 4 * D.D22S .* c.S + 3 * D.D23S .* a.S)) ./ (6 * dx .* dy)\n",
      "v_uu[16] = (a.C .* (-2 * D.D31E .* d.E + 4 * D.D32E .* d.E + 3 * D.D33E .* b.E) + b.C .* (-2 * D.D31S .* c.S + 4 * D.D32S .* c.S + 3 * D.D33S .* a.S) + c.C .* (-2 * D.D21E .* d.E + 4 * D.D22E .* d.E + 3 * D.D23E .* b.E) + d.C .* (-2 * D.D21S .* c.S + 4 * D.D22S .* c.S + 3 * D.D23S .* a.S)) ./ (6 * dx .* dy)\n",
      "v_uu[17] = (a.C .* (-2 * D.D31W .* d.W + 4 * D.D32W .* d.W + 3 * D.D33W .* b.W) + b.C .* (-2 * D.D31N .* (-2 * b.N .* fs.C2N + c.N + fs.D2N .* d.N) + 2 * D.D32N .* (-b.N .* fs.C2N + 2 * c.N + 2 * fs.D2N .* d.N) + 3 * D.D33N .* (a.N + b.N .* fs.D2N + fs.C2N .* d.N)) + c.C .* (-2 * D.D21W .* d.W + 4 * D.D22W .* d.W + 3 * D.D23W .* b.W) + d.C .* (-2 * D.D21N .* (-2 * b.N .* fs.C2N + c.N + fs.D2N .* d.N) + 2 * D.D22N .* (-b.N .* fs.C2N + 2 * c.N + 2 * fs.D2N .* d.N) + 3 * D.D23N .* (a.N + b.N .* fs.D2N + fs.C2N .* d.N))) ./ (6 * dx .* dy)\n",
      "v_uu[18] = (-a.C .* (-2 * D.D31E .* d.E + 4 * D.D32E .* d.E + 3 * D.D33E .* b.E) - b.C .* (-2 * D.D31N .* (-2 * b.N .* fs.C2N + c.N + fs.D2N .* d.N) + 2 * D.D32N .* (-b.N .* fs.C2N + 2 * c.N + 2 * fs.D2N .* d.N) + 3 * D.D33N .* (a.N + b.N .* fs.D2N + fs.C2N .* d.N)) - c.C .* (-2 * D.D21E .* d.E + 4 * D.D22E .* d.E + 3 * D.D23E .* b.E) - d.C .* (-2 * D.D21N .* (-2 * b.N .* fs.C2N + c.N + fs.D2N .* d.N) + 2 * D.D22N .* (-b.N .* fs.C2N + 2 * c.N + 2 * fs.D2N .* d.N) + 3 * D.D23N .* (a.N + b.N .* fs.D2N + fs.C2N .* d.N))) ./ (6 * dx .* dy)\n",
      "v_up[1] = -c.C ./ dx\n",
      "v_up[2] = c.C ./ dx\n",
      "v_up[3] = -d.C ./ dy\n",
      "v_up[4] = (-b.C .* (2 * D.D31N .* (2 * b.N .* fs.C0N - fs.D0N .* d.N) - 2 * D.D32N .* (b.N .* fs.C0N - 2 * fs.D0N .* d.N) + 3 * D.D33N .* (b.N .* fs.D0N + fs.C0N .* d.N)) - d.C .* (2 * D.D21N .* (2 * b.N .* fs.C0N - fs.D0N .* d.N) - 2 * D.D22N .* (b.N .* fs.C0N - 2 * fs.D0N .* d.N) + 3 * D.D23N .* (b.N .* fs.D0N + fs.C0N .* d.N)) + 6 * d.C) ./ (6 * dy)\n"
     ]
    }
   ],
   "source": [
    "i=0\n",
    "for dof in dofsV:\n",
    "    i+=1\n",
    "    coeff = Fy.diff(dof)\n",
    "    # print('c' + str(dof) + ' = ' + julia_code(coeff.simplify()))\n",
    "    final = 'v_uu[' + str(i) + '] = ' + julia_code(coeff.simplify())\n",
    "    for id in range(36):\n",
    "        final = final.replace( a[id], b[id] )\n",
    "    for id in range(20):\n",
    "        final = final.replace( c[id], d[id] )\n",
    "    for id in range(15):\n",
    "        final = final.replace( e[id], f[id] )\n",
    "    for id in range(15):\n",
    "        final = final.replace( g[id], h[id] )\n",
    "    print(final)\n",
    "i=0\n",
    "for dof in dofsP:\n",
    "    i+=1\n",
    "    coeff = Fy.diff(dof)\n",
    "    final = 'v_up[' + str(i) + '] = ' + julia_code(coeff.simplify())\n",
    "    for id in range(36):\n",
    "        final = final.replace( a[id], b[id] )\n",
    "    for id in range(20):\n",
    "        final = final.replace( c[id], d[id] )\n",
    "    for id in range(15):\n",
    "        final = final.replace( e[id], f[id] )\n",
    "    for id in range(15):\n",
    "        final = final.replace( g[id], h[id] )\n",
    "    print(final)"
   ]
  },
  {
   "cell_type": "markdown",
   "metadata": {},
   "source": [
    "<font size= 6> Discretisation of the continuity equation </font>"
   ]
  },
  {
   "cell_type": "code",
   "execution_count": 254,
   "metadata": {},
   "outputs": [],
   "source": [
    "VxE,VxW,VyN,VyS = symbols('VxE,VxW,VyN,VyS')\n",
    "VyE,VyW,VxN,VxS = symbols('VyE,VyW,VxN,VxS')\n",
    "PC, PC0, K = symbols('PC, PC_0, K')\n",
    "aC,bC,cC,dC = symbols('aC,bC,cC,dC') "
   ]
  },
  {
   "cell_type": "code",
   "execution_count": 255,
   "metadata": {},
   "outputs": [],
   "source": [
    "dofs_pu = [VxW,VxE,VxS,VxN,VyW,VyE,VyS,VyN,PC]"
   ]
  },
  {
   "cell_type": "code",
   "execution_count": 256,
   "metadata": {},
   "outputs": [],
   "source": [
    "# Velocity gradients on reference grid\n",
    "eta_C = symbols('eta_C')\n",
    "if free_surf==1 or free_surf==2:\n",
    "    dVxdxiC  = (VxE-VxW)/dx\n",
    "    dVydxiC  = (VyE-VyW)/dx\n",
    "    dVxdetaC = eval_dVxdy(dVxdxiC,dVydxiC,PC,c0C,c1C,c2C)\n",
    "    dVydetaC = eval_dVydy(dVxdxiC,dVydxiC,PC,d0C,d1C,d2C)\n",
    "if free_surf==0:\n",
    "    dVxdxiC  = (VxE-VxW)/dx\n",
    "    dVydxiC  = (VyE-VyW)/dx\n",
    "    dVxdetaC = (VxN-VxS)/dy\n",
    "    dVydetaC = (VyN-VyS)/dy\n",
    "# Velocity gradients on deformed grid\n",
    "divC = d_dx2(dVxdxiC, dVxdetaC, aC,bC) + d_dy2(dVydxiC, dVydetaC,cC,dC)\n",
    "Fp   = divC + (PC-PC0)/(K*dt)"
   ]
  },
  {
   "cell_type": "code",
   "execution_count": 257,
   "metadata": {},
   "outputs": [
    {
     "name": "stdout",
     "output_type": "stream",
     "text": [
      "v_pu[1] = -aC ./ dx - bC .* fs.C1C ./ dx - fs.D1C .* dC ./ dx\n",
      "v_pu[2] = aC ./ dx + bC .* fs.C1C ./ dx + fs.D1C .* dC ./ dx\n",
      "v_pu[3] = 0\n",
      "v_pu[4] = 0\n",
      "v_pu[5] = -bC .* fs.C2C ./ dx - cC ./ dx - fs.D2C .* dC ./ dx\n",
      "v_pu[6] = bC .* fs.C2C ./ dx + cC ./ dx + fs.D2C .* dC ./ dx\n",
      "v_pu[7] = 0\n",
      "v_pu[8] = 0\n",
      "v_pu[9] = bC .* fs.C0C + fs.D0C .* dC + 1 ./ (K .* dt)\n"
     ]
    }
   ],
   "source": [
    "i=0\n",
    "for dof in dofs_pu:\n",
    "    i+=1\n",
    "    final = 'v_pu[' + str(i) + '] = ' + julia_code(Fp.diff(dof))\n",
    "    for id in range(15):\n",
    "        final = final.replace( e[id], f[id] )\n",
    "        final = final.replace( g[id], h[id] )\n",
    "    print(final)"
   ]
  },
  {
   "cell_type": "code",
   "execution_count": null,
   "metadata": {},
   "outputs": [],
   "source": []
  },
  {
   "cell_type": "code",
   "execution_count": null,
   "metadata": {},
   "outputs": [],
   "source": []
  }
 ],
 "metadata": {
  "kernelspec": {
   "display_name": "Python 3.9.5 ('base')",
   "language": "python",
   "name": "python3"
  },
  "language_info": {
   "codemirror_mode": {
    "name": "ipython",
    "version": 3
   },
   "file_extension": ".py",
   "mimetype": "text/x-python",
   "name": "python",
   "nbconvert_exporter": "python",
   "pygments_lexer": "ipython3",
   "version": "3.9.5"
  },
  "orig_nbformat": 4,
  "vscode": {
   "interpreter": {
    "hash": "309baa410e37084482bcba9b39a5b9e635e78b91cd7553c4b48a2d89780d0f88"
   }
  }
 },
 "nbformat": 4,
 "nbformat_minor": 2
}
