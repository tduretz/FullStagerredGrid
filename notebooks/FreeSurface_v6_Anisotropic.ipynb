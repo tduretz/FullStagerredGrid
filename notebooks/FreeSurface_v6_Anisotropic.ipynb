{
 "cells": [
  {
   "cell_type": "code",
   "execution_count": 60,
   "metadata": {},
   "outputs": [],
   "source": [
    "from sympy import *"
   ]
  },
  {
   "cell_type": "code",
   "execution_count": 61,
   "metadata": {},
   "outputs": [],
   "source": [
    "x, y = symbols('x,y')\n",
    "u = Function('u')(x,y)\n",
    "v = Function('v')(x,y)\n",
    "# P = Function('P')(x,y)\n",
    "hx, dudx, dudy, dvdx, dvdy, P = symbols('hx, dudx, dudy, dvdx, dvdy, P')"
   ]
  },
  {
   "cell_type": "markdown",
   "metadata": {},
   "source": [
    "<font size=6> 2D case with $y$ being vertical </font>"
   ]
  },
  {
   "cell_type": "code",
   "execution_count": 62,
   "metadata": {},
   "outputs": [],
   "source": [
    "# for simplified 2D\n",
    "def d_dx1(a,dksidx,detadx):\n",
    "    return dksidx*a.diff(x) + detadx*a.diff(y)\n",
    "def d_dy1(a,dksidy,detady):\n",
    "    return dksidy*a.diff(x) + detady*a.diff(y)"
   ]
  },
  {
   "cell_type": "code",
   "execution_count": 63,
   "metadata": {},
   "outputs": [
    {
     "data": {
      "text/latex": [
       "$\\displaystyle \\left[\\begin{matrix}D_{31} \\cdot \\left(\\frac{2 dedx dudy}{3} - \\frac{dedy dvdy}{3} + \\frac{2 dkdx dudx}{3} - \\frac{dkdy dvdx}{3}\\right) + D_{32} \\left(- \\frac{dedx dudy}{3} + \\frac{2 dedy dvdy}{3} - \\frac{dkdx dudx}{3} + \\frac{2 dkdy dvdx}{3}\\right) + D_{33} \\left(\\frac{dedx dvdy}{2} + \\frac{dedy dudy}{2} + \\frac{dkdx dvdx}{2} + \\frac{dkdy dudx}{2}\\right) + hx \\left(D_{11} \\cdot \\left(\\frac{2 dedx dudy}{3} - \\frac{dedy dvdy}{3} + \\frac{2 dkdx dudx}{3} - \\frac{dkdy dvdx}{3}\\right) + D_{12} \\left(- \\frac{dedx dudy}{3} + \\frac{2 dedy dvdy}{3} - \\frac{dkdx dudx}{3} + \\frac{2 dkdy dvdx}{3}\\right) + D_{13} \\left(\\frac{dedx dvdy}{2} + \\frac{dedy dudy}{2} + \\frac{dkdx dvdx}{2} + \\frac{dkdy dudx}{2}\\right) - P\\right)\\\\D_{21} \\cdot \\left(\\frac{2 dedx dudy}{3} - \\frac{dedy dvdy}{3} + \\frac{2 dkdx dudx}{3} - \\frac{dkdy dvdx}{3}\\right) + D_{22} \\left(- \\frac{dedx dudy}{3} + \\frac{2 dedy dvdy}{3} - \\frac{dkdx dudx}{3} + \\frac{2 dkdy dvdx}{3}\\right) + D_{23} \\left(\\frac{dedx dvdy}{2} + \\frac{dedy dudy}{2} + \\frac{dkdx dvdx}{2} + \\frac{dkdy dudx}{2}\\right) - P + hx \\left(D_{31} \\cdot \\left(\\frac{2 dedx dudy}{3} - \\frac{dedy dvdy}{3} + \\frac{2 dkdx dudx}{3} - \\frac{dkdy dvdx}{3}\\right) + D_{32} \\left(- \\frac{dedx dudy}{3} + \\frac{2 dedy dvdy}{3} - \\frac{dkdx dudx}{3} + \\frac{2 dkdy dvdx}{3}\\right) + D_{33} \\left(\\frac{dedx dvdy}{2} + \\frac{dedy dudy}{2} + \\frac{dkdx dvdx}{2} + \\frac{dkdy dudx}{2}\\right)\\right)\\end{matrix}\\right]$"
      ],
      "text/plain": [
       "Matrix([\n",
       "[D31*(2*dedx*dudy/3 - dedy*dvdy/3 + 2*dkdx*dudx/3 - dkdy*dvdx/3) + D32*(-dedx*dudy/3 + 2*dedy*dvdy/3 - dkdx*dudx/3 + 2*dkdy*dvdx/3) + D33*(dedx*dvdy/2 + dedy*dudy/2 + dkdx*dvdx/2 + dkdy*dudx/2) + hx*(D11*(2*dedx*dudy/3 - dedy*dvdy/3 + 2*dkdx*dudx/3 - dkdy*dvdx/3) + D12*(-dedx*dudy/3 + 2*dedy*dvdy/3 - dkdx*dudx/3 + 2*dkdy*dvdx/3) + D13*(dedx*dvdy/2 + dedy*dudy/2 + dkdx*dvdx/2 + dkdy*dudx/2) - P)],\n",
       "[D21*(2*dedx*dudy/3 - dedy*dvdy/3 + 2*dkdx*dudx/3 - dkdy*dvdx/3) + D22*(-dedx*dudy/3 + 2*dedy*dvdy/3 - dkdx*dudx/3 + 2*dkdy*dvdx/3) + D23*(dedx*dvdy/2 + dedy*dudy/2 + dkdx*dvdx/2 + dkdy*dudx/2) - P + hx*(D31*(2*dedx*dudy/3 - dedy*dvdy/3 + 2*dkdx*dudx/3 - dkdy*dvdx/3) + D32*(-dedx*dudy/3 + 2*dedy*dvdy/3 - dkdx*dudx/3 + 2*dkdy*dvdx/3) + D33*(dedx*dvdy/2 + dedy*dudy/2 + dkdx*dvdx/2 + dkdy*dudx/2))]])"
      ]
     },
     "metadata": {},
     "output_type": "display_data"
    }
   ],
   "source": [
    "#  2D\n",
    "dkdx,dkdy,dedx,dedy = symbols('dkdx,dkdy,dedx,dedy')\n",
    "D11,D12,D13, D21,D22,D23, D31,D32,D33 = symbols('D11,D12,D13, D21,D22,D23, D31,D32,D33')\n",
    "\n",
    "div  = d_dx1(u,dkdx,dedx) + d_dy1(v,dkdy,dedy)\n",
    "Exx  = d_dx1(u,dkdx,dedx) - Rational(1,3)*div\n",
    "Eyy  = d_dy1(v,dkdy,dedy) - Rational(1,3)*div\n",
    "Exy  = Rational(1,2)*(d_dy1(u,dkdy,dedy) + d_dx1(v,dkdx,dedx))\n",
    "E    = Matrix([[Exx],[Eyy],[Exy]])\n",
    "D    = Matrix([[D11,D12,D13],[D21,D22,D23],[D31,D32,D33]])\n",
    "Svec = D*E\n",
    "S    = Matrix([[-P+Svec[0],    Svec[2]],\n",
    "               [   Svec[2], -P+Svec[1]]])\n",
    "n = Matrix([hx,1])\n",
    "f = (S)*n\n",
    "f = f.subs(u.diff(y), dudy).subs(v.diff(y), dvdy)\n",
    "f = f.subs(u.diff(x), dudx).subs(v.diff(x), dvdx)\n",
    "s = solve(f, (dudy, dvdy))\n",
    "display(f)"
   ]
  },
  {
   "cell_type": "code",
   "execution_count": 64,
   "metadata": {},
   "outputs": [],
   "source": [
    "dVxdy = s[dudy]\n",
    "C0    = dVxdy.diff(P)\n",
    "C1    = dVxdy.diff(dudx)\n",
    "C2    = dVxdy.diff(dvdx)\n",
    "C3    = (dVxdy - (C0*P + C1*dudx + C2*dvdx))\n",
    "#####\n",
    "dVydy = s[dvdy]\n",
    "D0    = dVydy.diff(P)\n",
    "D1    = dVydy.diff(dudx)\n",
    "D2    = dVydy.diff(dvdx)\n",
    "D3    = (dVydy - (D0*P + D1*dudx + D2*dvdx)).simplify()\n",
    "#####\n",
    "Cd    = (2*D11*D22*dedx*dedy*hx + 2*D11*D23*dedx**2*hx + D11*D23*dedy**2*hx + 2*D11*D32*dedx*dedy*hx**2 + 2*D11*D33*dedx**2*hx**2 + D11*D33*dedy**2*hx**2 - 2*D12*D21*dedx*dedy*hx - D12*D23*dedx**2*hx - 2*D12*D23*dedy**2*hx - 2*D12*D31*dedx*dedy*hx**2 - D12*D33*dedx**2*hx**2 - 2*D12*D33*dedy**2*hx**2 - 2*D13*D21*dedx**2*hx - D13*D21*dedy**2*hx + D13*D22*dedx**2*hx + 2*D13*D22*dedy**2*hx - 2*D13*D31*dedx**2*hx**2 - D13*D31*dedy**2*hx**2 + D13*D32*dedx**2*hx**2 + 2*D13*D32*dedy**2*hx**2 - 2*D21*D32*dedx*dedy - 2*D21*D33*dedx**2 - D21*D33*dedy**2 + 2*D22*D31*dedx*dedy + D22*D33*dedx**2 + 2*D22*D33*dedy**2 + 2*D23*D31*dedx**2 + D23*D31*dedy**2 - D23*D32*dedx**2 - 2*D23*D32*dedy**2)"
   ]
  },
  {
   "cell_type": "code",
   "execution_count": 65,
   "metadata": {},
   "outputs": [
    {
     "name": "stdout",
     "output_type": "stream",
     "text": [
      "0\n",
      "0\n"
     ]
    }
   ],
   "source": [
    "# Génial!\n",
    "print(C3.simplify())\n",
    "print(D3.simplify())"
   ]
  },
  {
   "cell_type": "code",
   "execution_count": 66,
   "metadata": {},
   "outputs": [
    {
     "name": "stdout",
     "output_type": "stream",
     "text": [
      "Cd = 2 * D11 .* D22 .* dedx .* dedy .* hx + 2 * D11 .* D23 .* dedx .^ 2 .* hx + D11 .* D23 .* dedy .^ 2 .* hx + 2 * D11 .* D32 .* dedx .* dedy .* hx .^ 2 + 2 * D11 .* D33 .* dedx .^ 2 .* hx .^ 2 + D11 .* D33 .* dedy .^ 2 .* hx .^ 2 - 2 * D12 .* D21 .* dedx .* dedy .* hx - D12 .* D23 .* dedx .^ 2 .* hx - 2 * D12 .* D23 .* dedy .^ 2 .* hx - 2 * D12 .* D31 .* dedx .* dedy .* hx .^ 2 - D12 .* D33 .* dedx .^ 2 .* hx .^ 2 - 2 * D12 .* D33 .* dedy .^ 2 .* hx .^ 2 - 2 * D13 .* D21 .* dedx .^ 2 .* hx - D13 .* D21 .* dedy .^ 2 .* hx + D13 .* D22 .* dedx .^ 2 .* hx + 2 * D13 .* D22 .* dedy .^ 2 .* hx - 2 * D13 .* D31 .* dedx .^ 2 .* hx .^ 2 - D13 .* D31 .* dedy .^ 2 .* hx .^ 2 + D13 .* D32 .* dedx .^ 2 .* hx .^ 2 + 2 * D13 .* D32 .* dedy .^ 2 .* hx .^ 2 - 2 * D21 .* D32 .* dedx .* dedy - 2 * D21 .* D33 .* dedx .^ 2 - D21 .* D33 .* dedy .^ 2 + 2 * D22 .* D31 .* dedx .* dedy + D22 .* D33 .* dedx .^ 2 + 2 * D22 .* D33 .* dedy .^ 2 + 2 * D23 .* D31 .* dedx .^ 2 + D23 .* D31 .* dedy .^ 2 - D23 .* D32 .* dedx .^ 2 - 2 * D23 .* D32 .* dedy .^ 2\n",
      "C0 = (2 * D11 .* dedy .* hx - 4 * D12 .* dedy .* hx - 3 * D13 .* dedx .* hx - 2 * D21 .* dedy .* hx + 4 * D22 .* dedy .* hx + 3 * D23 .* dedx .* hx - 2 * D31 .* dedy .* hx .^ 2 + 2 * D31 .* dedy + 4 * D32 .* dedy .* hx .^ 2 - 4 * D32 .* dedy + 3 * D33 .* dedx .* hx .^ 2 - 3 * D33 .* dedx) ./ Cd\n",
      "C1 = (-2 * D11 .* D22 .* dedy .* dkdx .* hx - 2 * D11 .* D23 .* dedx .* dkdx .* hx - D11 .* D23 .* dedy .* dkdy .* hx - 2 * D11 .* D32 .* dedy .* dkdx .* hx .^ 2 - 2 * D11 .* D33 .* dedx .* dkdx .* hx .^ 2 - D11 .* D33 .* dedy .* dkdy .* hx .^ 2 + 2 * D12 .* D21 .* dedy .* dkdx .* hx + D12 .* D23 .* dedx .* dkdx .* hx + 2 * D12 .* D23 .* dedy .* dkdy .* hx + 2 * D12 .* D31 .* dedy .* dkdx .* hx .^ 2 + D12 .* D33 .* dedx .* dkdx .* hx .^ 2 + 2 * D12 .* D33 .* dedy .* dkdy .* hx .^ 2 + 2 * D13 .* D21 .* dedx .* dkdx .* hx + D13 .* D21 .* dedy .* dkdy .* hx - D13 .* D22 .* dedx .* dkdx .* hx - 2 * D13 .* D22 .* dedy .* dkdy .* hx + 2 * D13 .* D31 .* dedx .* dkdx .* hx .^ 2 + D13 .* D31 .* dedy .* dkdy .* hx .^ 2 - D13 .* D32 .* dedx .* dkdx .* hx .^ 2 - 2 * D13 .* D32 .* dedy .* dkdy .* hx .^ 2 + 2 * D21 .* D32 .* dedy .* dkdx + 2 * D21 .* D33 .* dedx .* dkdx + D21 .* D33 .* dedy .* dkdy - 2 * D22 .* D31 .* dedy .* dkdx - D22 .* D33 .* dedx .* dkdx - 2 * D22 .* D33 .* dedy .* dkdy - 2 * D23 .* D31 .* dedx .* dkdx - D23 .* D31 .* dedy .* dkdy + D23 .* D32 .* dedx .* dkdx + 2 * D23 .* D32 .* dedy .* dkdy) ./ Cd\n",
      "C2 = (D11 .* D23 .* dedx .* dkdy .* hx - D11 .* D23 .* dedy .* dkdx .* hx + D11 .* D33 .* dedx .* dkdy .* hx .^ 2 - D11 .* D33 .* dedy .* dkdx .* hx .^ 2 - 2 * D12 .* D23 .* dedx .* dkdy .* hx + 2 * D12 .* D23 .* dedy .* dkdx .* hx - 2 * D12 .* D33 .* dedx .* dkdy .* hx .^ 2 + 2 * D12 .* D33 .* dedy .* dkdx .* hx .^ 2 - D13 .* D21 .* dedx .* dkdy .* hx + D13 .* D21 .* dedy .* dkdx .* hx + 2 * D13 .* D22 .* dedx .* dkdy .* hx - 2 * D13 .* D22 .* dedy .* dkdx .* hx - D13 .* D31 .* dedx .* dkdy .* hx .^ 2 + D13 .* D31 .* dedy .* dkdx .* hx .^ 2 + 2 * D13 .* D32 .* dedx .* dkdy .* hx .^ 2 - 2 * D13 .* D32 .* dedy .* dkdx .* hx .^ 2 - D21 .* D33 .* dedx .* dkdy + D21 .* D33 .* dedy .* dkdx + 2 * D22 .* D33 .* dedx .* dkdy - 2 * D22 .* D33 .* dedy .* dkdx + D23 .* D31 .* dedx .* dkdy - D23 .* D31 .* dedy .* dkdx - 2 * D23 .* D32 .* dedx .* dkdy + 2 * D23 .* D32 .* dedy .* dkdx) ./ Cd\n"
     ]
    }
   ],
   "source": [
    "print( 'Cd = ' + julia_code(Cd.simplify()) )\n",
    "print( 'C0 = ' + julia_code(C0.subs(Cd,'Cd')) )\n",
    "print( 'C1 = ' + julia_code(C1.subs(Cd,'Cd')) )\n",
    "print( 'C2 = ' + julia_code(C2.subs(Cd,'Cd')) )"
   ]
  },
  {
   "cell_type": "code",
   "execution_count": 67,
   "metadata": {},
   "outputs": [
    {
     "name": "stdout",
     "output_type": "stream",
     "text": [
      "D0 = (4 * D11 .* dedx .* hx - 2 * D12 .* dedx .* hx + 3 * D13 .* dedy .* hx - 4 * D21 .* dedx .* hx + 2 * D22 .* dedx .* hx - 3 * D23 .* dedy .* hx - 4 * D31 .* dedx .* hx .^ 2 + 4 * D31 .* dedx + 2 * D32 .* dedx .* hx .^ 2 - 2 * D32 .* dedx - 3 * D33 .* dedy .* hx .^ 2 + 3 * D33 .* dedy) ./ Cd\n",
      "D1 = (-2 * D11 .* D23 .* dedx .* dkdy .* hx + 2 * D11 .* D23 .* dedy .* dkdx .* hx - 2 * D11 .* D33 .* dedx .* dkdy .* hx .^ 2 + 2 * D11 .* D33 .* dedy .* dkdx .* hx .^ 2 + D12 .* D23 .* dedx .* dkdy .* hx - D12 .* D23 .* dedy .* dkdx .* hx + D12 .* D33 .* dedx .* dkdy .* hx .^ 2 - D12 .* D33 .* dedy .* dkdx .* hx .^ 2 + 2 * D13 .* D21 .* dedx .* dkdy .* hx - 2 * D13 .* D21 .* dedy .* dkdx .* hx - D13 .* D22 .* dedx .* dkdy .* hx + D13 .* D22 .* dedy .* dkdx .* hx + 2 * D13 .* D31 .* dedx .* dkdy .* hx .^ 2 - 2 * D13 .* D31 .* dedy .* dkdx .* hx .^ 2 - D13 .* D32 .* dedx .* dkdy .* hx .^ 2 + D13 .* D32 .* dedy .* dkdx .* hx .^ 2 + 2 * D21 .* D33 .* dedx .* dkdy - 2 * D21 .* D33 .* dedy .* dkdx - D22 .* D33 .* dedx .* dkdy + D22 .* D33 .* dedy .* dkdx - 2 * D23 .* D31 .* dedx .* dkdy + 2 * D23 .* D31 .* dedy .* dkdx + D23 .* D32 .* dedx .* dkdy - D23 .* D32 .* dedy .* dkdx) ./ Cd\n",
      "D2 = (-2 * D11 .* D22 .* dedx .* dkdy .* hx - 2 * D11 .* D23 .* dedx .* dkdx .* hx - D11 .* D23 .* dedy .* dkdy .* hx - 2 * D11 .* D32 .* dedx .* dkdy .* hx .^ 2 - 2 * D11 .* D33 .* dedx .* dkdx .* hx .^ 2 - D11 .* D33 .* dedy .* dkdy .* hx .^ 2 + 2 * D12 .* D21 .* dedx .* dkdy .* hx + D12 .* D23 .* dedx .* dkdx .* hx + 2 * D12 .* D23 .* dedy .* dkdy .* hx + 2 * D12 .* D31 .* dedx .* dkdy .* hx .^ 2 + D12 .* D33 .* dedx .* dkdx .* hx .^ 2 + 2 * D12 .* D33 .* dedy .* dkdy .* hx .^ 2 + 2 * D13 .* D21 .* dedx .* dkdx .* hx + D13 .* D21 .* dedy .* dkdy .* hx - D13 .* D22 .* dedx .* dkdx .* hx - 2 * D13 .* D22 .* dedy .* dkdy .* hx + 2 * D13 .* D31 .* dedx .* dkdx .* hx .^ 2 + D13 .* D31 .* dedy .* dkdy .* hx .^ 2 - D13 .* D32 .* dedx .* dkdx .* hx .^ 2 - 2 * D13 .* D32 .* dedy .* dkdy .* hx .^ 2 + 2 * D21 .* D32 .* dedx .* dkdy + 2 * D21 .* D33 .* dedx .* dkdx + D21 .* D33 .* dedy .* dkdy - 2 * D22 .* D31 .* dedx .* dkdy - D22 .* D33 .* dedx .* dkdx - 2 * D22 .* D33 .* dedy .* dkdy - 2 * D23 .* D31 .* dedx .* dkdx - D23 .* D31 .* dedy .* dkdy + D23 .* D32 .* dedx .* dkdx + 2 * D23 .* D32 .* dedy .* dkdy) ./ Cd\n"
     ]
    }
   ],
   "source": [
    "print( 'D0 = ' + julia_code(D0.subs(Cd,'Cd')) )\n",
    "print( 'D1 = ' + julia_code(D1.subs(Cd,'Cd')) )\n",
    "print( 'D2 = ' + julia_code(D2.subs(Cd,'Cd')) )"
   ]
  },
  {
   "cell_type": "code",
   "execution_count": 68,
   "metadata": {},
   "outputs": [],
   "source": [
    "# uN,uS,dz = symbols('uN,uS,dz')\n",
    "# vN,vS = symbols('vN,vS')\n",
    "# wN,wS = symbols('wN,wS')\n",
    "\n",
    "# M1   = dedx*hx**2 - dedx + 2*dedy*hx\n",
    "# M2   = 2*dedx**2*hx**2 + dedx**2 + 2*dedx*dedy*hx + dedy**2*hx**2 + 2*dedy**2\n",
    "# M3   = 2*dedx*hx**2 + dedx + 2*dedy*hx\n",
    "# M4   = hx**2 + 2\n",
    "# M5   = 2*hx**2 + 1\n",
    "# M6   = 2*dedx*hx - dedy*hx**2 + dedy\n",
    "# # dudz\n",
    "# fx = (uN-uS)/dz - s[dudy].simplify()\n",
    "# uN = solve(fx,uN)[0].factor((uS,dudx,dvdx,P)).simplify().subs(M1,'M1').subs(M2,'M2').subs(M3,'M3').subs(M4,'M4').subs(P,'P_surf').subs(hx,'hx_surf')\n",
    "# display(uN)\n",
    "# print(julia_code(uN))\n",
    "# # print((uN))\n",
    "# # dvdz\n",
    "# fy = (vN-vS)/dz - s[dvdy].simplify()\n",
    "# vN = solve(fy,vN)[0].factor((vS,dudx,dvdx,P)).simplify().subs(M1,'M1').subs(M2,'M2').subs(M3,'M3').subs(M4,'M4').subs(M5,'M5').subs(M6,'M6').subs(hx,'hx_surf').subs(P,'P_surf')\n",
    "# # print((vN))\n",
    "# print(julia_code(vN))"
   ]
  },
  {
   "cell_type": "code",
   "execution_count": 69,
   "metadata": {},
   "outputs": [],
   "source": [
    "# print('M1 = ' + julia_code(M1))\n",
    "# print('M2 = ' + julia_code(M2))\n",
    "# print('M3 = ' + julia_code(M3))\n",
    "# print('M4 = ' + julia_code(M4))\n",
    "# print('M5 = ' + julia_code(M5))\n",
    "# print('M6 = ' + julia_code(M6))"
   ]
  },
  {
   "cell_type": "code",
   "execution_count": null,
   "metadata": {},
   "outputs": [],
   "source": []
  }
 ],
 "metadata": {
  "kernelspec": {
   "display_name": "Python 3.9.5 ('base')",
   "language": "python",
   "name": "python3"
  },
  "language_info": {
   "codemirror_mode": {
    "name": "ipython",
    "version": 3
   },
   "file_extension": ".py",
   "mimetype": "text/x-python",
   "name": "python",
   "nbconvert_exporter": "python",
   "pygments_lexer": "ipython3",
   "version": "3.9.5"
  },
  "orig_nbformat": 4,
  "vscode": {
   "interpreter": {
    "hash": "309baa410e37084482bcba9b39a5b9e635e78b91cd7553c4b48a2d89780d0f88"
   }
  }
 },
 "nbformat": 4,
 "nbformat_minor": 2
}
