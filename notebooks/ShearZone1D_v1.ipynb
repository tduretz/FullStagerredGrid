{
 "cells": [
  {
   "cell_type": "code",
   "execution_count": 4,
   "metadata": {},
   "outputs": [],
   "source": [
    "from sympy import *"
   ]
  },
  {
   "cell_type": "code",
   "execution_count": 5,
   "metadata": {},
   "outputs": [],
   "source": [
    "def Euv(u1,u2,v1,v2,d1,d2):\n",
    "    return 1/2*( (u2-u1)/d2 + (v2-v1)/d1 )\n",
    "def Euu(u1,u2,d1):\n",
    "    return (u2-u1)/d1"
   ]
  },
  {
   "cell_type": "code",
   "execution_count": 6,
   "metadata": {},
   "outputs": [],
   "source": [
    "dx, dy, dt = symbols('dx, dy, dt')\n",
    "VxC, VxS, VxN = symbols('VxC, VxS, VxN')\n",
    "VyC, VyS, VyN = symbols('VyC, VyS, VyN')\n",
    "pS, pN = symbols('pS, pN')\n",
    "eS, eN, K = symbols('eS, eN, K')\n",
    "pC, pC0 = symbols('pC, pC0')\n",
    "# Jacobian detady\n",
    "dC, dS, dN = symbols('dC, dS, dN')"
   ]
  },
  {
   "cell_type": "code",
   "execution_count": 10,
   "metadata": {},
   "outputs": [
    {
     "data": {
      "text/latex": [
       "$\\displaystyle \\frac{dC \\left(\\frac{1.0 dN eN \\left(- VxC + VxN\\right)}{dy} - \\frac{1.0 dS eS \\left(VxC - VxS\\right)}{dy}\\right)}{dy}$"
      ],
      "text/plain": [
       "dC*(1.0*dN*eN*(-VxC + VxN)/dy - 1.0*dS*eS*(VxC - VxS)/dy)/dy"
      ]
     },
     "metadata": {},
     "output_type": "display_data"
    },
    {
     "data": {
      "text/latex": [
       "$\\displaystyle - \\frac{pN - pS}{dy} + \\frac{\\frac{4 eN \\left(VyC - VyN\\right)}{3 dy} - \\frac{4 eS \\left(- VyC + VyS\\right)}{3 dy}}{dy}$"
      ],
      "text/plain": [
       "-(pN - pS)/dy + (4*eN*(VyC - VyN)/(3*dy) - 4*eS*(-VyC + VyS)/(3*dy))/dy"
      ]
     },
     "metadata": {},
     "output_type": "display_data"
    },
    {
     "data": {
      "text/latex": [
       "$\\displaystyle - \\frac{- VyN + VyS}{dy} - \\frac{pC - pC_{0}}{K dt}$"
      ],
      "text/plain": [
       "-(-VyN + VyS)/dy - (pC - pC0)/(K*dt)"
      ]
     },
     "metadata": {},
     "output_type": "display_data"
    }
   ],
   "source": [
    "ExyS = 1/2*( dS*(VxC-VxS)/dy )\n",
    "ExyN = 1/2*( dN*(VxN-VxC)/dy )\n",
    "divN = Euu(VyN,VyC,dy)\n",
    "divS = Euu(VyC,VyS,dy)\n",
    "EyyN = Euu(VyN,VyC,dy) - Rational(1,3)*divN\n",
    "EyyS = Euu(VyC,VyS,dy) - Rational(1,3)*divS\n",
    "TyyS = 2*eS*EyyS\n",
    "TyyN = 2*eN*EyyN\n",
    "TxyS = 2*eS*ExyS\n",
    "TxyN = 2*eN*ExyN\n",
    "Fx   = dC*(TxyN-TxyS)/dy\n",
    "display(Fx)\n",
    "Fy   = (TyyN-TyyS)/dy - (pN-pS)/dy\n",
    "display(Fy)\n",
    "Fp   = -Euu(VyN,VyS,dy) - (pC-pC0)/(K*dt)\n",
    "display(Fp)"
   ]
  },
  {
   "cell_type": "code",
   "execution_count": 11,
   "metadata": {},
   "outputs": [
    {
     "name": "stdout",
     "output_type": "stream",
     "text": [
      "cVxC = dC .* (-1.0 * dN .* eN ./ dy - 1.0 * dS .* eS ./ dy) ./ dy\n",
      "cVxS = 1.0 * dC .* dS .* eS ./ dy .^ 2\n",
      "cVxN = 1.0 * dC .* dN .* eN ./ dy .^ 2\n"
     ]
    }
   ],
   "source": [
    "cVxC = Fx.diff(VxC)\n",
    "cVxS = Fx.diff(VxS)\n",
    "cVxN = Fx.diff(VxN)\n",
    "print('cVxC = ' + julia_code(cVxC))\n",
    "print('cVxS = ' + julia_code(cVxS))\n",
    "print('cVxN = ' + julia_code(cVxN))"
   ]
  },
  {
   "cell_type": "code",
   "execution_count": null,
   "metadata": {},
   "outputs": [
    {
     "name": "stdout",
     "output_type": "stream",
     "text": [
      "cVyC = ((4 // 3) * eN ./ dy + (4 // 3) * eS ./ dy) ./ dy\n",
      "cVyS = -4 // 3 * eS ./ dy .^ 2\n",
      "cVyN = -4 // 3 * eN ./ dy .^ 2\n",
      "cPtS = 1 ./ dy\n",
      "cPtN = -1 ./ dy\n"
     ]
    }
   ],
   "source": [
    "cVyC = Fy.diff(VyC)\n",
    "cVyS = Fy.diff(VyS)\n",
    "cVyN = Fy.diff(VyN)\n",
    "cPtS = Fy.diff(pS)\n",
    "cPtN = Fy.diff(pN)\n",
    "print('cVyC = ' + julia_code(cVyC))\n",
    "print('cVyS = ' + julia_code(cVyS))\n",
    "print('cVyN = ' + julia_code(cVyN))\n",
    "print('cPtS = ' + julia_code(cPtS))\n",
    "print('cPtN = ' + julia_code(cPtN))"
   ]
  },
  {
   "cell_type": "code",
   "execution_count": null,
   "metadata": {},
   "outputs": [],
   "source": []
  },
  {
   "cell_type": "code",
   "execution_count": null,
   "metadata": {},
   "outputs": [],
   "source": []
  }
 ],
 "metadata": {
  "kernelspec": {
   "display_name": "Python 3.9.5 ('base')",
   "language": "python",
   "name": "python3"
  },
  "language_info": {
   "codemirror_mode": {
    "name": "ipython",
    "version": 3
   },
   "file_extension": ".py",
   "mimetype": "text/x-python",
   "name": "python",
   "nbconvert_exporter": "python",
   "pygments_lexer": "ipython3",
   "version": "3.9.5"
  },
  "orig_nbformat": 4,
  "vscode": {
   "interpreter": {
    "hash": "309baa410e37084482bcba9b39a5b9e635e78b91cd7553c4b48a2d89780d0f88"
   }
  }
 },
 "nbformat": 4,
 "nbformat_minor": 2
}
