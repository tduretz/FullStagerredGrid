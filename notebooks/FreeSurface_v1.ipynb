{
 "cells": [
  {
   "cell_type": "code",
   "execution_count": 1,
   "metadata": {},
   "outputs": [],
   "source": [
    "from sympy import *"
   ]
  },
  {
   "cell_type": "code",
   "execution_count": 20,
   "metadata": {},
   "outputs": [
    {
     "data": {
      "text/latex": [
       "$\\displaystyle \\left[\\begin{matrix}\\lambda \\frac{\\partial}{\\partial y} v{\\left(x,y,z \\right)} + \\lambda \\frac{\\partial}{\\partial z} w{\\left(x,y,z \\right)} + \\left(\\lambda + 2 \\mu\\right) \\frac{\\partial}{\\partial x} u{\\left(x,y,z \\right)} & 2 \\mu \\left(0.5 \\frac{\\partial}{\\partial y} u{\\left(x,y,z \\right)} + 0.5 \\frac{\\partial}{\\partial x} v{\\left(x,y,z \\right)}\\right) & 2 \\mu \\left(0.5 \\frac{\\partial}{\\partial z} u{\\left(x,y,z \\right)} + 0.5 \\frac{\\partial}{\\partial x} w{\\left(x,y,z \\right)}\\right)\\\\2 \\mu \\left(0.5 \\frac{\\partial}{\\partial y} u{\\left(x,y,z \\right)} + 0.5 \\frac{\\partial}{\\partial x} v{\\left(x,y,z \\right)}\\right) & \\lambda \\frac{\\partial}{\\partial x} u{\\left(x,y,z \\right)} + \\lambda \\frac{\\partial}{\\partial z} w{\\left(x,y,z \\right)} + \\left(\\lambda + 2 \\mu\\right) \\frac{\\partial}{\\partial y} v{\\left(x,y,z \\right)} & 2 \\mu \\left(0.5 \\frac{\\partial}{\\partial z} v{\\left(x,y,z \\right)} + 0.5 \\frac{\\partial}{\\partial y} w{\\left(x,y,z \\right)}\\right)\\\\2 \\mu \\left(0.5 \\frac{\\partial}{\\partial z} u{\\left(x,y,z \\right)} + 0.5 \\frac{\\partial}{\\partial x} w{\\left(x,y,z \\right)}\\right) & 2 \\mu \\left(0.5 \\frac{\\partial}{\\partial z} v{\\left(x,y,z \\right)} + 0.5 \\frac{\\partial}{\\partial y} w{\\left(x,y,z \\right)}\\right) & \\lambda \\frac{\\partial}{\\partial x} u{\\left(x,y,z \\right)} + \\lambda \\frac{\\partial}{\\partial y} v{\\left(x,y,z \\right)} + \\left(\\lambda + 2 \\mu\\right) \\frac{\\partial}{\\partial z} w{\\left(x,y,z \\right)}\\end{matrix}\\right]$"
      ],
      "text/plain": [
       "Matrix([\n",
       "[lambda*Derivative(v(x, y, z), y) + lambda*Derivative(w(x, y, z), z) + (lambda + 2*mu)*Derivative(u(x, y, z), x),                                            2*mu*(0.5*Derivative(u(x, y, z), y) + 0.5*Derivative(v(x, y, z), x)),                                            2*mu*(0.5*Derivative(u(x, y, z), z) + 0.5*Derivative(w(x, y, z), x))],\n",
       "[                                           2*mu*(0.5*Derivative(u(x, y, z), y) + 0.5*Derivative(v(x, y, z), x)), lambda*Derivative(u(x, y, z), x) + lambda*Derivative(w(x, y, z), z) + (lambda + 2*mu)*Derivative(v(x, y, z), y),                                            2*mu*(0.5*Derivative(v(x, y, z), z) + 0.5*Derivative(w(x, y, z), y))],\n",
       "[                                           2*mu*(0.5*Derivative(u(x, y, z), z) + 0.5*Derivative(w(x, y, z), x)),                                            2*mu*(0.5*Derivative(v(x, y, z), z) + 0.5*Derivative(w(x, y, z), y)), lambda*Derivative(u(x, y, z), x) + lambda*Derivative(v(x, y, z), y) + (lambda + 2*mu)*Derivative(w(x, y, z), z)]])"
      ]
     },
     "metadata": {},
     "output_type": "display_data"
    }
   ],
   "source": [
    "x, y, z = symbols('x,y,z')\n",
    "sxx, syy, szz, sxy, sxz, syz = symbols('sigma_xx, sigma_yy, sigma_zz, sigma_xy, sigma_xz, sigma_yz')\n",
    "u_x, v_x, w_x, u_y, v_y, w_y, u_z, v_z, w_z = symbols('u_x, v_x, w_x, u_y, v_y, w_y, u_z, v_z, w_z')\n",
    "L, M = symbols('lambda, mu')\n",
    "u = Function('u')(x,y,z)\n",
    "v = Function('v')(x,y,z)\n",
    "w = Function('w')(x,y,z)\n",
    "hx, hy = symbols('h_x, h_y')\n",
    "Exx  = u.diff(x)\n",
    "Eyy  = v.diff(y)\n",
    "Ezz  = w.diff(z)\n",
    "Exz  = 1/2*(u.diff(z) + w.diff(x))\n",
    "Exy  = 1/2*(u.diff(y) + v.diff(x))\n",
    "Eyz  = 1/2*(v.diff(z) + w.diff(y))\n",
    "E    = Matrix([[Exx],[Eyy],[Ezz],[Exy],[Exz],[Eyz]])\n",
    "D    = Matrix([[L+2*M, L, L,0,0,0],[L, L+2*M, L,0,0,0],[L, L, L+2*M,0,0,0],[0,0,0,2*M,0,0],[0,0,0,0,2*M,0],[0,0,0,0,0,2*M]])\n",
    "Svec = D*E\n",
    "S    = Matrix([[Svec[0],Svec[3],Svec[4]],\n",
    "               [Svec[3],Svec[1],Svec[5]],\n",
    "               [Svec[4],Svec[5],Svec[2]]])\n",
    "display(S)"
   ]
  },
  {
   "cell_type": "code",
   "execution_count": 21,
   "metadata": {},
   "outputs": [
    {
     "data": {
      "text/latex": [
       "$\\displaystyle \\left[\\begin{matrix}2 \\mu \\left(0.5 dudz + 0.5 dwdx\\right)\\\\2 \\mu \\left(0.5 dvdz + 0.5 dwdy\\right)\\\\dudx \\lambda + dvdy \\lambda + dwdz \\left(\\lambda + 2 \\mu\\right)\\end{matrix}\\right]$"
      ],
      "text/plain": [
       "Matrix([\n",
       "[                      2*mu*(0.5*dudz + 0.5*dwdx)],\n",
       "[                      2*mu*(0.5*dvdz + 0.5*dwdy)],\n",
       "[dudx*lambda + dvdy*lambda + dwdz*(lambda + 2*mu)]])"
      ]
     },
     "metadata": {},
     "output_type": "display_data"
    }
   ],
   "source": [
    "# The flat case\n",
    "dudz, dvdz, dwdz = symbols('dudz, dvdz, dwdz')\n",
    "dudx, dudy, dvdy, dvdx, dvdz, dwdx, dwdy = symbols('dudx, dudy, dvdy, dvdx, dvdz, dwdx, dwdy')\n",
    "n = Matrix([0*hx,0*hy,1])\n",
    "f = S*n\n",
    "f = f.subs(u.diff(z), dudz).subs(v.diff(z), dvdz).subs(w.diff(z), dwdz)\n",
    "f = f.subs(u.diff(y), dudy).subs(v.diff(y), dvdy).subs(w.diff(y), dwdy)\n",
    "f = f.subs(u.diff(x), dudx).subs(v.diff(x), dvdx).subs(w.diff(x), dwdx)\n",
    "x = solve(f, (dudz, dvdz, dwdz))\n",
    "display(f)"
   ]
  },
  {
   "cell_type": "code",
   "execution_count": 22,
   "metadata": {},
   "outputs": [
    {
     "data": {
      "text/latex": [
       "$\\displaystyle - dwdx$"
      ],
      "text/plain": [
       "-dwdx"
      ]
     },
     "execution_count": 22,
     "metadata": {},
     "output_type": "execute_result"
    }
   ],
   "source": [
    "x[dudz]"
   ]
  },
  {
   "cell_type": "code",
   "execution_count": 23,
   "metadata": {},
   "outputs": [
    {
     "data": {
      "text/latex": [
       "$\\displaystyle - dwdy$"
      ],
      "text/plain": [
       "-dwdy"
      ]
     },
     "execution_count": 23,
     "metadata": {},
     "output_type": "execute_result"
    }
   ],
   "source": [
    "x[dvdz]"
   ]
  },
  {
   "cell_type": "code",
   "execution_count": 19,
   "metadata": {},
   "outputs": [
    {
     "data": {
      "text/latex": [
       "$\\displaystyle \\frac{- dudx \\lambda - dvdy \\lambda}{\\lambda + 2.0 \\mu}$"
      ],
      "text/plain": [
       "(-dudx*lambda - dvdy*lambda)/(lambda + 2.0*mu)"
      ]
     },
     "execution_count": 19,
     "metadata": {},
     "output_type": "execute_result"
    }
   ],
   "source": [
    "x[dwdz]"
   ]
  },
  {
   "cell_type": "markdown",
   "metadata": {},
   "source": [
    "$\\frac{\\partial w}{\\partial z} = -\\frac{\\lambda}{\\lambda + 2\\mu} (\\frac{\\partial u}{\\partial x} + \\frac{\\partial v}{\\partial y}) $"
   ]
  }
 ],
 "metadata": {
  "kernelspec": {
   "display_name": "Python 3.7.4 ('base')",
   "language": "python",
   "name": "python3"
  },
  "language_info": {
   "codemirror_mode": {
    "name": "ipython",
    "version": 3
   },
   "file_extension": ".py",
   "mimetype": "text/x-python",
   "name": "python",
   "nbconvert_exporter": "python",
   "pygments_lexer": "ipython3",
   "version": "3.7.4"
  },
  "orig_nbformat": 4,
  "vscode": {
   "interpreter": {
    "hash": "c8364b0fb7479dc94b0c24ab2a5292d01c2912f237aa8319c6d135d5547fe183"
   }
  }
 },
 "nbformat": 4,
 "nbformat_minor": 2
}
