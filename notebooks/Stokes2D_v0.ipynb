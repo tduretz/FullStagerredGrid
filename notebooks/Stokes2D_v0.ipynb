{
 "cells": [
  {
   "cell_type": "code",
   "execution_count": 24,
   "metadata": {},
   "outputs": [],
   "source": [
    "from sympy import *"
   ]
  },
  {
   "cell_type": "code",
   "execution_count": 25,
   "metadata": {},
   "outputs": [],
   "source": [
    "def d_dx1(uE,uW,uN,uS,dksi,deta,dksidx,detadx):\n",
    "    return dksidx*(uE-uW)/dksi + detadx*(uN-uS)/deta\n",
    "def d_dy1(vE,vW,vN,vS,dksi,deta,dksidy,detady):\n",
    "    return dksidy*(vE-vW)/dksi + detady*(vN-vS)/deta"
   ]
  },
  {
   "cell_type": "code",
   "execution_count": 26,
   "metadata": {},
   "outputs": [],
   "source": [
    "dx, dy, dt = symbols('dx, dy, dt')\n",
    "VxC, VxW, VxE, VxS, VxN = symbols('VxC, VxW, VxE, VxS, VxN')\n",
    "VyC, VyW, VyE, VyS, VyN = symbols('VyC, VyW, VyE, VyS, VyN')\n",
    "VySW, VySE, VyNW, VyNE = symbols('VySW, VySE, VyNW, VyNE')\n",
    "VxSW, VxSE, VxNW, VxNE = symbols('VxSW, VxSE, VxNW, VxNE')\n",
    "pS, pN, pE, pW = symbols('pS, pN, pE, pW')\n",
    "D11E, D11W, D22N, D22S, D33E, D33W, D33S, D33N = symbols('D11E, D11W, D22N, D22S, D33E, D33W, D33S, D33N')\n",
    "pC, pC0 = symbols('pC, pC0')"
   ]
  },
  {
   "cell_type": "code",
   "execution_count": 35,
   "metadata": {},
   "outputs": [],
   "source": [
    "dofsV = [VxC, VxW, VxE, VxS, VxN, VxSW, VxSE, VxNW, VxNE,\n",
    "         VyC, VyW, VyE, VyS, VyN, VySW, VySE, VyNW, VyNE]"
   ]
  },
  {
   "cell_type": "code",
   "execution_count": 27,
   "metadata": {},
   "outputs": [],
   "source": [
    "aW,bW,cW,dW = symbols('aW,bW,cW,dW')\n",
    "aE,bE,cE,dE = symbols('aE,bE,cE,dE')\n",
    "aS,bS,cS,dS = symbols('aS,bS,cS,dS')\n",
    "aN,bN,cN,dN = symbols('aN,bN,cN,dN')"
   ]
  },
  {
   "cell_type": "code",
   "execution_count": 28,
   "metadata": {},
   "outputs": [],
   "source": [
    "# Velocity gradients\n",
    "dVxdxE = d_dx1(VxE,VxC,VxNE,VxSE,dx,dy,aE,bE)\n",
    "dVydyE = d_dy1(VyE,VyC,VyNE,VySE,dx,dy,aE,bE)\n",
    "dVxdxW = d_dx1(VxC,VxW,VxNW,VxSW,dx,dy,aW,bW)\n",
    "dVydyW = d_dy1(VyC,VyW,VyNW,VySW,dx,dy,aW,bW)\n",
    "# ----------\n",
    "dVxdxN = d_dx1(VxNE,VxNW,VxN,VxC,dx,dy,aN,bN)\n",
    "dVydyN = d_dy1(VyNE,VyNW,VyN,VyC,dx,dy,aN,bN)\n",
    "dVxdxS = d_dx1(VxSE,VxSW,VxC,VxS,dx,dy,aS,bS)\n",
    "dVydyS = d_dy1(VySE,VySW,VyC,VyS,dx,dy,aS,bS)\n",
    "# ----------\n",
    "dVydxN = d_dx1(VyNE,VyNW,VyN,VyC,dx,dy,aN,bN)\n",
    "dVxdyN = d_dy1(VxNE,VxNW,VxN,VxC,dx,dy,aN,bN)\n",
    "dVydxS = d_dx1(VySE,VySW,VyC,VyS,dx,dy,aS,bS)\n",
    "dVxdyS = d_dy1(VxSE,VxSW,VxC,VxS,dx,dy,aS,bS)\n",
    "# ----------\n",
    "dVydxE = d_dx1(VyE,VyC,VyNE,VySE,dx,dy,aE,bE)\n",
    "dVxdyE = d_dy1(VxE,VxC,VxNE,VxSE,dx,dy,aE,bE)\n",
    "dVydxW = d_dx1(VyC,VyW,VyNW,VySW,dx,dy,aW,bW)\n",
    "dVxdyW = d_dy1(VxC,VxW,VxNW,VxSW,dx,dy,aW,bW)"
   ]
  },
  {
   "cell_type": "code",
   "execution_count": 29,
   "metadata": {},
   "outputs": [],
   "source": [
    "divE   = dVxdxE + dVydyE\n",
    "divW   = dVxdxW + dVydyW\n",
    "divN   = dVxdxN + dVydyN\n",
    "divS   = dVxdxS + dVydyS\n",
    "ExxE   = dVxdxE - Rational(1,3)*divE\n",
    "ExxW   = dVxdxW - Rational(1,3)*divW\n",
    "EyyN   = dVydyN - Rational(1,3)*divN\n",
    "EyyS   = dVydyS - Rational(1,3)*divS\n",
    "ExyN   = Rational(1,2)*(dVxdyN + dVydxN)\n",
    "ExyS   = Rational(1,2)*(dVxdyS + dVydxS)\n",
    "ExyE   = Rational(1,2)*(dVxdyE + dVydxE)\n",
    "ExyW   = Rational(1,2)*(dVxdyW + dVydxW)"
   ]
  },
  {
   "cell_type": "code",
   "execution_count": 30,
   "metadata": {},
   "outputs": [],
   "source": [
    "# Deviatoric stress\n",
    "TxxE   = D11E*ExxE\n",
    "TxxW   = D11W*ExxW\n",
    "TyyN   = D22N*EyyN\n",
    "TyyS   = D22S*EyyS\n",
    "TxyE   = D33E*ExyE\n",
    "TxyW   = D33W*ExyW\n",
    "TxyN   = D33N*ExyN\n",
    "TxyS   = D33S*ExyS"
   ]
  },
  {
   "cell_type": "code",
   "execution_count": 48,
   "metadata": {},
   "outputs": [],
   "source": [
    "Fx   = (TxxE-TxxW)/dx + (TxyN-TxyS)/dy - (pE-pW)/dx\n",
    "Fy   = (TyyN-TyyS)/dy + (TxyE-TxyW)/dx - (pN-pS)/dy"
   ]
  },
  {
   "cell_type": "code",
   "execution_count": 52,
   "metadata": {},
   "outputs": [
    {
     "name": "stdout",
     "output_type": "stream",
     "text": [
      "cVxC = -(3 * dx .^ 2 .* (D33N .* bN + D33S .* bS) + 4 * dy .^ 2 .* (D11E .* aE + D11W .* aW)) ./ (6 * dx .^ 2 .* dy .^ 2)\n",
      "cVxW = (2 // 3) * D11W .* aW ./ dx .^ 2\n",
      "cVxE = (2 // 3) * D11E .* aE ./ dx .^ 2\n",
      "cVxS = D33S .* bS ./ (2 * dy .^ 2)\n",
      "cVxN = D33N .* bN ./ (2 * dy .^ 2)\n",
      "cVxSW = (4 * D11W .* bW + 3 * D33S .* aS) ./ (6 * dx .* dy)\n",
      "cVxSE = (-4 * D11E .* bE - 3 * D33S .* aS) ./ (6 * dx .* dy)\n",
      "cVxNW = (-4 * D11W .* bW - 3 * D33N .* aN) ./ (6 * dx .* dy)\n",
      "cVxNE = (4 * D11E .* bE + 3 * D33N .* aN) ./ (6 * dx .* dy)\n",
      "cVyC = (-3 * dx .^ 2 .* (D33N .* bN + D33S .* bS) + 2 * dy .^ 2 .* (D11E .* aE + D11W .* aW)) ./ (6 * dx .^ 2 .* dy .^ 2)\n",
      "cVyW = -D11W .* aW ./ (3 * dx .^ 2)\n",
      "cVyE = -D11E .* aE ./ (3 * dx .^ 2)\n",
      "cVyS = D33S .* bS ./ (2 * dy .^ 2)\n",
      "cVyN = D33N .* bN ./ (2 * dy .^ 2)\n",
      "cVySW = (-D11W .* bW / 3 + D33S .* aS / 2) ./ (dx .* dy)\n",
      "cVySE = (D11E .* bE / 3 - D33S .* aS / 2) ./ (dx .* dy)\n",
      "cVyNW = (D11W .* bW / 3 - D33N .* aN / 2) ./ (dx .* dy)\n",
      "cVyNE = (-D11E .* bE / 3 + D33N .* aN / 2) ./ (dx .* dy)\n"
     ]
    }
   ],
   "source": [
    "for dof in dofsV:\n",
    "    coeff = Fx.diff(dof)\n",
    "    print('c' + str(dof) + ' = ' + julia_code(coeff.simplify()))\n"
   ]
  },
  {
   "cell_type": "code",
   "execution_count": 51,
   "metadata": {},
   "outputs": [
    {
     "name": "stdout",
     "output_type": "stream",
     "text": [
      "cVxC = (2 * dx .^ 2 .* (D22N .* bN + D22S .* bS) - 3 * dy .^ 2 .* (D33E .* aE + D33W .* aW)) ./ (6 * dx .^ 2 .* dy .^ 2)\n",
      "cVxW = D33W .* aW ./ (2 * dx .^ 2)\n",
      "cVxE = D33E .* aE ./ (2 * dx .^ 2)\n",
      "cVxS = -D22S .* bS ./ (3 * dy .^ 2)\n",
      "cVxN = -D22N .* bN ./ (3 * dy .^ 2)\n",
      "cVxSW = (-D22S .* aS / 3 + D33W .* bW / 2) ./ (dx .* dy)\n",
      "cVxSE = (D22S .* aS / 3 - D33E .* bE / 2) ./ (dx .* dy)\n",
      "cVxNW = (D22N .* aN / 3 - D33W .* bW / 2) ./ (dx .* dy)\n",
      "cVxNE = (-D22N .* aN / 3 + D33E .* bE / 2) ./ (dx .* dy)\n",
      "cVyC = -(4 * dx .^ 2 .* (D22N .* bN + D22S .* bS) + 3 * dy .^ 2 .* (D33E .* aE + D33W .* aW)) ./ (6 * dx .^ 2 .* dy .^ 2)\n",
      "cVyW = D33W .* aW ./ (2 * dx .^ 2)\n",
      "cVyE = D33E .* aE ./ (2 * dx .^ 2)\n",
      "cVyS = (2 // 3) * D22S .* bS ./ dy .^ 2\n",
      "cVyN = (2 // 3) * D22N .* bN ./ dy .^ 2\n",
      "cVySW = (4 * D22S .* aS + 3 * D33W .* bW) ./ (6 * dx .* dy)\n",
      "cVySE = (-4 * D22S .* aS - 3 * D33E .* bE) ./ (6 * dx .* dy)\n",
      "cVyNW = (-4 * D22N .* aN - 3 * D33W .* bW) ./ (6 * dx .* dy)\n",
      "cVyNE = (4 * D22N .* aN + 3 * D33E .* bE) ./ (6 * dx .* dy)\n"
     ]
    }
   ],
   "source": [
    "for dof in dofsV:\n",
    "    coeff = Fy.diff(dof)\n",
    "    print('c' + str(dof) + ' = ' + julia_code(coeff.simplify()))"
   ]
  },
  {
   "cell_type": "code",
   "execution_count": null,
   "metadata": {},
   "outputs": [],
   "source": []
  }
 ],
 "metadata": {
  "kernelspec": {
   "display_name": "Python 3.9.5 ('base')",
   "language": "python",
   "name": "python3"
  },
  "language_info": {
   "codemirror_mode": {
    "name": "ipython",
    "version": 3
   },
   "file_extension": ".py",
   "mimetype": "text/x-python",
   "name": "python",
   "nbconvert_exporter": "python",
   "pygments_lexer": "ipython3",
   "version": "3.9.5"
  },
  "orig_nbformat": 4,
  "vscode": {
   "interpreter": {
    "hash": "309baa410e37084482bcba9b39a5b9e635e78b91cd7553c4b48a2d89780d0f88"
   }
  }
 },
 "nbformat": 4,
 "nbformat_minor": 2
}
