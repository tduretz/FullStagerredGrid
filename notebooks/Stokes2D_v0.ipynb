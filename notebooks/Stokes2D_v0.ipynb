{
 "cells": [
  {
   "cell_type": "code",
   "execution_count": 71,
   "metadata": {},
   "outputs": [],
   "source": [
    "from sympy import *"
   ]
  },
  {
   "cell_type": "markdown",
   "metadata": {},
   "source": [
    "<font size= 6> Discretisation of the linear momentum balance </font>"
   ]
  },
  {
   "cell_type": "code",
   "execution_count": 72,
   "metadata": {},
   "outputs": [],
   "source": [
    "ani = 1"
   ]
  },
  {
   "cell_type": "code",
   "execution_count": 73,
   "metadata": {},
   "outputs": [],
   "source": [
    "def d_dx1(uE,uW,uN,uS,dksi,deta,dksidx,detadx):\n",
    "    return dksidx*(uE-uW)/dksi + detadx*(uN-uS)/deta\n",
    "def d_dy1(vE,vW,vN,vS,dksi,deta,dksidy,detady):\n",
    "    return dksidy*(vE-vW)/dksi + detady*(vN-vS)/deta"
   ]
  },
  {
   "cell_type": "code",
   "execution_count": 74,
   "metadata": {},
   "outputs": [],
   "source": [
    "dx, dy, dt = symbols('dx, dy, dt')\n",
    "VxC, VxW, VxE, VxS, VxN = symbols('VxC, VxW, VxE, VxS, VxN')\n",
    "VyC, VyW, VyE, VyS, VyN = symbols('VyC, VyW, VyE, VyS, VyN')\n",
    "VySW, VySE, VyNW, VyNE = symbols('VySW, VySE, VyNW, VyNE')\n",
    "VxSW, VxSE, VxNW, VxNE = symbols('VxSW, VxSE, VxNW, VxNE')\n",
    "pS, pN, pE, pW = symbols('pS, pN, pE, pW')\n",
    "D11E, D11W, D12E, D12W, D13E, D13W = symbols('D11E, D11W, D12E, D12W, D13E, D13W')\n",
    "D21N, D21S, D22N, D22S, D23N, D23S = symbols('D21N, D21S, D22N, D22S, D23N, D23S')\n",
    "D11N, D11S, D12N, D12S, D13N, D13S = symbols('D11N, D11S, D12N, D12S, D13N, D13S')\n",
    "D21E, D21W, D22E, D22W, D23E, D23W = symbols('D21E, D21W, D22E, D22W, D23E, D23W')\n",
    "D31E, D31W, D32E, D32W, D33E, D33W = symbols('D31E, D31W, D32E, D32W, D33E, D33W')\n",
    "D31N, D31S, D32N, D32S, D33S, D33N = symbols('D31N, D31S, D32N, D32S, D33S, D33N')"
   ]
  },
  {
   "cell_type": "code",
   "execution_count": 87,
   "metadata": {},
   "outputs": [],
   "source": [
    "dofsV = [VxC, VxW, VxE, VxS, VxN, VxSW, VxSE, VxNW, VxNE,\n",
    "         VyC, VyW, VyE, VyS, VyN, VySW, VySE, VyNW, VyNE]\n",
    "dofsP = [pS, pN, pE, pW ]"
   ]
  },
  {
   "cell_type": "code",
   "execution_count": 76,
   "metadata": {},
   "outputs": [],
   "source": [
    "aW,bW,cW,dW = symbols('aW,bW,cW,dW')\n",
    "aE,bE,cE,dE = symbols('aE,bE,cE,dE')\n",
    "aS,bS,cS,dS = symbols('aS,bS,cS,dS')\n",
    "aN,bN,cN,dN = symbols('aN,bN,cN,dN')\n",
    "aC,bC,cC,dC = symbols('aC,bC,cC,dC')"
   ]
  },
  {
   "cell_type": "code",
   "execution_count": 77,
   "metadata": {},
   "outputs": [],
   "source": [
    "# Velocity gradients\n",
    "dVxdxE = d_dx1(VxE,VxC,VxNE,VxSE,dx,dy,aE,bE)\n",
    "dVydyE = d_dy1(VyE,VyC,VyNE,VySE,dx,dy,cE,dE)\n",
    "dVxdxW = d_dx1(VxC,VxW,VxNW,VxSW,dx,dy,aW,bW)\n",
    "dVydyW = d_dy1(VyC,VyW,VyNW,VySW,dx,dy,cW,dW)\n",
    "# ----------\n",
    "dVxdxN = d_dx1(VxNE,VxNW,VxN,VxC,dx,dy,aN,bN)\n",
    "dVydyN = d_dy1(VyNE,VyNW,VyN,VyC,dx,dy,cN,dN)\n",
    "dVxdxS = d_dx1(VxSE,VxSW,VxC,VxS,dx,dy,aS,bS)\n",
    "dVydyS = d_dy1(VySE,VySW,VyC,VyS,dx,dy,cS,dS)\n",
    "# ----------\n",
    "dVydxN = d_dx1(VyNE,VyNW,VyN,VyC,dx,dy,aN,bN)\n",
    "dVxdyN = d_dy1(VxNE,VxNW,VxN,VxC,dx,dy,cN,dN)\n",
    "dVydxS = d_dx1(VySE,VySW,VyC,VyS,dx,dy,aS,bS)\n",
    "dVxdyS = d_dy1(VxSE,VxSW,VxC,VxS,dx,dy,cS,dS)\n",
    "# ----------\n",
    "dVydxE = d_dx1(VyE,VyC,VyNE,VySE,dx,dy,aE,bE)\n",
    "dVxdyE = d_dy1(VxE,VxC,VxNE,VxSE,dx,dy,cE,dE)\n",
    "dVydxW = d_dx1(VyC,VyW,VyNW,VySW,dx,dy,aW,bW)\n",
    "dVxdyW = d_dy1(VxC,VxW,VxNW,VxSW,dx,dy,cW,dW)"
   ]
  },
  {
   "cell_type": "code",
   "execution_count": 78,
   "metadata": {},
   "outputs": [],
   "source": [
    "# Kinematics\n",
    "divE   = dVxdxE + dVydyE\n",
    "divW   = dVxdxW + dVydyW\n",
    "divN   = dVxdxN + dVydyN\n",
    "divS   = dVxdxS + dVydyS\n",
    "ExxE   = dVxdxE - Rational(1,3)*divE\n",
    "ExxW   = dVxdxW - Rational(1,3)*divW\n",
    "ExxN   = dVxdxN - Rational(1,3)*divN\n",
    "ExxS   = dVxdxS - Rational(1,3)*divS\n",
    "EyyE   = dVydyE - Rational(1,3)*divE\n",
    "EyyW   = dVydyW - Rational(1,3)*divW\n",
    "EyyN   = dVydyN - Rational(1,3)*divN\n",
    "EyyS   = dVydyS - Rational(1,3)*divS\n",
    "ExyN   = Rational(1,2)*(dVxdyN + dVydxN)\n",
    "ExyS   = Rational(1,2)*(dVxdyS + dVydxS)\n",
    "ExyE   = Rational(1,2)*(dVxdyE + dVydxE)\n",
    "ExyW   = Rational(1,2)*(dVxdyW + dVydxW)"
   ]
  },
  {
   "cell_type": "code",
   "execution_count": 79,
   "metadata": {},
   "outputs": [],
   "source": [
    "# Deviatoric stress\n",
    "TxxE   =     D11E*ExxE + ani*D12E*EyyE + ani*D13E*ExyE\n",
    "TxxW   =     D11W*ExxW + ani*D12W*EyyW + ani*D13W*ExyW\n",
    "TxxN   =     D11N*ExxN + ani*D12N*EyyN + ani*D13N*ExyN\n",
    "TxxS   =     D11S*ExxS + ani*D12S*EyyS + ani*D13S*ExyS\n",
    "TyyE   = ani*D21E*ExxE +     D22E*EyyE + ani*D23E*ExyE\n",
    "TyyW   = ani*D21W*ExxW +     D22W*EyyW + ani*D23W*ExyW\n",
    "TyyN   = ani*D21N*ExxN +     D22N*EyyN + ani*D23N*ExyN\n",
    "TyyS   = ani*D21S*ExxS +     D22S*EyyS + ani*D23S*ExyS\n",
    "TxyE   = ani*D31E*ExxE + ani*D32E*EyyE +     D33E*ExyE\n",
    "TxyW   = ani*D31W*ExxW + ani*D32W*EyyW +     D33W*ExyW\n",
    "TxyN   = ani*D31N*ExxN + ani*D32N*EyyN +     D33N*ExyN\n",
    "TxyS   = ani*D31S*ExxS + ani*D32S*EyyS +     D33S*ExyS"
   ]
  },
  {
   "cell_type": "code",
   "execution_count": 80,
   "metadata": {},
   "outputs": [],
   "source": [
    "# Linear momentum balance\n",
    "Fx = -( d_dx1(TxxE,TxxW,TxxN,TxxS,dx,dy,aC,bC) + d_dy1(TxyE,TxyW,TxyN,TxyS,dx,dy,cC,dC) + d_dx1(pE,pW,pN,pS,dx,dy,aC,bC) )\n",
    "Fy = -( d_dy1(TyyE,TyyW,TyyN,TyyS,dx,dy,cC,dC) + d_dx1(TxyE,TxyW,TxyN,TxyS,dx,dy,aC,bC) + d_dy1(pE,pW,pN,pS,dx,dy,cC,dC) )"
   ]
  },
  {
   "cell_type": "code",
   "execution_count": 103,
   "metadata": {},
   "outputs": [
    {
     "name": "stdout",
     "output_type": "stream",
     "text": [
      "v_uu[1] = (dx .^ 2 .* (bC .* (4 * D11N .* bN + 4 * D11S .* bS - 2 * D12N .* bN - 2 * D12S .* bS + 3 * D13N .* dN + 3 * D13S .* dS) + dC .* (4 * D31N .* bN + 4 * D31S .* bS - 2 * D32N .* bN - 2 * D32S .* bS + 3 * D33N .* dN + 3 * D33S .* dS)) + dy .^ 2 .* (aC .* (4 * D11E .* aE + 4 * D11W .* aW - 2 * D12E .* aE - 2 * D12W .* aW + 3 * D13E .* cE + 3 * D13W .* cW) + cC .* (4 * D31E .* aE + 4 * D31W .* aW - 2 * D32E .* aE - 2 * D32W .* aW + 3 * D33E .* cE + 3 * D33W .* cW))) ./ (6 * dx .^ 2 .* dy .^ 2)\n",
      "v_uu[2] = (-aC .* (4 * D11W .* aW - 2 * D12W .* aW + 3 * D13W .* cW) - cC .* (4 * D31W .* aW - 2 * D32W .* aW + 3 * D33W .* cW)) ./ (6 * dx .^ 2)\n",
      "v_uu[3] = (-aC .* (4 * D11E .* aE - 2 * D12E .* aE + 3 * D13E .* cE) - cC .* (4 * D31E .* aE - 2 * D32E .* aE + 3 * D33E .* cE)) ./ (6 * dx .^ 2)\n",
      "v_uu[4] = (-bC .* (4 * D11S .* bS - 2 * D12S .* bS + 3 * D13S .* dS) - dC .* (4 * D31S .* bS - 2 * D32S .* bS + 3 * D33S .* dS)) ./ (6 * dy .^ 2)\n",
      "v_uu[5] = (-bC .* (4 * D11N .* bN - 2 * D12N .* bN + 3 * D13N .* dN) - dC .* (4 * D31N .* bN - 2 * D32N .* bN + 3 * D33N .* dN)) ./ (6 * dy .^ 2)\n",
      "v_uu[6] = (-aC .* (4 * D11W .* bW - 2 * D12W .* bW + 3 * D13W .* dW) - bC .* (4 * D11S .* aS - 2 * D12S .* aS + 3 * D13S .* cS) - cC .* (4 * D31W .* bW - 2 * D32W .* bW + 3 * D33W .* dW) - dC .* (4 * D31S .* aS - 2 * D32S .* aS + 3 * D33S .* cS)) ./ (6 * dx .* dy)\n",
      "v_uu[7] = (aC .* (4 * D11E .* bE - 2 * D12E .* bE + 3 * D13E .* dE) + bC .* (4 * D11S .* aS - 2 * D12S .* aS + 3 * D13S .* cS) + cC .* (4 * D31E .* bE - 2 * D32E .* bE + 3 * D33E .* dE) + dC .* (4 * D31S .* aS - 2 * D32S .* aS + 3 * D33S .* cS)) ./ (6 * dx .* dy)\n",
      "v_uu[8] = (aC .* (4 * D11W .* bW - 2 * D12W .* bW + 3 * D13W .* dW) + bC .* (4 * D11N .* aN - 2 * D12N .* aN + 3 * D13N .* cN) + cC .* (4 * D31W .* bW - 2 * D32W .* bW + 3 * D33W .* dW) + dC .* (4 * D31N .* aN - 2 * D32N .* aN + 3 * D33N .* cN)) ./ (6 * dx .* dy)\n",
      "v_uu[9] = (-aC .* (4 * D11E .* bE - 2 * D12E .* bE + 3 * D13E .* dE) - bC .* (4 * D11N .* aN - 2 * D12N .* aN + 3 * D13N .* cN) - cC .* (4 * D31E .* bE - 2 * D32E .* bE + 3 * D33E .* dE) - dC .* (4 * D31N .* aN - 2 * D32N .* aN + 3 * D33N .* cN)) ./ (6 * dx .* dy)\n",
      "v_uu[10] = (dx .^ 2 .* (bC .* (-2 * D11N .* dN - 2 * D11S .* dS + 4 * D12N .* dN + 4 * D12S .* dS + 3 * D13N .* bN + 3 * D13S .* bS) + dC .* (-2 * D31N .* dN - 2 * D31S .* dS + 4 * D32N .* dN + 4 * D32S .* dS + 3 * D33N .* bN + 3 * D33S .* bS)) + dy .^ 2 .* (aC .* (-2 * D11E .* cE - 2 * D11W .* cW + 4 * D12E .* cE + 4 * D12W .* cW + 3 * D13E .* aE + 3 * D13W .* aW) + cC .* (-2 * D31E .* cE - 2 * D31W .* cW + 4 * D32E .* cE + 4 * D32W .* cW + 3 * D33E .* aE + 3 * D33W .* aW))) ./ (6 * dx .^ 2 .* dy .^ 2)\n",
      "v_uu[11] = (-aC .* (-2 * D11W .* cW + 4 * D12W .* cW + 3 * D13W .* aW) - cC .* (-2 * D31W .* cW + 4 * D32W .* cW + 3 * D33W .* aW)) ./ (6 * dx .^ 2)\n",
      "v_uu[12] = (-aC .* (-2 * D11E .* cE + 4 * D12E .* cE + 3 * D13E .* aE) - cC .* (-2 * D31E .* cE + 4 * D32E .* cE + 3 * D33E .* aE)) ./ (6 * dx .^ 2)\n",
      "v_uu[13] = (-bC .* (-2 * D11S .* dS + 4 * D12S .* dS + 3 * D13S .* bS) - dC .* (-2 * D31S .* dS + 4 * D32S .* dS + 3 * D33S .* bS)) ./ (6 * dy .^ 2)\n",
      "v_uu[14] = (-bC .* (-2 * D11N .* dN + 4 * D12N .* dN + 3 * D13N .* bN) - dC .* (-2 * D31N .* dN + 4 * D32N .* dN + 3 * D33N .* bN)) ./ (6 * dy .^ 2)\n",
      "v_uu[15] = (-aC .* (-2 * D11W .* dW + 4 * D12W .* dW + 3 * D13W .* bW) - bC .* (-2 * D11S .* cS + 4 * D12S .* cS + 3 * D13S .* aS) - cC .* (-2 * D31W .* dW + 4 * D32W .* dW + 3 * D33W .* bW) - dC .* (-2 * D31S .* cS + 4 * D32S .* cS + 3 * D33S .* aS)) ./ (6 * dx .* dy)\n",
      "v_uu[16] = (aC .* (-2 * D11E .* dE + 4 * D12E .* dE + 3 * D13E .* bE) + bC .* (-2 * D11S .* cS + 4 * D12S .* cS + 3 * D13S .* aS) + cC .* (-2 * D31E .* dE + 4 * D32E .* dE + 3 * D33E .* bE) + dC .* (-2 * D31S .* cS + 4 * D32S .* cS + 3 * D33S .* aS)) ./ (6 * dx .* dy)\n",
      "v_uu[17] = (aC .* (-2 * D11W .* dW + 4 * D12W .* dW + 3 * D13W .* bW) + bC .* (-2 * D11N .* cN + 4 * D12N .* cN + 3 * D13N .* aN) + cC .* (-2 * D31W .* dW + 4 * D32W .* dW + 3 * D33W .* bW) + dC .* (-2 * D31N .* cN + 4 * D32N .* cN + 3 * D33N .* aN)) ./ (6 * dx .* dy)\n",
      "v_uu[18] = (-aC .* (-2 * D11E .* dE + 4 * D12E .* dE + 3 * D13E .* bE) - bC .* (-2 * D11N .* cN + 4 * D12N .* cN + 3 * D13N .* aN) - cC .* (-2 * D31E .* dE + 4 * D32E .* dE + 3 * D33E .* bE) - dC .* (-2 * D31N .* cN + 4 * D32N .* cN + 3 * D33N .* aN)) ./ (6 * dx .* dy)\n",
      "p_uu[1] = (-aC .* (4 * D11E .* aE - 2 * D12E .* aE + 3 * D13E .* cE) - cC .* (4 * D31E .* aE - 2 * D32E .* aE + 3 * D33E .* cE)) ./ (6 * dx .^ 2)\n",
      "p_uu[2] = (-aC .* (4 * D11W .* aW - 2 * D12W .* aW + 3 * D13W .* cW) - cC .* (4 * D31W .* aW - 2 * D32W .* aW + 3 * D33W .* cW)) ./ (6 * dx .^ 2)\n",
      "p_uu[3] = (-bC .* (-2 * D11N .* dN + 4 * D12N .* dN + 3 * D13N .* bN) - dC .* (-2 * D31N .* dN + 4 * D32N .* dN + 3 * D33N .* bN)) ./ (6 * dy .^ 2)\n",
      "p_uu[4] = (-bC .* (-2 * D11S .* dS + 4 * D12S .* dS + 3 * D13S .* bS) - dC .* (-2 * D31S .* dS + 4 * D32S .* dS + 3 * D33S .* bS)) ./ (6 * dy .^ 2)\n",
      "p_uu[5] = (-aC .* (-2 * D11E .* cE + 4 * D12E .* cE + 3 * D13E .* aE) - cC .* (-2 * D31E .* cE + 4 * D32E .* cE + 3 * D33E .* aE)) ./ (6 * dx .^ 2)\n",
      "p_uu[6] = (-aC .* (-2 * D11W .* cW + 4 * D12W .* cW + 3 * D13W .* aW) - cC .* (-2 * D31W .* cW + 4 * D32W .* cW + 3 * D33W .* aW)) ./ (6 * dx .^ 2)\n",
      "p_uu[7] = (-bC .* (4 * D11N .* bN - 2 * D12N .* bN + 3 * D13N .* dN) - dC .* (4 * D31N .* bN - 2 * D32N .* bN + 3 * D33N .* dN)) ./ (6 * dy .^ 2)\n",
      "p_uu[8] = (-bC .* (4 * D11S .* bS - 2 * D12S .* bS + 3 * D13S .* dS) - dC .* (4 * D31S .* bS - 2 * D32S .* bS + 3 * D33S .* dS)) ./ (6 * dy .^ 2)\n",
      "p_uu[9] = 0\n"
     ]
    }
   ],
   "source": [
    "i=0\n",
    "for dof in dofsV:\n",
    "    i+=1\n",
    "    coeff = Fx.diff(dof)\n",
    "    # print('c' + str(dof) + ' = ' + julia_code(coeff.simplify()))\n",
    "    print('v_uu[' + str(i) + '] = ' + julia_code(coeff.simplify()))\n",
    "i=0\n",
    "for dof in dofsP:\n",
    "    i+=1\n",
    "    coeff = Fx.diff(dof)\n",
    "    print('p_uu[' + str(i) + '] = ' + julia_code(coeff.simplify()))"
   ]
  },
  {
   "cell_type": "code",
   "execution_count": 102,
   "metadata": {},
   "outputs": [
    {
     "name": "stdout",
     "output_type": "stream",
     "text": [
      "v_uu[1] = (dx .^ 2 .* (bC .* (4 * D31N .* bN + 4 * D31S .* bS - 2 * D32N .* bN - 2 * D32S .* bS + 3 * D33N .* dN + 3 * D33S .* dS) + dC .* (4 * D21N .* bN + 4 * D21S .* bS - 2 * D22N .* bN - 2 * D22S .* bS + 3 * D23N .* dN + 3 * D23S .* dS)) + dy .^ 2 .* (aC .* (4 * D31E .* aE + 4 * D31W .* aW - 2 * D32E .* aE - 2 * D32W .* aW + 3 * D33E .* cE + 3 * D33W .* cW) + cC .* (4 * D21E .* aE + 4 * D21W .* aW - 2 * D22E .* aE - 2 * D22W .* aW + 3 * D23E .* cE + 3 * D23W .* cW))) ./ (6 * dx .^ 2 .* dy .^ 2)\n",
      "v_uu[2] = (-aC .* (4 * D31W .* aW - 2 * D32W .* aW + 3 * D33W .* cW) - cC .* (4 * D21W .* aW - 2 * D22W .* aW + 3 * D23W .* cW)) ./ (6 * dx .^ 2)\n",
      "v_uu[3] = (-aC .* (4 * D31E .* aE - 2 * D32E .* aE + 3 * D33E .* cE) - cC .* (4 * D21E .* aE - 2 * D22E .* aE + 3 * D23E .* cE)) ./ (6 * dx .^ 2)\n",
      "v_uu[4] = (-bC .* (4 * D31S .* bS - 2 * D32S .* bS + 3 * D33S .* dS) - dC .* (4 * D21S .* bS - 2 * D22S .* bS + 3 * D23S .* dS)) ./ (6 * dy .^ 2)\n",
      "v_uu[5] = (-bC .* (4 * D31N .* bN - 2 * D32N .* bN + 3 * D33N .* dN) - dC .* (4 * D21N .* bN - 2 * D22N .* bN + 3 * D23N .* dN)) ./ (6 * dy .^ 2)\n",
      "v_uu[6] = (-aC .* (4 * D31W .* bW - 2 * D32W .* bW + 3 * D33W .* dW) - bC .* (4 * D31S .* aS - 2 * D32S .* aS + 3 * D33S .* cS) - cC .* (4 * D21W .* bW - 2 * D22W .* bW + 3 * D23W .* dW) - dC .* (4 * D21S .* aS - 2 * D22S .* aS + 3 * D23S .* cS)) ./ (6 * dx .* dy)\n",
      "v_uu[7] = (aC .* (4 * D31E .* bE - 2 * D32E .* bE + 3 * D33E .* dE) + bC .* (4 * D31S .* aS - 2 * D32S .* aS + 3 * D33S .* cS) + cC .* (4 * D21E .* bE - 2 * D22E .* bE + 3 * D23E .* dE) + dC .* (4 * D21S .* aS - 2 * D22S .* aS + 3 * D23S .* cS)) ./ (6 * dx .* dy)\n",
      "v_uu[8] = (aC .* (4 * D31W .* bW - 2 * D32W .* bW + 3 * D33W .* dW) + bC .* (4 * D31N .* aN - 2 * D32N .* aN + 3 * D33N .* cN) + cC .* (4 * D21W .* bW - 2 * D22W .* bW + 3 * D23W .* dW) + dC .* (4 * D21N .* aN - 2 * D22N .* aN + 3 * D23N .* cN)) ./ (6 * dx .* dy)\n",
      "v_uu[9] = (-aC .* (4 * D31E .* bE - 2 * D32E .* bE + 3 * D33E .* dE) - bC .* (4 * D31N .* aN - 2 * D32N .* aN + 3 * D33N .* cN) - cC .* (4 * D21E .* bE - 2 * D22E .* bE + 3 * D23E .* dE) - dC .* (4 * D21N .* aN - 2 * D22N .* aN + 3 * D23N .* cN)) ./ (6 * dx .* dy)\n",
      "v_uu[10] = (dx .^ 2 .* (bC .* (-2 * D31N .* dN - 2 * D31S .* dS + 4 * D32N .* dN + 4 * D32S .* dS + 3 * D33N .* bN + 3 * D33S .* bS) + dC .* (-2 * D21N .* dN - 2 * D21S .* dS + 4 * D22N .* dN + 4 * D22S .* dS + 3 * D23N .* bN + 3 * D23S .* bS)) + dy .^ 2 .* (aC .* (-2 * D31E .* cE - 2 * D31W .* cW + 4 * D32E .* cE + 4 * D32W .* cW + 3 * D33E .* aE + 3 * D33W .* aW) + cC .* (-2 * D21E .* cE - 2 * D21W .* cW + 4 * D22E .* cE + 4 * D22W .* cW + 3 * D23E .* aE + 3 * D23W .* aW))) ./ (6 * dx .^ 2 .* dy .^ 2)\n",
      "v_uu[11] = (-aC .* (-2 * D31W .* cW + 4 * D32W .* cW + 3 * D33W .* aW) - cC .* (-2 * D21W .* cW + 4 * D22W .* cW + 3 * D23W .* aW)) ./ (6 * dx .^ 2)\n",
      "v_uu[12] = (-aC .* (-2 * D31E .* cE + 4 * D32E .* cE + 3 * D33E .* aE) - cC .* (-2 * D21E .* cE + 4 * D22E .* cE + 3 * D23E .* aE)) ./ (6 * dx .^ 2)\n",
      "v_uu[13] = (-bC .* (-2 * D31S .* dS + 4 * D32S .* dS + 3 * D33S .* bS) - dC .* (-2 * D21S .* dS + 4 * D22S .* dS + 3 * D23S .* bS)) ./ (6 * dy .^ 2)\n",
      "v_uu[14] = (-bC .* (-2 * D31N .* dN + 4 * D32N .* dN + 3 * D33N .* bN) - dC .* (-2 * D21N .* dN + 4 * D22N .* dN + 3 * D23N .* bN)) ./ (6 * dy .^ 2)\n",
      "v_uu[15] = (-aC .* (-2 * D31W .* dW + 4 * D32W .* dW + 3 * D33W .* bW) - bC .* (-2 * D31S .* cS + 4 * D32S .* cS + 3 * D33S .* aS) - cC .* (-2 * D21W .* dW + 4 * D22W .* dW + 3 * D23W .* bW) - dC .* (-2 * D21S .* cS + 4 * D22S .* cS + 3 * D23S .* aS)) ./ (6 * dx .* dy)\n",
      "v_uu[16] = (aC .* (-2 * D31E .* dE + 4 * D32E .* dE + 3 * D33E .* bE) + bC .* (-2 * D31S .* cS + 4 * D32S .* cS + 3 * D33S .* aS) + cC .* (-2 * D21E .* dE + 4 * D22E .* dE + 3 * D23E .* bE) + dC .* (-2 * D21S .* cS + 4 * D22S .* cS + 3 * D23S .* aS)) ./ (6 * dx .* dy)\n",
      "v_uu[17] = (aC .* (-2 * D31W .* dW + 4 * D32W .* dW + 3 * D33W .* bW) + bC .* (-2 * D31N .* cN + 4 * D32N .* cN + 3 * D33N .* aN) + cC .* (-2 * D21W .* dW + 4 * D22W .* dW + 3 * D23W .* bW) + dC .* (-2 * D21N .* cN + 4 * D22N .* cN + 3 * D23N .* aN)) ./ (6 * dx .* dy)\n",
      "v_uu[18] = (-aC .* (-2 * D31E .* dE + 4 * D32E .* dE + 3 * D33E .* bE) - bC .* (-2 * D31N .* cN + 4 * D32N .* cN + 3 * D33N .* aN) - cC .* (-2 * D21E .* dE + 4 * D22E .* dE + 3 * D23E .* bE) - dC .* (-2 * D21N .* cN + 4 * D22N .* cN + 3 * D23N .* aN)) ./ (6 * dx .* dy)\n",
      "v_up[1] = (-aC .* (4 * D31E .* aE - 2 * D32E .* aE + 3 * D33E .* cE) - cC .* (4 * D21E .* aE - 2 * D22E .* aE + 3 * D23E .* cE)) ./ (6 * dx .^ 2)\n",
      "v_up[2] = (-aC .* (4 * D31W .* aW - 2 * D32W .* aW + 3 * D33W .* cW) - cC .* (4 * D21W .* aW - 2 * D22W .* aW + 3 * D23W .* cW)) ./ (6 * dx .^ 2)\n",
      "v_up[3] = (-bC .* (-2 * D31N .* dN + 4 * D32N .* dN + 3 * D33N .* bN) - dC .* (-2 * D21N .* dN + 4 * D22N .* dN + 3 * D23N .* bN)) ./ (6 * dy .^ 2)\n",
      "v_up[4] = (-bC .* (-2 * D31S .* dS + 4 * D32S .* dS + 3 * D33S .* bS) - dC .* (-2 * D21S .* dS + 4 * D22S .* dS + 3 * D23S .* bS)) ./ (6 * dy .^ 2)\n",
      "v_up[5] = (-aC .* (-2 * D31E .* cE + 4 * D32E .* cE + 3 * D33E .* aE) - cC .* (-2 * D21E .* cE + 4 * D22E .* cE + 3 * D23E .* aE)) ./ (6 * dx .^ 2)\n",
      "v_up[6] = (-aC .* (-2 * D31W .* cW + 4 * D32W .* cW + 3 * D33W .* aW) - cC .* (-2 * D21W .* cW + 4 * D22W .* cW + 3 * D23W .* aW)) ./ (6 * dx .^ 2)\n",
      "v_up[7] = (-bC .* (4 * D31N .* bN - 2 * D32N .* bN + 3 * D33N .* dN) - dC .* (4 * D21N .* bN - 2 * D22N .* bN + 3 * D23N .* dN)) ./ (6 * dy .^ 2)\n",
      "v_up[8] = (-bC .* (4 * D31S .* bS - 2 * D32S .* bS + 3 * D33S .* dS) - dC .* (4 * D21S .* bS - 2 * D22S .* bS + 3 * D23S .* dS)) ./ (6 * dy .^ 2)\n",
      "v_up[9] = 0\n"
     ]
    }
   ],
   "source": [
    "i=0\n",
    "for dof in dofsV:\n",
    "    i+=1\n",
    "    coeff = Fy.diff(dof)\n",
    "    # print('c' + str(dof) + ' = ' + julia_code(coeff.simplify()))\n",
    "    print('v_uu[' + str(i) + '] = ' + julia_code(coeff.simplify()))\n",
    "i=0\n",
    "for dof in dofsP:\n",
    "    i+=1\n",
    "    coeff = Fy.diff(dof)\n",
    "    print('v_up[' + str(i) + '] = ' + julia_code(coeff.simplify()))"
   ]
  },
  {
   "cell_type": "code",
   "execution_count": null,
   "metadata": {},
   "outputs": [],
   "source": []
  },
  {
   "cell_type": "markdown",
   "metadata": {},
   "source": [
    "<font size= 6> Discretisation of the continuity equation </font>"
   ]
  },
  {
   "cell_type": "code",
   "execution_count": 83,
   "metadata": {},
   "outputs": [],
   "source": [
    "VxE,VxW,VyN,VyS = symbols('VxE,VxW,VyN,VyS')\n",
    "VyE,VyW,VxN,VxS = symbols('VyE,VyW,VxN,VxS')\n",
    "PC, PC0, K = symbols('PC, PC_0, K')\n",
    "aC,bC,cC,dC = symbols('aC,bC,cC,dC') "
   ]
  },
  {
   "cell_type": "code",
   "execution_count": 95,
   "metadata": {},
   "outputs": [],
   "source": [
    "dofsD = [VxE,VxW,VyN,VyS,VyE,VyW,VxN,VxS,PC]"
   ]
  },
  {
   "cell_type": "code",
   "execution_count": 98,
   "metadata": {},
   "outputs": [],
   "source": [
    "divC = d_dx1(VxE,VxW,VxN,VxS,dx,dy,aC,bC) + d_dy1(VyE,VyW,VyN,VyS,dx,dy,cC,cC)\n",
    "Fp   = divC + (PC-PC0)/(K*dt)"
   ]
  },
  {
   "cell_type": "code",
   "execution_count": 101,
   "metadata": {},
   "outputs": [
    {
     "name": "stdout",
     "output_type": "stream",
     "text": [
      "v_pu[1] = aC ./ dx\n",
      "v_pu[2] = -aC ./ dx\n",
      "v_pu[3] = cC ./ dy\n",
      "v_pu[4] = -cC ./ dy\n",
      "v_pu[5] = cC ./ dx\n",
      "v_pu[6] = -cC ./ dx\n",
      "v_pu[7] = bC ./ dy\n",
      "v_pu[8] = -bC ./ dy\n",
      "v_pu[9] = 1 ./ (K .* dt)\n"
     ]
    }
   ],
   "source": [
    "i=0\n",
    "for dof in dofsP:\n",
    "    i+=1\n",
    "    coeff = Fp.diff(dof)\n",
    "    # print('' + str(dof) + ' = ' + julia_code(coeff.simplify()))\n",
    "    print('v_pu[' + str(i) + '] = ' + julia_code(coeff.simplify()))"
   ]
  },
  {
   "cell_type": "code",
   "execution_count": null,
   "metadata": {},
   "outputs": [],
   "source": []
  },
  {
   "cell_type": "code",
   "execution_count": null,
   "metadata": {},
   "outputs": [],
   "source": []
  }
 ],
 "metadata": {
  "kernelspec": {
   "display_name": "Python 3.7.4 ('base')",
   "language": "python",
   "name": "python3"
  },
  "language_info": {
   "codemirror_mode": {
    "name": "ipython",
    "version": 3
   },
   "file_extension": ".py",
   "mimetype": "text/x-python",
   "name": "python",
   "nbconvert_exporter": "python",
   "pygments_lexer": "ipython3",
   "version": "3.7.4"
  },
  "orig_nbformat": 4,
  "vscode": {
   "interpreter": {
    "hash": "c8364b0fb7479dc94b0c24ab2a5292d01c2912f237aa8319c6d135d5547fe183"
   }
  }
 },
 "nbformat": 4,
 "nbformat_minor": 2
}
