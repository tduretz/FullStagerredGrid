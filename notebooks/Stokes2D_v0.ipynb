{
 "cells": [
  {
   "cell_type": "code",
   "execution_count": 28,
   "metadata": {},
   "outputs": [],
   "source": [
    "from sympy import *"
   ]
  },
  {
   "cell_type": "markdown",
   "metadata": {},
   "source": [
    "<font size= 6> Discretisation of the linear momentum balance </font>"
   ]
  },
  {
   "cell_type": "code",
   "execution_count": 29,
   "metadata": {},
   "outputs": [],
   "source": [
    "ani = 1"
   ]
  },
  {
   "cell_type": "code",
   "execution_count": 30,
   "metadata": {},
   "outputs": [],
   "source": [
    "def d_dx1(uE,uW,uN,uS,dksi,deta,dksidx,detadx):\n",
    "    return dksidx*(uE-uW)/dksi + detadx*(uN-uS)/deta\n",
    "def d_dy1(vE,vW,vN,vS,dksi,deta,dksidy,detady):\n",
    "    return dksidy*(vE-vW)/dksi + detady*(vN-vS)/deta"
   ]
  },
  {
   "cell_type": "code",
   "execution_count": 31,
   "metadata": {},
   "outputs": [],
   "source": [
    "dx, dy, dt = symbols('dx, dy, dt')\n",
    "VxC, VxW, VxE, VxS, VxN = symbols('VxC, VxW, VxE, VxS, VxN')\n",
    "VyC, VyW, VyE, VyS, VyN = symbols('VyC, VyW, VyE, VyS, VyN')\n",
    "VySW, VySE, VyNW, VyNE = symbols('VySW, VySE, VyNW, VyNE')\n",
    "VxSW, VxSE, VxNW, VxNE = symbols('VxSW, VxSE, VxNW, VxNE')\n",
    "pS, pN, pE, pW = symbols('pS, pN, pE, pW')\n",
    "D11E, D11W, D12E, D12W, D13E, D13W = symbols('D11E, D11W, D12E, D12W, D13E, D13W')\n",
    "D21N, D21S, D22N, D22S, D23N, D23S = symbols('D21N, D21S, D22N, D22S, D23N, D23S')\n",
    "D31E, D31W, D32E, D32W, D33E, D33W = symbols('D31E, D31W, D32E, D32W, D33E, D33W')\n",
    "D31N, D31S, D32N, D32S, D33S, D33N = symbols('D31N, D31S, D32N, D32S, D33S, D33N')"
   ]
  },
  {
   "cell_type": "code",
   "execution_count": 32,
   "metadata": {},
   "outputs": [],
   "source": [
    "dofsV = [VxC, VxW, VxE, VxS, VxN, VxSW, VxSE, VxNW, VxNE,\n",
    "         VyC, VyW, VyE, VyS, VyN, VySW, VySE, VyNW, VyNE]"
   ]
  },
  {
   "cell_type": "code",
   "execution_count": 33,
   "metadata": {},
   "outputs": [],
   "source": [
    "aW,bW,cW,dW = symbols('aW,bW,cW,dW')\n",
    "aE,bE,cE,dE = symbols('aE,bE,cE,dE')\n",
    "aS,bS,cS,dS = symbols('aS,bS,cS,dS')\n",
    "aN,bN,cN,dN = symbols('aN,bN,cN,dN')"
   ]
  },
  {
   "cell_type": "code",
   "execution_count": 34,
   "metadata": {},
   "outputs": [],
   "source": [
    "# Velocity gradients\n",
    "dVxdxE = d_dx1(VxE,VxC,VxNE,VxSE,dx,dy,aE,bE)\n",
    "dVydyE = d_dy1(VyE,VyC,VyNE,VySE,dx,dy,cE,dE)\n",
    "dVxdxW = d_dx1(VxC,VxW,VxNW,VxSW,dx,dy,aW,bW)\n",
    "dVydyW = d_dy1(VyC,VyW,VyNW,VySW,dx,dy,cW,dW)\n",
    "# ----------\n",
    "dVxdxN = d_dx1(VxNE,VxNW,VxN,VxC,dx,dy,aN,bN)\n",
    "dVydyN = d_dy1(VyNE,VyNW,VyN,VyC,dx,dy,cN,dN)\n",
    "dVxdxS = d_dx1(VxSE,VxSW,VxC,VxS,dx,dy,aS,bS)\n",
    "dVydyS = d_dy1(VySE,VySW,VyC,VyS,dx,dy,cS,dS)\n",
    "# ----------\n",
    "dVydxN = d_dx1(VyNE,VyNW,VyN,VyC,dx,dy,aN,bN)\n",
    "dVxdyN = d_dy1(VxNE,VxNW,VxN,VxC,dx,dy,cN,dN)\n",
    "dVydxS = d_dx1(VySE,VySW,VyC,VyS,dx,dy,aS,bS)\n",
    "dVxdyS = d_dy1(VxSE,VxSW,VxC,VxS,dx,dy,cS,dS)\n",
    "# ----------\n",
    "dVydxE = d_dx1(VyE,VyC,VyNE,VySE,dx,dy,aE,bE)\n",
    "dVxdyE = d_dy1(VxE,VxC,VxNE,VxSE,dx,dy,cE,dE)\n",
    "dVydxW = d_dx1(VyC,VyW,VyNW,VySW,dx,dy,aW,bW)\n",
    "dVxdyW = d_dy1(VxC,VxW,VxNW,VxSW,dx,dy,cW,dW)"
   ]
  },
  {
   "cell_type": "code",
   "execution_count": 35,
   "metadata": {},
   "outputs": [],
   "source": [
    "# Kinematics\n",
    "divE   = dVxdxE + dVydyE\n",
    "divW   = dVxdxW + dVydyW\n",
    "divN   = dVxdxN + dVydyN\n",
    "divS   = dVxdxS + dVydyS\n",
    "ExxE   = dVxdxE - Rational(1,3)*divE\n",
    "ExxW   = dVxdxW - Rational(1,3)*divW\n",
    "ExxN   = dVxdxN - Rational(1,3)*divN\n",
    "ExxS   = dVxdxS - Rational(1,3)*divS\n",
    "EyyE   = dVydyE - Rational(1,3)*divE\n",
    "EyyW   = dVydyW - Rational(1,3)*divW\n",
    "EyyN   = dVydyN - Rational(1,3)*divN\n",
    "EyyS   = dVydyS - Rational(1,3)*divS\n",
    "ExyN   = Rational(1,2)*(dVxdyN + dVydxN)\n",
    "ExyS   = Rational(1,2)*(dVxdyS + dVydxS)\n",
    "ExyE   = Rational(1,2)*(dVxdyE + dVydxE)\n",
    "ExyW   = Rational(1,2)*(dVxdyW + dVydxW)"
   ]
  },
  {
   "cell_type": "code",
   "execution_count": 36,
   "metadata": {},
   "outputs": [],
   "source": [
    "# Deviatoric stress\n",
    "TxxE   =     D11E*ExxE + ani*D12E*EyyE + ani*D13E*ExyE\n",
    "TxxW   =     D11W*ExxW + ani*D12W*EyyW + ani*D13W*ExyW\n",
    "TyyN   = ani*D21N*ExxN +     D22N*EyyN + ani*D23N*ExyN\n",
    "TyyS   = ani*D21S*ExxS +     D22S*EyyS + ani*D23S*ExyS\n",
    "TxyE   = ani*D31E*ExxE + ani*D32E*EyyE +     D33E*ExyE\n",
    "TxyW   = ani*D31W*ExxW + ani*D32W*EyyW +     D33W*ExyW\n",
    "TxyN   = ani*D31N*ExxN + ani*D32N*EyyN +     D33N*ExyN\n",
    "TxyS   = ani*D31S*ExxS + ani*D32S*EyyS +     D33S*ExyS"
   ]
  },
  {
   "cell_type": "code",
   "execution_count": 37,
   "metadata": {},
   "outputs": [],
   "source": [
    "# Linear momentum balance\n",
    "Fx   = (TxxE-TxxW)/dx + (TxyN-TxyS)/dy - (pE-pW)/dx\n",
    "Fy   = (TyyN-TyyS)/dy + (TxyE-TxyW)/dx - (pN-pS)/dy"
   ]
  },
  {
   "cell_type": "code",
   "execution_count": 38,
   "metadata": {},
   "outputs": [
    {
     "name": "stdout",
     "output_type": "stream",
     "text": [
      "cVxC = (dx.^2.*(-4*D31N.*bN - 4*D31S.*bS + 2*D32N.*bN + 2*D32S.*bS - 3*D33N.*dN - 3*D33S.*dS) + dy.^2.*(-4*D11E.*aE - 4*D11W.*aW + 2*D12E.*aE + 2*D12W.*aW - 3*D13E.*cE - 3*D13W.*cW))./(6*dx.^2.*dy.^2)\n",
      "cVxW = (4*D11W.*aW - 2*D12W.*aW + 3*D13W.*cW)./(6*dx.^2)\n",
      "cVxE = (4*D11E.*aE - 2*D12E.*aE + 3*D13E.*cE)./(6*dx.^2)\n",
      "cVxS = (4*D31S.*bS - 2*D32S.*bS + 3*D33S.*dS)./(6*dy.^2)\n",
      "cVxN = (4*D31N.*bN - 2*D32N.*bN + 3*D33N.*dN)./(6*dy.^2)\n",
      "cVxSW = (4*D11W.*bW - 2*D12W.*bW + 3*D13W.*dW + 4*D31S.*aS - 2*D32S.*aS + 3*D33S.*cS)./(6*dx.*dy)\n",
      "cVxSE = (-4*D11E.*bE + 2*D12E.*bE - 3*D13E.*dE - 4*D31S.*aS + 2*D32S.*aS - 3*D33S.*cS)./(6*dx.*dy)\n",
      "cVxNW = (-4*D11W.*bW + 2*D12W.*bW - 3*D13W.*dW - 4*D31N.*aN + 2*D32N.*aN - 3*D33N.*cN)./(6*dx.*dy)\n",
      "cVxNE = (4*D11E.*bE - 2*D12E.*bE + 3*D13E.*dE + 4*D31N.*aN - 2*D32N.*aN + 3*D33N.*cN)./(6*dx.*dy)\n",
      "cVyC = (dx.^2.*(2*D31N.*dN + 2*D31S.*dS - 4*D32N.*dN - 4*D32S.*dS - 3*D33N.*bN - 3*D33S.*bS) + dy.^2.*(2*D11E.*cE + 2*D11W.*cW - 4*D12E.*cE - 4*D12W.*cW - 3*D13E.*aE - 3*D13W.*aW))./(6*dx.^2.*dy.^2)\n",
      "cVyW = (-2*D11W.*cW + 4*D12W.*cW + 3*D13W.*aW)./(6*dx.^2)\n",
      "cVyE = (-2*D11E.*cE + 4*D12E.*cE + 3*D13E.*aE)./(6*dx.^2)\n",
      "cVyS = (-2*D31S.*dS + 4*D32S.*dS + 3*D33S.*bS)./(6*dy.^2)\n",
      "cVyN = (-2*D31N.*dN + 4*D32N.*dN + 3*D33N.*bN)./(6*dy.^2)\n",
      "cVySW = (-2*D11W.*dW + 4*D12W.*dW + 3*D13W.*bW - 2*D31S.*cS + 4*D32S.*cS + 3*D33S.*aS)./(6*dx.*dy)\n",
      "cVySE = (2*D11E.*dE - 4*D12E.*dE - 3*D13E.*bE + 2*D31S.*cS - 4*D32S.*cS - 3*D33S.*aS)./(6*dx.*dy)\n",
      "cVyNW = (2*D11W.*dW - 4*D12W.*dW - 3*D13W.*bW + 2*D31N.*cN - 4*D32N.*cN - 3*D33N.*aN)./(6*dx.*dy)\n",
      "cVyNE = (-2*D11E.*dE + 4*D12E.*dE + 3*D13E.*bE - 2*D31N.*cN + 4*D32N.*cN + 3*D33N.*aN)./(6*dx.*dy)\n"
     ]
    }
   ],
   "source": [
    "for dof in dofsV:\n",
    "    coeff = Fx.diff(dof)\n",
    "    print('c' + str(dof) + ' = ' + julia_code(coeff.simplify()))\n"
   ]
  },
  {
   "cell_type": "code",
   "execution_count": 39,
   "metadata": {},
   "outputs": [
    {
     "name": "stdout",
     "output_type": "stream",
     "text": [
      "cVxC = (dx.^2.*(-4*D21N.*bN - 4*D21S.*bS + 2*D22N.*bN + 2*D22S.*bS - 3*D23N.*dN - 3*D23S.*dS) + dy.^2.*(-4*D31E.*aE - 4*D31W.*aW + 2*D32E.*aE + 2*D32W.*aW - 3*D33E.*cE - 3*D33W.*cW))./(6*dx.^2.*dy.^2)\n",
      "cVxW = (4*D31W.*aW - 2*D32W.*aW + 3*D33W.*cW)./(6*dx.^2)\n",
      "cVxE = (4*D31E.*aE - 2*D32E.*aE + 3*D33E.*cE)./(6*dx.^2)\n",
      "cVxS = (4*D21S.*bS - 2*D22S.*bS + 3*D23S.*dS)./(6*dy.^2)\n",
      "cVxN = (4*D21N.*bN - 2*D22N.*bN + 3*D23N.*dN)./(6*dy.^2)\n",
      "cVxSW = (4*D21S.*aS - 2*D22S.*aS + 3*D23S.*cS + 4*D31W.*bW - 2*D32W.*bW + 3*D33W.*dW)./(6*dx.*dy)\n",
      "cVxSE = (-4*D21S.*aS + 2*D22S.*aS - 3*D23S.*cS - 4*D31E.*bE + 2*D32E.*bE - 3*D33E.*dE)./(6*dx.*dy)\n",
      "cVxNW = (-4*D21N.*aN + 2*D22N.*aN - 3*D23N.*cN - 4*D31W.*bW + 2*D32W.*bW - 3*D33W.*dW)./(6*dx.*dy)\n",
      "cVxNE = (4*D21N.*aN - 2*D22N.*aN + 3*D23N.*cN + 4*D31E.*bE - 2*D32E.*bE + 3*D33E.*dE)./(6*dx.*dy)\n",
      "cVyC = (dx.^2.*(2*D21N.*dN + 2*D21S.*dS - 4*D22N.*dN - 4*D22S.*dS - 3*D23N.*bN - 3*D23S.*bS) + dy.^2.*(2*D31E.*cE + 2*D31W.*cW - 4*D32E.*cE - 4*D32W.*cW - 3*D33E.*aE - 3*D33W.*aW))./(6*dx.^2.*dy.^2)\n",
      "cVyW = (-2*D31W.*cW + 4*D32W.*cW + 3*D33W.*aW)./(6*dx.^2)\n",
      "cVyE = (-2*D31E.*cE + 4*D32E.*cE + 3*D33E.*aE)./(6*dx.^2)\n",
      "cVyS = (-2*D21S.*dS + 4*D22S.*dS + 3*D23S.*bS)./(6*dy.^2)\n",
      "cVyN = (-2*D21N.*dN + 4*D22N.*dN + 3*D23N.*bN)./(6*dy.^2)\n",
      "cVySW = (-2*D21S.*cS + 4*D22S.*cS + 3*D23S.*aS - 2*D31W.*dW + 4*D32W.*dW + 3*D33W.*bW)./(6*dx.*dy)\n",
      "cVySE = (2*D21S.*cS - 4*D22S.*cS - 3*D23S.*aS + 2*D31E.*dE - 4*D32E.*dE - 3*D33E.*bE)./(6*dx.*dy)\n",
      "cVyNW = (2*D21N.*cN - 4*D22N.*cN - 3*D23N.*aN + 2*D31W.*dW - 4*D32W.*dW - 3*D33W.*bW)./(6*dx.*dy)\n",
      "cVyNE = (-2*D21N.*cN + 4*D22N.*cN + 3*D23N.*aN - 2*D31E.*dE + 4*D32E.*dE + 3*D33E.*bE)./(6*dx.*dy)\n"
     ]
    }
   ],
   "source": [
    "for dof in dofsV:\n",
    "    coeff = Fy.diff(dof)\n",
    "    print('c' + str(dof) + ' = ' + julia_code(coeff.simplify()))"
   ]
  },
  {
   "cell_type": "markdown",
   "metadata": {},
   "source": [
    "<font size= 6> Discretisation of the continuity equation </font>"
   ]
  },
  {
   "cell_type": "code",
   "execution_count": 45,
   "metadata": {},
   "outputs": [],
   "source": [
    "VxE,VxW,VyN,VyS = symbols('VxE,VxW,VyN,VyS')\n",
    "VyE,VyW,VxN,VxS = symbols('VyE,VyW,VxN,VxS')\n",
    "PC, PC0, K = symbols('PC, PC_0, K')\n",
    "aC,bC,cC,dC = symbols('aC,bC,cC,dC') "
   ]
  },
  {
   "cell_type": "code",
   "execution_count": 46,
   "metadata": {},
   "outputs": [],
   "source": [
    "dofsP = [VxE,VxW,VyN,VyS,VyE,VyW,VxN,VxS,PC]"
   ]
  },
  {
   "cell_type": "code",
   "execution_count": 49,
   "metadata": {},
   "outputs": [],
   "source": [
    "divC = d_dx1(VxE,VxW,VxN,VxS,dx,dy,aC,bC) + d_dy1(VyE,VyW,VyN,VyS,dx,dy,cC,cC)\n",
    "Fp   = -divC - (PC-PC0)/(K*dt)"
   ]
  },
  {
   "cell_type": "code",
   "execution_count": 50,
   "metadata": {},
   "outputs": [
    {
     "name": "stdout",
     "output_type": "stream",
     "text": [
      "cVxE = -aC./dx\n",
      "cVxW = aC./dx\n",
      "cVyN = -cC./dy\n",
      "cVyS = cC./dy\n",
      "cVyE = -cC./dx\n",
      "cVyW = cC./dx\n",
      "cVxN = -bC./dy\n",
      "cVxS = bC./dy\n",
      "cPC = -1./(K.*dt)\n"
     ]
    }
   ],
   "source": [
    "for dof in dofsP:\n",
    "    coeff = Fp.diff(dof)\n",
    "    print('c' + str(dof) + ' = ' + julia_code(coeff.simplify()))"
   ]
  },
  {
   "cell_type": "code",
   "execution_count": null,
   "metadata": {},
   "outputs": [],
   "source": []
  }
 ],
 "metadata": {
  "kernelspec": {
   "display_name": "Python 3.7.4 ('base')",
   "language": "python",
   "name": "python3"
  },
  "language_info": {
   "codemirror_mode": {
    "name": "ipython",
    "version": 3
   },
   "file_extension": ".py",
   "mimetype": "text/x-python",
   "name": "python",
   "nbconvert_exporter": "python",
   "pygments_lexer": "ipython3",
   "version": "3.7.4"
  },
  "orig_nbformat": 4,
  "vscode": {
   "interpreter": {
    "hash": "c8364b0fb7479dc94b0c24ab2a5292d01c2912f237aa8319c6d135d5547fe183"
   }
  }
 },
 "nbformat": 4,
 "nbformat_minor": 2
}
