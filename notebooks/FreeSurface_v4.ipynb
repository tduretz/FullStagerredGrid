{
 "cells": [
  {
   "cell_type": "code",
   "execution_count": 1,
   "metadata": {},
   "outputs": [],
   "source": [
    "from sympy import *"
   ]
  },
  {
   "cell_type": "markdown",
   "metadata": {},
   "source": [
    "<font size=6> 3D case with $z$ being vertical </font>"
   ]
  },
  {
   "cell_type": "code",
   "execution_count": 2,
   "metadata": {},
   "outputs": [],
   "source": [
    "C  = symbols('C')\n",
    "hx, hy = symbols('h_x, h_y')\n",
    "A  = C*hx\n",
    "B  = C*hy\n",
    "\n",
    "def d_dx(a,A):\n",
    "    return a.diff(x) + A*a.diff(z)\n",
    "def d_dy(a,B):\n",
    "    return a.diff(y) + B*a.diff(z)\n",
    "def d_dz(a,C):\n",
    "    return C*a.diff(z)"
   ]
  },
  {
   "cell_type": "code",
   "execution_count": 3,
   "metadata": {},
   "outputs": [
    {
     "data": {
      "text/latex": [
       "$\\displaystyle \\left[\\begin{matrix}2 \\eta \\left(0.666666666666667 C h_{x} \\frac{\\partial}{\\partial z} u{\\left(x,y,z \\right)} - 0.333333333333333 C h_{y} \\frac{\\partial}{\\partial z} v{\\left(x,y,z \\right)} - 0.333333333333333 C \\frac{\\partial}{\\partial z} w{\\left(x,y,z \\right)} + 0.666666666666667 \\frac{\\partial}{\\partial x} u{\\left(x,y,z \\right)} - 0.333333333333333 \\frac{\\partial}{\\partial y} v{\\left(x,y,z \\right)}\\right) - P{\\left(x,y,z \\right)} & 2 \\eta \\left(0.5 C h_{x} \\frac{\\partial}{\\partial z} v{\\left(x,y,z \\right)} + 0.5 C h_{y} \\frac{\\partial}{\\partial z} u{\\left(x,y,z \\right)} + 0.5 \\frac{\\partial}{\\partial y} u{\\left(x,y,z \\right)} + 0.5 \\frac{\\partial}{\\partial x} v{\\left(x,y,z \\right)}\\right) & 2 \\eta \\left(0.5 C h_{x} \\frac{\\partial}{\\partial z} w{\\left(x,y,z \\right)} + 0.5 C \\frac{\\partial}{\\partial z} u{\\left(x,y,z \\right)} + 0.5 \\frac{\\partial}{\\partial x} w{\\left(x,y,z \\right)}\\right)\\\\2 \\eta \\left(0.5 C h_{x} \\frac{\\partial}{\\partial z} v{\\left(x,y,z \\right)} + 0.5 C h_{y} \\frac{\\partial}{\\partial z} u{\\left(x,y,z \\right)} + 0.5 \\frac{\\partial}{\\partial y} u{\\left(x,y,z \\right)} + 0.5 \\frac{\\partial}{\\partial x} v{\\left(x,y,z \\right)}\\right) & 2 \\eta \\left(- 0.333333333333333 C h_{x} \\frac{\\partial}{\\partial z} u{\\left(x,y,z \\right)} + 0.666666666666667 C h_{y} \\frac{\\partial}{\\partial z} v{\\left(x,y,z \\right)} - 0.333333333333333 C \\frac{\\partial}{\\partial z} w{\\left(x,y,z \\right)} - 0.333333333333333 \\frac{\\partial}{\\partial x} u{\\left(x,y,z \\right)} + 0.666666666666667 \\frac{\\partial}{\\partial y} v{\\left(x,y,z \\right)}\\right) - P{\\left(x,y,z \\right)} & 2 \\eta \\left(0.5 C h_{y} \\frac{\\partial}{\\partial z} w{\\left(x,y,z \\right)} + 0.5 C \\frac{\\partial}{\\partial z} v{\\left(x,y,z \\right)} + 0.5 \\frac{\\partial}{\\partial y} w{\\left(x,y,z \\right)}\\right)\\\\2 \\eta \\left(0.5 C h_{x} \\frac{\\partial}{\\partial z} w{\\left(x,y,z \\right)} + 0.5 C \\frac{\\partial}{\\partial z} u{\\left(x,y,z \\right)} + 0.5 \\frac{\\partial}{\\partial x} w{\\left(x,y,z \\right)}\\right) & 2 \\eta \\left(0.5 C h_{y} \\frac{\\partial}{\\partial z} w{\\left(x,y,z \\right)} + 0.5 C \\frac{\\partial}{\\partial z} v{\\left(x,y,z \\right)} + 0.5 \\frac{\\partial}{\\partial y} w{\\left(x,y,z \\right)}\\right) & 2 \\eta \\left(- 0.333333333333333 C h_{x} \\frac{\\partial}{\\partial z} u{\\left(x,y,z \\right)} - 0.333333333333333 C h_{y} \\frac{\\partial}{\\partial z} v{\\left(x,y,z \\right)} + 0.666666666666667 C \\frac{\\partial}{\\partial z} w{\\left(x,y,z \\right)} - 0.333333333333333 \\frac{\\partial}{\\partial x} u{\\left(x,y,z \\right)} - 0.333333333333333 \\frac{\\partial}{\\partial y} v{\\left(x,y,z \\right)}\\right) - P{\\left(x,y,z \\right)}\\end{matrix}\\right]$"
      ],
      "text/plain": [
       "Matrix([\n",
       "[2*eta*(0.666666666666667*C*h_x*Derivative(u(x, y, z), z) - 0.333333333333333*C*h_y*Derivative(v(x, y, z), z) - 0.333333333333333*C*Derivative(w(x, y, z), z) + 0.666666666666667*Derivative(u(x, y, z), x) - 0.333333333333333*Derivative(v(x, y, z), y)) - P(x, y, z),                                                                                                                       2*eta*(0.5*C*h_x*Derivative(v(x, y, z), z) + 0.5*C*h_y*Derivative(u(x, y, z), z) + 0.5*Derivative(u(x, y, z), y) + 0.5*Derivative(v(x, y, z), x)),                                                                                                                                                           2*eta*(0.5*C*h_x*Derivative(w(x, y, z), z) + 0.5*C*Derivative(u(x, y, z), z) + 0.5*Derivative(w(x, y, z), x))],\n",
       "[                                                                                                                     2*eta*(0.5*C*h_x*Derivative(v(x, y, z), z) + 0.5*C*h_y*Derivative(u(x, y, z), z) + 0.5*Derivative(u(x, y, z), y) + 0.5*Derivative(v(x, y, z), x)), 2*eta*(-0.333333333333333*C*h_x*Derivative(u(x, y, z), z) + 0.666666666666667*C*h_y*Derivative(v(x, y, z), z) - 0.333333333333333*C*Derivative(w(x, y, z), z) - 0.333333333333333*Derivative(u(x, y, z), x) + 0.666666666666667*Derivative(v(x, y, z), y)) - P(x, y, z),                                                                                                                                                           2*eta*(0.5*C*h_y*Derivative(w(x, y, z), z) + 0.5*C*Derivative(v(x, y, z), z) + 0.5*Derivative(w(x, y, z), y))],\n",
       "[                                                                                                                                                         2*eta*(0.5*C*h_x*Derivative(w(x, y, z), z) + 0.5*C*Derivative(u(x, y, z), z) + 0.5*Derivative(w(x, y, z), x)),                                                                                                                                                           2*eta*(0.5*C*h_y*Derivative(w(x, y, z), z) + 0.5*C*Derivative(v(x, y, z), z) + 0.5*Derivative(w(x, y, z), y)), 2*eta*(-0.333333333333333*C*h_x*Derivative(u(x, y, z), z) - 0.333333333333333*C*h_y*Derivative(v(x, y, z), z) + 0.666666666666667*C*Derivative(w(x, y, z), z) - 0.333333333333333*Derivative(u(x, y, z), x) - 0.333333333333333*Derivative(v(x, y, z), y)) - P(x, y, z)]])"
      ]
     },
     "metadata": {},
     "output_type": "display_data"
    }
   ],
   "source": [
    "x, y, z = symbols('x,y,z')\n",
    "sxx, syy, szz, sxy, sxz, syz = symbols('sigma_xx, sigma_yy, sigma_zz, sigma_xy, sigma_xz, sigma_yz')\n",
    "u_x, v_x, w_x, u_y, v_y, w_y, u_z, v_z, w_z = symbols('u_x, v_x, w_x, u_y, v_y, w_y, u_z, v_z, w_z')\n",
    "eta = symbols('eta')\n",
    "u = Function('u')(x,y,z)\n",
    "v = Function('v')(x,y,z)\n",
    "w = Function('w')(x,y,z)\n",
    "P = Function('P')(x,y,z)\n",
    "div  = d_dx(u,A) + d_dy(v,B) + d_dz(w,C)\n",
    "Exx  = d_dx(u,A) - 1/3*div\n",
    "Eyy  = d_dy(v,B) - 1/3*div\n",
    "Ezz  = d_dz(w,C) - 1/3*div\n",
    "Exz  = 1/2*(d_dz(u,C) + d_dx(w,A))\n",
    "Exy  = 1/2*(d_dy(u,B) + d_dx(v,A))\n",
    "Eyz  = 1/2*(d_dz(v,C) + d_dy(w,B))\n",
    "E    = Matrix([[Exx],[Eyy],[Ezz],[Exy],[Exz],[Eyz]])\n",
    "D    = Matrix([[2*eta,0,0,0,0,0],[0,2*eta,0,0,0,0],[0,0,2*eta,0,0,0],[0,0,0,2*eta,0,0],[0,0,0,0,2*eta,0],[0,0,0,0,0,2*eta]])\n",
    "Svec = D*E\n",
    "S    = Matrix([[-P+Svec[0],    Svec[3],    Svec[4]],\n",
    "               [   Svec[3], -P+Svec[1],    Svec[5]],\n",
    "               [   Svec[4],    Svec[5], -P+Svec[2]]])\n",
    "display(S)"
   ]
  },
  {
   "cell_type": "code",
   "execution_count": 4,
   "metadata": {},
   "outputs": [
    {
     "data": {
      "text/latex": [
       "$\\displaystyle \\left[\\begin{matrix}2 \\eta h_{y} \\left(0.5 C dudz h_{y} + 0.5 C dvdz h_{x} + 0.5 dudy + 0.5 dvdx\\right) + 2 \\eta \\left(0.5 C dudz + 0.5 C dwdz h_{x} + 0.5 dwdx\\right) + h_{x} \\left(2 \\eta \\left(0.666666666666667 C dudz h_{x} - 0.333333333333333 C dvdz h_{y} - 0.333333333333333 C dwdz + 0.666666666666667 dudx - 0.333333333333333 dvdy\\right) - P{\\left(x,y,z \\right)}\\right)\\\\2 \\eta h_{x} \\left(0.5 C dudz h_{y} + 0.5 C dvdz h_{x} + 0.5 dudy + 0.5 dvdx\\right) + 2 \\eta \\left(0.5 C dvdz + 0.5 C dwdz h_{y} + 0.5 dwdy\\right) + h_{y} \\left(2 \\eta \\left(- 0.333333333333333 C dudz h_{x} + 0.666666666666667 C dvdz h_{y} - 0.333333333333333 C dwdz - 0.333333333333333 dudx + 0.666666666666667 dvdy\\right) - P{\\left(x,y,z \\right)}\\right)\\\\2 \\eta h_{x} \\left(0.5 C dudz + 0.5 C dwdz h_{x} + 0.5 dwdx\\right) + 2 \\eta h_{y} \\left(0.5 C dvdz + 0.5 C dwdz h_{y} + 0.5 dwdy\\right) + 2 \\eta \\left(- 0.333333333333333 C dudz h_{x} - 0.333333333333333 C dvdz h_{y} + 0.666666666666667 C dwdz - 0.333333333333333 dudx - 0.333333333333333 dvdy\\right) - P{\\left(x,y,z \\right)}\\end{matrix}\\right]$"
      ],
      "text/plain": [
       "Matrix([\n",
       "[ 2*eta*h_y*(0.5*C*dudz*h_y + 0.5*C*dvdz*h_x + 0.5*dudy + 0.5*dvdx) + 2*eta*(0.5*C*dudz + 0.5*C*dwdz*h_x + 0.5*dwdx) + h_x*(2*eta*(0.666666666666667*C*dudz*h_x - 0.333333333333333*C*dvdz*h_y - 0.333333333333333*C*dwdz + 0.666666666666667*dudx - 0.333333333333333*dvdy) - P(x, y, z))],\n",
       "[2*eta*h_x*(0.5*C*dudz*h_y + 0.5*C*dvdz*h_x + 0.5*dudy + 0.5*dvdx) + 2*eta*(0.5*C*dvdz + 0.5*C*dwdz*h_y + 0.5*dwdy) + h_y*(2*eta*(-0.333333333333333*C*dudz*h_x + 0.666666666666667*C*dvdz*h_y - 0.333333333333333*C*dwdz - 0.333333333333333*dudx + 0.666666666666667*dvdy) - P(x, y, z))],\n",
       "[                 2*eta*h_x*(0.5*C*dudz + 0.5*C*dwdz*h_x + 0.5*dwdx) + 2*eta*h_y*(0.5*C*dvdz + 0.5*C*dwdz*h_y + 0.5*dwdy) + 2*eta*(-0.333333333333333*C*dudz*h_x - 0.333333333333333*C*dvdz*h_y + 0.666666666666667*C*dwdz - 0.333333333333333*dudx - 0.333333333333333*dvdy) - P(x, y, z)]])"
      ]
     },
     "metadata": {},
     "output_type": "display_data"
    }
   ],
   "source": [
    "# The flat case\n",
    "dudz, dvdz, dwdz = symbols('dudz, dvdz, dwdz')\n",
    "dudx, dudy, dvdy, dvdx, dvdz, dwdx, dwdy = symbols('dudx, dudy, dvdy, dvdx, dvdz, dwdx, dwdy')\n",
    "n = Matrix([hx,hy,1])\n",
    "f = (S)*n\n",
    "f = f.subs(u.diff(z), dudz).subs(v.diff(z), dvdz).subs(w.diff(z), dwdz)\n",
    "f = f.subs(u.diff(y), dudy).subs(v.diff(y), dvdy).subs(w.diff(y), dwdy)\n",
    "f = f.subs(u.diff(x), dudx).subs(v.diff(x), dvdx).subs(w.diff(x), dwdx)\n",
    "s = solve(f, (dudz, dvdz, dwdz))\n",
    "display(f)"
   ]
  },
  {
   "cell_type": "code",
   "execution_count": 5,
   "metadata": {},
   "outputs": [
    {
     "data": {
      "text/latex": [
       "$\\displaystyle \\frac{C \\eta h_{x}^{4} uS + 2.0 C \\eta h_{x}^{2} h_{y}^{2} uS + 2.0 C \\eta h_{x}^{2} uS + C \\eta h_{y}^{4} uS + 2.0 C \\eta h_{y}^{2} uS + C \\eta uS - dudx dz \\eta h_{x}^{3} - 1.5 dudx dz \\eta h_{x} h_{y}^{2} - 1.5 dudx dz \\eta h_{x} - 0.5 dudy dz \\eta h_{x}^{2} h_{y} - dudy dz \\eta h_{y}^{3} - dudy dz \\eta h_{y} - 0.5 dvdx dz \\eta h_{x}^{2} h_{y} - dvdx dz \\eta h_{y}^{3} - dvdx dz \\eta h_{y} + 0.5 dvdy dz \\eta h_{x}^{3} + dvdy dz \\eta h_{x} h_{y}^{2} + 0.5 dvdy dz \\eta h_{x} - 0.5 dwdx dz \\eta h_{x}^{2} - dwdx dz \\eta h_{y}^{2} - dwdx dz \\eta + 0.5 dwdy dz \\eta h_{x} h_{y} + 0.75 dz h_{x}^{3} P{\\left(x,y,z \\right)} + 0.75 dz h_{x} h_{y}^{2} P{\\left(x,y,z \\right)} + 0.75 dz h_{x} P{\\left(x,y,z \\right)}}{C \\eta \\left(h_{x}^{4} + 2.0 h_{x}^{2} h_{y}^{2} + 2.0 h_{x}^{2} + h_{y}^{4} + 2.0 h_{y}^{2} + 1.0\\right)}$"
      ],
      "text/plain": [
       "(C*eta*h_x**4*uS + 2.0*C*eta*h_x**2*h_y**2*uS + 2.0*C*eta*h_x**2*uS + C*eta*h_y**4*uS + 2.0*C*eta*h_y**2*uS + C*eta*uS - dudx*dz*eta*h_x**3 - 1.5*dudx*dz*eta*h_x*h_y**2 - 1.5*dudx*dz*eta*h_x - 0.5*dudy*dz*eta*h_x**2*h_y - dudy*dz*eta*h_y**3 - dudy*dz*eta*h_y - 0.5*dvdx*dz*eta*h_x**2*h_y - dvdx*dz*eta*h_y**3 - dvdx*dz*eta*h_y + 0.5*dvdy*dz*eta*h_x**3 + dvdy*dz*eta*h_x*h_y**2 + 0.5*dvdy*dz*eta*h_x - 0.5*dwdx*dz*eta*h_x**2 - dwdx*dz*eta*h_y**2 - dwdx*dz*eta + 0.5*dwdy*dz*eta*h_x*h_y + 0.75*dz*h_x**3*P(x, y, z) + 0.75*dz*h_x*h_y**2*P(x, y, z) + 0.75*dz*h_x*P(x, y, z))/(C*eta*(h_x**4 + 2.0*h_x**2*h_y**2 + 2.0*h_x**2 + h_y**4 + 2.0*h_y**2 + 1.0))"
      ]
     },
     "metadata": {},
     "output_type": "display_data"
    },
    {
     "data": {
      "text/latex": [
       "$\\displaystyle \\frac{C \\eta h_{x}^{4} vS + 2.0 C \\eta h_{x}^{2} h_{y}^{2} vS + 2.0 C \\eta h_{x}^{2} vS + C \\eta h_{y}^{4} vS + 2.0 C \\eta h_{y}^{2} vS + C \\eta vS + dudx dz \\eta h_{x}^{2} h_{y} + 0.5 dudx dz \\eta h_{y}^{3} + 0.5 dudx dz \\eta h_{y} - dudy dz \\eta h_{x}^{3} - 0.5 dudy dz \\eta h_{x} h_{y}^{2} - dudy dz \\eta h_{x} - dvdx dz \\eta h_{x}^{3} - 0.5 dvdx dz \\eta h_{x} h_{y}^{2} - dvdx dz \\eta h_{x} - 1.5 dvdy dz \\eta h_{x}^{2} h_{y} - dvdy dz \\eta h_{y}^{3} - 1.5 dvdy dz \\eta h_{y} + 0.5 dwdx dz \\eta h_{x} h_{y} - dwdy dz \\eta h_{x}^{2} - 0.5 dwdy dz \\eta h_{y}^{2} - dwdy dz \\eta + 0.75 dz h_{x}^{2} h_{y} P{\\left(x,y,z \\right)} + 0.75 dz h_{y}^{3} P{\\left(x,y,z \\right)} + 0.75 dz h_{y} P{\\left(x,y,z \\right)}}{C \\eta \\left(h_{x}^{4} + 2.0 h_{x}^{2} h_{y}^{2} + 2.0 h_{x}^{2} + h_{y}^{4} + 2.0 h_{y}^{2} + 1.0\\right)}$"
      ],
      "text/plain": [
       "(C*eta*h_x**4*vS + 2.0*C*eta*h_x**2*h_y**2*vS + 2.0*C*eta*h_x**2*vS + C*eta*h_y**4*vS + 2.0*C*eta*h_y**2*vS + C*eta*vS + dudx*dz*eta*h_x**2*h_y + 0.5*dudx*dz*eta*h_y**3 + 0.5*dudx*dz*eta*h_y - dudy*dz*eta*h_x**3 - 0.5*dudy*dz*eta*h_x*h_y**2 - dudy*dz*eta*h_x - dvdx*dz*eta*h_x**3 - 0.5*dvdx*dz*eta*h_x*h_y**2 - dvdx*dz*eta*h_x - 1.5*dvdy*dz*eta*h_x**2*h_y - dvdy*dz*eta*h_y**3 - 1.5*dvdy*dz*eta*h_y + 0.5*dwdx*dz*eta*h_x*h_y - dwdy*dz*eta*h_x**2 - 0.5*dwdy*dz*eta*h_y**2 - dwdy*dz*eta + 0.75*dz*h_x**2*h_y*P(x, y, z) + 0.75*dz*h_y**3*P(x, y, z) + 0.75*dz*h_y*P(x, y, z))/(C*eta*(h_x**4 + 2.0*h_x**2*h_y**2 + 2.0*h_x**2 + h_y**4 + 2.0*h_y**2 + 1.0))"
      ]
     },
     "metadata": {},
     "output_type": "display_data"
    },
    {
     "data": {
      "text/latex": [
       "$\\displaystyle \\frac{C \\eta h_{x}^{4} wS + 2.0 C \\eta h_{x}^{2} h_{y}^{2} wS + 2.0 C \\eta h_{x}^{2} wS + C \\eta h_{y}^{4} wS + 2.0 C \\eta h_{y}^{2} wS + C \\eta wS + dudx dz \\eta h_{x}^{2} + 0.5 dudx dz \\eta h_{y}^{2} + 0.5 dudx dz \\eta + 0.5 dudy dz \\eta h_{x} h_{y} + 0.5 dvdx dz \\eta h_{x} h_{y} + 0.5 dvdy dz \\eta h_{x}^{2} + dvdy dz \\eta h_{y}^{2} + 0.5 dvdy dz \\eta - dwdx dz \\eta h_{x}^{3} - dwdx dz \\eta h_{x} h_{y}^{2} - 0.5 dwdx dz \\eta h_{x} - dwdy dz \\eta h_{x}^{2} h_{y} - dwdy dz \\eta h_{y}^{3} - 0.5 dwdy dz \\eta h_{y} + 0.75 dz h_{x}^{2} P{\\left(x,y,z \\right)} + 0.75 dz h_{y}^{2} P{\\left(x,y,z \\right)} + 0.75 dz P{\\left(x,y,z \\right)}}{C \\eta \\left(h_{x}^{4} + 2.0 h_{x}^{2} h_{y}^{2} + 2.0 h_{x}^{2} + h_{y}^{4} + 2.0 h_{y}^{2} + 1.0\\right)}$"
      ],
      "text/plain": [
       "(C*eta*h_x**4*wS + 2.0*C*eta*h_x**2*h_y**2*wS + 2.0*C*eta*h_x**2*wS + C*eta*h_y**4*wS + 2.0*C*eta*h_y**2*wS + C*eta*wS + dudx*dz*eta*h_x**2 + 0.5*dudx*dz*eta*h_y**2 + 0.5*dudx*dz*eta + 0.5*dudy*dz*eta*h_x*h_y + 0.5*dvdx*dz*eta*h_x*h_y + 0.5*dvdy*dz*eta*h_x**2 + dvdy*dz*eta*h_y**2 + 0.5*dvdy*dz*eta - dwdx*dz*eta*h_x**3 - dwdx*dz*eta*h_x*h_y**2 - 0.5*dwdx*dz*eta*h_x - dwdy*dz*eta*h_x**2*h_y - dwdy*dz*eta*h_y**3 - 0.5*dwdy*dz*eta*h_y + 0.75*dz*h_x**2*P(x, y, z) + 0.75*dz*h_y**2*P(x, y, z) + 0.75*dz*P(x, y, z))/(C*eta*(h_x**4 + 2.0*h_x**2*h_y**2 + 2.0*h_x**2 + h_y**4 + 2.0*h_y**2 + 1.0))"
      ]
     },
     "metadata": {},
     "output_type": "display_data"
    }
   ],
   "source": [
    "uN,uS,dz = symbols('uN,uS,dz')\n",
    "vN,vS = symbols('vN,vS')\n",
    "wN,wS = symbols('wN,wS')\n",
    "# dudz\n",
    "fx = (uN-uS)/dz - s[dudz]\n",
    "display(solve(fx,uN)[0])\n",
    "# dvdz\n",
    "fy = (vN-vS)/dz - s[dvdz].simplify()\n",
    "display(solve(fy,vN)[0])\n",
    "# dwdz\n",
    "fz = (wN-wS)/dz - s[dwdz].simplify()\n",
    "display(solve(fz,wN)[0])"
   ]
  },
  {
   "cell_type": "markdown",
   "metadata": {},
   "source": [
    "<font size=6> 2D case with $y$ being vertical </font>"
   ]
  },
  {
   "cell_type": "code",
   "execution_count": 6,
   "metadata": {},
   "outputs": [],
   "source": [
    "# A = 0\n",
    "# C = 1\n",
    "# hx = 0\n",
    "# for simplified 2D\n",
    "def d_dx1(a,A):\n",
    "    return a.diff(x) + A*a.diff(y)\n",
    "def d_dy1(a,C):\n",
    "    return C*a.diff(y)"
   ]
  },
  {
   "cell_type": "code",
   "execution_count": 7,
   "metadata": {},
   "outputs": [
    {
     "data": {
      "text/latex": [
       "$\\displaystyle \\left[\\begin{matrix}2 \\eta \\left(0.5 C dudy + 0.5 C dvdy h_{x} + 0.5 dvdx\\right) + h_{x} \\left(2 \\eta \\left(0.666666666666667 C dudy h_{x} - 0.333333333333333 C dvdy + 0.666666666666667 dudx\\right) - P{\\left(x,y,z \\right)}\\right)\\\\2 \\eta h_{x} \\left(0.5 C dudy + 0.5 C dvdy h_{x} + 0.5 dvdx\\right) + 2 \\eta \\left(- 0.333333333333333 C dudy h_{x} + 0.666666666666667 C dvdy - 0.333333333333333 dudx\\right) - P{\\left(x,y,z \\right)}\\end{matrix}\\right]$"
      ],
      "text/plain": [
       "Matrix([\n",
       "[2*eta*(0.5*C*dudy + 0.5*C*dvdy*h_x + 0.5*dvdx) + h_x*(2*eta*(0.666666666666667*C*dudy*h_x - 0.333333333333333*C*dvdy + 0.666666666666667*dudx) - P(x, y, z))],\n",
       "[ 2*eta*h_x*(0.5*C*dudy + 0.5*C*dvdy*h_x + 0.5*dvdx) + 2*eta*(-0.333333333333333*C*dudy*h_x + 0.666666666666667*C*dvdy - 0.333333333333333*dudx) - P(x, y, z)]])"
      ]
     },
     "metadata": {},
     "output_type": "display_data"
    }
   ],
   "source": [
    "#  2D\n",
    "div  = d_dx1(u,A) + d_dy1(v,C)\n",
    "Exx  = d_dx1(u,A) - 1/3*div\n",
    "Eyy  = d_dy1(v,C) - 1/3*div\n",
    "Exy  = 1/2*(d_dy1(u,C) + d_dx1(v,A))\n",
    "E    = Matrix([[Exx],[Eyy],[Exy]])\n",
    "D    = Matrix([[2*eta,0,0],[0,2*eta,0],[0,0,2*eta]])\n",
    "Svec = D*E\n",
    "S    = Matrix([[-P+Svec[0],    Svec[2]],\n",
    "               [   Svec[2], -P+Svec[1]]])\n",
    "n = Matrix([hx,1])\n",
    "f = (S)*n\n",
    "f = f.subs(u.diff(z), dudz).subs(v.diff(z), dvdz).subs(w.diff(z), dwdz)\n",
    "f = f.subs(u.diff(y), dudy).subs(v.diff(y), dvdy).subs(w.diff(y), dwdy)\n",
    "f = f.subs(u.diff(x), dudx).subs(v.diff(x), dvdx).subs(w.diff(x), dwdx)\n",
    "s = solve(f, (dudy, dvdy))\n",
    "display(f)"
   ]
  },
  {
   "cell_type": "code",
   "execution_count": 9,
   "metadata": {},
   "outputs": [
    {
     "data": {
      "text/latex": [
       "$\\displaystyle \\frac{2.0 C M_{1} \\eta uS - 2.0 M_{2} dvdx dz \\eta - 2.0 M_{3} dudx dz \\eta h_{x} + 0.75 M_{4} P dz h_{x}}{C M1x2 \\eta}$"
      ],
      "text/plain": [
       "(2.0*C*M1*eta*uS - 2.0*M2*dvdx*dz*eta - 2.0*M3*dudx*dz*eta*h_x + 0.75*M4*P*dz*h_x)/(C*M1x2*eta)"
      ]
     },
     "metadata": {},
     "output_type": "display_data"
    },
    {
     "name": "stdout",
     "output_type": "stream",
     "text": [
      "(2.0*C.*M1.*eta.*uS - 2.0*M2.*dvdx.*dz.*eta - 2.0*M3.*dudx.*dz.*eta.*h_x + 0.75*M4.*P.*dz.*h_x)./(C.*M1x2.*eta)\n",
      "(2.0*C.*M1.*eta.*vS + 0.75*M4.*P.*dz + 2.0*M5.*dudx.*dz.*eta - 2.0*M5.*dvdx.*dz.*eta.*h_x)./(C.*M1x2.*eta)\n"
     ]
    }
   ],
   "source": [
    "uN,uS,dz = symbols('uN,uS,dz')\n",
    "vN,vS = symbols('vN,vS')\n",
    "wN,wS = symbols('wN,wS')\n",
    "\n",
    "M1   = 0.5*hx**4 + 1.0*hx**2 + 0.5\n",
    "M1x2 = 1.0*hx**4 + 2.0*hx**2 + 1.0\n",
    "M2   = 0.25*hx**2 + 0.5\n",
    "M3   = 0.5*hx**2 + 0.75\n",
    "M4   = hx**2 + 1\n",
    "M5   = 0.5*hx**2 + 0.25\n",
    "# dudz\n",
    "fx = (uN-uS)/dz - s[dudy].simplify()\n",
    "uN = solve(fx,uN)[0].factor((uS,dudx,dvdx,P)).simplify().subs(M1,'M1').subs(M1x2,'M1x2').subs(M2,'M2').subs(M3,'M3').subs(M4,'M4').subs(P,'P')\n",
    "display(uN)\n",
    "print(julia_code(uN))\n",
    "# dvdz\n",
    "fy = (vN-vS)/dz - s[dvdy].simplify()\n",
    "vN = solve(fy,vN)[0].factor((vS,dudx,dvdx,P)).simplify().subs(M1,'M1').subs(M1x2,'M1x2').subs(M2,'M2').subs(M3,'M3').subs(M4,'M4').subs(M5,'M5').subs(P,'P')\n",
    "print(julia_code(vN))"
   ]
  },
  {
   "cell_type": "code",
   "execution_count": null,
   "metadata": {},
   "outputs": [],
   "source": []
  }
 ],
 "metadata": {
  "kernelspec": {
   "display_name": "Python 3.9.5 ('base')",
   "language": "python",
   "name": "python3"
  },
  "language_info": {
   "codemirror_mode": {
    "name": "ipython",
    "version": 3
   },
   "file_extension": ".py",
   "mimetype": "text/x-python",
   "name": "python",
   "nbconvert_exporter": "python",
   "pygments_lexer": "ipython3",
   "version": "3.9.5"
  },
  "orig_nbformat": 4,
  "vscode": {
   "interpreter": {
    "hash": "309baa410e37084482bcba9b39a5b9e635e78b91cd7553c4b48a2d89780d0f88"
   }
  }
 },
 "nbformat": 4,
 "nbformat_minor": 2
}
