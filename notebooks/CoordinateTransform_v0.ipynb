{
 "cells": [
  {
   "cell_type": "code",
   "execution_count": 17,
   "metadata": {},
   "outputs": [],
   "source": [
    "%reset\n",
    "from sympy import *"
   ]
  },
  {
   "cell_type": "markdown",
   "metadata": {},
   "source": [
    "<font size=6> One dimensional transform </font>"
   ]
  },
  {
   "cell_type": "code",
   "execution_count": 18,
   "metadata": {},
   "outputs": [],
   "source": [
    "xi,kappa,eta = symbols('xi,kappa,eta')\n",
    "eta_max, m = symbols('eta_max, m')"
   ]
  },
  {
   "cell_type": "code",
   "execution_count": 19,
   "metadata": {},
   "outputs": [],
   "source": [
    "# generic chain rules f(x,y,z)\n",
    "x,y,z = symbols('x,y,z')\n",
    "xi   = Function('xi')(x,y,z)\n",
    "kappa = Function('kappa')(x,y,z)\n",
    "eta   = Function('eta')(x,y,z)\n",
    "f     = Function('f')(xi,kappa,eta)\n",
    "df_dx = f.diff(xi)*xi.diff(x) + f.diff(kappa)*kappa.diff(x) + f.diff(eta)*eta.diff(x)\n",
    "df_dy = f.diff(xi)*xi.diff(y) + f.diff(kappa)*kappa.diff(y) + f.diff(eta)*eta.diff(y)\n",
    "df_dz = f.diff(xi)*xi.diff(z) + f.diff(kappa)*kappa.diff(z) + f.diff(eta)*eta.diff(z)"
   ]
  },
  {
   "cell_type": "code",
   "execution_count": 20,
   "metadata": {},
   "outputs": [
    {
     "data": {
      "text/latex": [
       "$\\displaystyle \\frac{d}{d x} \\eta \\frac{d}{d \\eta} f + \\frac{d}{d \\kappa} f \\frac{d}{d x} \\kappa + \\frac{d}{d \\xi} f \\frac{d}{d x} \\xi$"
      ],
      "text/plain": [
       "Derivative(eta, x)*Derivative(f, eta) + Derivative(f, kappa)*Derivative(kappa, x) + Derivative(f, xi)*Derivative(xi, x)"
      ]
     },
     "metadata": {},
     "output_type": "display_data"
    },
    {
     "data": {
      "text/latex": [
       "$\\displaystyle \\frac{d}{d y} \\eta \\frac{d}{d \\eta} f + \\frac{d}{d \\kappa} f \\frac{d}{d y} \\kappa + \\frac{d}{d \\xi} f \\frac{d}{d y} \\xi$"
      ],
      "text/plain": [
       "Derivative(eta, y)*Derivative(f, eta) + Derivative(f, kappa)*Derivative(kappa, y) + Derivative(f, xi)*Derivative(xi, y)"
      ]
     },
     "metadata": {},
     "output_type": "display_data"
    },
    {
     "data": {
      "text/latex": [
       "$\\displaystyle \\frac{d}{d z} \\eta \\frac{d}{d \\eta} f + \\frac{d}{d \\kappa} f \\frac{d}{d z} \\kappa + \\frac{d}{d \\xi} f \\frac{d}{d z} \\xi$"
      ],
      "text/plain": [
       "Derivative(eta, z)*Derivative(f, eta) + Derivative(f, kappa)*Derivative(kappa, z) + Derivative(f, xi)*Derivative(xi, z)"
      ]
     },
     "metadata": {},
     "output_type": "display_data"
    }
   ],
   "source": [
    "display(df_dx.subs(f,'f').subs(xi,'xi').subs(kappa,'kappa').subs(eta,'eta'))\n",
    "display(df_dy.subs(f,'f').subs(xi,'xi').subs(kappa,'kappa').subs(eta,'eta'))\n",
    "display(df_dz.subs(f,'f').subs(xi,'xi').subs(kappa,'kappa').subs(eta,'eta'))"
   ]
  },
  {
   "cell_type": "code",
   "execution_count": 41,
   "metadata": {},
   "outputs": [
    {
     "data": {
      "text/latex": [
       "$\\displaystyle \\frac{\\left(- \\eta + \\eta_{max}\\right) \\frac{d}{d \\xi} z_{0}}{m + z_{0}}$"
      ],
      "text/plain": [
       "(-eta + eta_max)*Derivative(z0, xi)/(m + z0)"
      ]
     },
     "metadata": {},
     "output_type": "display_data"
    },
    {
     "data": {
      "text/latex": [
       "$\\displaystyle \\frac{\\left(- \\eta + \\eta_{max}\\right) \\frac{d}{d \\kappa} z_{0}}{m + z_{0}}$"
      ],
      "text/plain": [
       "(-eta + eta_max)*Derivative(z0, kappa)/(m + z0)"
      ]
     },
     "metadata": {},
     "output_type": "display_data"
    },
    {
     "data": {
      "text/latex": [
       "$\\displaystyle \\frac{\\eta_{max}}{m + z_{0}}$"
      ],
      "text/plain": [
       "eta_max/(m + z0)"
      ]
     },
     "metadata": {},
     "output_type": "display_data"
    }
   ],
   "source": [
    "z, m, eta_m = symbols('z, m, eta_max')\n",
    "xi,kappa,eta = symbols('xi,kappa,eta')\n",
    "z0      = Function('z0')(xi,kappa,eta)\n",
    "xi1     = x\n",
    "kappa1  = y\n",
    "eta1    = eta_m*(z0+z)/(z0+m)\n",
    "# detadx\n",
    "dxidx   = xi1.diff(x)\n",
    "detadxi = eta1.diff(xi).subs(eta1,'eta').factor(z0.diff(xi))\n",
    "detadx  = detadxi*dxidx\n",
    "display( detadx.subs(z0,'z0') )\n",
    "# detady\n",
    "dkapdy   = kappa1.diff(y)\n",
    "detadkap = eta1.diff(kappa).subs(eta1,'eta').factor(z0.diff(kappa))\n",
    "detady   = detadkap*dkapdy\n",
    "display( detady.subs(z0,'z0') )\n",
    "# detadz\n",
    "detadz   = eta1.diff(z)\n",
    "display( detadz.subs(z0,'z0') )"
   ]
  },
  {
   "cell_type": "code",
   "execution_count": 73,
   "metadata": {},
   "outputs": [
    {
     "data": {
      "text/latex": [
       "$\\displaystyle \\frac{\\log{\\left(\\frac{- \\sqrt{\\left(\\eta_{0}^{2} m^{2} + 2 \\eta_{0}^{2} m z_{01} + \\eta_{0}^{2} z_{01}^{2} - 2 \\eta_{0} \\eta_{max} m z - 2 \\eta_{0} \\eta_{max} m z_{01} - 2 \\eta_{0} \\eta_{max} z z_{01} - 2 \\eta_{0} \\eta_{max} z_{01}^{2} + \\eta_{max}^{2} z^{2} + 2 \\eta_{max}^{2} z z_{01} + \\eta_{max}^{2} z_{01}^{2} + m^{2} sca_{z}^{2} + 2 m sca_{z}^{2} z_{01} + sca_{z}^{2} z_{01}^{2}\\right) e^{2 \\eta_{0} \\sigma_{z}}} + \\left(- \\eta_{0} m - \\eta_{0} z_{01} + \\eta_{max} z + \\eta_{max} z_{01}\\right) e^{\\eta_{0} \\sigma_{z}}}{sca_{z} \\left(m + z_{01}\\right)} \\right)}}{\\sigma_{z}}$"
      ],
      "text/plain": [
       "log((-sqrt((eta_0**2*m**2 + 2*eta_0**2*m*z01 + eta_0**2*z01**2 - 2*eta_0*eta_max*m*z - 2*eta_0*eta_max*m*z01 - 2*eta_0*eta_max*z*z01 - 2*eta_0*eta_max*z01**2 + eta_max**2*z**2 + 2*eta_max**2*z*z01 + eta_max**2*z01**2 + m**2*sca_z**2 + 2*m*sca_z**2*z01 + sca_z**2*z01**2)*exp(2*eta_0*sigma_z)) + (-eta_0*m - eta_0*z01 + eta_max*z + eta_max*z01)*exp(eta_0*sigma_z))/(sca_z*(m + z01)))/sigma_z"
      ]
     },
     "metadata": {},
     "output_type": "display_data"
    }
   ],
   "source": [
    "# sinh refined mesh\n",
    "sigma_z = symbols('sigma_z')\n",
    "z01, eta0, scaz = symbols('z01, eta_0, sca_z')\n",
    "eta_sin = sinh( sigma_z*(eta-eta0) ) * scaz  + eta0\n",
    "fexp = z - ((z01+m)*eta_sin/eta_m - z01)\n",
    "eta1 = solve(fexp, eta)[0]\n",
    "display(eta1)\n"
   ]
  },
  {
   "cell_type": "code",
   "execution_count": 74,
   "metadata": {},
   "outputs": [
    {
     "data": {
      "text/latex": [
       "$\\displaystyle \\frac{\\left(\\eta_{0}^{2} \\eta_{max} m^{3} e^{\\eta_{0} \\sigma_{z}} - \\eta_{0}^{2} \\eta_{max} m^{2} z e^{\\eta_{0} \\sigma_{z}} + 2 \\eta_{0}^{2} \\eta_{max} m^{2} z_{0} e^{\\eta_{0} \\sigma_{z}} - 2 \\eta_{0}^{2} \\eta_{max} m z z_{0} e^{\\eta_{0} \\sigma_{z}} + \\eta_{0}^{2} \\eta_{max} m z_{0}^{2} e^{\\eta_{0} \\sigma_{z}} - \\eta_{0}^{2} \\eta_{max} z z_{0}^{2} e^{\\eta_{0} \\sigma_{z}} - 2 \\eta_{0} \\eta_{max}^{2} m^{2} z e^{\\eta_{0} \\sigma_{z}} - 2 \\eta_{0} \\eta_{max}^{2} m^{2} z_{0} e^{\\eta_{0} \\sigma_{z}} + 2 \\eta_{0} \\eta_{max}^{2} m z^{2} e^{\\eta_{0} \\sigma_{z}} - 2 \\eta_{0} \\eta_{max}^{2} m z_{0}^{2} e^{\\eta_{0} \\sigma_{z}} + 2 \\eta_{0} \\eta_{max}^{2} z^{2} z_{0} e^{\\eta_{0} \\sigma_{z}} + 2 \\eta_{0} \\eta_{max}^{2} z z_{0}^{2} e^{\\eta_{0} \\sigma_{z}} + \\eta_{0} \\eta_{max} m^{2} \\sqrt{\\eta_{0}^{2} m^{2} e^{2 \\eta_{0} \\sigma_{z}} + 2 \\eta_{0}^{2} m z_{0} e^{2 \\eta_{0} \\sigma_{z}} + \\eta_{0}^{2} z_{0}^{2} e^{2 \\eta_{0} \\sigma_{z}} - 2 \\eta_{0} \\eta_{max} m z e^{2 \\eta_{0} \\sigma_{z}} - 2 \\eta_{0} \\eta_{max} m z_{0} e^{2 \\eta_{0} \\sigma_{z}} - 2 \\eta_{0} \\eta_{max} z z_{0} e^{2 \\eta_{0} \\sigma_{z}} - 2 \\eta_{0} \\eta_{max} z_{0}^{2} e^{2 \\eta_{0} \\sigma_{z}} + \\eta_{max}^{2} z^{2} e^{2 \\eta_{0} \\sigma_{z}} + 2 \\eta_{max}^{2} z z_{0} e^{2 \\eta_{0} \\sigma_{z}} + \\eta_{max}^{2} z_{0}^{2} e^{2 \\eta_{0} \\sigma_{z}} + m^{2} sca_{z}^{2} e^{2 \\eta_{0} \\sigma_{z}} + 2 m sca_{z}^{2} z_{0} e^{2 \\eta_{0} \\sigma_{z}} + sca_{z}^{2} z_{0}^{2} e^{2 \\eta_{0} \\sigma_{z}}} - \\eta_{0} \\eta_{max} m z \\sqrt{\\eta_{0}^{2} m^{2} e^{2 \\eta_{0} \\sigma_{z}} + 2 \\eta_{0}^{2} m z_{0} e^{2 \\eta_{0} \\sigma_{z}} + \\eta_{0}^{2} z_{0}^{2} e^{2 \\eta_{0} \\sigma_{z}} - 2 \\eta_{0} \\eta_{max} m z e^{2 \\eta_{0} \\sigma_{z}} - 2 \\eta_{0} \\eta_{max} m z_{0} e^{2 \\eta_{0} \\sigma_{z}} - 2 \\eta_{0} \\eta_{max} z z_{0} e^{2 \\eta_{0} \\sigma_{z}} - 2 \\eta_{0} \\eta_{max} z_{0}^{2} e^{2 \\eta_{0} \\sigma_{z}} + \\eta_{max}^{2} z^{2} e^{2 \\eta_{0} \\sigma_{z}} + 2 \\eta_{max}^{2} z z_{0} e^{2 \\eta_{0} \\sigma_{z}} + \\eta_{max}^{2} z_{0}^{2} e^{2 \\eta_{0} \\sigma_{z}} + m^{2} sca_{z}^{2} e^{2 \\eta_{0} \\sigma_{z}} + 2 m sca_{z}^{2} z_{0} e^{2 \\eta_{0} \\sigma_{z}} + sca_{z}^{2} z_{0}^{2} e^{2 \\eta_{0} \\sigma_{z}}} + \\eta_{0} \\eta_{max} m z_{0} \\sqrt{\\eta_{0}^{2} m^{2} e^{2 \\eta_{0} \\sigma_{z}} + 2 \\eta_{0}^{2} m z_{0} e^{2 \\eta_{0} \\sigma_{z}} + \\eta_{0}^{2} z_{0}^{2} e^{2 \\eta_{0} \\sigma_{z}} - 2 \\eta_{0} \\eta_{max} m z e^{2 \\eta_{0} \\sigma_{z}} - 2 \\eta_{0} \\eta_{max} m z_{0} e^{2 \\eta_{0} \\sigma_{z}} - 2 \\eta_{0} \\eta_{max} z z_{0} e^{2 \\eta_{0} \\sigma_{z}} - 2 \\eta_{0} \\eta_{max} z_{0}^{2} e^{2 \\eta_{0} \\sigma_{z}} + \\eta_{max}^{2} z^{2} e^{2 \\eta_{0} \\sigma_{z}} + 2 \\eta_{max}^{2} z z_{0} e^{2 \\eta_{0} \\sigma_{z}} + \\eta_{max}^{2} z_{0}^{2} e^{2 \\eta_{0} \\sigma_{z}} + m^{2} sca_{z}^{2} e^{2 \\eta_{0} \\sigma_{z}} + 2 m sca_{z}^{2} z_{0} e^{2 \\eta_{0} \\sigma_{z}} + sca_{z}^{2} z_{0}^{2} e^{2 \\eta_{0} \\sigma_{z}}} - \\eta_{0} \\eta_{max} z z_{0} \\sqrt{\\eta_{0}^{2} m^{2} e^{2 \\eta_{0} \\sigma_{z}} + 2 \\eta_{0}^{2} m z_{0} e^{2 \\eta_{0} \\sigma_{z}} + \\eta_{0}^{2} z_{0}^{2} e^{2 \\eta_{0} \\sigma_{z}} - 2 \\eta_{0} \\eta_{max} m z e^{2 \\eta_{0} \\sigma_{z}} - 2 \\eta_{0} \\eta_{max} m z_{0} e^{2 \\eta_{0} \\sigma_{z}} - 2 \\eta_{0} \\eta_{max} z z_{0} e^{2 \\eta_{0} \\sigma_{z}} - 2 \\eta_{0} \\eta_{max} z_{0}^{2} e^{2 \\eta_{0} \\sigma_{z}} + \\eta_{max}^{2} z^{2} e^{2 \\eta_{0} \\sigma_{z}} + 2 \\eta_{max}^{2} z z_{0} e^{2 \\eta_{0} \\sigma_{z}} + \\eta_{max}^{2} z_{0}^{2} e^{2 \\eta_{0} \\sigma_{z}} + m^{2} sca_{z}^{2} e^{2 \\eta_{0} \\sigma_{z}} + 2 m sca_{z}^{2} z_{0} e^{2 \\eta_{0} \\sigma_{z}} + sca_{z}^{2} z_{0}^{2} e^{2 \\eta_{0} \\sigma_{z}}} + \\eta_{max}^{3} m z^{2} e^{\\eta_{0} \\sigma_{z}} + 2 \\eta_{max}^{3} m z z_{0} e^{\\eta_{0} \\sigma_{z}} + \\eta_{max}^{3} m z_{0}^{2} e^{\\eta_{0} \\sigma_{z}} - \\eta_{max}^{3} z^{3} e^{\\eta_{0} \\sigma_{z}} - 2 \\eta_{max}^{3} z^{2} z_{0} e^{\\eta_{0} \\sigma_{z}} - \\eta_{max}^{3} z z_{0}^{2} e^{\\eta_{0} \\sigma_{z}} - \\eta_{max}^{2} m z \\sqrt{\\eta_{0}^{2} m^{2} e^{2 \\eta_{0} \\sigma_{z}} + 2 \\eta_{0}^{2} m z_{0} e^{2 \\eta_{0} \\sigma_{z}} + \\eta_{0}^{2} z_{0}^{2} e^{2 \\eta_{0} \\sigma_{z}} - 2 \\eta_{0} \\eta_{max} m z e^{2 \\eta_{0} \\sigma_{z}} - 2 \\eta_{0} \\eta_{max} m z_{0} e^{2 \\eta_{0} \\sigma_{z}} - 2 \\eta_{0} \\eta_{max} z z_{0} e^{2 \\eta_{0} \\sigma_{z}} - 2 \\eta_{0} \\eta_{max} z_{0}^{2} e^{2 \\eta_{0} \\sigma_{z}} + \\eta_{max}^{2} z^{2} e^{2 \\eta_{0} \\sigma_{z}} + 2 \\eta_{max}^{2} z z_{0} e^{2 \\eta_{0} \\sigma_{z}} + \\eta_{max}^{2} z_{0}^{2} e^{2 \\eta_{0} \\sigma_{z}} + m^{2} sca_{z}^{2} e^{2 \\eta_{0} \\sigma_{z}} + 2 m sca_{z}^{2} z_{0} e^{2 \\eta_{0} \\sigma_{z}} + sca_{z}^{2} z_{0}^{2} e^{2 \\eta_{0} \\sigma_{z}}} - \\eta_{max}^{2} m z_{0} \\sqrt{\\eta_{0}^{2} m^{2} e^{2 \\eta_{0} \\sigma_{z}} + 2 \\eta_{0}^{2} m z_{0} e^{2 \\eta_{0} \\sigma_{z}} + \\eta_{0}^{2} z_{0}^{2} e^{2 \\eta_{0} \\sigma_{z}} - 2 \\eta_{0} \\eta_{max} m z e^{2 \\eta_{0} \\sigma_{z}} - 2 \\eta_{0} \\eta_{max} m z_{0} e^{2 \\eta_{0} \\sigma_{z}} - 2 \\eta_{0} \\eta_{max} z z_{0} e^{2 \\eta_{0} \\sigma_{z}} - 2 \\eta_{0} \\eta_{max} z_{0}^{2} e^{2 \\eta_{0} \\sigma_{z}} + \\eta_{max}^{2} z^{2} e^{2 \\eta_{0} \\sigma_{z}} + 2 \\eta_{max}^{2} z z_{0} e^{2 \\eta_{0} \\sigma_{z}} + \\eta_{max}^{2} z_{0}^{2} e^{2 \\eta_{0} \\sigma_{z}} + m^{2} sca_{z}^{2} e^{2 \\eta_{0} \\sigma_{z}} + 2 m sca_{z}^{2} z_{0} e^{2 \\eta_{0} \\sigma_{z}} + sca_{z}^{2} z_{0}^{2} e^{2 \\eta_{0} \\sigma_{z}}} + \\eta_{max}^{2} z^{2} \\sqrt{\\eta_{0}^{2} m^{2} e^{2 \\eta_{0} \\sigma_{z}} + 2 \\eta_{0}^{2} m z_{0} e^{2 \\eta_{0} \\sigma_{z}} + \\eta_{0}^{2} z_{0}^{2} e^{2 \\eta_{0} \\sigma_{z}} - 2 \\eta_{0} \\eta_{max} m z e^{2 \\eta_{0} \\sigma_{z}} - 2 \\eta_{0} \\eta_{max} m z_{0} e^{2 \\eta_{0} \\sigma_{z}} - 2 \\eta_{0} \\eta_{max} z z_{0} e^{2 \\eta_{0} \\sigma_{z}} - 2 \\eta_{0} \\eta_{max} z_{0}^{2} e^{2 \\eta_{0} \\sigma_{z}} + \\eta_{max}^{2} z^{2} e^{2 \\eta_{0} \\sigma_{z}} + 2 \\eta_{max}^{2} z z_{0} e^{2 \\eta_{0} \\sigma_{z}} + \\eta_{max}^{2} z_{0}^{2} e^{2 \\eta_{0} \\sigma_{z}} + m^{2} sca_{z}^{2} e^{2 \\eta_{0} \\sigma_{z}} + 2 m sca_{z}^{2} z_{0} e^{2 \\eta_{0} \\sigma_{z}} + sca_{z}^{2} z_{0}^{2} e^{2 \\eta_{0} \\sigma_{z}}} + \\eta_{max}^{2} z z_{0} \\sqrt{\\eta_{0}^{2} m^{2} e^{2 \\eta_{0} \\sigma_{z}} + 2 \\eta_{0}^{2} m z_{0} e^{2 \\eta_{0} \\sigma_{z}} + \\eta_{0}^{2} z_{0}^{2} e^{2 \\eta_{0} \\sigma_{z}} - 2 \\eta_{0} \\eta_{max} m z e^{2 \\eta_{0} \\sigma_{z}} - 2 \\eta_{0} \\eta_{max} m z_{0} e^{2 \\eta_{0} \\sigma_{z}} - 2 \\eta_{0} \\eta_{max} z z_{0} e^{2 \\eta_{0} \\sigma_{z}} - 2 \\eta_{0} \\eta_{max} z_{0}^{2} e^{2 \\eta_{0} \\sigma_{z}} + \\eta_{max}^{2} z^{2} e^{2 \\eta_{0} \\sigma_{z}} + 2 \\eta_{max}^{2} z z_{0} e^{2 \\eta_{0} \\sigma_{z}} + \\eta_{max}^{2} z_{0}^{2} e^{2 \\eta_{0} \\sigma_{z}} + m^{2} sca_{z}^{2} e^{2 \\eta_{0} \\sigma_{z}} + 2 m sca_{z}^{2} z_{0} e^{2 \\eta_{0} \\sigma_{z}} + sca_{z}^{2} z_{0}^{2} e^{2 \\eta_{0} \\sigma_{z}}} + \\eta_{max} m^{3} sca_{z}^{2} e^{\\eta_{0} \\sigma_{z}} - \\eta_{max} m^{2} sca_{z}^{2} z e^{\\eta_{0} \\sigma_{z}} + 2 \\eta_{max} m^{2} sca_{z}^{2} z_{0} e^{\\eta_{0} \\sigma_{z}} - 2 \\eta_{max} m sca_{z}^{2} z z_{0} e^{\\eta_{0} \\sigma_{z}} + \\eta_{max} m sca_{z}^{2} z_{0}^{2} e^{\\eta_{0} \\sigma_{z}} - \\eta_{max} sca_{z}^{2} z z_{0}^{2} e^{\\eta_{0} \\sigma_{z}}\\right) \\frac{d}{d \\xi} z_{0}}{\\sigma_{z} \\left(m + z_{0}\\right) \\left(- \\eta_{0} m e^{\\eta_{0} \\sigma_{z}} - \\eta_{0} z_{0} e^{\\eta_{0} \\sigma_{z}} + \\eta_{max} z e^{\\eta_{0} \\sigma_{z}} + \\eta_{max} z_{0} e^{\\eta_{0} \\sigma_{z}} - \\sqrt{\\eta_{0}^{2} m^{2} e^{2 \\eta_{0} \\sigma_{z}} + 2 \\eta_{0}^{2} m z_{0} e^{2 \\eta_{0} \\sigma_{z}} + \\eta_{0}^{2} z_{0}^{2} e^{2 \\eta_{0} \\sigma_{z}} - 2 \\eta_{0} \\eta_{max} m z e^{2 \\eta_{0} \\sigma_{z}} - 2 \\eta_{0} \\eta_{max} m z_{0} e^{2 \\eta_{0} \\sigma_{z}} - 2 \\eta_{0} \\eta_{max} z z_{0} e^{2 \\eta_{0} \\sigma_{z}} - 2 \\eta_{0} \\eta_{max} z_{0}^{2} e^{2 \\eta_{0} \\sigma_{z}} + \\eta_{max}^{2} z^{2} e^{2 \\eta_{0} \\sigma_{z}} + 2 \\eta_{max}^{2} z z_{0} e^{2 \\eta_{0} \\sigma_{z}} + \\eta_{max}^{2} z_{0}^{2} e^{2 \\eta_{0} \\sigma_{z}} + m^{2} sca_{z}^{2} e^{2 \\eta_{0} \\sigma_{z}} + 2 m sca_{z}^{2} z_{0} e^{2 \\eta_{0} \\sigma_{z}} + sca_{z}^{2} z_{0}^{2} e^{2 \\eta_{0} \\sigma_{z}}}\\right) \\left(\\eta_{0}^{2} m^{2} + 2 \\eta_{0}^{2} m z_{0} + \\eta_{0}^{2} z_{0}^{2} - 2 \\eta_{0} \\eta_{max} m z - 2 \\eta_{0} \\eta_{max} m z_{0} - 2 \\eta_{0} \\eta_{max} z z_{0} - 2 \\eta_{0} \\eta_{max} z_{0}^{2} + \\eta_{max}^{2} z^{2} + 2 \\eta_{max}^{2} z z_{0} + \\eta_{max}^{2} z_{0}^{2} + m^{2} sca_{z}^{2} + 2 m sca_{z}^{2} z_{0} + sca_{z}^{2} z_{0}^{2}\\right)}$"
      ],
      "text/plain": [
       "(eta_0**2*eta_max*m**3*exp(eta_0*sigma_z) - eta_0**2*eta_max*m**2*z*exp(eta_0*sigma_z) + 2*eta_0**2*eta_max*m**2*z0*exp(eta_0*sigma_z) - 2*eta_0**2*eta_max*m*z*z0*exp(eta_0*sigma_z) + eta_0**2*eta_max*m*z0**2*exp(eta_0*sigma_z) - eta_0**2*eta_max*z*z0**2*exp(eta_0*sigma_z) - 2*eta_0*eta_max**2*m**2*z*exp(eta_0*sigma_z) - 2*eta_0*eta_max**2*m**2*z0*exp(eta_0*sigma_z) + 2*eta_0*eta_max**2*m*z**2*exp(eta_0*sigma_z) - 2*eta_0*eta_max**2*m*z0**2*exp(eta_0*sigma_z) + 2*eta_0*eta_max**2*z**2*z0*exp(eta_0*sigma_z) + 2*eta_0*eta_max**2*z*z0**2*exp(eta_0*sigma_z) + eta_0*eta_max*m**2*sqrt(eta_0**2*m**2*exp(2*eta_0*sigma_z) + 2*eta_0**2*m*z0*exp(2*eta_0*sigma_z) + eta_0**2*z0**2*exp(2*eta_0*sigma_z) - 2*eta_0*eta_max*m*z*exp(2*eta_0*sigma_z) - 2*eta_0*eta_max*m*z0*exp(2*eta_0*sigma_z) - 2*eta_0*eta_max*z*z0*exp(2*eta_0*sigma_z) - 2*eta_0*eta_max*z0**2*exp(2*eta_0*sigma_z) + eta_max**2*z**2*exp(2*eta_0*sigma_z) + 2*eta_max**2*z*z0*exp(2*eta_0*sigma_z) + eta_max**2*z0**2*exp(2*eta_0*sigma_z) + m**2*sca_z**2*exp(2*eta_0*sigma_z) + 2*m*sca_z**2*z0*exp(2*eta_0*sigma_z) + sca_z**2*z0**2*exp(2*eta_0*sigma_z)) - eta_0*eta_max*m*z*sqrt(eta_0**2*m**2*exp(2*eta_0*sigma_z) + 2*eta_0**2*m*z0*exp(2*eta_0*sigma_z) + eta_0**2*z0**2*exp(2*eta_0*sigma_z) - 2*eta_0*eta_max*m*z*exp(2*eta_0*sigma_z) - 2*eta_0*eta_max*m*z0*exp(2*eta_0*sigma_z) - 2*eta_0*eta_max*z*z0*exp(2*eta_0*sigma_z) - 2*eta_0*eta_max*z0**2*exp(2*eta_0*sigma_z) + eta_max**2*z**2*exp(2*eta_0*sigma_z) + 2*eta_max**2*z*z0*exp(2*eta_0*sigma_z) + eta_max**2*z0**2*exp(2*eta_0*sigma_z) + m**2*sca_z**2*exp(2*eta_0*sigma_z) + 2*m*sca_z**2*z0*exp(2*eta_0*sigma_z) + sca_z**2*z0**2*exp(2*eta_0*sigma_z)) + eta_0*eta_max*m*z0*sqrt(eta_0**2*m**2*exp(2*eta_0*sigma_z) + 2*eta_0**2*m*z0*exp(2*eta_0*sigma_z) + eta_0**2*z0**2*exp(2*eta_0*sigma_z) - 2*eta_0*eta_max*m*z*exp(2*eta_0*sigma_z) - 2*eta_0*eta_max*m*z0*exp(2*eta_0*sigma_z) - 2*eta_0*eta_max*z*z0*exp(2*eta_0*sigma_z) - 2*eta_0*eta_max*z0**2*exp(2*eta_0*sigma_z) + eta_max**2*z**2*exp(2*eta_0*sigma_z) + 2*eta_max**2*z*z0*exp(2*eta_0*sigma_z) + eta_max**2*z0**2*exp(2*eta_0*sigma_z) + m**2*sca_z**2*exp(2*eta_0*sigma_z) + 2*m*sca_z**2*z0*exp(2*eta_0*sigma_z) + sca_z**2*z0**2*exp(2*eta_0*sigma_z)) - eta_0*eta_max*z*z0*sqrt(eta_0**2*m**2*exp(2*eta_0*sigma_z) + 2*eta_0**2*m*z0*exp(2*eta_0*sigma_z) + eta_0**2*z0**2*exp(2*eta_0*sigma_z) - 2*eta_0*eta_max*m*z*exp(2*eta_0*sigma_z) - 2*eta_0*eta_max*m*z0*exp(2*eta_0*sigma_z) - 2*eta_0*eta_max*z*z0*exp(2*eta_0*sigma_z) - 2*eta_0*eta_max*z0**2*exp(2*eta_0*sigma_z) + eta_max**2*z**2*exp(2*eta_0*sigma_z) + 2*eta_max**2*z*z0*exp(2*eta_0*sigma_z) + eta_max**2*z0**2*exp(2*eta_0*sigma_z) + m**2*sca_z**2*exp(2*eta_0*sigma_z) + 2*m*sca_z**2*z0*exp(2*eta_0*sigma_z) + sca_z**2*z0**2*exp(2*eta_0*sigma_z)) + eta_max**3*m*z**2*exp(eta_0*sigma_z) + 2*eta_max**3*m*z*z0*exp(eta_0*sigma_z) + eta_max**3*m*z0**2*exp(eta_0*sigma_z) - eta_max**3*z**3*exp(eta_0*sigma_z) - 2*eta_max**3*z**2*z0*exp(eta_0*sigma_z) - eta_max**3*z*z0**2*exp(eta_0*sigma_z) - eta_max**2*m*z*sqrt(eta_0**2*m**2*exp(2*eta_0*sigma_z) + 2*eta_0**2*m*z0*exp(2*eta_0*sigma_z) + eta_0**2*z0**2*exp(2*eta_0*sigma_z) - 2*eta_0*eta_max*m*z*exp(2*eta_0*sigma_z) - 2*eta_0*eta_max*m*z0*exp(2*eta_0*sigma_z) - 2*eta_0*eta_max*z*z0*exp(2*eta_0*sigma_z) - 2*eta_0*eta_max*z0**2*exp(2*eta_0*sigma_z) + eta_max**2*z**2*exp(2*eta_0*sigma_z) + 2*eta_max**2*z*z0*exp(2*eta_0*sigma_z) + eta_max**2*z0**2*exp(2*eta_0*sigma_z) + m**2*sca_z**2*exp(2*eta_0*sigma_z) + 2*m*sca_z**2*z0*exp(2*eta_0*sigma_z) + sca_z**2*z0**2*exp(2*eta_0*sigma_z)) - eta_max**2*m*z0*sqrt(eta_0**2*m**2*exp(2*eta_0*sigma_z) + 2*eta_0**2*m*z0*exp(2*eta_0*sigma_z) + eta_0**2*z0**2*exp(2*eta_0*sigma_z) - 2*eta_0*eta_max*m*z*exp(2*eta_0*sigma_z) - 2*eta_0*eta_max*m*z0*exp(2*eta_0*sigma_z) - 2*eta_0*eta_max*z*z0*exp(2*eta_0*sigma_z) - 2*eta_0*eta_max*z0**2*exp(2*eta_0*sigma_z) + eta_max**2*z**2*exp(2*eta_0*sigma_z) + 2*eta_max**2*z*z0*exp(2*eta_0*sigma_z) + eta_max**2*z0**2*exp(2*eta_0*sigma_z) + m**2*sca_z**2*exp(2*eta_0*sigma_z) + 2*m*sca_z**2*z0*exp(2*eta_0*sigma_z) + sca_z**2*z0**2*exp(2*eta_0*sigma_z)) + eta_max**2*z**2*sqrt(eta_0**2*m**2*exp(2*eta_0*sigma_z) + 2*eta_0**2*m*z0*exp(2*eta_0*sigma_z) + eta_0**2*z0**2*exp(2*eta_0*sigma_z) - 2*eta_0*eta_max*m*z*exp(2*eta_0*sigma_z) - 2*eta_0*eta_max*m*z0*exp(2*eta_0*sigma_z) - 2*eta_0*eta_max*z*z0*exp(2*eta_0*sigma_z) - 2*eta_0*eta_max*z0**2*exp(2*eta_0*sigma_z) + eta_max**2*z**2*exp(2*eta_0*sigma_z) + 2*eta_max**2*z*z0*exp(2*eta_0*sigma_z) + eta_max**2*z0**2*exp(2*eta_0*sigma_z) + m**2*sca_z**2*exp(2*eta_0*sigma_z) + 2*m*sca_z**2*z0*exp(2*eta_0*sigma_z) + sca_z**2*z0**2*exp(2*eta_0*sigma_z)) + eta_max**2*z*z0*sqrt(eta_0**2*m**2*exp(2*eta_0*sigma_z) + 2*eta_0**2*m*z0*exp(2*eta_0*sigma_z) + eta_0**2*z0**2*exp(2*eta_0*sigma_z) - 2*eta_0*eta_max*m*z*exp(2*eta_0*sigma_z) - 2*eta_0*eta_max*m*z0*exp(2*eta_0*sigma_z) - 2*eta_0*eta_max*z*z0*exp(2*eta_0*sigma_z) - 2*eta_0*eta_max*z0**2*exp(2*eta_0*sigma_z) + eta_max**2*z**2*exp(2*eta_0*sigma_z) + 2*eta_max**2*z*z0*exp(2*eta_0*sigma_z) + eta_max**2*z0**2*exp(2*eta_0*sigma_z) + m**2*sca_z**2*exp(2*eta_0*sigma_z) + 2*m*sca_z**2*z0*exp(2*eta_0*sigma_z) + sca_z**2*z0**2*exp(2*eta_0*sigma_z)) + eta_max*m**3*sca_z**2*exp(eta_0*sigma_z) - eta_max*m**2*sca_z**2*z*exp(eta_0*sigma_z) + 2*eta_max*m**2*sca_z**2*z0*exp(eta_0*sigma_z) - 2*eta_max*m*sca_z**2*z*z0*exp(eta_0*sigma_z) + eta_max*m*sca_z**2*z0**2*exp(eta_0*sigma_z) - eta_max*sca_z**2*z*z0**2*exp(eta_0*sigma_z))*Derivative(z0, xi)/(sigma_z*(m + z0)*(-eta_0*m*exp(eta_0*sigma_z) - eta_0*z0*exp(eta_0*sigma_z) + eta_max*z*exp(eta_0*sigma_z) + eta_max*z0*exp(eta_0*sigma_z) - sqrt(eta_0**2*m**2*exp(2*eta_0*sigma_z) + 2*eta_0**2*m*z0*exp(2*eta_0*sigma_z) + eta_0**2*z0**2*exp(2*eta_0*sigma_z) - 2*eta_0*eta_max*m*z*exp(2*eta_0*sigma_z) - 2*eta_0*eta_max*m*z0*exp(2*eta_0*sigma_z) - 2*eta_0*eta_max*z*z0*exp(2*eta_0*sigma_z) - 2*eta_0*eta_max*z0**2*exp(2*eta_0*sigma_z) + eta_max**2*z**2*exp(2*eta_0*sigma_z) + 2*eta_max**2*z*z0*exp(2*eta_0*sigma_z) + eta_max**2*z0**2*exp(2*eta_0*sigma_z) + m**2*sca_z**2*exp(2*eta_0*sigma_z) + 2*m*sca_z**2*z0*exp(2*eta_0*sigma_z) + sca_z**2*z0**2*exp(2*eta_0*sigma_z)))*(eta_0**2*m**2 + 2*eta_0**2*m*z0 + eta_0**2*z0**2 - 2*eta_0*eta_max*m*z - 2*eta_0*eta_max*m*z0 - 2*eta_0*eta_max*z*z0 - 2*eta_0*eta_max*z0**2 + eta_max**2*z**2 + 2*eta_max**2*z*z0 + eta_max**2*z0**2 + m**2*sca_z**2 + 2*m*sca_z**2*z0 + sca_z**2*z0**2))"
      ]
     },
     "metadata": {},
     "output_type": "display_data"
    },
    {
     "data": {
      "text/latex": [
       "$\\displaystyle \\frac{\\left(\\eta_{0}^{2} \\eta_{max} m^{3} e^{\\eta_{0} \\sigma_{z}} - \\eta_{0}^{2} \\eta_{max} m^{2} z e^{\\eta_{0} \\sigma_{z}} + 2 \\eta_{0}^{2} \\eta_{max} m^{2} z_{0} e^{\\eta_{0} \\sigma_{z}} - 2 \\eta_{0}^{2} \\eta_{max} m z z_{0} e^{\\eta_{0} \\sigma_{z}} + \\eta_{0}^{2} \\eta_{max} m z_{0}^{2} e^{\\eta_{0} \\sigma_{z}} - \\eta_{0}^{2} \\eta_{max} z z_{0}^{2} e^{\\eta_{0} \\sigma_{z}} - 2 \\eta_{0} \\eta_{max}^{2} m^{2} z e^{\\eta_{0} \\sigma_{z}} - 2 \\eta_{0} \\eta_{max}^{2} m^{2} z_{0} e^{\\eta_{0} \\sigma_{z}} + 2 \\eta_{0} \\eta_{max}^{2} m z^{2} e^{\\eta_{0} \\sigma_{z}} - 2 \\eta_{0} \\eta_{max}^{2} m z_{0}^{2} e^{\\eta_{0} \\sigma_{z}} + 2 \\eta_{0} \\eta_{max}^{2} z^{2} z_{0} e^{\\eta_{0} \\sigma_{z}} + 2 \\eta_{0} \\eta_{max}^{2} z z_{0}^{2} e^{\\eta_{0} \\sigma_{z}} + \\eta_{0} \\eta_{max} m^{2} \\sqrt{\\eta_{0}^{2} m^{2} e^{2 \\eta_{0} \\sigma_{z}} + 2 \\eta_{0}^{2} m z_{0} e^{2 \\eta_{0} \\sigma_{z}} + \\eta_{0}^{2} z_{0}^{2} e^{2 \\eta_{0} \\sigma_{z}} - 2 \\eta_{0} \\eta_{max} m z e^{2 \\eta_{0} \\sigma_{z}} - 2 \\eta_{0} \\eta_{max} m z_{0} e^{2 \\eta_{0} \\sigma_{z}} - 2 \\eta_{0} \\eta_{max} z z_{0} e^{2 \\eta_{0} \\sigma_{z}} - 2 \\eta_{0} \\eta_{max} z_{0}^{2} e^{2 \\eta_{0} \\sigma_{z}} + \\eta_{max}^{2} z^{2} e^{2 \\eta_{0} \\sigma_{z}} + 2 \\eta_{max}^{2} z z_{0} e^{2 \\eta_{0} \\sigma_{z}} + \\eta_{max}^{2} z_{0}^{2} e^{2 \\eta_{0} \\sigma_{z}} + m^{2} sca_{z}^{2} e^{2 \\eta_{0} \\sigma_{z}} + 2 m sca_{z}^{2} z_{0} e^{2 \\eta_{0} \\sigma_{z}} + sca_{z}^{2} z_{0}^{2} e^{2 \\eta_{0} \\sigma_{z}}} - \\eta_{0} \\eta_{max} m z \\sqrt{\\eta_{0}^{2} m^{2} e^{2 \\eta_{0} \\sigma_{z}} + 2 \\eta_{0}^{2} m z_{0} e^{2 \\eta_{0} \\sigma_{z}} + \\eta_{0}^{2} z_{0}^{2} e^{2 \\eta_{0} \\sigma_{z}} - 2 \\eta_{0} \\eta_{max} m z e^{2 \\eta_{0} \\sigma_{z}} - 2 \\eta_{0} \\eta_{max} m z_{0} e^{2 \\eta_{0} \\sigma_{z}} - 2 \\eta_{0} \\eta_{max} z z_{0} e^{2 \\eta_{0} \\sigma_{z}} - 2 \\eta_{0} \\eta_{max} z_{0}^{2} e^{2 \\eta_{0} \\sigma_{z}} + \\eta_{max}^{2} z^{2} e^{2 \\eta_{0} \\sigma_{z}} + 2 \\eta_{max}^{2} z z_{0} e^{2 \\eta_{0} \\sigma_{z}} + \\eta_{max}^{2} z_{0}^{2} e^{2 \\eta_{0} \\sigma_{z}} + m^{2} sca_{z}^{2} e^{2 \\eta_{0} \\sigma_{z}} + 2 m sca_{z}^{2} z_{0} e^{2 \\eta_{0} \\sigma_{z}} + sca_{z}^{2} z_{0}^{2} e^{2 \\eta_{0} \\sigma_{z}}} + \\eta_{0} \\eta_{max} m z_{0} \\sqrt{\\eta_{0}^{2} m^{2} e^{2 \\eta_{0} \\sigma_{z}} + 2 \\eta_{0}^{2} m z_{0} e^{2 \\eta_{0} \\sigma_{z}} + \\eta_{0}^{2} z_{0}^{2} e^{2 \\eta_{0} \\sigma_{z}} - 2 \\eta_{0} \\eta_{max} m z e^{2 \\eta_{0} \\sigma_{z}} - 2 \\eta_{0} \\eta_{max} m z_{0} e^{2 \\eta_{0} \\sigma_{z}} - 2 \\eta_{0} \\eta_{max} z z_{0} e^{2 \\eta_{0} \\sigma_{z}} - 2 \\eta_{0} \\eta_{max} z_{0}^{2} e^{2 \\eta_{0} \\sigma_{z}} + \\eta_{max}^{2} z^{2} e^{2 \\eta_{0} \\sigma_{z}} + 2 \\eta_{max}^{2} z z_{0} e^{2 \\eta_{0} \\sigma_{z}} + \\eta_{max}^{2} z_{0}^{2} e^{2 \\eta_{0} \\sigma_{z}} + m^{2} sca_{z}^{2} e^{2 \\eta_{0} \\sigma_{z}} + 2 m sca_{z}^{2} z_{0} e^{2 \\eta_{0} \\sigma_{z}} + sca_{z}^{2} z_{0}^{2} e^{2 \\eta_{0} \\sigma_{z}}} - \\eta_{0} \\eta_{max} z z_{0} \\sqrt{\\eta_{0}^{2} m^{2} e^{2 \\eta_{0} \\sigma_{z}} + 2 \\eta_{0}^{2} m z_{0} e^{2 \\eta_{0} \\sigma_{z}} + \\eta_{0}^{2} z_{0}^{2} e^{2 \\eta_{0} \\sigma_{z}} - 2 \\eta_{0} \\eta_{max} m z e^{2 \\eta_{0} \\sigma_{z}} - 2 \\eta_{0} \\eta_{max} m z_{0} e^{2 \\eta_{0} \\sigma_{z}} - 2 \\eta_{0} \\eta_{max} z z_{0} e^{2 \\eta_{0} \\sigma_{z}} - 2 \\eta_{0} \\eta_{max} z_{0}^{2} e^{2 \\eta_{0} \\sigma_{z}} + \\eta_{max}^{2} z^{2} e^{2 \\eta_{0} \\sigma_{z}} + 2 \\eta_{max}^{2} z z_{0} e^{2 \\eta_{0} \\sigma_{z}} + \\eta_{max}^{2} z_{0}^{2} e^{2 \\eta_{0} \\sigma_{z}} + m^{2} sca_{z}^{2} e^{2 \\eta_{0} \\sigma_{z}} + 2 m sca_{z}^{2} z_{0} e^{2 \\eta_{0} \\sigma_{z}} + sca_{z}^{2} z_{0}^{2} e^{2 \\eta_{0} \\sigma_{z}}} + \\eta_{max}^{3} m z^{2} e^{\\eta_{0} \\sigma_{z}} + 2 \\eta_{max}^{3} m z z_{0} e^{\\eta_{0} \\sigma_{z}} + \\eta_{max}^{3} m z_{0}^{2} e^{\\eta_{0} \\sigma_{z}} - \\eta_{max}^{3} z^{3} e^{\\eta_{0} \\sigma_{z}} - 2 \\eta_{max}^{3} z^{2} z_{0} e^{\\eta_{0} \\sigma_{z}} - \\eta_{max}^{3} z z_{0}^{2} e^{\\eta_{0} \\sigma_{z}} - \\eta_{max}^{2} m z \\sqrt{\\eta_{0}^{2} m^{2} e^{2 \\eta_{0} \\sigma_{z}} + 2 \\eta_{0}^{2} m z_{0} e^{2 \\eta_{0} \\sigma_{z}} + \\eta_{0}^{2} z_{0}^{2} e^{2 \\eta_{0} \\sigma_{z}} - 2 \\eta_{0} \\eta_{max} m z e^{2 \\eta_{0} \\sigma_{z}} - 2 \\eta_{0} \\eta_{max} m z_{0} e^{2 \\eta_{0} \\sigma_{z}} - 2 \\eta_{0} \\eta_{max} z z_{0} e^{2 \\eta_{0} \\sigma_{z}} - 2 \\eta_{0} \\eta_{max} z_{0}^{2} e^{2 \\eta_{0} \\sigma_{z}} + \\eta_{max}^{2} z^{2} e^{2 \\eta_{0} \\sigma_{z}} + 2 \\eta_{max}^{2} z z_{0} e^{2 \\eta_{0} \\sigma_{z}} + \\eta_{max}^{2} z_{0}^{2} e^{2 \\eta_{0} \\sigma_{z}} + m^{2} sca_{z}^{2} e^{2 \\eta_{0} \\sigma_{z}} + 2 m sca_{z}^{2} z_{0} e^{2 \\eta_{0} \\sigma_{z}} + sca_{z}^{2} z_{0}^{2} e^{2 \\eta_{0} \\sigma_{z}}} - \\eta_{max}^{2} m z_{0} \\sqrt{\\eta_{0}^{2} m^{2} e^{2 \\eta_{0} \\sigma_{z}} + 2 \\eta_{0}^{2} m z_{0} e^{2 \\eta_{0} \\sigma_{z}} + \\eta_{0}^{2} z_{0}^{2} e^{2 \\eta_{0} \\sigma_{z}} - 2 \\eta_{0} \\eta_{max} m z e^{2 \\eta_{0} \\sigma_{z}} - 2 \\eta_{0} \\eta_{max} m z_{0} e^{2 \\eta_{0} \\sigma_{z}} - 2 \\eta_{0} \\eta_{max} z z_{0} e^{2 \\eta_{0} \\sigma_{z}} - 2 \\eta_{0} \\eta_{max} z_{0}^{2} e^{2 \\eta_{0} \\sigma_{z}} + \\eta_{max}^{2} z^{2} e^{2 \\eta_{0} \\sigma_{z}} + 2 \\eta_{max}^{2} z z_{0} e^{2 \\eta_{0} \\sigma_{z}} + \\eta_{max}^{2} z_{0}^{2} e^{2 \\eta_{0} \\sigma_{z}} + m^{2} sca_{z}^{2} e^{2 \\eta_{0} \\sigma_{z}} + 2 m sca_{z}^{2} z_{0} e^{2 \\eta_{0} \\sigma_{z}} + sca_{z}^{2} z_{0}^{2} e^{2 \\eta_{0} \\sigma_{z}}} + \\eta_{max}^{2} z^{2} \\sqrt{\\eta_{0}^{2} m^{2} e^{2 \\eta_{0} \\sigma_{z}} + 2 \\eta_{0}^{2} m z_{0} e^{2 \\eta_{0} \\sigma_{z}} + \\eta_{0}^{2} z_{0}^{2} e^{2 \\eta_{0} \\sigma_{z}} - 2 \\eta_{0} \\eta_{max} m z e^{2 \\eta_{0} \\sigma_{z}} - 2 \\eta_{0} \\eta_{max} m z_{0} e^{2 \\eta_{0} \\sigma_{z}} - 2 \\eta_{0} \\eta_{max} z z_{0} e^{2 \\eta_{0} \\sigma_{z}} - 2 \\eta_{0} \\eta_{max} z_{0}^{2} e^{2 \\eta_{0} \\sigma_{z}} + \\eta_{max}^{2} z^{2} e^{2 \\eta_{0} \\sigma_{z}} + 2 \\eta_{max}^{2} z z_{0} e^{2 \\eta_{0} \\sigma_{z}} + \\eta_{max}^{2} z_{0}^{2} e^{2 \\eta_{0} \\sigma_{z}} + m^{2} sca_{z}^{2} e^{2 \\eta_{0} \\sigma_{z}} + 2 m sca_{z}^{2} z_{0} e^{2 \\eta_{0} \\sigma_{z}} + sca_{z}^{2} z_{0}^{2} e^{2 \\eta_{0} \\sigma_{z}}} + \\eta_{max}^{2} z z_{0} \\sqrt{\\eta_{0}^{2} m^{2} e^{2 \\eta_{0} \\sigma_{z}} + 2 \\eta_{0}^{2} m z_{0} e^{2 \\eta_{0} \\sigma_{z}} + \\eta_{0}^{2} z_{0}^{2} e^{2 \\eta_{0} \\sigma_{z}} - 2 \\eta_{0} \\eta_{max} m z e^{2 \\eta_{0} \\sigma_{z}} - 2 \\eta_{0} \\eta_{max} m z_{0} e^{2 \\eta_{0} \\sigma_{z}} - 2 \\eta_{0} \\eta_{max} z z_{0} e^{2 \\eta_{0} \\sigma_{z}} - 2 \\eta_{0} \\eta_{max} z_{0}^{2} e^{2 \\eta_{0} \\sigma_{z}} + \\eta_{max}^{2} z^{2} e^{2 \\eta_{0} \\sigma_{z}} + 2 \\eta_{max}^{2} z z_{0} e^{2 \\eta_{0} \\sigma_{z}} + \\eta_{max}^{2} z_{0}^{2} e^{2 \\eta_{0} \\sigma_{z}} + m^{2} sca_{z}^{2} e^{2 \\eta_{0} \\sigma_{z}} + 2 m sca_{z}^{2} z_{0} e^{2 \\eta_{0} \\sigma_{z}} + sca_{z}^{2} z_{0}^{2} e^{2 \\eta_{0} \\sigma_{z}}} + \\eta_{max} m^{3} sca_{z}^{2} e^{\\eta_{0} \\sigma_{z}} - \\eta_{max} m^{2} sca_{z}^{2} z e^{\\eta_{0} \\sigma_{z}} + 2 \\eta_{max} m^{2} sca_{z}^{2} z_{0} e^{\\eta_{0} \\sigma_{z}} - 2 \\eta_{max} m sca_{z}^{2} z z_{0} e^{\\eta_{0} \\sigma_{z}} + \\eta_{max} m sca_{z}^{2} z_{0}^{2} e^{\\eta_{0} \\sigma_{z}} - \\eta_{max} sca_{z}^{2} z z_{0}^{2} e^{\\eta_{0} \\sigma_{z}}\\right) \\frac{d}{d \\kappa} z_{0}}{\\sigma_{z} \\left(m + z_{0}\\right) \\left(- \\eta_{0} m e^{\\eta_{0} \\sigma_{z}} - \\eta_{0} z_{0} e^{\\eta_{0} \\sigma_{z}} + \\eta_{max} z e^{\\eta_{0} \\sigma_{z}} + \\eta_{max} z_{0} e^{\\eta_{0} \\sigma_{z}} - \\sqrt{\\eta_{0}^{2} m^{2} e^{2 \\eta_{0} \\sigma_{z}} + 2 \\eta_{0}^{2} m z_{0} e^{2 \\eta_{0} \\sigma_{z}} + \\eta_{0}^{2} z_{0}^{2} e^{2 \\eta_{0} \\sigma_{z}} - 2 \\eta_{0} \\eta_{max} m z e^{2 \\eta_{0} \\sigma_{z}} - 2 \\eta_{0} \\eta_{max} m z_{0} e^{2 \\eta_{0} \\sigma_{z}} - 2 \\eta_{0} \\eta_{max} z z_{0} e^{2 \\eta_{0} \\sigma_{z}} - 2 \\eta_{0} \\eta_{max} z_{0}^{2} e^{2 \\eta_{0} \\sigma_{z}} + \\eta_{max}^{2} z^{2} e^{2 \\eta_{0} \\sigma_{z}} + 2 \\eta_{max}^{2} z z_{0} e^{2 \\eta_{0} \\sigma_{z}} + \\eta_{max}^{2} z_{0}^{2} e^{2 \\eta_{0} \\sigma_{z}} + m^{2} sca_{z}^{2} e^{2 \\eta_{0} \\sigma_{z}} + 2 m sca_{z}^{2} z_{0} e^{2 \\eta_{0} \\sigma_{z}} + sca_{z}^{2} z_{0}^{2} e^{2 \\eta_{0} \\sigma_{z}}}\\right) \\left(\\eta_{0}^{2} m^{2} + 2 \\eta_{0}^{2} m z_{0} + \\eta_{0}^{2} z_{0}^{2} - 2 \\eta_{0} \\eta_{max} m z - 2 \\eta_{0} \\eta_{max} m z_{0} - 2 \\eta_{0} \\eta_{max} z z_{0} - 2 \\eta_{0} \\eta_{max} z_{0}^{2} + \\eta_{max}^{2} z^{2} + 2 \\eta_{max}^{2} z z_{0} + \\eta_{max}^{2} z_{0}^{2} + m^{2} sca_{z}^{2} + 2 m sca_{z}^{2} z_{0} + sca_{z}^{2} z_{0}^{2}\\right)}$"
      ],
      "text/plain": [
       "(eta_0**2*eta_max*m**3*exp(eta_0*sigma_z) - eta_0**2*eta_max*m**2*z*exp(eta_0*sigma_z) + 2*eta_0**2*eta_max*m**2*z0*exp(eta_0*sigma_z) - 2*eta_0**2*eta_max*m*z*z0*exp(eta_0*sigma_z) + eta_0**2*eta_max*m*z0**2*exp(eta_0*sigma_z) - eta_0**2*eta_max*z*z0**2*exp(eta_0*sigma_z) - 2*eta_0*eta_max**2*m**2*z*exp(eta_0*sigma_z) - 2*eta_0*eta_max**2*m**2*z0*exp(eta_0*sigma_z) + 2*eta_0*eta_max**2*m*z**2*exp(eta_0*sigma_z) - 2*eta_0*eta_max**2*m*z0**2*exp(eta_0*sigma_z) + 2*eta_0*eta_max**2*z**2*z0*exp(eta_0*sigma_z) + 2*eta_0*eta_max**2*z*z0**2*exp(eta_0*sigma_z) + eta_0*eta_max*m**2*sqrt(eta_0**2*m**2*exp(2*eta_0*sigma_z) + 2*eta_0**2*m*z0*exp(2*eta_0*sigma_z) + eta_0**2*z0**2*exp(2*eta_0*sigma_z) - 2*eta_0*eta_max*m*z*exp(2*eta_0*sigma_z) - 2*eta_0*eta_max*m*z0*exp(2*eta_0*sigma_z) - 2*eta_0*eta_max*z*z0*exp(2*eta_0*sigma_z) - 2*eta_0*eta_max*z0**2*exp(2*eta_0*sigma_z) + eta_max**2*z**2*exp(2*eta_0*sigma_z) + 2*eta_max**2*z*z0*exp(2*eta_0*sigma_z) + eta_max**2*z0**2*exp(2*eta_0*sigma_z) + m**2*sca_z**2*exp(2*eta_0*sigma_z) + 2*m*sca_z**2*z0*exp(2*eta_0*sigma_z) + sca_z**2*z0**2*exp(2*eta_0*sigma_z)) - eta_0*eta_max*m*z*sqrt(eta_0**2*m**2*exp(2*eta_0*sigma_z) + 2*eta_0**2*m*z0*exp(2*eta_0*sigma_z) + eta_0**2*z0**2*exp(2*eta_0*sigma_z) - 2*eta_0*eta_max*m*z*exp(2*eta_0*sigma_z) - 2*eta_0*eta_max*m*z0*exp(2*eta_0*sigma_z) - 2*eta_0*eta_max*z*z0*exp(2*eta_0*sigma_z) - 2*eta_0*eta_max*z0**2*exp(2*eta_0*sigma_z) + eta_max**2*z**2*exp(2*eta_0*sigma_z) + 2*eta_max**2*z*z0*exp(2*eta_0*sigma_z) + eta_max**2*z0**2*exp(2*eta_0*sigma_z) + m**2*sca_z**2*exp(2*eta_0*sigma_z) + 2*m*sca_z**2*z0*exp(2*eta_0*sigma_z) + sca_z**2*z0**2*exp(2*eta_0*sigma_z)) + eta_0*eta_max*m*z0*sqrt(eta_0**2*m**2*exp(2*eta_0*sigma_z) + 2*eta_0**2*m*z0*exp(2*eta_0*sigma_z) + eta_0**2*z0**2*exp(2*eta_0*sigma_z) - 2*eta_0*eta_max*m*z*exp(2*eta_0*sigma_z) - 2*eta_0*eta_max*m*z0*exp(2*eta_0*sigma_z) - 2*eta_0*eta_max*z*z0*exp(2*eta_0*sigma_z) - 2*eta_0*eta_max*z0**2*exp(2*eta_0*sigma_z) + eta_max**2*z**2*exp(2*eta_0*sigma_z) + 2*eta_max**2*z*z0*exp(2*eta_0*sigma_z) + eta_max**2*z0**2*exp(2*eta_0*sigma_z) + m**2*sca_z**2*exp(2*eta_0*sigma_z) + 2*m*sca_z**2*z0*exp(2*eta_0*sigma_z) + sca_z**2*z0**2*exp(2*eta_0*sigma_z)) - eta_0*eta_max*z*z0*sqrt(eta_0**2*m**2*exp(2*eta_0*sigma_z) + 2*eta_0**2*m*z0*exp(2*eta_0*sigma_z) + eta_0**2*z0**2*exp(2*eta_0*sigma_z) - 2*eta_0*eta_max*m*z*exp(2*eta_0*sigma_z) - 2*eta_0*eta_max*m*z0*exp(2*eta_0*sigma_z) - 2*eta_0*eta_max*z*z0*exp(2*eta_0*sigma_z) - 2*eta_0*eta_max*z0**2*exp(2*eta_0*sigma_z) + eta_max**2*z**2*exp(2*eta_0*sigma_z) + 2*eta_max**2*z*z0*exp(2*eta_0*sigma_z) + eta_max**2*z0**2*exp(2*eta_0*sigma_z) + m**2*sca_z**2*exp(2*eta_0*sigma_z) + 2*m*sca_z**2*z0*exp(2*eta_0*sigma_z) + sca_z**2*z0**2*exp(2*eta_0*sigma_z)) + eta_max**3*m*z**2*exp(eta_0*sigma_z) + 2*eta_max**3*m*z*z0*exp(eta_0*sigma_z) + eta_max**3*m*z0**2*exp(eta_0*sigma_z) - eta_max**3*z**3*exp(eta_0*sigma_z) - 2*eta_max**3*z**2*z0*exp(eta_0*sigma_z) - eta_max**3*z*z0**2*exp(eta_0*sigma_z) - eta_max**2*m*z*sqrt(eta_0**2*m**2*exp(2*eta_0*sigma_z) + 2*eta_0**2*m*z0*exp(2*eta_0*sigma_z) + eta_0**2*z0**2*exp(2*eta_0*sigma_z) - 2*eta_0*eta_max*m*z*exp(2*eta_0*sigma_z) - 2*eta_0*eta_max*m*z0*exp(2*eta_0*sigma_z) - 2*eta_0*eta_max*z*z0*exp(2*eta_0*sigma_z) - 2*eta_0*eta_max*z0**2*exp(2*eta_0*sigma_z) + eta_max**2*z**2*exp(2*eta_0*sigma_z) + 2*eta_max**2*z*z0*exp(2*eta_0*sigma_z) + eta_max**2*z0**2*exp(2*eta_0*sigma_z) + m**2*sca_z**2*exp(2*eta_0*sigma_z) + 2*m*sca_z**2*z0*exp(2*eta_0*sigma_z) + sca_z**2*z0**2*exp(2*eta_0*sigma_z)) - eta_max**2*m*z0*sqrt(eta_0**2*m**2*exp(2*eta_0*sigma_z) + 2*eta_0**2*m*z0*exp(2*eta_0*sigma_z) + eta_0**2*z0**2*exp(2*eta_0*sigma_z) - 2*eta_0*eta_max*m*z*exp(2*eta_0*sigma_z) - 2*eta_0*eta_max*m*z0*exp(2*eta_0*sigma_z) - 2*eta_0*eta_max*z*z0*exp(2*eta_0*sigma_z) - 2*eta_0*eta_max*z0**2*exp(2*eta_0*sigma_z) + eta_max**2*z**2*exp(2*eta_0*sigma_z) + 2*eta_max**2*z*z0*exp(2*eta_0*sigma_z) + eta_max**2*z0**2*exp(2*eta_0*sigma_z) + m**2*sca_z**2*exp(2*eta_0*sigma_z) + 2*m*sca_z**2*z0*exp(2*eta_0*sigma_z) + sca_z**2*z0**2*exp(2*eta_0*sigma_z)) + eta_max**2*z**2*sqrt(eta_0**2*m**2*exp(2*eta_0*sigma_z) + 2*eta_0**2*m*z0*exp(2*eta_0*sigma_z) + eta_0**2*z0**2*exp(2*eta_0*sigma_z) - 2*eta_0*eta_max*m*z*exp(2*eta_0*sigma_z) - 2*eta_0*eta_max*m*z0*exp(2*eta_0*sigma_z) - 2*eta_0*eta_max*z*z0*exp(2*eta_0*sigma_z) - 2*eta_0*eta_max*z0**2*exp(2*eta_0*sigma_z) + eta_max**2*z**2*exp(2*eta_0*sigma_z) + 2*eta_max**2*z*z0*exp(2*eta_0*sigma_z) + eta_max**2*z0**2*exp(2*eta_0*sigma_z) + m**2*sca_z**2*exp(2*eta_0*sigma_z) + 2*m*sca_z**2*z0*exp(2*eta_0*sigma_z) + sca_z**2*z0**2*exp(2*eta_0*sigma_z)) + eta_max**2*z*z0*sqrt(eta_0**2*m**2*exp(2*eta_0*sigma_z) + 2*eta_0**2*m*z0*exp(2*eta_0*sigma_z) + eta_0**2*z0**2*exp(2*eta_0*sigma_z) - 2*eta_0*eta_max*m*z*exp(2*eta_0*sigma_z) - 2*eta_0*eta_max*m*z0*exp(2*eta_0*sigma_z) - 2*eta_0*eta_max*z*z0*exp(2*eta_0*sigma_z) - 2*eta_0*eta_max*z0**2*exp(2*eta_0*sigma_z) + eta_max**2*z**2*exp(2*eta_0*sigma_z) + 2*eta_max**2*z*z0*exp(2*eta_0*sigma_z) + eta_max**2*z0**2*exp(2*eta_0*sigma_z) + m**2*sca_z**2*exp(2*eta_0*sigma_z) + 2*m*sca_z**2*z0*exp(2*eta_0*sigma_z) + sca_z**2*z0**2*exp(2*eta_0*sigma_z)) + eta_max*m**3*sca_z**2*exp(eta_0*sigma_z) - eta_max*m**2*sca_z**2*z*exp(eta_0*sigma_z) + 2*eta_max*m**2*sca_z**2*z0*exp(eta_0*sigma_z) - 2*eta_max*m*sca_z**2*z*z0*exp(eta_0*sigma_z) + eta_max*m*sca_z**2*z0**2*exp(eta_0*sigma_z) - eta_max*sca_z**2*z*z0**2*exp(eta_0*sigma_z))*Derivative(z0, kappa)/(sigma_z*(m + z0)*(-eta_0*m*exp(eta_0*sigma_z) - eta_0*z0*exp(eta_0*sigma_z) + eta_max*z*exp(eta_0*sigma_z) + eta_max*z0*exp(eta_0*sigma_z) - sqrt(eta_0**2*m**2*exp(2*eta_0*sigma_z) + 2*eta_0**2*m*z0*exp(2*eta_0*sigma_z) + eta_0**2*z0**2*exp(2*eta_0*sigma_z) - 2*eta_0*eta_max*m*z*exp(2*eta_0*sigma_z) - 2*eta_0*eta_max*m*z0*exp(2*eta_0*sigma_z) - 2*eta_0*eta_max*z*z0*exp(2*eta_0*sigma_z) - 2*eta_0*eta_max*z0**2*exp(2*eta_0*sigma_z) + eta_max**2*z**2*exp(2*eta_0*sigma_z) + 2*eta_max**2*z*z0*exp(2*eta_0*sigma_z) + eta_max**2*z0**2*exp(2*eta_0*sigma_z) + m**2*sca_z**2*exp(2*eta_0*sigma_z) + 2*m*sca_z**2*z0*exp(2*eta_0*sigma_z) + sca_z**2*z0**2*exp(2*eta_0*sigma_z)))*(eta_0**2*m**2 + 2*eta_0**2*m*z0 + eta_0**2*z0**2 - 2*eta_0*eta_max*m*z - 2*eta_0*eta_max*m*z0 - 2*eta_0*eta_max*z*z0 - 2*eta_0*eta_max*z0**2 + eta_max**2*z**2 + 2*eta_max**2*z*z0 + eta_max**2*z0**2 + m**2*sca_z**2 + 2*m*sca_z**2*z0 + sca_z**2*z0**2))"
      ]
     },
     "metadata": {},
     "output_type": "display_data"
    },
    {
     "data": {
      "text/latex": [
       "$\\displaystyle \\frac{\\eta_{max} e^{\\eta_{0} \\sigma_{z}} - \\frac{\\sqrt{\\left(\\eta_{0}^{2} m^{2} + 2 \\eta_{0}^{2} m z_{0} + \\eta_{0}^{2} z_{0}^{2} - 2 \\eta_{0} \\eta_{max} m z - 2 \\eta_{0} \\eta_{max} m z_{0} - 2 \\eta_{0} \\eta_{max} z z_{0} - 2 \\eta_{0} \\eta_{max} z_{0}^{2} + \\eta_{max}^{2} z^{2} + 2 \\eta_{max}^{2} z z_{0} + \\eta_{max}^{2} z_{0}^{2} + m^{2} sca_{z}^{2} + 2 m sca_{z}^{2} z_{0} + sca_{z}^{2} z_{0}^{2}\\right) e^{2 \\eta_{0} \\sigma_{z}}} \\left(- 2 \\eta_{0} \\eta_{max} m - 2 \\eta_{0} \\eta_{max} z_{0} + 2 \\eta_{max}^{2} z + 2 \\eta_{max}^{2} z_{0}\\right)}{2 \\left(\\eta_{0}^{2} m^{2} + 2 \\eta_{0}^{2} m z_{0} + \\eta_{0}^{2} z_{0}^{2} - 2 \\eta_{0} \\eta_{max} m z - 2 \\eta_{0} \\eta_{max} m z_{0} - 2 \\eta_{0} \\eta_{max} z z_{0} - 2 \\eta_{0} \\eta_{max} z_{0}^{2} + \\eta_{max}^{2} z^{2} + 2 \\eta_{max}^{2} z z_{0} + \\eta_{max}^{2} z_{0}^{2} + m^{2} sca_{z}^{2} + 2 m sca_{z}^{2} z_{0} + sca_{z}^{2} z_{0}^{2}\\right)}}{\\sigma_{z} \\left(- \\sqrt{\\left(\\eta_{0}^{2} m^{2} + 2 \\eta_{0}^{2} m z_{0} + \\eta_{0}^{2} z_{0}^{2} - 2 \\eta_{0} \\eta_{max} m z - 2 \\eta_{0} \\eta_{max} m z_{0} - 2 \\eta_{0} \\eta_{max} z z_{0} - 2 \\eta_{0} \\eta_{max} z_{0}^{2} + \\eta_{max}^{2} z^{2} + 2 \\eta_{max}^{2} z z_{0} + \\eta_{max}^{2} z_{0}^{2} + m^{2} sca_{z}^{2} + 2 m sca_{z}^{2} z_{0} + sca_{z}^{2} z_{0}^{2}\\right) e^{2 \\eta_{0} \\sigma_{z}}} + \\left(- \\eta_{0} m - \\eta_{0} z_{0} + \\eta_{max} z + \\eta_{max} z_{0}\\right) e^{\\eta_{0} \\sigma_{z}}\\right)}$"
      ],
      "text/plain": [
       "(eta_max*exp(eta_0*sigma_z) - sqrt((eta_0**2*m**2 + 2*eta_0**2*m*z0 + eta_0**2*z0**2 - 2*eta_0*eta_max*m*z - 2*eta_0*eta_max*m*z0 - 2*eta_0*eta_max*z*z0 - 2*eta_0*eta_max*z0**2 + eta_max**2*z**2 + 2*eta_max**2*z*z0 + eta_max**2*z0**2 + m**2*sca_z**2 + 2*m*sca_z**2*z0 + sca_z**2*z0**2)*exp(2*eta_0*sigma_z))*(-2*eta_0*eta_max*m - 2*eta_0*eta_max*z0 + 2*eta_max**2*z + 2*eta_max**2*z0)/(2*(eta_0**2*m**2 + 2*eta_0**2*m*z0 + eta_0**2*z0**2 - 2*eta_0*eta_max*m*z - 2*eta_0*eta_max*m*z0 - 2*eta_0*eta_max*z*z0 - 2*eta_0*eta_max*z0**2 + eta_max**2*z**2 + 2*eta_max**2*z*z0 + eta_max**2*z0**2 + m**2*sca_z**2 + 2*m*sca_z**2*z0 + sca_z**2*z0**2)))/(sigma_z*(-sqrt((eta_0**2*m**2 + 2*eta_0**2*m*z0 + eta_0**2*z0**2 - 2*eta_0*eta_max*m*z - 2*eta_0*eta_max*m*z0 - 2*eta_0*eta_max*z*z0 - 2*eta_0*eta_max*z0**2 + eta_max**2*z**2 + 2*eta_max**2*z*z0 + eta_max**2*z0**2 + m**2*sca_z**2 + 2*m*sca_z**2*z0 + sca_z**2*z0**2)*exp(2*eta_0*sigma_z)) + (-eta_0*m - eta_0*z0 + eta_max*z + eta_max*z0)*exp(eta_0*sigma_z)))"
      ]
     },
     "metadata": {},
     "output_type": "display_data"
    }
   ],
   "source": [
    "\n",
    "z, m, eta_m = symbols('z, m, eta_max')\n",
    "xi,kappa,eta = symbols('xi,kappa,eta')\n",
    "z0      = Function('z0')(xi,kappa,eta)\n",
    "xi1     = x\n",
    "kappa1  = y\n",
    "# eta1    = eta_m*(z0+z)/(z0+m)\n",
    "eta1    = eta1.subs(z01,z0)\n",
    "# detadx\n",
    "dxidx   = xi1.diff(x)\n",
    "detadxi = eta1.diff(xi).subs(eta1,'eta').factor(z0.diff(xi))\n",
    "detadx  = detadxi*dxidx\n",
    "display( detadx.subs(z0,'z0') )\n",
    "# detady\n",
    "dkapdy   = kappa1.diff(y)\n",
    "detadkap = eta1.diff(kappa).subs(eta1,'eta').factor(z0.diff(kappa))\n",
    "detady   = detadkap*dkapdy\n",
    "display( detady.subs(z0,'z0') )\n",
    "# detadz\n",
    "detadz   = eta1.diff(z)\n",
    "display( detadz.subs(z0,'z0') )"
   ]
  },
  {
   "cell_type": "code",
   "execution_count": null,
   "metadata": {},
   "outputs": [],
   "source": []
  }
 ],
 "metadata": {
  "kernelspec": {
   "display_name": "Python 3.7.4 ('base')",
   "language": "python",
   "name": "python3"
  },
  "language_info": {
   "codemirror_mode": {
    "name": "ipython",
    "version": 3
   },
   "file_extension": ".py",
   "mimetype": "text/x-python",
   "name": "python",
   "nbconvert_exporter": "python",
   "pygments_lexer": "ipython3",
   "version": "3.7.4"
  },
  "orig_nbformat": 4,
  "vscode": {
   "interpreter": {
    "hash": "c8364b0fb7479dc94b0c24ab2a5292d01c2912f237aa8319c6d135d5547fe183"
   }
  }
 },
 "nbformat": 4,
 "nbformat_minor": 2
}
