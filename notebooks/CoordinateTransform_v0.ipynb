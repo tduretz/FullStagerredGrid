{
 "cells": [
  {
   "cell_type": "code",
   "execution_count": 78,
   "metadata": {},
   "outputs": [],
   "source": [
    "%reset\n",
    "from sympy import *"
   ]
  },
  {
   "cell_type": "markdown",
   "metadata": {},
   "source": [
    "<font size=6> One dimensional transform </font>"
   ]
  },
  {
   "cell_type": "code",
   "execution_count": 79,
   "metadata": {},
   "outputs": [],
   "source": [
    "xi,kappa,eta = symbols('xi,kappa,eta')\n",
    "eta_max, m = symbols('eta_max, m')"
   ]
  },
  {
   "cell_type": "code",
   "execution_count": 80,
   "metadata": {},
   "outputs": [],
   "source": [
    "# generic chain rules f(x,y,z)\n",
    "x,y,z = symbols('x,y,z')\n",
    "xi   = Function('xi')(x,y,z)\n",
    "kappa = Function('kappa')(x,y,z)\n",
    "eta   = Function('eta')(x,y,z)\n",
    "f     = Function('f')(xi,kappa,eta)\n",
    "df_dx = f.diff(xi)*xi.diff(x) + f.diff(kappa)*kappa.diff(x) + f.diff(eta)*eta.diff(x)\n",
    "df_dy = f.diff(xi)*xi.diff(y) + f.diff(kappa)*kappa.diff(y) + f.diff(eta)*eta.diff(y)\n",
    "df_dz = f.diff(xi)*xi.diff(z) + f.diff(kappa)*kappa.diff(z) + f.diff(eta)*eta.diff(z)"
   ]
  },
  {
   "cell_type": "code",
   "execution_count": 81,
   "metadata": {},
   "outputs": [
    {
     "data": {
      "text/latex": [
       "$\\displaystyle \\frac{d}{d x} \\eta \\frac{d}{d \\eta} f + \\frac{d}{d \\kappa} f \\frac{d}{d x} \\kappa + \\frac{d}{d \\xi} f \\frac{d}{d x} \\xi$"
      ],
      "text/plain": [
       "Derivative(eta, x)*Derivative(f, eta) + Derivative(f, kappa)*Derivative(kappa, x) + Derivative(f, xi)*Derivative(xi, x)"
      ]
     },
     "metadata": {},
     "output_type": "display_data"
    },
    {
     "data": {
      "text/latex": [
       "$\\displaystyle \\frac{d}{d y} \\eta \\frac{d}{d \\eta} f + \\frac{d}{d \\kappa} f \\frac{d}{d y} \\kappa + \\frac{d}{d \\xi} f \\frac{d}{d y} \\xi$"
      ],
      "text/plain": [
       "Derivative(eta, y)*Derivative(f, eta) + Derivative(f, kappa)*Derivative(kappa, y) + Derivative(f, xi)*Derivative(xi, y)"
      ]
     },
     "metadata": {},
     "output_type": "display_data"
    },
    {
     "data": {
      "text/latex": [
       "$\\displaystyle \\frac{d}{d z} \\eta \\frac{d}{d \\eta} f + \\frac{d}{d \\kappa} f \\frac{d}{d z} \\kappa + \\frac{d}{d \\xi} f \\frac{d}{d z} \\xi$"
      ],
      "text/plain": [
       "Derivative(eta, z)*Derivative(f, eta) + Derivative(f, kappa)*Derivative(kappa, z) + Derivative(f, xi)*Derivative(xi, z)"
      ]
     },
     "metadata": {},
     "output_type": "display_data"
    }
   ],
   "source": [
    "display(df_dx.subs(f,'f').subs(xi,'xi').subs(kappa,'kappa').subs(eta,'eta'))\n",
    "display(df_dy.subs(f,'f').subs(xi,'xi').subs(kappa,'kappa').subs(eta,'eta'))\n",
    "display(df_dz.subs(f,'f').subs(xi,'xi').subs(kappa,'kappa').subs(eta,'eta'))"
   ]
  },
  {
   "cell_type": "code",
   "execution_count": 82,
   "metadata": {},
   "outputs": [
    {
     "data": {
      "text/latex": [
       "$\\displaystyle 1$"
      ],
      "text/plain": [
       "1"
      ]
     },
     "metadata": {},
     "output_type": "display_data"
    },
    {
     "data": {
      "text/latex": [
       "$\\displaystyle 0$"
      ],
      "text/plain": [
       "0"
      ]
     },
     "metadata": {},
     "output_type": "display_data"
    },
    {
     "data": {
      "text/latex": [
       "$\\displaystyle 0$"
      ],
      "text/plain": [
       "0"
      ]
     },
     "metadata": {},
     "output_type": "display_data"
    },
    {
     "data": {
      "text/latex": [
       "$\\displaystyle 0$"
      ],
      "text/plain": [
       "0"
      ]
     },
     "metadata": {},
     "output_type": "display_data"
    },
    {
     "data": {
      "text/latex": [
       "$\\displaystyle 1$"
      ],
      "text/plain": [
       "1"
      ]
     },
     "metadata": {},
     "output_type": "display_data"
    },
    {
     "data": {
      "text/latex": [
       "$\\displaystyle 0$"
      ],
      "text/plain": [
       "0"
      ]
     },
     "metadata": {},
     "output_type": "display_data"
    },
    {
     "data": {
      "text/latex": [
       "$\\displaystyle \\frac{\\eta_{max} z \\frac{d}{d x} z_{0}}{\\left(m + z_{0}\\right)^{2}} + \\frac{d}{d x} z_{0}$"
      ],
      "text/plain": [
       "eta_max*z*Derivative(z0, x)/(m + z0)**2 + Derivative(z0, x)"
      ]
     },
     "metadata": {},
     "output_type": "display_data"
    },
    {
     "data": {
      "text/latex": [
       "$\\displaystyle \\frac{\\eta_{max} z \\frac{d}{d y} z_{0}}{\\left(m + z_{0}\\right)^{2}} + \\frac{d}{d y} z_{0}$"
      ],
      "text/plain": [
       "eta_max*z*Derivative(z0, y)/(m + z0)**2 + Derivative(z0, y)"
      ]
     },
     "metadata": {},
     "output_type": "display_data"
    },
    {
     "data": {
      "text/latex": [
       "$\\displaystyle \\frac{\\eta_{max} z \\frac{d}{d z} z_{0}}{\\left(m + z_{0}\\right)^{2}} - \\frac{\\eta_{max}}{m + z_{0}} + \\frac{d}{d z} z_{0}$"
      ],
      "text/plain": [
       "eta_max*z*Derivative(z0, z)/(m + z0)**2 - eta_max/(m + z0) + Derivative(z0, z)"
      ]
     },
     "metadata": {},
     "output_type": "display_data"
    }
   ],
   "source": [
    "x,y,z = symbols('x,y,z')\n",
    "xi,kappa,eta = symbols('xi,kappa,eta')\n",
    "z0       = Function('z0')(x,y,z)\n",
    "xi1     = x\n",
    "dxidx   = xi1.diff(x)\n",
    "dxidy   = xi1.diff(y)\n",
    "dxidz   = xi1.diff(z)\n",
    "display(dxidx)\n",
    "display(dxidy)\n",
    "display(dxidz)\n",
    "kappa1   = y\n",
    "dkappadx = kappa1.diff(x)\n",
    "dkappady = kappa1.diff(y)\n",
    "dkappadz = kappa1.diff(z)\n",
    "display(dkappadx)\n",
    "display(dkappady)\n",
    "display(dkappadz)\n",
    "eta1   = z0 - z*eta_max/(z0+m)\n",
    "detadx = eta1.diff(x)\n",
    "detady = eta1.diff(y)\n",
    "detadz = eta1.diff(z)\n",
    "\n",
    "display(detadx.subs(xi,'xi').subs(kappa,'kappa').subs(eta,'eta').subs(z0,'z0'))\n",
    "display(detady.subs(xi,'xi').subs(kappa,'kappa').subs(eta,'eta').subs(z0,'z0'))\n",
    "display(detadz.subs(xi,'xi').subs(kappa,'kappa').subs(eta,'eta').subs(z0,'z0'))"
   ]
  },
  {
   "cell_type": "code",
   "execution_count": 83,
   "metadata": {},
   "outputs": [
    {
     "data": {
      "text/latex": [
       "$\\displaystyle \\frac{1.0 \\left(\\eta_{max} z + m^{2} + 2 m z_{0}{\\left(\\xi \\right)} + z_{0}^{2}{\\left(\\xi \\right)}\\right) \\frac{d}{d \\xi} z_{0}{\\left(\\xi \\right)}}{\\left(m + z_{0}{\\left(\\xi \\right)}\\right)^{2}}$"
      ],
      "text/plain": [
       "1.0*(eta_max*z + m**2 + 2*m*z0(xi) + z0(xi)**2)*Derivative(z0(xi), xi)/(m + z0(xi))**2"
      ]
     },
     "metadata": {},
     "output_type": "display_data"
    }
   ],
   "source": [
    "x = symbols('x')\n",
    "eta = Function('eta')(x)\n",
    "xi,kappa,eta = symbols('xi,kappa,eta')\n",
    "z0      = Function('z0')(xi)\n",
    "eta1    = z0 - z*eta_max/(z0+m)\n",
    "detadxi = eta1.diff(xi)\n",
    "dksidx  = 1.0\n",
    "detadx  = detadxi*dksidx\n",
    "display(factor(detadx,z0.diff(xi) ).simplify())"
   ]
  }
 ],
 "metadata": {
  "kernelspec": {
   "display_name": "Python 3.9.5 ('base')",
   "language": "python",
   "name": "python3"
  },
  "language_info": {
   "codemirror_mode": {
    "name": "ipython",
    "version": 3
   },
   "file_extension": ".py",
   "mimetype": "text/x-python",
   "name": "python",
   "nbconvert_exporter": "python",
   "pygments_lexer": "ipython3",
   "version": "3.9.5"
  },
  "orig_nbformat": 4,
  "vscode": {
   "interpreter": {
    "hash": "309baa410e37084482bcba9b39a5b9e635e78b91cd7553c4b48a2d89780d0f88"
   }
  }
 },
 "nbformat": 4,
 "nbformat_minor": 2
}
