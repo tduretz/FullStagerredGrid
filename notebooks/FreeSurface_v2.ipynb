{
 "cells": [
  {
   "cell_type": "code",
   "execution_count": 17,
   "metadata": {},
   "outputs": [],
   "source": [
    "from sympy import *"
   ]
  },
  {
   "cell_type": "code",
   "execution_count": 18,
   "metadata": {},
   "outputs": [
    {
     "data": {
      "text/latex": [
       "$\\displaystyle \\left[\\begin{matrix}2 \\eta \\left(0.666666666666667 \\frac{\\partial}{\\partial x} u{\\left(x,y,z \\right)} - 0.333333333333333 \\frac{\\partial}{\\partial y} v{\\left(x,y,z \\right)} - 0.333333333333333 \\frac{\\partial}{\\partial z} w{\\left(x,y,z \\right)}\\right) - P{\\left(x,y,z \\right)} & 2 \\eta \\left(0.5 \\frac{\\partial}{\\partial y} u{\\left(x,y,z \\right)} + 0.5 \\frac{\\partial}{\\partial x} v{\\left(x,y,z \\right)}\\right) & 2 \\eta \\left(0.5 \\frac{\\partial}{\\partial z} u{\\left(x,y,z \\right)} + 0.5 \\frac{\\partial}{\\partial x} w{\\left(x,y,z \\right)}\\right)\\\\2 \\eta \\left(0.5 \\frac{\\partial}{\\partial y} u{\\left(x,y,z \\right)} + 0.5 \\frac{\\partial}{\\partial x} v{\\left(x,y,z \\right)}\\right) & 2 \\eta \\left(- 0.333333333333333 \\frac{\\partial}{\\partial x} u{\\left(x,y,z \\right)} + 0.666666666666667 \\frac{\\partial}{\\partial y} v{\\left(x,y,z \\right)} - 0.333333333333333 \\frac{\\partial}{\\partial z} w{\\left(x,y,z \\right)}\\right) - P{\\left(x,y,z \\right)} & 2 \\eta \\left(0.5 \\frac{\\partial}{\\partial z} v{\\left(x,y,z \\right)} + 0.5 \\frac{\\partial}{\\partial y} w{\\left(x,y,z \\right)}\\right)\\\\2 \\eta \\left(0.5 \\frac{\\partial}{\\partial z} u{\\left(x,y,z \\right)} + 0.5 \\frac{\\partial}{\\partial x} w{\\left(x,y,z \\right)}\\right) & 2 \\eta \\left(0.5 \\frac{\\partial}{\\partial z} v{\\left(x,y,z \\right)} + 0.5 \\frac{\\partial}{\\partial y} w{\\left(x,y,z \\right)}\\right) & 2 \\eta \\left(- 0.333333333333333 \\frac{\\partial}{\\partial x} u{\\left(x,y,z \\right)} - 0.333333333333333 \\frac{\\partial}{\\partial y} v{\\left(x,y,z \\right)} + 0.666666666666667 \\frac{\\partial}{\\partial z} w{\\left(x,y,z \\right)}\\right) - P{\\left(x,y,z \\right)}\\end{matrix}\\right]$"
      ],
      "text/plain": [
       "Matrix([\n",
       "[2*eta*(0.666666666666667*Derivative(u(x, y, z), x) - 0.333333333333333*Derivative(v(x, y, z), y) - 0.333333333333333*Derivative(w(x, y, z), z)) - P(x, y, z),                                                                                         2*eta*(0.5*Derivative(u(x, y, z), y) + 0.5*Derivative(v(x, y, z), x)),                                                                                         2*eta*(0.5*Derivative(u(x, y, z), z) + 0.5*Derivative(w(x, y, z), x))],\n",
       "[                                                                                       2*eta*(0.5*Derivative(u(x, y, z), y) + 0.5*Derivative(v(x, y, z), x)), 2*eta*(-0.333333333333333*Derivative(u(x, y, z), x) + 0.666666666666667*Derivative(v(x, y, z), y) - 0.333333333333333*Derivative(w(x, y, z), z)) - P(x, y, z),                                                                                         2*eta*(0.5*Derivative(v(x, y, z), z) + 0.5*Derivative(w(x, y, z), y))],\n",
       "[                                                                                       2*eta*(0.5*Derivative(u(x, y, z), z) + 0.5*Derivative(w(x, y, z), x)),                                                                                         2*eta*(0.5*Derivative(v(x, y, z), z) + 0.5*Derivative(w(x, y, z), y)), 2*eta*(-0.333333333333333*Derivative(u(x, y, z), x) - 0.333333333333333*Derivative(v(x, y, z), y) + 0.666666666666667*Derivative(w(x, y, z), z)) - P(x, y, z)]])"
      ]
     },
     "metadata": {},
     "output_type": "display_data"
    }
   ],
   "source": [
    "x, y, z = symbols('x,y,z')\n",
    "sxx, syy, szz, sxy, sxz, syz = symbols('sigma_xx, sigma_yy, sigma_zz, sigma_xy, sigma_xz, sigma_yz')\n",
    "u_x, v_x, w_x, u_y, v_y, w_y, u_z, v_z, w_z = symbols('u_x, v_x, w_x, u_y, v_y, w_y, u_z, v_z, w_z')\n",
    "eta = symbols('eta')\n",
    "u = Function('u')(x,y,z)\n",
    "v = Function('v')(x,y,z)\n",
    "w = Function('w')(x,y,z)\n",
    "P = Function('P')(x,y,z)\n",
    "hx, hy = symbols('h_x, h_y')\n",
    "div  = u.diff(x) + v.diff(y) + w.diff(z)\n",
    "Exx  = u.diff(x) - 1/3*div\n",
    "Eyy  = v.diff(y) - 1/3*div\n",
    "Ezz  = w.diff(z) - 1/3*div\n",
    "Exz  = 1/2*(u.diff(z) + w.diff(x))\n",
    "Exy  = 1/2*(u.diff(y) + v.diff(x))\n",
    "Eyz  = 1/2*(v.diff(z) + w.diff(y))\n",
    "E    = Matrix([[Exx],[Eyy],[Ezz],[Exy],[Exz],[Eyz]])\n",
    "D    = Matrix([[2*eta,0,0,0,0,0],[0,2*eta,0,0,0,0],[0,0,2*eta,0,0,0],[0,0,0,2*eta,0,0],[0,0,0,0,2*eta,0],[0,0,0,0,0,2*eta]])\n",
    "Svec = D*E\n",
    "S    = Matrix([[-P+Svec[0],    Svec[3],    Svec[4]],\n",
    "               [   Svec[3], -P+Svec[1],    Svec[5]],\n",
    "               [   Svec[4],    Svec[5], -P+Svec[2]]])\n",
    "display(S)"
   ]
  },
  {
   "cell_type": "code",
   "execution_count": 19,
   "metadata": {},
   "outputs": [
    {
     "data": {
      "text/latex": [
       "$\\displaystyle \\left[\\begin{matrix}2 \\eta \\left(0.5 dudz + 0.5 dwdx\\right)\\\\2 \\eta \\left(0.5 dvdz + 0.5 dwdy\\right)\\\\2 \\eta \\left(- 0.333333333333333 dudx - 0.333333333333333 dvdy + 0.666666666666667 dwdz\\right) - P{\\left(x,y,z \\right)}\\end{matrix}\\right]$"
      ],
      "text/plain": [
       "Matrix([\n",
       "[                                                                   2*eta*(0.5*dudz + 0.5*dwdx)],\n",
       "[                                                                   2*eta*(0.5*dvdz + 0.5*dwdy)],\n",
       "[2*eta*(-0.333333333333333*dudx - 0.333333333333333*dvdy + 0.666666666666667*dwdz) - P(x, y, z)]])"
      ]
     },
     "metadata": {},
     "output_type": "display_data"
    }
   ],
   "source": [
    "# The flat case\n",
    "dudz, dvdz, dwdz = symbols('dudz, dvdz, dwdz')\n",
    "dudx, dudy, dvdy, dvdx, dvdz, dwdx, dwdy = symbols('dudx, dudy, dvdy, dvdx, dvdz, dwdx, dwdy')\n",
    "n = Matrix([0*hx,0*hy,1])\n",
    "f = (S)*n\n",
    "f = f.subs(u.diff(z), dudz).subs(v.diff(z), dvdz).subs(w.diff(z), dwdz)\n",
    "f = f.subs(u.diff(y), dudy).subs(v.diff(y), dvdy).subs(w.diff(y), dwdy)\n",
    "f = f.subs(u.diff(x), dudx).subs(v.diff(x), dvdx).subs(w.diff(x), dwdx)\n",
    "s = solve(f, (dudz, dvdz, dwdz))\n",
    "display(f)"
   ]
  },
  {
   "cell_type": "code",
   "execution_count": 20,
   "metadata": {},
   "outputs": [
    {
     "data": {
      "text/latex": [
       "$\\displaystyle - dwdx$"
      ],
      "text/plain": [
       "-dwdx"
      ]
     },
     "execution_count": 20,
     "metadata": {},
     "output_type": "execute_result"
    }
   ],
   "source": [
    "s[dudz]"
   ]
  },
  {
   "cell_type": "code",
   "execution_count": 21,
   "metadata": {},
   "outputs": [
    {
     "data": {
      "text/latex": [
       "$\\displaystyle - dwdy$"
      ],
      "text/plain": [
       "-dwdy"
      ]
     },
     "execution_count": 21,
     "metadata": {},
     "output_type": "execute_result"
    }
   ],
   "source": [
    "s[dvdz]"
   ]
  },
  {
   "cell_type": "code",
   "execution_count": 23,
   "metadata": {},
   "outputs": [
    {
     "data": {
      "text/latex": [
       "$\\displaystyle 0.5 dudx + 0.5 dvdy + \\frac{0.75 P{\\left(x,y,z \\right)}}{\\eta}$"
      ],
      "text/plain": [
       "0.5*dudx + 0.5*dvdy + 0.75*P(x, y, z)/eta"
      ]
     },
     "execution_count": 23,
     "metadata": {},
     "output_type": "execute_result"
    }
   ],
   "source": [
    "s[dwdz].simplify()"
   ]
  },
  {
   "cell_type": "markdown",
   "metadata": {},
   "source": [
    "$\\frac{\\partial w}{\\partial z} = -\\frac{\\lambda}{\\lambda + 2\\mu} (\\frac{\\partial u}{\\partial x} + \\frac{\\partial v}{\\partial y}) $"
   ]
  },
  {
   "cell_type": "markdown",
   "metadata": {},
   "source": []
  }
 ],
 "metadata": {
  "kernelspec": {
   "display_name": "Python 3.7.4 ('base')",
   "language": "python",
   "name": "python3"
  },
  "language_info": {
   "codemirror_mode": {
    "name": "ipython",
    "version": 3
   },
   "file_extension": ".py",
   "mimetype": "text/x-python",
   "name": "python",
   "nbconvert_exporter": "python",
   "pygments_lexer": "ipython3",
   "version": "3.7.4"
  },
  "orig_nbformat": 4,
  "vscode": {
   "interpreter": {
    "hash": "c8364b0fb7479dc94b0c24ab2a5292d01c2912f237aa8319c6d135d5547fe183"
   }
  }
 },
 "nbformat": 4,
 "nbformat_minor": 2
}
