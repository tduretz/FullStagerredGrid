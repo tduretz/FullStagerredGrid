{
 "cells": [
  {
   "cell_type": "code",
   "execution_count": 2,
   "metadata": {},
   "outputs": [],
   "source": [
    "from sympy import *"
   ]
  },
  {
   "cell_type": "code",
   "execution_count": 3,
   "metadata": {},
   "outputs": [],
   "source": [
    "A = 0.\n",
    "B = 0.\n",
    "C = 1.\n",
    "def d_dx(a,A):\n",
    "    return a.diff(x)\n",
    "def d_dy(a,B):\n",
    "    return a.diff(y)\n",
    "def d_dz(a,C):\n",
    "    return a.diff(z)"
   ]
  },
  {
   "cell_type": "code",
   "execution_count": 4,
   "metadata": {},
   "outputs": [],
   "source": [
    "#  3D"
   ]
  },
  {
   "cell_type": "code",
   "execution_count": 5,
   "metadata": {},
   "outputs": [
    {
     "data": {
      "text/latex": [
       "$\\displaystyle \\left[\\begin{matrix}2 \\eta \\left(0.666666666666667 \\frac{\\partial}{\\partial x} u{\\left(x,y,z \\right)} - 0.333333333333333 \\frac{\\partial}{\\partial y} v{\\left(x,y,z \\right)} - 0.333333333333333 \\frac{\\partial}{\\partial z} w{\\left(x,y,z \\right)}\\right) - P{\\left(x,y,z \\right)} & 2 \\eta \\left(0.5 \\frac{\\partial}{\\partial y} u{\\left(x,y,z \\right)} + 0.5 \\frac{\\partial}{\\partial x} v{\\left(x,y,z \\right)}\\right) & 2 \\eta \\left(0.5 \\frac{\\partial}{\\partial z} u{\\left(x,y,z \\right)} + 0.5 \\frac{\\partial}{\\partial x} w{\\left(x,y,z \\right)}\\right)\\\\2 \\eta \\left(0.5 \\frac{\\partial}{\\partial y} u{\\left(x,y,z \\right)} + 0.5 \\frac{\\partial}{\\partial x} v{\\left(x,y,z \\right)}\\right) & 2 \\eta \\left(- 0.333333333333333 \\frac{\\partial}{\\partial x} u{\\left(x,y,z \\right)} + 0.666666666666667 \\frac{\\partial}{\\partial y} v{\\left(x,y,z \\right)} - 0.333333333333333 \\frac{\\partial}{\\partial z} w{\\left(x,y,z \\right)}\\right) - P{\\left(x,y,z \\right)} & 2 \\eta \\left(0.5 \\frac{\\partial}{\\partial z} v{\\left(x,y,z \\right)} + 0.5 \\frac{\\partial}{\\partial y} w{\\left(x,y,z \\right)}\\right)\\\\2 \\eta \\left(0.5 \\frac{\\partial}{\\partial z} u{\\left(x,y,z \\right)} + 0.5 \\frac{\\partial}{\\partial x} w{\\left(x,y,z \\right)}\\right) & 2 \\eta \\left(0.5 \\frac{\\partial}{\\partial z} v{\\left(x,y,z \\right)} + 0.5 \\frac{\\partial}{\\partial y} w{\\left(x,y,z \\right)}\\right) & 2 \\eta \\left(- 0.333333333333333 \\frac{\\partial}{\\partial x} u{\\left(x,y,z \\right)} - 0.333333333333333 \\frac{\\partial}{\\partial y} v{\\left(x,y,z \\right)} + 0.666666666666667 \\frac{\\partial}{\\partial z} w{\\left(x,y,z \\right)}\\right) - P{\\left(x,y,z \\right)}\\end{matrix}\\right]$"
      ],
      "text/plain": [
       "Matrix([\n",
       "[2*eta*(0.666666666666667*Derivative(u(x, y, z), x) - 0.333333333333333*Derivative(v(x, y, z), y) - 0.333333333333333*Derivative(w(x, y, z), z)) - P(x, y, z),                                                                                         2*eta*(0.5*Derivative(u(x, y, z), y) + 0.5*Derivative(v(x, y, z), x)),                                                                                         2*eta*(0.5*Derivative(u(x, y, z), z) + 0.5*Derivative(w(x, y, z), x))],\n",
       "[                                                                                       2*eta*(0.5*Derivative(u(x, y, z), y) + 0.5*Derivative(v(x, y, z), x)), 2*eta*(-0.333333333333333*Derivative(u(x, y, z), x) + 0.666666666666667*Derivative(v(x, y, z), y) - 0.333333333333333*Derivative(w(x, y, z), z)) - P(x, y, z),                                                                                         2*eta*(0.5*Derivative(v(x, y, z), z) + 0.5*Derivative(w(x, y, z), y))],\n",
       "[                                                                                       2*eta*(0.5*Derivative(u(x, y, z), z) + 0.5*Derivative(w(x, y, z), x)),                                                                                         2*eta*(0.5*Derivative(v(x, y, z), z) + 0.5*Derivative(w(x, y, z), y)), 2*eta*(-0.333333333333333*Derivative(u(x, y, z), x) - 0.333333333333333*Derivative(v(x, y, z), y) + 0.666666666666667*Derivative(w(x, y, z), z)) - P(x, y, z)]])"
      ]
     },
     "metadata": {},
     "output_type": "display_data"
    }
   ],
   "source": [
    "x, y, z = symbols('x,y,z')\n",
    "sxx, syy, szz, sxy, sxz, syz = symbols('sigma_xx, sigma_yy, sigma_zz, sigma_xy, sigma_xz, sigma_yz')\n",
    "u_x, v_x, w_x, u_y, v_y, w_y, u_z, v_z, w_z = symbols('u_x, v_x, w_x, u_y, v_y, w_y, u_z, v_z, w_z')\n",
    "eta = symbols('eta')\n",
    "u = Function('u')(x,y,z)\n",
    "v = Function('v')(x,y,z)\n",
    "w = Function('w')(x,y,z)\n",
    "P = Function('P')(x,y,z)\n",
    "hx, hy = symbols('h_x, h_y')\n",
    "div  = d_dx(u,A) + d_dy(v,B) + d_dz(w,C)\n",
    "Exx  = d_dx(u,A) - 1/3*div\n",
    "Eyy  = d_dy(v,B) - 1/3*div\n",
    "Ezz  = d_dz(w,C) - 1/3*div\n",
    "Exz  = 1/2*(d_dz(u,C) + d_dx(w,A))\n",
    "Exy  = 1/2*(d_dy(u,B) + d_dx(v,A))\n",
    "Eyz  = 1/2*(d_dz(v,C) + d_dy(w,B))\n",
    "E    = Matrix([[Exx],[Eyy],[Ezz],[Exy],[Exz],[Eyz]])\n",
    "D    = Matrix([[2*eta,0,0,0,0,0],[0,2*eta,0,0,0,0],[0,0,2*eta,0,0,0],[0,0,0,2*eta,0,0],[0,0,0,0,2*eta,0],[0,0,0,0,0,2*eta]])\n",
    "Svec = D*E\n",
    "S    = Matrix([[-P+Svec[0],    Svec[3],    Svec[4]],\n",
    "               [   Svec[3], -P+Svec[1],    Svec[5]],\n",
    "               [   Svec[4],    Svec[5], -P+Svec[2]]])\n",
    "display(S)"
   ]
  },
  {
   "cell_type": "code",
   "execution_count": 6,
   "metadata": {},
   "outputs": [
    {
     "data": {
      "text/latex": [
       "$\\displaystyle \\left[\\begin{matrix}2 \\eta \\left(0.5 dudz + 0.5 dwdx\\right)\\\\2 \\eta \\left(0.5 dvdz + 0.5 dwdy\\right)\\\\2 \\eta \\left(- 0.333333333333333 dudx - 0.333333333333333 dvdy + 0.666666666666667 dwdz\\right) - P{\\left(x,y,z \\right)}\\end{matrix}\\right]$"
      ],
      "text/plain": [
       "Matrix([\n",
       "[                                                                   2*eta*(0.5*dudz + 0.5*dwdx)],\n",
       "[                                                                   2*eta*(0.5*dvdz + 0.5*dwdy)],\n",
       "[2*eta*(-0.333333333333333*dudx - 0.333333333333333*dvdy + 0.666666666666667*dwdz) - P(x, y, z)]])"
      ]
     },
     "metadata": {},
     "output_type": "display_data"
    }
   ],
   "source": [
    "# The flat case\n",
    "dudz, dvdz, dwdz = symbols('dudz, dvdz, dwdz')\n",
    "dudx, dudy, dvdy, dvdx, dvdz, dwdx, dwdy = symbols('dudx, dudy, dvdy, dvdx, dvdz, dwdx, dwdy')\n",
    "n = Matrix([0*hx,0*hy,1])\n",
    "f = (S)*n\n",
    "f = f.subs(u.diff(z), dudz).subs(v.diff(z), dvdz).subs(w.diff(z), dwdz)\n",
    "f = f.subs(u.diff(y), dudy).subs(v.diff(y), dvdy).subs(w.diff(y), dwdy)\n",
    "f = f.subs(u.diff(x), dudx).subs(v.diff(x), dvdx).subs(w.diff(x), dwdx)\n",
    "s = solve(f, (dudz, dvdz, dwdz))\n",
    "display(f)"
   ]
  },
  {
   "cell_type": "code",
   "execution_count": 13,
   "metadata": {},
   "outputs": [
    {
     "data": {
      "text/latex": [
       "$\\displaystyle - dwdx dz + uS$"
      ],
      "text/plain": [
       "-dwdx*dz + uS"
      ]
     },
     "metadata": {},
     "output_type": "display_data"
    },
    {
     "data": {
      "text/latex": [
       "$\\displaystyle - dwdy dz + vS$"
      ],
      "text/plain": [
       "-dwdy*dz + vS"
      ]
     },
     "metadata": {},
     "output_type": "display_data"
    },
    {
     "data": {
      "text/latex": [
       "$\\displaystyle 0.5 dudx dz + 0.5 dvdy dz + \\frac{0.75 dz P{\\left(x,y,z \\right)}}{\\eta} + wS$"
      ],
      "text/plain": [
       "0.5*dudx*dz + 0.5*dvdy*dz + 0.75*dz*P(x, y, z)/eta + wS"
      ]
     },
     "metadata": {},
     "output_type": "display_data"
    }
   ],
   "source": [
    "uN,uS,dz = symbols('uN,uS,dz')\n",
    "vN,vS = symbols('vN,vS')\n",
    "wN,wS = symbols('wN,wS')\n",
    "# dudz\n",
    "fx = (uN-uS)/dz - s[dudz]\n",
    "display(solve(fx,uN)[0])\n",
    "# dvdz\n",
    "fy = (vN-vS)/dz - s[dvdz].simplify()\n",
    "display(solve(fy,vN)[0])\n",
    "# dwdz\n",
    "fz = (wN-wS)/dz - s[dwdz].simplify()\n",
    "display(solve(fz,wN)[0])"
   ]
  },
  {
   "cell_type": "code",
   "execution_count": 31,
   "metadata": {},
   "outputs": [
    {
     "data": {
      "text/latex": [
       "$\\displaystyle \\left[\\begin{matrix}2 \\eta \\left(0.5 dudy + 0.5 dvdx\\right)\\\\2 \\eta \\left(- 0.333333333333333 dudx + 0.666666666666667 dvdy\\right) - P{\\left(x,y,z \\right)}\\end{matrix}\\right]$"
      ],
      "text/plain": [
       "Matrix([\n",
       "[                                          2*eta*(0.5*dudy + 0.5*dvdx)],\n",
       "[2*eta*(-0.333333333333333*dudx + 0.666666666666667*dvdy) - P(x, y, z)]])"
      ]
     },
     "metadata": {},
     "output_type": "display_data"
    }
   ],
   "source": [
    "#  2D\n",
    "div  = d_dx(u,A) + d_dy(v,B)\n",
    "Exx  = d_dx(u,A) - 1/3*div\n",
    "Eyy  = d_dy(v,B) - 1/3*div\n",
    "E    = Matrix([[Exx],[Eyy],[Exy]])\n",
    "D    = Matrix([[2*eta,0,0],[0,2*eta,0],[0,0,2*eta]])\n",
    "Svec = D*E\n",
    "S    = Matrix([[-P+Svec[0],    Svec[2]],\n",
    "               [   Svec[2], -P+Svec[1]]])\n",
    "n = Matrix([0*hx,1])\n",
    "f = (S)*n\n",
    "f = f.subs(u.diff(z), dudz).subs(v.diff(z), dvdz).subs(w.diff(z), dwdz)\n",
    "f = f.subs(u.diff(y), dudy).subs(v.diff(y), dvdy).subs(w.diff(y), dwdy)\n",
    "f = f.subs(u.diff(x), dudx).subs(v.diff(x), dvdx).subs(w.diff(x), dwdx)\n",
    "s = solve(f, (dudy, dvdy))\n",
    "display(f)"
   ]
  },
  {
   "cell_type": "code",
   "execution_count": 33,
   "metadata": {},
   "outputs": [
    {
     "data": {
      "text/latex": [
       "$\\displaystyle - dvdx dz + uS$"
      ],
      "text/plain": [
       "-dvdx*dz + uS"
      ]
     },
     "metadata": {},
     "output_type": "display_data"
    },
    {
     "data": {
      "text/latex": [
       "$\\displaystyle 0.5 dudx dz + \\frac{0.75 dz P{\\left(x,y,z \\right)}}{\\eta} + vS$"
      ],
      "text/plain": [
       "0.5*dudx*dz + 0.75*dz*P(x, y, z)/eta + vS"
      ]
     },
     "metadata": {},
     "output_type": "display_data"
    }
   ],
   "source": [
    "uN,uS,dz = symbols('uN,uS,dz')\n",
    "vN,vS = symbols('vN,vS')\n",
    "wN,wS = symbols('wN,wS')\n",
    "# dudz\n",
    "fx = (uN-uS)/dz - s[dudy]\n",
    "display(solve(fx,uN)[0])\n",
    "# dvdz\n",
    "fy = (vN-vS)/dz - s[dvdy].simplify()\n",
    "display(solve(fy,vN)[0])"
   ]
  }
 ],
 "metadata": {
  "kernelspec": {
   "display_name": "Python 3.7.4 ('base')",
   "language": "python",
   "name": "python3"
  },
  "language_info": {
   "codemirror_mode": {
    "name": "ipython",
    "version": 3
   },
   "file_extension": ".py",
   "mimetype": "text/x-python",
   "name": "python",
   "nbconvert_exporter": "python",
   "pygments_lexer": "ipython3",
   "version": "3.7.4"
  },
  "orig_nbformat": 4,
  "vscode": {
   "interpreter": {
    "hash": "c8364b0fb7479dc94b0c24ab2a5292d01c2912f237aa8319c6d135d5547fe183"
   }
  }
 },
 "nbformat": 4,
 "nbformat_minor": 2
}
