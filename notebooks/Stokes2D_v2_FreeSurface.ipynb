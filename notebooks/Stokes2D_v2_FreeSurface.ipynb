{
 "cells": [
  {
   "cell_type": "code",
   "execution_count": 2,
   "metadata": {},
   "outputs": [],
   "source": [
    "from sympy import *"
   ]
  },
  {
   "cell_type": "markdown",
   "metadata": {},
   "source": [
    "<font size= 6> Specific case: a flat free surface: </font>\n",
    "1. `dVxdy = -dVydx`\n",
    "2. `dVydy = 1/2*dVxdx + 3/4*P/eta`\n",
    "\n",
    "The Fictitious values are:\n",
    "1. `VxN = −dVydx*dy + VxS`\n",
    "2. `VyN = 0.5*dVxdx*dy + 0.75*dz*P/eta+vS`\n",
    "\n",
    "see notebook: FreeSurface_v3.ipynb"
   ]
  },
  {
   "cell_type": "markdown",
   "metadata": {},
   "source": [
    "<font size= 6> Discretisation of the linear momentum balance </font>"
   ]
  },
  {
   "cell_type": "code",
   "execution_count": 3,
   "metadata": {},
   "outputs": [],
   "source": [
    "ani = 1"
   ]
  },
  {
   "cell_type": "code",
   "execution_count": 4,
   "metadata": {},
   "outputs": [],
   "source": [
    "def d_dx1(uE,uW,uN,uS,dksi,deta,dksidx,detadx):\n",
    "    return dksidx*(uE-uW)/dksi + detadx*(uN-uS)/deta\n",
    "def d_dy1(vE,vW,vN,vS,dksi,deta,dksidy,detady):\n",
    "    return dksidy*(vE-vW)/dksi + detady*(vN-vS)/deta"
   ]
  },
  {
   "cell_type": "code",
   "execution_count": 5,
   "metadata": {},
   "outputs": [],
   "source": [
    "dx, dy, dt = symbols('dx, dy, dt')\n",
    "VxC, VxW, VxE, VxS, VxN = symbols('VxC, VxW, VxE, VxS, VxN')\n",
    "VyC, VyW, VyE, VyS, VyN = symbols('VyC, VyW, VyE, VyS, VyN')\n",
    "VySW, VySE, VyNW, VyNE = symbols('VySW, VySE, VyNW, VyNE')\n",
    "VxSW, VxSE, VxNW, VxNE = symbols('VxSW, VxSE, VxNW, VxNE')\n",
    "pS, pN, pE, pW = symbols('pS, pN, pE, pW')\n",
    "D11E, D11W, D12E, D12W, D13E, D13W = symbols('D11E, D11W, D12E, D12W, D13E, D13W')\n",
    "D21N, D21S, D22N, D22S, D23N, D23S = symbols('D21N, D21S, D22N, D22S, D23N, D23S')\n",
    "D11N, D11S, D12N, D12S, D13N, D13S = symbols('D11N, D11S, D12N, D12S, D13N, D13S')\n",
    "D21E, D21W, D22E, D22W, D23E, D23W = symbols('D21E, D21W, D22E, D22W, D23E, D23W')\n",
    "D31E, D31W, D32E, D32W, D33E, D33W = symbols('D31E, D31W, D32E, D32W, D33E, D33W')\n",
    "D31N, D31S, D32N, D32S, D33S, D33N = symbols('D31N, D31S, D32N, D32S, D33S, D33N')"
   ]
  },
  {
   "cell_type": "code",
   "execution_count": 6,
   "metadata": {},
   "outputs": [],
   "source": [
    "dofsV = [VxC, VxW, VxE, VxS, VxN, VxSW, VxSE, VxNW, VxNE,\n",
    "         VyC, VyW, VyE, VyS, VyN, VySW, VySE, VyNW, VyNE]\n",
    "dofsP = [ pW, pE, pS, pN ]"
   ]
  },
  {
   "cell_type": "code",
   "execution_count": null,
   "metadata": {},
   "outputs": [],
   "source": []
  },
  {
   "cell_type": "code",
   "execution_count": 7,
   "metadata": {},
   "outputs": [],
   "source": [
    "aW,bW,cW,dW = symbols('aW,bW,cW,dW')\n",
    "aE,bE,cE,dE = symbols('aE,bE,cE,dE')\n",
    "aS,bS,cS,dS = symbols('aS,bS,cS,dS')\n",
    "aN,bN,cN,dN = symbols('aN,bN,cN,dN')\n",
    "aC,bC,cC,dC = symbols('aC,bC,cC,dC')"
   ]
  },
  {
   "cell_type": "code",
   "execution_count": 8,
   "metadata": {},
   "outputs": [],
   "source": [
    "# Velocity gradients\n",
    "# 1. `dVxdy = -dVydx`\n",
    "# 2. `dVydy = 1/2*dVxdx + 3/4*P/eta`\n",
    "P_surf, eta_surf = symbols('P_surf, eta_surf')\n",
    "dVxdxE = d_dx1(VxE,VxC,VxNE,VxSE,dx,dy,aE,bE)\n",
    "dVydyE = d_dy1(VyE,VyC,VyNE,VySE,dx,dy,cE,dE)\n",
    "dVxdxW = d_dx1(VxC,VxW,VxNW,VxSW,dx,dy,aW,bW)\n",
    "dVydyW = d_dy1(VyC,VyW,VyNW,VySW,dx,dy,cW,dW)\n",
    "# ----------\n",
    "dVxdxN = d_dx1(VxNE,VxNW,VxN,VxC,dx,dy,aN,bN)\n",
    "# dVydyN = d_dy1(VyNE,VyNW,VyN,VyC,dx,dy,cN,dN)\n",
    "dVydyN  = Rational(1,2)*dVxdxN + Rational(3,4)*P_surf/eta_surf\n",
    "dVxdxS = d_dx1(VxSE,VxSW,VxC,VxS,dx,dy,aS,bS)\n",
    "dVydyS = d_dy1(VySE,VySW,VyC,VyS,dx,dy,cS,dS)\n",
    "# ----------\n",
    "dVydxN = d_dx1(VyNE,VyNW,VyN,VyC,dx,dy,aN,bN)\n",
    "# dVxdyN = d_dy1(VxNE,VxNW,VxN,VxC,dx,dy,cN,dN)\n",
    "dVxdyN = -dVydxN\n",
    "dVydxS = d_dx1(VySE,VySW,VyC,VyS,dx,dy,aS,bS)\n",
    "dVxdyS = d_dy1(VxSE,VxSW,VxC,VxS,dx,dy,cS,dS)\n",
    "# ----------\n",
    "dVydxE = d_dx1(VyE,VyC,VyNE,VySE,dx,dy,aE,bE)\n",
    "dVxdyE = d_dy1(VxE,VxC,VxNE,VxSE,dx,dy,cE,dE)\n",
    "dVydxW = d_dx1(VyC,VyW,VyNW,VySW,dx,dy,aW,bW)\n",
    "dVxdyW = d_dy1(VxC,VxW,VxNW,VxSW,dx,dy,cW,dW)"
   ]
  },
  {
   "cell_type": "code",
   "execution_count": 9,
   "metadata": {},
   "outputs": [],
   "source": [
    "# Kinematics\n",
    "divE   = dVxdxE + dVydyE\n",
    "divW   = dVxdxW + dVydyW\n",
    "divN   = dVxdxN + dVydyN\n",
    "divS   = dVxdxS + dVydyS\n",
    "ExxE   = dVxdxE - Rational(1,3)*divE\n",
    "ExxW   = dVxdxW - Rational(1,3)*divW\n",
    "ExxN   = dVxdxN - Rational(1,3)*divN\n",
    "ExxS   = dVxdxS - Rational(1,3)*divS\n",
    "EyyE   = dVydyE - Rational(1,3)*divE\n",
    "EyyW   = dVydyW - Rational(1,3)*divW\n",
    "EyyN   = dVydyN - Rational(1,3)*divN\n",
    "EyyS   = dVydyS - Rational(1,3)*divS\n",
    "ExyN   = Rational(1,2)*(dVxdyN + dVydxN)\n",
    "ExyS   = Rational(1,2)*(dVxdyS + dVydxS)\n",
    "ExyE   = Rational(1,2)*(dVxdyE + dVydxE)\n",
    "ExyW   = Rational(1,2)*(dVxdyW + dVydxW)"
   ]
  },
  {
   "cell_type": "code",
   "execution_count": 10,
   "metadata": {},
   "outputs": [],
   "source": [
    "# Deviatoric stress\n",
    "TxxE   =     D11E*ExxE + ani*D12E*EyyE + ani*D13E*ExyE\n",
    "TxxW   =     D11W*ExxW + ani*D12W*EyyW + ani*D13W*ExyW\n",
    "TxxN   =     D11N*ExxN + ani*D12N*EyyN + ani*D13N*ExyN\n",
    "TxxS   =     D11S*ExxS + ani*D12S*EyyS + ani*D13S*ExyS\n",
    "TyyE   = ani*D21E*ExxE +     D22E*EyyE + ani*D23E*ExyE\n",
    "TyyW   = ani*D21W*ExxW +     D22W*EyyW + ani*D23W*ExyW\n",
    "TyyN   = ani*D21N*ExxN +     D22N*EyyN + ani*D23N*ExyN\n",
    "TyyS   = ani*D21S*ExxS +     D22S*EyyS + ani*D23S*ExyS\n",
    "TxyE   = ani*D31E*ExxE + ani*D32E*EyyE +     D33E*ExyE\n",
    "TxyW   = ani*D31W*ExxW + ani*D32W*EyyW +     D33W*ExyW\n",
    "TxyN   = ani*D31N*ExxN + ani*D32N*EyyN +     D33N*ExyN\n",
    "TxyS   = ani*D31S*ExxS + ani*D32S*EyyS +     D33S*ExyS"
   ]
  },
  {
   "cell_type": "code",
   "execution_count": 11,
   "metadata": {},
   "outputs": [],
   "source": [
    "# Linear momentum balance\n",
    "Fx = -( d_dx1(TxxE,TxxW,TxxN,TxxS,dx,dy,aC,bC) + d_dy1(TxyE,TxyW,TxyN,TxyS,dx,dy,cC,dC) + d_dx1(pE,pW,pN,pS,dx,dy,aC,bC) )\n",
    "Fy = -( d_dy1(TyyE,TyyW,TyyN,TyyS,dx,dy,cC,dC) + d_dx1(TxyE,TxyW,TxyN,TxyS,dx,dy,aC,bC) + d_dy1(pE,pW,pN,pS,dx,dy,cC,dC) )"
   ]
  },
  {
   "cell_type": "code",
   "execution_count": 12,
   "metadata": {},
   "outputs": [],
   "source": [
    "a = ('D11E', 'D11W', 'D12E', 'D12W', 'D13E', 'D13W',\n",
    "     'D21N', 'D21S', 'D22N', 'D22S', 'D23N', 'D23S',\n",
    "     'D11N', 'D11S', 'D12N', 'D12S', 'D13N', 'D13S',\n",
    "     'D21E', 'D21W', 'D22E', 'D22W', 'D23E', 'D23W',\n",
    "     'D31E', 'D31W', 'D32E', 'D32W', 'D33E', 'D33W',\n",
    "     'D31N', 'D31S', 'D32N', 'D32S', 'D33S', 'D33N')\n",
    "b = ('D.D11E', 'D.D11W', 'D.D12E', 'D.D12W', 'D.D13E', 'D.D13W',\n",
    "     'D.D21N', 'D.D21S', 'D.D22N', 'D.D22S', 'D.D23N', 'D.D23S',\n",
    "     'D.D11N', 'D.D11S', 'D.D12N', 'D.D12S', 'D.D13N', 'D.D13S',\n",
    "     'D.D21E', 'D.D21W', 'D.D22E', 'D.D22W', 'D.D23E', 'D.D23W',\n",
    "     'D.D31E', 'D.D31W', 'D.D32E', 'D.D32W', 'D.D33E', 'D.D33W',\n",
    "     'D.D31N', 'D.D31S', 'D.D32N', 'D.D32S', 'D.D33S', 'D.D33N')\n",
    "c = ('aW','bW','cW','dW',\n",
    "     'aE','bE','cE','dE',\n",
    "     'aS','bS','cS','dS',\n",
    "     'aN','bN','cN','dN',\n",
    "     'aC','bC','cC','dC')\n",
    "d = ('a.W','b.W','c.W','d.W',\n",
    "     'a.E','b.E','c.E','d.E',\n",
    "     'a.S','b.S','c.S','d.S',\n",
    "     'a.N','b.N','c.N','d.N',\n",
    "     'a.C','b.C','c.C','d.C')"
   ]
  },
  {
   "cell_type": "code",
   "execution_count": 13,
   "metadata": {},
   "outputs": [
    {
     "name": "stdout",
     "output_type": "stream",
     "text": [
      "v_uu[1] = (dx .^ 2 .* (b.C .* (3 * D.D11N .* b.N + 4 * D.D11S .* b.S - 2 * D.D12S .* b.S + 3 * D.D13S .* d.S) + d.C .* (3 * D.D31N .* b.N + 4 * D.D31S .* b.S - 2 * D.D32S .* b.S + 3 * D.D33S .* d.S)) + dy .^ 2 .* (a.C .* (4 * D.D11E .* a.E + 4 * D.D11W .* a.W - 2 * D.D12E .* a.E - 2 * D.D12W .* a.W + 3 * D.D13E .* c.E + 3 * D.D13W .* c.W) + c.C .* (4 * D.D31E .* a.E + 4 * D.D31W .* a.W - 2 * D.D32E .* a.E - 2 * D.D32W .* a.W + 3 * D.D33E .* c.E + 3 * D.D33W .* c.W))) ./ (6 * dx .^ 2 .* dy .^ 2)\n",
      "v_uu[2] = (-a.C .* (4 * D.D11W .* a.W - 2 * D.D12W .* a.W + 3 * D.D13W .* c.W) - c.C .* (4 * D.D31W .* a.W - 2 * D.D32W .* a.W + 3 * D.D33W .* c.W)) ./ (6 * dx .^ 2)\n",
      "v_uu[3] = (-a.C .* (4 * D.D11E .* a.E - 2 * D.D12E .* a.E + 3 * D.D13E .* c.E) - c.C .* (4 * D.D31E .* a.E - 2 * D.D32E .* a.E + 3 * D.D33E .* c.E)) ./ (6 * dx .^ 2)\n",
      "v_uu[4] = (-b.C .* (4 * D.D11S .* b.S - 2 * D.D12S .* b.S + 3 * D.D13S .* d.S) - d.C .* (4 * D.D31S .* b.S - 2 * D.D32S .* b.S + 3 * D.D33S .* d.S)) ./ (6 * dy .^ 2)\n",
      "v_uu[5] = b.N .* (-D.D11N .* b.C - D.D31N .* d.C) ./ (2 * dy .^ 2)\n",
      "v_uu[6] = (-a.C .* (4 * D.D11W .* b.W - 2 * D.D12W .* b.W + 3 * D.D13W .* d.W) - b.C .* (4 * D.D11S .* a.S - 2 * D.D12S .* a.S + 3 * D.D13S .* c.S) - c.C .* (4 * D.D31W .* b.W - 2 * D.D32W .* b.W + 3 * D.D33W .* d.W) - d.C .* (4 * D.D31S .* a.S - 2 * D.D32S .* a.S + 3 * D.D33S .* c.S)) ./ (6 * dx .* dy)\n",
      "v_uu[7] = (a.C .* (4 * D.D11E .* b.E - 2 * D.D12E .* b.E + 3 * D.D13E .* d.E) + b.C .* (4 * D.D11S .* a.S - 2 * D.D12S .* a.S + 3 * D.D13S .* c.S) + c.C .* (4 * D.D31E .* b.E - 2 * D.D32E .* b.E + 3 * D.D33E .* d.E) + d.C .* (4 * D.D31S .* a.S - 2 * D.D32S .* a.S + 3 * D.D33S .* c.S)) ./ (6 * dx .* dy)\n",
      "v_uu[8] = (3 * D.D11N .* a.N .* b.C + 3 * D.D31N .* a.N .* d.C + a.C .* (4 * D.D11W .* b.W - 2 * D.D12W .* b.W + 3 * D.D13W .* d.W) + c.C .* (4 * D.D31W .* b.W - 2 * D.D32W .* b.W + 3 * D.D33W .* d.W)) ./ (6 * dx .* dy)\n",
      "v_uu[9] = (-3 * D.D11N .* a.N .* b.C - 3 * D.D31N .* a.N .* d.C - a.C .* (4 * D.D11E .* b.E - 2 * D.D12E .* b.E + 3 * D.D13E .* d.E) - c.C .* (4 * D.D31E .* b.E - 2 * D.D32E .* b.E + 3 * D.D33E .* d.E)) ./ (6 * dx .* dy)\n",
      "v_uu[10] = (dx .^ 2 .* (b.C .* (-2 * D.D11S .* d.S + 4 * D.D12S .* d.S + 3 * D.D13S .* b.S) + d.C .* (-2 * D.D31S .* d.S + 4 * D.D32S .* d.S + 3 * D.D33S .* b.S)) + dy .^ 2 .* (a.C .* (-2 * D.D11E .* c.E - 2 * D.D11W .* c.W + 4 * D.D12E .* c.E + 4 * D.D12W .* c.W + 3 * D.D13E .* a.E + 3 * D.D13W .* a.W) + c.C .* (-2 * D.D31E .* c.E - 2 * D.D31W .* c.W + 4 * D.D32E .* c.E + 4 * D.D32W .* c.W + 3 * D.D33E .* a.E + 3 * D.D33W .* a.W))) ./ (6 * dx .^ 2 .* dy .^ 2)\n",
      "v_uu[11] = (-a.C .* (-2 * D.D11W .* c.W + 4 * D.D12W .* c.W + 3 * D.D13W .* a.W) - c.C .* (-2 * D.D31W .* c.W + 4 * D.D32W .* c.W + 3 * D.D33W .* a.W)) ./ (6 * dx .^ 2)\n",
      "v_uu[12] = (-a.C .* (-2 * D.D11E .* c.E + 4 * D.D12E .* c.E + 3 * D.D13E .* a.E) - c.C .* (-2 * D.D31E .* c.E + 4 * D.D32E .* c.E + 3 * D.D33E .* a.E)) ./ (6 * dx .^ 2)\n",
      "v_uu[13] = (-b.C .* (-2 * D.D11S .* d.S + 4 * D.D12S .* d.S + 3 * D.D13S .* b.S) - d.C .* (-2 * D.D31S .* d.S + 4 * D.D32S .* d.S + 3 * D.D33S .* b.S)) ./ (6 * dy .^ 2)\n",
      "v_uu[14] = 0\n",
      "v_uu[15] = (-a.C .* (-2 * D.D11W .* d.W + 4 * D.D12W .* d.W + 3 * D.D13W .* b.W) - b.C .* (-2 * D.D11S .* c.S + 4 * D.D12S .* c.S + 3 * D.D13S .* a.S) - c.C .* (-2 * D.D31W .* d.W + 4 * D.D32W .* d.W + 3 * D.D33W .* b.W) - d.C .* (-2 * D.D31S .* c.S + 4 * D.D32S .* c.S + 3 * D.D33S .* a.S)) ./ (6 * dx .* dy)\n",
      "v_uu[16] = (a.C .* (-2 * D.D11E .* d.E + 4 * D.D12E .* d.E + 3 * D.D13E .* b.E) + b.C .* (-2 * D.D11S .* c.S + 4 * D.D12S .* c.S + 3 * D.D13S .* a.S) + c.C .* (-2 * D.D31E .* d.E + 4 * D.D32E .* d.E + 3 * D.D33E .* b.E) + d.C .* (-2 * D.D31S .* c.S + 4 * D.D32S .* c.S + 3 * D.D33S .* a.S)) ./ (6 * dx .* dy)\n",
      "v_uu[17] = (a.C .* (-2 * D.D11W .* d.W + 4 * D.D12W .* d.W + 3 * D.D13W .* b.W) + c.C .* (-2 * D.D31W .* d.W + 4 * D.D32W .* d.W + 3 * D.D33W .* b.W)) ./ (6 * dx .* dy)\n",
      "v_uu[18] = (-a.C .* (-2 * D.D11E .* d.E + 4 * D.D12E .* d.E + 3 * D.D13E .* b.E) - c.C .* (-2 * D.D31E .* d.E + 4 * D.D32E .* d.E + 3 * D.D33E .* b.E)) ./ (6 * dx .* dy)\n",
      "v_up[1] = aC ./ dx\n",
      "v_up[2] = -aC ./ dx\n",
      "v_up[3] = bC ./ dy\n",
      "v_up[4] = -bC ./ dy\n"
     ]
    }
   ],
   "source": [
    "i=0\n",
    "for dof in dofsV:\n",
    "    i+=1\n",
    "    coeff = Fx.diff(dof)\n",
    "    final = 'v_uu[' + str(i) + '] = ' + julia_code(coeff.simplify())\n",
    "    for id in range(36):\n",
    "        final = final.replace( a[id], b[id] )\n",
    "    for id in range(20):\n",
    "        final = final.replace( c[id], d[id] )\n",
    "    print(final)\n",
    "i=0\n",
    "for dof in dofsP:\n",
    "    i+=1\n",
    "    coeff = Fx.diff(dof)\n",
    "    print('v_up[' + str(i) + '] = ' + julia_code(coeff.simplify()))"
   ]
  },
  {
   "cell_type": "code",
   "execution_count": null,
   "metadata": {},
   "outputs": [],
   "source": []
  },
  {
   "cell_type": "code",
   "execution_count": null,
   "metadata": {},
   "outputs": [],
   "source": []
  },
  {
   "cell_type": "code",
   "execution_count": 14,
   "metadata": {},
   "outputs": [
    {
     "name": "stdout",
     "output_type": "stream",
     "text": [
      "v_uu[1] = (dx .^ 2 .* (b.C .* (3 * D.D31N .* b.N + 4 * D.D31S .* b.S - 2 * D.D32S .* b.S + 3 * D.D33S .* d.S) + d.C .* (3 * D.D21N .* b.N + 4 * D.D21S .* b.S - 2 * D.D22S .* b.S + 3 * D.D23S .* d.S)) + dy .^ 2 .* (a.C .* (4 * D.D31E .* a.E + 4 * D.D31W .* a.W - 2 * D.D32E .* a.E - 2 * D.D32W .* a.W + 3 * D.D33E .* c.E + 3 * D.D33W .* c.W) + c.C .* (4 * D.D21E .* a.E + 4 * D.D21W .* a.W - 2 * D.D22E .* a.E - 2 * D.D22W .* a.W + 3 * D.D23E .* c.E + 3 * D.D23W .* c.W))) ./ (6 * dx .^ 2 .* dy .^ 2)\n",
      "v_uu[2] = (-a.C .* (4 * D.D31W .* a.W - 2 * D.D32W .* a.W + 3 * D.D33W .* c.W) - c.C .* (4 * D.D21W .* a.W - 2 * D.D22W .* a.W + 3 * D.D23W .* c.W)) ./ (6 * dx .^ 2)\n",
      "v_uu[3] = (-a.C .* (4 * D.D31E .* a.E - 2 * D.D32E .* a.E + 3 * D.D33E .* c.E) - c.C .* (4 * D.D21E .* a.E - 2 * D.D22E .* a.E + 3 * D.D23E .* c.E)) ./ (6 * dx .^ 2)\n",
      "v_uu[4] = (-b.C .* (4 * D.D31S .* b.S - 2 * D.D32S .* b.S + 3 * D.D33S .* d.S) - d.C .* (4 * D.D21S .* b.S - 2 * D.D22S .* b.S + 3 * D.D23S .* d.S)) ./ (6 * dy .^ 2)\n",
      "v_uu[5] = b.N .* (-D.D21N .* d.C - D.D31N .* b.C) ./ (2 * dy .^ 2)\n",
      "v_uu[6] = (-a.C .* (4 * D.D31W .* b.W - 2 * D.D32W .* b.W + 3 * D.D33W .* d.W) - b.C .* (4 * D.D31S .* a.S - 2 * D.D32S .* a.S + 3 * D.D33S .* c.S) - c.C .* (4 * D.D21W .* b.W - 2 * D.D22W .* b.W + 3 * D.D23W .* d.W) - d.C .* (4 * D.D21S .* a.S - 2 * D.D22S .* a.S + 3 * D.D23S .* c.S)) ./ (6 * dx .* dy)\n",
      "v_uu[7] = (a.C .* (4 * D.D31E .* b.E - 2 * D.D32E .* b.E + 3 * D.D33E .* d.E) + b.C .* (4 * D.D31S .* a.S - 2 * D.D32S .* a.S + 3 * D.D33S .* c.S) + c.C .* (4 * D.D21E .* b.E - 2 * D.D22E .* b.E + 3 * D.D23E .* d.E) + d.C .* (4 * D.D21S .* a.S - 2 * D.D22S .* a.S + 3 * D.D23S .* c.S)) ./ (6 * dx .* dy)\n",
      "v_uu[8] = (3 * D.D21N .* a.N .* d.C + 3 * D.D31N .* a.N .* b.C + a.C .* (4 * D.D31W .* b.W - 2 * D.D32W .* b.W + 3 * D.D33W .* d.W) + c.C .* (4 * D.D21W .* b.W - 2 * D.D22W .* b.W + 3 * D.D23W .* d.W)) ./ (6 * dx .* dy)\n",
      "v_uu[9] = (-3 * D.D21N .* a.N .* d.C - 3 * D.D31N .* a.N .* b.C - a.C .* (4 * D.D31E .* b.E - 2 * D.D32E .* b.E + 3 * D.D33E .* d.E) - c.C .* (4 * D.D21E .* b.E - 2 * D.D22E .* b.E + 3 * D.D23E .* d.E)) ./ (6 * dx .* dy)\n",
      "v_uu[10] = (dx .^ 2 .* (b.C .* (-2 * D.D31S .* d.S + 4 * D.D32S .* d.S + 3 * D.D33S .* b.S) + d.C .* (-2 * D.D21S .* d.S + 4 * D.D22S .* d.S + 3 * D.D23S .* b.S)) + dy .^ 2 .* (a.C .* (-2 * D.D31E .* c.E - 2 * D.D31W .* c.W + 4 * D.D32E .* c.E + 4 * D.D32W .* c.W + 3 * D.D33E .* a.E + 3 * D.D33W .* a.W) + c.C .* (-2 * D.D21E .* c.E - 2 * D.D21W .* c.W + 4 * D.D22E .* c.E + 4 * D.D22W .* c.W + 3 * D.D23E .* a.E + 3 * D.D23W .* a.W))) ./ (6 * dx .^ 2 .* dy .^ 2)\n",
      "v_uu[11] = (-a.C .* (-2 * D.D31W .* c.W + 4 * D.D32W .* c.W + 3 * D.D33W .* a.W) - c.C .* (-2 * D.D21W .* c.W + 4 * D.D22W .* c.W + 3 * D.D23W .* a.W)) ./ (6 * dx .^ 2)\n",
      "v_uu[12] = (-a.C .* (-2 * D.D31E .* c.E + 4 * D.D32E .* c.E + 3 * D.D33E .* a.E) - c.C .* (-2 * D.D21E .* c.E + 4 * D.D22E .* c.E + 3 * D.D23E .* a.E)) ./ (6 * dx .^ 2)\n",
      "v_uu[13] = (-b.C .* (-2 * D.D31S .* d.S + 4 * D.D32S .* d.S + 3 * D.D33S .* b.S) - d.C .* (-2 * D.D21S .* d.S + 4 * D.D22S .* d.S + 3 * D.D23S .* b.S)) ./ (6 * dy .^ 2)\n",
      "v_uu[14] = 0\n",
      "v_uu[15] = (-a.C .* (-2 * D.D31W .* d.W + 4 * D.D32W .* d.W + 3 * D.D33W .* b.W) - b.C .* (-2 * D.D31S .* c.S + 4 * D.D32S .* c.S + 3 * D.D33S .* a.S) - c.C .* (-2 * D.D21W .* d.W + 4 * D.D22W .* d.W + 3 * D.D23W .* b.W) - d.C .* (-2 * D.D21S .* c.S + 4 * D.D22S .* c.S + 3 * D.D23S .* a.S)) ./ (6 * dx .* dy)\n",
      "v_uu[16] = (a.C .* (-2 * D.D31E .* d.E + 4 * D.D32E .* d.E + 3 * D.D33E .* b.E) + b.C .* (-2 * D.D31S .* c.S + 4 * D.D32S .* c.S + 3 * D.D33S .* a.S) + c.C .* (-2 * D.D21E .* d.E + 4 * D.D22E .* d.E + 3 * D.D23E .* b.E) + d.C .* (-2 * D.D21S .* c.S + 4 * D.D22S .* c.S + 3 * D.D23S .* a.S)) ./ (6 * dx .* dy)\n",
      "v_uu[17] = (a.C .* (-2 * D.D31W .* d.W + 4 * D.D32W .* d.W + 3 * D.D33W .* b.W) + c.C .* (-2 * D.D21W .* d.W + 4 * D.D22W .* d.W + 3 * D.D23W .* b.W)) ./ (6 * dx .* dy)\n",
      "v_uu[18] = (-a.C .* (-2 * D.D31E .* d.E + 4 * D.D32E .* d.E + 3 * D.D33E .* b.E) - c.C .* (-2 * D.D21E .* d.E + 4 * D.D22E .* d.E + 3 * D.D23E .* b.E)) ./ (6 * dx .* dy)\n",
      "v_up[1] = cC ./ dx\n",
      "v_up[2] = -cC ./ dx\n",
      "v_up[3] = dC ./ dy\n",
      "v_up[4] = -dC ./ dy\n"
     ]
    }
   ],
   "source": [
    "i=0\n",
    "for dof in dofsV:\n",
    "    i+=1\n",
    "    coeff = Fy.diff(dof)\n",
    "    # print('c' + str(dof) + ' = ' + julia_code(coeff.simplify()))\n",
    "    final = 'v_uu[' + str(i) + '] = ' + julia_code(coeff.simplify())\n",
    "    for id in range(36):\n",
    "        final = final.replace( a[id], b[id] )\n",
    "    for id in range(20):\n",
    "        final = final.replace( c[id], d[id] )\n",
    "    print(final)\n",
    "i=0\n",
    "for dof in dofsP:\n",
    "    i+=1\n",
    "    coeff = Fy.diff(dof)\n",
    "    print('v_up[' + str(i) + '] = ' + julia_code(coeff.simplify()))"
   ]
  },
  {
   "cell_type": "code",
   "execution_count": null,
   "metadata": {},
   "outputs": [],
   "source": []
  },
  {
   "cell_type": "markdown",
   "metadata": {},
   "source": [
    "<font size= 6> Discretisation of the continuity equation </font>"
   ]
  },
  {
   "cell_type": "code",
   "execution_count": 15,
   "metadata": {},
   "outputs": [],
   "source": [
    "VxE,VxW,VyN,VyS = symbols('VxE,VxW,VyN,VyS')\n",
    "VyE,VyW,VxN,VxS = symbols('VyE,VyW,VxN,VxS')\n",
    "PC, PC0, K = symbols('PC, PC_0, K')\n",
    "aC,bC,cC,dC = symbols('aC,bC,cC,dC') "
   ]
  },
  {
   "cell_type": "code",
   "execution_count": 16,
   "metadata": {},
   "outputs": [],
   "source": [
    "dofs_pu = [VxW,VxE,VxS,VxN,VyW,VyE,VyS,VyN,PC]"
   ]
  },
  {
   "cell_type": "code",
   "execution_count": 17,
   "metadata": {},
   "outputs": [],
   "source": [
    "divC = d_dx1(VxE,VxW,VxN,VxS,dx,dy,aC,bC) + d_dy1(VyE,VyW,VyN,VyS,dx,dy,cC,dC)\n",
    "Fp   = -divC + (PC-PC0)/(K*dt)"
   ]
  },
  {
   "cell_type": "code",
   "execution_count": 18,
   "metadata": {},
   "outputs": [
    {
     "name": "stdout",
     "output_type": "stream",
     "text": [
      "v_pu[1] = aC ./ dx\n",
      "v_pu[2] = -aC ./ dx\n",
      "v_pu[3] = bC ./ dy\n",
      "v_pu[4] = -bC ./ dy\n",
      "v_pu[5] = cC ./ dx\n",
      "v_pu[6] = -cC ./ dx\n",
      "v_pu[7] = dC ./ dy\n",
      "v_pu[8] = -dC ./ dy\n",
      "v_pu[9] = 1 ./ (K .* dt)\n"
     ]
    }
   ],
   "source": [
    "i=0\n",
    "for dof in dofs_pu:\n",
    "    i+=1\n",
    "    coeff = Fp.diff(dof)\n",
    "    print('v_pu[' + str(i) + '] = ' + julia_code(coeff.simplify()))"
   ]
  },
  {
   "cell_type": "code",
   "execution_count": null,
   "metadata": {},
   "outputs": [],
   "source": []
  }
 ],
 "metadata": {
  "kernelspec": {
   "display_name": "Python 3.9.5 ('base')",
   "language": "python",
   "name": "python3"
  },
  "language_info": {
   "codemirror_mode": {
    "name": "ipython",
    "version": 3
   },
   "file_extension": ".py",
   "mimetype": "text/x-python",
   "name": "python",
   "nbconvert_exporter": "python",
   "pygments_lexer": "ipython3",
   "version": "3.9.5"
  },
  "orig_nbformat": 4,
  "vscode": {
   "interpreter": {
    "hash": "309baa410e37084482bcba9b39a5b9e635e78b91cd7553c4b48a2d89780d0f88"
   }
  }
 },
 "nbformat": 4,
 "nbformat_minor": 2
}
