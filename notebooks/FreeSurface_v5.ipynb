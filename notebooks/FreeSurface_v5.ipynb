{
 "cells": [
  {
   "cell_type": "code",
   "execution_count": 95,
   "metadata": {},
   "outputs": [],
   "source": [
    "from sympy import *"
   ]
  },
  {
   "cell_type": "markdown",
   "metadata": {},
   "source": [
    "<font size=6> 3D case with $z$ being vertical </font>"
   ]
  },
  {
   "cell_type": "code",
   "execution_count": 96,
   "metadata": {},
   "outputs": [],
   "source": [
    "C  = symbols('C')\n",
    "hx, hy = symbols('h_x, h_y')\n",
    "A  = C*hx\n",
    "B  = C*hy\n",
    "\n",
    "def d_dx(a,A):\n",
    "    return a.diff(x) + A*a.diff(z)\n",
    "def d_dy(a,B):\n",
    "    return a.diff(y) + B*a.diff(z)\n",
    "def d_dz(a,C):\n",
    "    return C*a.diff(z)"
   ]
  },
  {
   "cell_type": "code",
   "execution_count": 97,
   "metadata": {},
   "outputs": [
    {
     "data": {
      "text/latex": [
       "$\\displaystyle \\left[\\begin{matrix}2 \\eta \\left(0.666666666666667 C h_{x} \\frac{\\partial}{\\partial z} u{\\left(x,y,z \\right)} - 0.333333333333333 C h_{y} \\frac{\\partial}{\\partial z} v{\\left(x,y,z \\right)} - 0.333333333333333 C \\frac{\\partial}{\\partial z} w{\\left(x,y,z \\right)} + 0.666666666666667 \\frac{\\partial}{\\partial x} u{\\left(x,y,z \\right)} - 0.333333333333333 \\frac{\\partial}{\\partial y} v{\\left(x,y,z \\right)}\\right) - P{\\left(x,y,z \\right)} & 2 \\eta \\left(0.5 C h_{x} \\frac{\\partial}{\\partial z} v{\\left(x,y,z \\right)} + 0.5 C h_{y} \\frac{\\partial}{\\partial z} u{\\left(x,y,z \\right)} + 0.5 \\frac{\\partial}{\\partial y} u{\\left(x,y,z \\right)} + 0.5 \\frac{\\partial}{\\partial x} v{\\left(x,y,z \\right)}\\right) & 2 \\eta \\left(0.5 C h_{x} \\frac{\\partial}{\\partial z} w{\\left(x,y,z \\right)} + 0.5 C \\frac{\\partial}{\\partial z} u{\\left(x,y,z \\right)} + 0.5 \\frac{\\partial}{\\partial x} w{\\left(x,y,z \\right)}\\right)\\\\2 \\eta \\left(0.5 C h_{x} \\frac{\\partial}{\\partial z} v{\\left(x,y,z \\right)} + 0.5 C h_{y} \\frac{\\partial}{\\partial z} u{\\left(x,y,z \\right)} + 0.5 \\frac{\\partial}{\\partial y} u{\\left(x,y,z \\right)} + 0.5 \\frac{\\partial}{\\partial x} v{\\left(x,y,z \\right)}\\right) & 2 \\eta \\left(- 0.333333333333333 C h_{x} \\frac{\\partial}{\\partial z} u{\\left(x,y,z \\right)} + 0.666666666666667 C h_{y} \\frac{\\partial}{\\partial z} v{\\left(x,y,z \\right)} - 0.333333333333333 C \\frac{\\partial}{\\partial z} w{\\left(x,y,z \\right)} - 0.333333333333333 \\frac{\\partial}{\\partial x} u{\\left(x,y,z \\right)} + 0.666666666666667 \\frac{\\partial}{\\partial y} v{\\left(x,y,z \\right)}\\right) - P{\\left(x,y,z \\right)} & 2 \\eta \\left(0.5 C h_{y} \\frac{\\partial}{\\partial z} w{\\left(x,y,z \\right)} + 0.5 C \\frac{\\partial}{\\partial z} v{\\left(x,y,z \\right)} + 0.5 \\frac{\\partial}{\\partial y} w{\\left(x,y,z \\right)}\\right)\\\\2 \\eta \\left(0.5 C h_{x} \\frac{\\partial}{\\partial z} w{\\left(x,y,z \\right)} + 0.5 C \\frac{\\partial}{\\partial z} u{\\left(x,y,z \\right)} + 0.5 \\frac{\\partial}{\\partial x} w{\\left(x,y,z \\right)}\\right) & 2 \\eta \\left(0.5 C h_{y} \\frac{\\partial}{\\partial z} w{\\left(x,y,z \\right)} + 0.5 C \\frac{\\partial}{\\partial z} v{\\left(x,y,z \\right)} + 0.5 \\frac{\\partial}{\\partial y} w{\\left(x,y,z \\right)}\\right) & 2 \\eta \\left(- 0.333333333333333 C h_{x} \\frac{\\partial}{\\partial z} u{\\left(x,y,z \\right)} - 0.333333333333333 C h_{y} \\frac{\\partial}{\\partial z} v{\\left(x,y,z \\right)} + 0.666666666666667 C \\frac{\\partial}{\\partial z} w{\\left(x,y,z \\right)} - 0.333333333333333 \\frac{\\partial}{\\partial x} u{\\left(x,y,z \\right)} - 0.333333333333333 \\frac{\\partial}{\\partial y} v{\\left(x,y,z \\right)}\\right) - P{\\left(x,y,z \\right)}\\end{matrix}\\right]$"
      ],
      "text/plain": [
       "Matrix([\n",
       "[2*eta*(0.666666666666667*C*h_x*Derivative(u(x, y, z), z) - 0.333333333333333*C*h_y*Derivative(v(x, y, z), z) - 0.333333333333333*C*Derivative(w(x, y, z), z) + 0.666666666666667*Derivative(u(x, y, z), x) - 0.333333333333333*Derivative(v(x, y, z), y)) - P(x, y, z),                                                                                                                       2*eta*(0.5*C*h_x*Derivative(v(x, y, z), z) + 0.5*C*h_y*Derivative(u(x, y, z), z) + 0.5*Derivative(u(x, y, z), y) + 0.5*Derivative(v(x, y, z), x)),                                                                                                                                                           2*eta*(0.5*C*h_x*Derivative(w(x, y, z), z) + 0.5*C*Derivative(u(x, y, z), z) + 0.5*Derivative(w(x, y, z), x))],\n",
       "[                                                                                                                     2*eta*(0.5*C*h_x*Derivative(v(x, y, z), z) + 0.5*C*h_y*Derivative(u(x, y, z), z) + 0.5*Derivative(u(x, y, z), y) + 0.5*Derivative(v(x, y, z), x)), 2*eta*(-0.333333333333333*C*h_x*Derivative(u(x, y, z), z) + 0.666666666666667*C*h_y*Derivative(v(x, y, z), z) - 0.333333333333333*C*Derivative(w(x, y, z), z) - 0.333333333333333*Derivative(u(x, y, z), x) + 0.666666666666667*Derivative(v(x, y, z), y)) - P(x, y, z),                                                                                                                                                           2*eta*(0.5*C*h_y*Derivative(w(x, y, z), z) + 0.5*C*Derivative(v(x, y, z), z) + 0.5*Derivative(w(x, y, z), y))],\n",
       "[                                                                                                                                                         2*eta*(0.5*C*h_x*Derivative(w(x, y, z), z) + 0.5*C*Derivative(u(x, y, z), z) + 0.5*Derivative(w(x, y, z), x)),                                                                                                                                                           2*eta*(0.5*C*h_y*Derivative(w(x, y, z), z) + 0.5*C*Derivative(v(x, y, z), z) + 0.5*Derivative(w(x, y, z), y)), 2*eta*(-0.333333333333333*C*h_x*Derivative(u(x, y, z), z) - 0.333333333333333*C*h_y*Derivative(v(x, y, z), z) + 0.666666666666667*C*Derivative(w(x, y, z), z) - 0.333333333333333*Derivative(u(x, y, z), x) - 0.333333333333333*Derivative(v(x, y, z), y)) - P(x, y, z)]])"
      ]
     },
     "metadata": {},
     "output_type": "display_data"
    }
   ],
   "source": [
    "x, y, z = symbols('x,y,z')\n",
    "sxx, syy, szz, sxy, sxz, syz = symbols('sigma_xx, sigma_yy, sigma_zz, sigma_xy, sigma_xz, sigma_yz')\n",
    "u_x, v_x, w_x, u_y, v_y, w_y, u_z, v_z, w_z = symbols('u_x, v_x, w_x, u_y, v_y, w_y, u_z, v_z, w_z')\n",
    "eta = symbols('eta')\n",
    "u = Function('u')(x,y,z)\n",
    "v = Function('v')(x,y,z)\n",
    "w = Function('w')(x,y,z)\n",
    "P = Function('P')(x,y,z)\n",
    "div  = d_dx(u,A) + d_dy(v,B) + d_dz(w,C)\n",
    "Exx  = d_dx(u,A) - 1/3*div\n",
    "Eyy  = d_dy(v,B) - 1/3*div\n",
    "Ezz  = d_dz(w,C) - 1/3*div\n",
    "Exz  = 1/2*(d_dz(u,C) + d_dx(w,A))\n",
    "Exy  = 1/2*(d_dy(u,B) + d_dx(v,A))\n",
    "Eyz  = 1/2*(d_dz(v,C) + d_dy(w,B))\n",
    "E    = Matrix([[Exx],[Eyy],[Ezz],[Exy],[Exz],[Eyz]])\n",
    "D    = Matrix([[2*eta,0,0,0,0,0],[0,2*eta,0,0,0,0],[0,0,2*eta,0,0,0],[0,0,0,2*eta,0,0],[0,0,0,0,2*eta,0],[0,0,0,0,0,2*eta]])\n",
    "Svec = D*E\n",
    "S    = Matrix([[-P+Svec[0],    Svec[3],    Svec[4]],\n",
    "               [   Svec[3], -P+Svec[1],    Svec[5]],\n",
    "               [   Svec[4],    Svec[5], -P+Svec[2]]])\n",
    "display(S)"
   ]
  },
  {
   "cell_type": "code",
   "execution_count": 98,
   "metadata": {},
   "outputs": [
    {
     "data": {
      "text/latex": [
       "$\\displaystyle \\left[\\begin{matrix}2 \\eta h_{y} \\left(0.5 C dudz h_{y} + 0.5 C dvdz h_{x} + 0.5 dudy + 0.5 dvdx\\right) + 2 \\eta \\left(0.5 C dudz + 0.5 C dwdz h_{x} + 0.5 dwdx\\right) + h_{x} \\left(2 \\eta \\left(0.666666666666667 C dudz h_{x} - 0.333333333333333 C dvdz h_{y} - 0.333333333333333 C dwdz + 0.666666666666667 dudx - 0.333333333333333 dvdy\\right) - P{\\left(x,y,z \\right)}\\right)\\\\2 \\eta h_{x} \\left(0.5 C dudz h_{y} + 0.5 C dvdz h_{x} + 0.5 dudy + 0.5 dvdx\\right) + 2 \\eta \\left(0.5 C dvdz + 0.5 C dwdz h_{y} + 0.5 dwdy\\right) + h_{y} \\left(2 \\eta \\left(- 0.333333333333333 C dudz h_{x} + 0.666666666666667 C dvdz h_{y} - 0.333333333333333 C dwdz - 0.333333333333333 dudx + 0.666666666666667 dvdy\\right) - P{\\left(x,y,z \\right)}\\right)\\\\2 \\eta h_{x} \\left(0.5 C dudz + 0.5 C dwdz h_{x} + 0.5 dwdx\\right) + 2 \\eta h_{y} \\left(0.5 C dvdz + 0.5 C dwdz h_{y} + 0.5 dwdy\\right) + 2 \\eta \\left(- 0.333333333333333 C dudz h_{x} - 0.333333333333333 C dvdz h_{y} + 0.666666666666667 C dwdz - 0.333333333333333 dudx - 0.333333333333333 dvdy\\right) - P{\\left(x,y,z \\right)}\\end{matrix}\\right]$"
      ],
      "text/plain": [
       "Matrix([\n",
       "[ 2*eta*h_y*(0.5*C*dudz*h_y + 0.5*C*dvdz*h_x + 0.5*dudy + 0.5*dvdx) + 2*eta*(0.5*C*dudz + 0.5*C*dwdz*h_x + 0.5*dwdx) + h_x*(2*eta*(0.666666666666667*C*dudz*h_x - 0.333333333333333*C*dvdz*h_y - 0.333333333333333*C*dwdz + 0.666666666666667*dudx - 0.333333333333333*dvdy) - P(x, y, z))],\n",
       "[2*eta*h_x*(0.5*C*dudz*h_y + 0.5*C*dvdz*h_x + 0.5*dudy + 0.5*dvdx) + 2*eta*(0.5*C*dvdz + 0.5*C*dwdz*h_y + 0.5*dwdy) + h_y*(2*eta*(-0.333333333333333*C*dudz*h_x + 0.666666666666667*C*dvdz*h_y - 0.333333333333333*C*dwdz - 0.333333333333333*dudx + 0.666666666666667*dvdy) - P(x, y, z))],\n",
       "[                 2*eta*h_x*(0.5*C*dudz + 0.5*C*dwdz*h_x + 0.5*dwdx) + 2*eta*h_y*(0.5*C*dvdz + 0.5*C*dwdz*h_y + 0.5*dwdy) + 2*eta*(-0.333333333333333*C*dudz*h_x - 0.333333333333333*C*dvdz*h_y + 0.666666666666667*C*dwdz - 0.333333333333333*dudx - 0.333333333333333*dvdy) - P(x, y, z)]])"
      ]
     },
     "metadata": {},
     "output_type": "display_data"
    }
   ],
   "source": [
    "# The flat case\n",
    "dudz, dvdz, dwdz = symbols('dudz, dvdz, dwdz')\n",
    "dudx, dudy, dvdy, dvdx, dvdz, dwdx, dwdy = symbols('dudx, dudy, dvdy, dvdx, dvdz, dwdx, dwdy')\n",
    "n = Matrix([hx,hy,1])\n",
    "f = (S)*n\n",
    "f = f.subs(u.diff(z), dudz).subs(v.diff(z), dvdz).subs(w.diff(z), dwdz)\n",
    "f = f.subs(u.diff(y), dudy).subs(v.diff(y), dvdy).subs(w.diff(y), dwdy)\n",
    "f = f.subs(u.diff(x), dudx).subs(v.diff(x), dvdx).subs(w.diff(x), dwdx)\n",
    "s = solve(f, (dudz, dvdz, dwdz))\n",
    "display(f)"
   ]
  },
  {
   "cell_type": "code",
   "execution_count": 99,
   "metadata": {},
   "outputs": [
    {
     "data": {
      "text/latex": [
       "$\\displaystyle \\frac{C \\eta h_{x}^{4} uS + 2.0 C \\eta h_{x}^{2} h_{y}^{2} uS + 2.0 C \\eta h_{x}^{2} uS + C \\eta h_{y}^{4} uS + 2.0 C \\eta h_{y}^{2} uS + C \\eta uS - dudx dz \\eta h_{x}^{3} - 1.5 dudx dz \\eta h_{x} h_{y}^{2} - 1.5 dudx dz \\eta h_{x} - 0.5 dudy dz \\eta h_{x}^{2} h_{y} - dudy dz \\eta h_{y}^{3} - dudy dz \\eta h_{y} - 0.5 dvdx dz \\eta h_{x}^{2} h_{y} - dvdx dz \\eta h_{y}^{3} - dvdx dz \\eta h_{y} + 0.5 dvdy dz \\eta h_{x}^{3} + dvdy dz \\eta h_{x} h_{y}^{2} + 0.5 dvdy dz \\eta h_{x} - 0.5 dwdx dz \\eta h_{x}^{2} - dwdx dz \\eta h_{y}^{2} - dwdx dz \\eta + 0.5 dwdy dz \\eta h_{x} h_{y} + 0.75 dz h_{x}^{3} P{\\left(x,y,z \\right)} + 0.75 dz h_{x} h_{y}^{2} P{\\left(x,y,z \\right)} + 0.75 dz h_{x} P{\\left(x,y,z \\right)}}{C \\eta \\left(h_{x}^{4} + 2.0 h_{x}^{2} h_{y}^{2} + 2.0 h_{x}^{2} + h_{y}^{4} + 2.0 h_{y}^{2} + 1.0\\right)}$"
      ],
      "text/plain": [
       "(C*eta*h_x**4*uS + 2.0*C*eta*h_x**2*h_y**2*uS + 2.0*C*eta*h_x**2*uS + C*eta*h_y**4*uS + 2.0*C*eta*h_y**2*uS + C*eta*uS - dudx*dz*eta*h_x**3 - 1.5*dudx*dz*eta*h_x*h_y**2 - 1.5*dudx*dz*eta*h_x - 0.5*dudy*dz*eta*h_x**2*h_y - dudy*dz*eta*h_y**3 - dudy*dz*eta*h_y - 0.5*dvdx*dz*eta*h_x**2*h_y - dvdx*dz*eta*h_y**3 - dvdx*dz*eta*h_y + 0.5*dvdy*dz*eta*h_x**3 + dvdy*dz*eta*h_x*h_y**2 + 0.5*dvdy*dz*eta*h_x - 0.5*dwdx*dz*eta*h_x**2 - dwdx*dz*eta*h_y**2 - dwdx*dz*eta + 0.5*dwdy*dz*eta*h_x*h_y + 0.75*dz*h_x**3*P(x, y, z) + 0.75*dz*h_x*h_y**2*P(x, y, z) + 0.75*dz*h_x*P(x, y, z))/(C*eta*(h_x**4 + 2.0*h_x**2*h_y**2 + 2.0*h_x**2 + h_y**4 + 2.0*h_y**2 + 1.0))"
      ]
     },
     "metadata": {},
     "output_type": "display_data"
    },
    {
     "data": {
      "text/latex": [
       "$\\displaystyle \\frac{C \\eta h_{x}^{4} vS + 2.0 C \\eta h_{x}^{2} h_{y}^{2} vS + 2.0 C \\eta h_{x}^{2} vS + C \\eta h_{y}^{4} vS + 2.0 C \\eta h_{y}^{2} vS + C \\eta vS + dudx dz \\eta h_{x}^{2} h_{y} + 0.5 dudx dz \\eta h_{y}^{3} + 0.5 dudx dz \\eta h_{y} - dudy dz \\eta h_{x}^{3} - 0.5 dudy dz \\eta h_{x} h_{y}^{2} - dudy dz \\eta h_{x} - dvdx dz \\eta h_{x}^{3} - 0.5 dvdx dz \\eta h_{x} h_{y}^{2} - dvdx dz \\eta h_{x} - 1.5 dvdy dz \\eta h_{x}^{2} h_{y} - dvdy dz \\eta h_{y}^{3} - 1.5 dvdy dz \\eta h_{y} + 0.5 dwdx dz \\eta h_{x} h_{y} - dwdy dz \\eta h_{x}^{2} - 0.5 dwdy dz \\eta h_{y}^{2} - dwdy dz \\eta + 0.75 dz h_{x}^{2} h_{y} P{\\left(x,y,z \\right)} + 0.75 dz h_{y}^{3} P{\\left(x,y,z \\right)} + 0.75 dz h_{y} P{\\left(x,y,z \\right)}}{C \\eta \\left(h_{x}^{4} + 2.0 h_{x}^{2} h_{y}^{2} + 2.0 h_{x}^{2} + h_{y}^{4} + 2.0 h_{y}^{2} + 1.0\\right)}$"
      ],
      "text/plain": [
       "(C*eta*h_x**4*vS + 2.0*C*eta*h_x**2*h_y**2*vS + 2.0*C*eta*h_x**2*vS + C*eta*h_y**4*vS + 2.0*C*eta*h_y**2*vS + C*eta*vS + dudx*dz*eta*h_x**2*h_y + 0.5*dudx*dz*eta*h_y**3 + 0.5*dudx*dz*eta*h_y - dudy*dz*eta*h_x**3 - 0.5*dudy*dz*eta*h_x*h_y**2 - dudy*dz*eta*h_x - dvdx*dz*eta*h_x**3 - 0.5*dvdx*dz*eta*h_x*h_y**2 - dvdx*dz*eta*h_x - 1.5*dvdy*dz*eta*h_x**2*h_y - dvdy*dz*eta*h_y**3 - 1.5*dvdy*dz*eta*h_y + 0.5*dwdx*dz*eta*h_x*h_y - dwdy*dz*eta*h_x**2 - 0.5*dwdy*dz*eta*h_y**2 - dwdy*dz*eta + 0.75*dz*h_x**2*h_y*P(x, y, z) + 0.75*dz*h_y**3*P(x, y, z) + 0.75*dz*h_y*P(x, y, z))/(C*eta*(h_x**4 + 2.0*h_x**2*h_y**2 + 2.0*h_x**2 + h_y**4 + 2.0*h_y**2 + 1.0))"
      ]
     },
     "metadata": {},
     "output_type": "display_data"
    },
    {
     "data": {
      "text/latex": [
       "$\\displaystyle \\frac{C \\eta h_{x}^{4} wS + 2.0 C \\eta h_{x}^{2} h_{y}^{2} wS + 2.0 C \\eta h_{x}^{2} wS + C \\eta h_{y}^{4} wS + 2.0 C \\eta h_{y}^{2} wS + C \\eta wS + dudx dz \\eta h_{x}^{2} + 0.5 dudx dz \\eta h_{y}^{2} + 0.5 dudx dz \\eta + 0.5 dudy dz \\eta h_{x} h_{y} + 0.5 dvdx dz \\eta h_{x} h_{y} + 0.5 dvdy dz \\eta h_{x}^{2} + dvdy dz \\eta h_{y}^{2} + 0.5 dvdy dz \\eta - dwdx dz \\eta h_{x}^{3} - dwdx dz \\eta h_{x} h_{y}^{2} - 0.5 dwdx dz \\eta h_{x} - dwdy dz \\eta h_{x}^{2} h_{y} - dwdy dz \\eta h_{y}^{3} - 0.5 dwdy dz \\eta h_{y} + 0.75 dz h_{x}^{2} P{\\left(x,y,z \\right)} + 0.75 dz h_{y}^{2} P{\\left(x,y,z \\right)} + 0.75 dz P{\\left(x,y,z \\right)}}{C \\eta \\left(h_{x}^{4} + 2.0 h_{x}^{2} h_{y}^{2} + 2.0 h_{x}^{2} + h_{y}^{4} + 2.0 h_{y}^{2} + 1.0\\right)}$"
      ],
      "text/plain": [
       "(C*eta*h_x**4*wS + 2.0*C*eta*h_x**2*h_y**2*wS + 2.0*C*eta*h_x**2*wS + C*eta*h_y**4*wS + 2.0*C*eta*h_y**2*wS + C*eta*wS + dudx*dz*eta*h_x**2 + 0.5*dudx*dz*eta*h_y**2 + 0.5*dudx*dz*eta + 0.5*dudy*dz*eta*h_x*h_y + 0.5*dvdx*dz*eta*h_x*h_y + 0.5*dvdy*dz*eta*h_x**2 + dvdy*dz*eta*h_y**2 + 0.5*dvdy*dz*eta - dwdx*dz*eta*h_x**3 - dwdx*dz*eta*h_x*h_y**2 - 0.5*dwdx*dz*eta*h_x - dwdy*dz*eta*h_x**2*h_y - dwdy*dz*eta*h_y**3 - 0.5*dwdy*dz*eta*h_y + 0.75*dz*h_x**2*P(x, y, z) + 0.75*dz*h_y**2*P(x, y, z) + 0.75*dz*P(x, y, z))/(C*eta*(h_x**4 + 2.0*h_x**2*h_y**2 + 2.0*h_x**2 + h_y**4 + 2.0*h_y**2 + 1.0))"
      ]
     },
     "metadata": {},
     "output_type": "display_data"
    }
   ],
   "source": [
    "uN,uS,dz = symbols('uN,uS,dz')\n",
    "vN,vS = symbols('vN,vS')\n",
    "wN,wS = symbols('wN,wS')\n",
    "# dudz\n",
    "fx = (uN-uS)/dz - s[dudz]\n",
    "display(solve(fx,uN)[0])\n",
    "# dvdz\n",
    "fy = (vN-vS)/dz - s[dvdz].simplify()\n",
    "display(solve(fy,vN)[0])\n",
    "# dwdz\n",
    "fz = (wN-wS)/dz - s[dwdz].simplify()\n",
    "display(solve(fz,wN)[0])"
   ]
  },
  {
   "cell_type": "markdown",
   "metadata": {},
   "source": [
    "<font size=6> 2D case with $y$ being vertical </font>"
   ]
  },
  {
   "cell_type": "code",
   "execution_count": 100,
   "metadata": {},
   "outputs": [],
   "source": [
    "# A = 0\n",
    "# C = 1\n",
    "# hx = 0\n",
    "# for simplified 2D\n",
    "def d_dx1(a,dksidx,detadx):\n",
    "    return dksidx*a.diff(x) + detadx*a.diff(y)\n",
    "def d_dy1(a,dksidy,detady):\n",
    "    return dksidy*a.diff(x) + detady*a.diff(y)"
   ]
  },
  {
   "cell_type": "code",
   "execution_count": 101,
   "metadata": {},
   "outputs": [
    {
     "data": {
      "text/latex": [
       "$\\displaystyle \\left[\\begin{matrix}2 \\eta \\left(\\frac{dedx dvdy}{2} + \\frac{dedy dudy}{2} + \\frac{dkdx dvdx}{2} + \\frac{dkdy dudx}{2}\\right) + h_{x} \\left(2 \\eta \\left(\\frac{2 dedx dudy}{3} - \\frac{dedy dvdy}{3} + \\frac{2 dkdx dudx}{3} - \\frac{dkdy dvdx}{3}\\right) - P{\\left(x,y,z \\right)}\\right)\\\\2 \\eta h_{x} \\left(\\frac{dedx dvdy}{2} + \\frac{dedy dudy}{2} + \\frac{dkdx dvdx}{2} + \\frac{dkdy dudx}{2}\\right) + 2 \\eta \\left(- \\frac{dedx dudy}{3} + \\frac{2 dedy dvdy}{3} - \\frac{dkdx dudx}{3} + \\frac{2 dkdy dvdx}{3}\\right) - P{\\left(x,y,z \\right)}\\end{matrix}\\right]$"
      ],
      "text/plain": [
       "Matrix([\n",
       "[2*eta*(dedx*dvdy/2 + dedy*dudy/2 + dkdx*dvdx/2 + dkdy*dudx/2) + h_x*(2*eta*(2*dedx*dudy/3 - dedy*dvdy/3 + 2*dkdx*dudx/3 - dkdy*dvdx/3) - P(x, y, z))],\n",
       "[ 2*eta*h_x*(dedx*dvdy/2 + dedy*dudy/2 + dkdx*dvdx/2 + dkdy*dudx/2) + 2*eta*(-dedx*dudy/3 + 2*dedy*dvdy/3 - dkdx*dudx/3 + 2*dkdy*dvdx/3) - P(x, y, z)]])"
      ]
     },
     "metadata": {},
     "output_type": "display_data"
    }
   ],
   "source": [
    "#  2D\n",
    "dkdx,dkdy,dedx,dedy = symbols('dkdx,dkdy,dedx,dedy')\n",
    "div  = d_dx1(u,dkdx,dedx) + d_dy1(v,dkdy,dedy)\n",
    "Exx  = d_dx1(u,dkdx,dedx) - Rational(1,3)*div\n",
    "Eyy  = d_dy1(v,dkdy,dedy) - Rational(1,3)*div\n",
    "Exy  = Rational(1,2)*(d_dy1(u,dkdy,dedy) + d_dx1(v,dkdx,dedx))\n",
    "E    = Matrix([[Exx],[Eyy],[Exy]])\n",
    "D    = Matrix([[2*eta,0,0],[0,2*eta,0],[0,0,2*eta]])\n",
    "Svec = D*E\n",
    "S    = Matrix([[-P+Svec[0],    Svec[2]],\n",
    "               [   Svec[2], -P+Svec[1]]])\n",
    "n = Matrix([hx,1])\n",
    "f = (S)*n\n",
    "f = f.subs(u.diff(z), dudz).subs(v.diff(z), dvdz).subs(w.diff(z), dwdz)\n",
    "f = f.subs(u.diff(y), dudy).subs(v.diff(y), dvdy).subs(w.diff(y), dwdy)\n",
    "f = f.subs(u.diff(x), dudx).subs(v.diff(x), dvdx).subs(w.diff(x), dwdx)\n",
    "s = solve(f, (dudy, dvdy))\n",
    "display(f)"
   ]
  },
  {
   "cell_type": "code",
   "execution_count": 102,
   "metadata": {},
   "outputs": [
    {
     "data": {
      "text/latex": [
       "$\\displaystyle \\frac{\\frac{3 P b h_{x}^{2}}{2} - \\frac{3 P b}{2} + 3 P d h_{x} - 2 a b dudx \\eta h_{x}^{2} - a b dudx \\eta - 2 a d dudx \\eta h_{x} - a d dvdx \\eta h_{x}^{2} - 2 a d dvdx \\eta + b c dvdx \\eta h_{x}^{2} + 2 b c dvdx \\eta - c d dudx \\eta h_{x}^{2} - 2 c d dudx \\eta}{\\eta \\left(2 b^{2} h_{x}^{2} + b^{2} + 2 b d h_{x} + d^{2} h_{x}^{2} + 2 d^{2}\\right)}$"
      ],
      "text/plain": [
       "(3*P*b*h_x**2/2 - 3*P*b/2 + 3*P*d*h_x - 2*a*b*dudx*eta*h_x**2 - a*b*dudx*eta - 2*a*d*dudx*eta*h_x - a*d*dvdx*eta*h_x**2 - 2*a*d*dvdx*eta + b*c*dvdx*eta*h_x**2 + 2*b*c*dvdx*eta - c*d*dudx*eta*h_x**2 - 2*c*d*dudx*eta)/(eta*(2*b**2*h_x**2 + b**2 + 2*b*d*h_x + d**2*h_x**2 + 2*d**2))"
      ]
     },
     "metadata": {},
     "output_type": "display_data"
    },
    {
     "name": "stdout",
     "output_type": "stream",
     "text": [
      "dVxdy = (3*P*b*h_x**2/2 - 3*P*b/2 + 3*P*d*h_x - 2*a*b*dudx*eta*h_x**2 - a*b*dudx*eta - 2*a*d*dudx*eta*h_x - a*d*dvdx*eta*h_x**2 - 2*a*d*dvdx*eta + b*c*dvdx*eta*h_x**2 + 2*b*c*dvdx*eta - c*d*dudx*eta*h_x**2 - 2*c*d*dudx*eta)/(eta*(2*b**2*h_x**2 + b**2 + 2*b*d*h_x + d**2*h_x**2 + 2*d**2))\n",
      "dVydy = (3*P*b*h_x - 3*P*d*h_x**2/2 + 3*P*d/2 - 2*a*b*dvdx*eta*h_x**2 - a*b*dvdx*eta + 2*a*d*dudx*eta*h_x**2 + a*d*dudx*eta - 2*b*c*dudx*eta*h_x**2 - b*c*dudx*eta - 2*b*c*dvdx*eta*h_x - c*d*dvdx*eta*h_x**2 - 2*c*d*dvdx*eta)/(eta*(2*b**2*h_x**2 + b**2 + 2*b*d*h_x + d**2*h_x**2 + 2*d**2))\n"
     ]
    }
   ],
   "source": [
    "# Velocity gradients\n",
    "dVxdy_surf = collect( s[dudy].subs(P,'P').simplify(), P).subs(dkdx,'a').subs(dedx,'b').subs(dkdy,'c').subs(dedy,'d').simplify()\n",
    "dVydy_surf = collect( s[dvdy].subs(P,'P').simplify(), P).subs(dkdx,'a').subs(dedx,'b').subs(dkdy,'c').subs(dedy,'d').simplify()\n",
    "display(dVxdy_surf)\n",
    "# print('dVxdy = ' + julia_code(dVxdy_surf) )\n",
    "# print('dVydy = ' + julia_code(dVydy_surf) )\n",
    "print('dVxdy = ' + str(dVxdy_surf) )\n",
    "print('dVydy = ' + str(dVydy_surf) )"
   ]
  },
  {
   "cell_type": "code",
   "execution_count": 110,
   "metadata": {},
   "outputs": [
    {
     "name": "stdout",
     "output_type": "stream",
     "text": [
      "(C1*P + C2*dudx + C3*dvdx)/C0\n"
     ]
    },
    {
     "data": {
      "text/latex": [
       "$\\displaystyle \\frac{C_{1} P + C_{2} dudx + C_{3} dvdx}{C_{0}}$"
      ],
      "text/plain": [
       "(C1*P + C2*dudx + C3*dvdx)/C0"
      ]
     },
     "execution_count": 110,
     "metadata": {},
     "output_type": "execute_result"
    }
   ],
   "source": [
    "dVxdy = collect(s[dudy],P) \n",
    "coeff = dVxdy.diff(P)\n",
    "dVxdy = dVxdy.subs(4*dedx**2*eta*hx**2 + 2*dedx**2*eta + 4*dedx*dedy*eta*hx + 2*dedy**2*eta*hx**2 + 4*dedy**2*eta, 'C0')\n",
    "dVxdy = dVxdy.subs(3*dedx*hx**2 - 3*dedx + 6*dedy*hx, 'C1')\n",
    "dVxdy = collect(dVxdy,dudx) \n",
    "dVxdy = dVxdy.subs(-4*dedx*dkdx*eta*hx**2 - 2*dedx*dkdx*eta - 4*dedy*dkdx*eta*hx  - 2*dedy*dkdy*eta*hx**2 - 4*dedy*dkdy*eta, 'C2')\n",
    "dVxdy = collect(dVxdy,dvdx) \n",
    "dVxdy = dVxdy.subs(-2*dedy*dkdx*eta*hx**2 - 4*dedy*dkdx*eta + 2*dedx*dkdy*eta*hx**2 + 4*dedx*dkdy*eta, 'C3')\n",
    "dVxdy = dVxdy.subs(2*dedx*dkdy*eta*hx**2 + 4*dedx*dkdy*eta - 2*dedy*dkdy*eta*hx**2 - 4*dedy*dkdy*eta, 'C4')\n",
    "dVxdy = dVxdy.subs(P, 'P')\n",
    "print(dVxdy)\n",
    "dVxdy"
   ]
  },
  {
   "cell_type": "code",
   "execution_count": 113,
   "metadata": {},
   "outputs": [
    {
     "name": "stdout",
     "output_type": "stream",
     "text": [
      "(D1*P + D2*dudx + D3*dvdx)/D0\n"
     ]
    },
    {
     "data": {
      "text/latex": [
       "$\\displaystyle \\frac{D_{1} P + D_{2} dudx + D_{3} dvdx}{D_{0}}$"
      ],
      "text/plain": [
       "(D1*P + D2*dudx + D3*dvdx)/D0"
      ]
     },
     "execution_count": 113,
     "metadata": {},
     "output_type": "execute_result"
    }
   ],
   "source": [
    "dVydy = collect(s[dvdy],P) \n",
    "coeff = dVydy.diff(P)\n",
    "dVydy = dVydy.subs(4*dedx**2*eta*hx**2 + 2*dedx**2*eta + 4*dedx*dedy*eta*hx + 2*dedy**2*eta*hx**2 + 4*dedy**2*eta, 'D0')\n",
    "dVydy = dVydy.subs(6*dedx*hx - 3*dedy*hx**2 + 3*dedy, 'D1')\n",
    "dVydy = collect(dVydy,dudx) \n",
    "dVydy = dVydy.subs(4*dedy*dkdx*eta*hx**2 + 2*dedy*dkdx*eta - 4*dedx*dkdy*eta*hx**2 - 2*dedx*dkdy*eta, 'D2')\n",
    "dVydy = collect(dVydy,dvdx) \n",
    "dVydy = dVydy.subs(-4*dedx*dkdx*eta*hx**2 - 2*dedx*dkdx*eta - 4*dedx*dkdy*eta*hx - 2*dedy*dkdy*eta*hx**2 - 4*dedy*dkdy*eta, 'D3')\n",
    "dVydy = dVydy.subs(-4*dedx*dkdy*eta*hx**2 - 4*dedx*dkdy*eta*hx - 2*dedx*dkdy*eta - 2*dedy*dkdy*eta*hx**2 - 4*dedy*dkdy*eta, 'D4')\n",
    "dVydy = dVydy.subs(P, 'P')\n",
    "print(dVydy)\n",
    "dVydy"
   ]
  },
  {
   "cell_type": "code",
   "execution_count": 114,
   "metadata": {},
   "outputs": [
    {
     "data": {
      "text/latex": [
       "$\\displaystyle \\frac{\\frac{3 M_{1} P_{surf} dz}{2} + M_{2} \\eta uS - dudx dz \\eta \\left(2 dedx dkdx hx_{surf}^{2} + dedx dkdx + 2 dedy dkdx hx_{surf} + dedy dkdy hx_{surf}^{2} + 2 dedy dkdy\\right) + dvdx dz \\eta \\left(dedx dkdy hx_{surf}^{2} + 2 dedx dkdy - dedy dkdx hx_{surf}^{2} - 2 dedy dkdx\\right)}{M_{2} \\eta}$"
      ],
      "text/plain": [
       "(3*M1*P_surf*dz/2 + M2*eta*uS - dudx*dz*eta*(2*dedx*dkdx*hx_surf**2 + dedx*dkdx + 2*dedy*dkdx*hx_surf + dedy*dkdy*hx_surf**2 + 2*dedy*dkdy) + dvdx*dz*eta*(dedx*dkdy*hx_surf**2 + 2*dedx*dkdy - dedy*dkdx*hx_surf**2 - 2*dedy*dkdx))/(M2*eta)"
      ]
     },
     "metadata": {},
     "output_type": "display_data"
    },
    {
     "name": "stdout",
     "output_type": "stream",
     "text": [
      "((3 // 2) * M1 .* P_surf .* dz + M2 .* eta .* uS - dudx .* dz .* eta .* (2 * dedx .* dkdx .* hx_surf .^ 2 + dedx .* dkdx + 2 * dedy .* dkdx .* hx_surf + dedy .* dkdy .* hx_surf .^ 2 + 2 * dedy .* dkdy) + dvdx .* dz .* eta .* (dedx .* dkdy .* hx_surf .^ 2 + 2 * dedx .* dkdy - dedy .* dkdx .* hx_surf .^ 2 - 2 * dedy .* dkdx)) ./ (M2 .* eta)\n",
      "(M2 .* eta .* vS + (3 // 2) * M6 .* P_surf .* dz - dudx .* dz .* eta .* (2 * dedx .* dkdy .* hx_surf .^ 2 + dedx .* dkdy - 2 * dedy .* dkdx .* hx_surf .^ 2 - dedy .* dkdx) - dvdx .* dz .* eta .* (2 * dedx .* dkdx .* hx_surf .^ 2 + dedx .* dkdx + 2 * dedx .* dkdy .* hx_surf + dedy .* dkdy .* hx_surf .^ 2 + 2 * dedy .* dkdy)) ./ (M2 .* eta)\n"
     ]
    }
   ],
   "source": [
    "uN,uS,dz = symbols('uN,uS,dz')\n",
    "vN,vS = symbols('vN,vS')\n",
    "wN,wS = symbols('wN,wS')\n",
    "\n",
    "M1   = dedx*hx**2 - dedx + 2*dedy*hx\n",
    "M2   = 2*dedx**2*hx**2 + dedx**2 + 2*dedx*dedy*hx + dedy**2*hx**2 + 2*dedy**2\n",
    "M3   = 2*dedx*hx**2 + dedx + 2*dedy*hx\n",
    "M4   = hx**2 + 2\n",
    "M5   = 2*hx**2 + 1\n",
    "M6   = 2*dedx*hx - dedy*hx**2 + dedy\n",
    "# dudz\n",
    "fx = (uN-uS)/dz - s[dudy].simplify()\n",
    "uN = solve(fx,uN)[0].factor((uS,dudx,dvdx,P)).simplify().subs(M1,'M1').subs(M2,'M2').subs(M3,'M3').subs(M4,'M4').subs(P,'P_surf').subs(hx,'hx_surf')\n",
    "display(uN)\n",
    "print(julia_code(uN))\n",
    "# print((uN))\n",
    "# dvdz\n",
    "fy = (vN-vS)/dz - s[dvdy].simplify()\n",
    "vN = solve(fy,vN)[0].factor((vS,dudx,dvdx,P)).simplify().subs(M1,'M1').subs(M2,'M2').subs(M3,'M3').subs(M4,'M4').subs(M5,'M5').subs(M6,'M6').subs(hx,'hx_surf').subs(P,'P_surf')\n",
    "# print((vN))\n",
    "print(julia_code(vN))"
   ]
  },
  {
   "cell_type": "code",
   "execution_count": 106,
   "metadata": {},
   "outputs": [
    {
     "name": "stdout",
     "output_type": "stream",
     "text": [
      "M1 = dedx .* h_x .^ 2 - dedx + 2 * dedy .* h_x\n",
      "M2 = 2 * dedx .^ 2 .* h_x .^ 2 + dedx .^ 2 + 2 * dedx .* dedy .* h_x + dedy .^ 2 .* h_x .^ 2 + 2 * dedy .^ 2\n",
      "M3 = 2 * dedx .* h_x .^ 2 + dedx + 2 * dedy .* h_x\n",
      "M4 = h_x .^ 2 + 2\n",
      "M5 = 2 * h_x .^ 2 + 1\n",
      "M6 = 2 * dedx .* h_x - dedy .* h_x .^ 2 + dedy\n"
     ]
    }
   ],
   "source": [
    "print('M1 = ' + julia_code(M1))\n",
    "print('M2 = ' + julia_code(M2))\n",
    "print('M3 = ' + julia_code(M3))\n",
    "print('M4 = ' + julia_code(M4))\n",
    "print('M5 = ' + julia_code(M5))\n",
    "print('M6 = ' + julia_code(M6))"
   ]
  }
 ],
 "metadata": {
  "kernelspec": {
   "display_name": "Python 3.9.5 ('base')",
   "language": "python",
   "name": "python3"
  },
  "language_info": {
   "codemirror_mode": {
    "name": "ipython",
    "version": 3
   },
   "file_extension": ".py",
   "mimetype": "text/x-python",
   "name": "python",
   "nbconvert_exporter": "python",
   "pygments_lexer": "ipython3",
   "version": "3.9.5"
  },
  "orig_nbformat": 4,
  "vscode": {
   "interpreter": {
    "hash": "309baa410e37084482bcba9b39a5b9e635e78b91cd7553c4b48a2d89780d0f88"
   }
  }
 },
 "nbformat": 4,
 "nbformat_minor": 2
}
