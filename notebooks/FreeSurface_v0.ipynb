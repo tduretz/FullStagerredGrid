{
 "cells": [
  {
   "cell_type": "code",
   "execution_count": 51,
   "metadata": {},
   "outputs": [],
   "source": [
    "from sympy import *"
   ]
  },
  {
   "cell_type": "code",
   "execution_count": 93,
   "metadata": {},
   "outputs": [
    {
     "data": {
      "text/latex": [
       "$\\displaystyle \\left[\\begin{matrix}\\frac{\\partial}{\\partial x} u{\\left(x,y,z \\right)} & 0.5 \\frac{\\partial}{\\partial y} u{\\left(x,y,z \\right)} + 0.5 \\frac{\\partial}{\\partial x} v{\\left(x,y,z \\right)} & 0.5 \\frac{\\partial}{\\partial z} u{\\left(x,y,z \\right)} + 0.5 \\frac{\\partial}{\\partial x} w{\\left(x,y,z \\right)}\\\\0.5 \\frac{\\partial}{\\partial y} u{\\left(x,y,z \\right)} + 0.5 \\frac{\\partial}{\\partial x} v{\\left(x,y,z \\right)} & \\frac{\\partial}{\\partial y} v{\\left(x,y,z \\right)} & 0.5 \\frac{\\partial}{\\partial z} v{\\left(x,y,z \\right)} + 0.5 \\frac{\\partial}{\\partial y} w{\\left(x,y,z \\right)}\\\\0.5 \\frac{\\partial}{\\partial z} u{\\left(x,y,z \\right)} + 0.5 \\frac{\\partial}{\\partial x} w{\\left(x,y,z \\right)} & 0.5 \\frac{\\partial}{\\partial z} v{\\left(x,y,z \\right)} + 0.5 \\frac{\\partial}{\\partial y} w{\\left(x,y,z \\right)} & \\frac{\\partial}{\\partial z} w{\\left(x,y,z \\right)}\\end{matrix}\\right]$"
      ],
      "text/plain": [
       "Matrix([\n",
       "[                                    Derivative(u(x, y, z), x), 0.5*Derivative(u(x, y, z), y) + 0.5*Derivative(v(x, y, z), x), 0.5*Derivative(u(x, y, z), z) + 0.5*Derivative(w(x, y, z), x)],\n",
       "[0.5*Derivative(u(x, y, z), y) + 0.5*Derivative(v(x, y, z), x),                                     Derivative(v(x, y, z), y), 0.5*Derivative(v(x, y, z), z) + 0.5*Derivative(w(x, y, z), y)],\n",
       "[0.5*Derivative(u(x, y, z), z) + 0.5*Derivative(w(x, y, z), x), 0.5*Derivative(v(x, y, z), z) + 0.5*Derivative(w(x, y, z), y),                                     Derivative(w(x, y, z), z)]])"
      ]
     },
     "metadata": {},
     "output_type": "display_data"
    }
   ],
   "source": [
    "x, y, z = symbols('x,y,z')\n",
    "sxx, syy, szz, sxy, sxz, syz = symbols('sigma_xx, sigma_yy, sigma_zz, sigma_xy, sigma_xz, sigma_yz')\n",
    "u_x, v_x, w_x, u_y, v_y, w_y, u_z, v_z, w_z = symbols('u_x, v_x, w_x, u_y, v_y, w_y, u_z, v_z, w_z')\n",
    "L, M = symbols('lambda, mu')\n",
    "u = Function('u')(x,y,z)\n",
    "v = Function('v')(x,y,z)\n",
    "w = Function('w')(x,y,z)\n",
    "hx, hy = symbols('h_x, h_y')\n",
    "Exx  = u.diff(x)\n",
    "Eyy  = v.diff(y)\n",
    "Ezz  = w.diff(z)\n",
    "Exz  = 1/2*(u.diff(z) + w.diff(x))\n",
    "Exy  = 1/2*(u.diff(y) + v.diff(x))\n",
    "Eyz  = 1/2*(v.diff(z) + w.diff(y))\n",
    "E = Matrix([[Exx, Exy, Exz],[Exy,Eyy,Eyz],[Exz,Eyz,Ezz]])\n",
    "D = Matrix([[L+2*M, L, L],[L, L+2*M, L],[L, L, L+2*M]])\n",
    "S = D*E\n",
    "# sxx  = (L+2*M)*Exx +  L*Eyy      +  L*Ezz\n",
    "# syy  =  L*Exx      + (L+2*M)*Eyy +  L*Ezz\n",
    "# szz  =  L*Exx      +  L*Eyy      + (L+2*M)*Ezz  \n",
    "# sxy  = (2*M)*Exy\n",
    "# sxz  = (2*M)*Exz\n",
    "# syz  = (2*M)*Eyz\n",
    "\n",
    "# S = Matrix([[sxx, sxy, sxz],[sxy,syy,syz],[sxz,syz,szz]])\n",
    "display(E)"
   ]
  },
  {
   "cell_type": "code",
   "execution_count": 94,
   "metadata": {},
   "outputs": [
    {
     "data": {
      "text/latex": [
       "$\\displaystyle \\left[\\begin{matrix}\\lambda \\left(0.5 \\frac{\\partial}{\\partial y} u{\\left(x,y,z \\right)} + 0.5 \\frac{\\partial}{\\partial x} v{\\left(x,y,z \\right)}\\right) + \\lambda \\left(0.5 \\frac{\\partial}{\\partial z} u{\\left(x,y,z \\right)} + 0.5 \\frac{\\partial}{\\partial x} w{\\left(x,y,z \\right)}\\right) + \\left(\\lambda + 2 \\mu\\right) \\frac{\\partial}{\\partial x} u{\\left(x,y,z \\right)} & \\lambda \\left(0.5 \\frac{\\partial}{\\partial z} v{\\left(x,y,z \\right)} + 0.5 \\frac{\\partial}{\\partial y} w{\\left(x,y,z \\right)}\\right) + \\lambda \\frac{\\partial}{\\partial y} v{\\left(x,y,z \\right)} + \\left(\\lambda + 2 \\mu\\right) \\left(0.5 \\frac{\\partial}{\\partial y} u{\\left(x,y,z \\right)} + 0.5 \\frac{\\partial}{\\partial x} v{\\left(x,y,z \\right)}\\right) & \\lambda \\left(0.5 \\frac{\\partial}{\\partial z} v{\\left(x,y,z \\right)} + 0.5 \\frac{\\partial}{\\partial y} w{\\left(x,y,z \\right)}\\right) + \\lambda \\frac{\\partial}{\\partial z} w{\\left(x,y,z \\right)} + \\left(\\lambda + 2 \\mu\\right) \\left(0.5 \\frac{\\partial}{\\partial z} u{\\left(x,y,z \\right)} + 0.5 \\frac{\\partial}{\\partial x} w{\\left(x,y,z \\right)}\\right)\\\\\\lambda \\left(0.5 \\frac{\\partial}{\\partial z} u{\\left(x,y,z \\right)} + 0.5 \\frac{\\partial}{\\partial x} w{\\left(x,y,z \\right)}\\right) + \\lambda \\frac{\\partial}{\\partial x} u{\\left(x,y,z \\right)} + \\left(\\lambda + 2 \\mu\\right) \\left(0.5 \\frac{\\partial}{\\partial y} u{\\left(x,y,z \\right)} + 0.5 \\frac{\\partial}{\\partial x} v{\\left(x,y,z \\right)}\\right) & \\lambda \\left(0.5 \\frac{\\partial}{\\partial y} u{\\left(x,y,z \\right)} + 0.5 \\frac{\\partial}{\\partial x} v{\\left(x,y,z \\right)}\\right) + \\lambda \\left(0.5 \\frac{\\partial}{\\partial z} v{\\left(x,y,z \\right)} + 0.5 \\frac{\\partial}{\\partial y} w{\\left(x,y,z \\right)}\\right) + \\left(\\lambda + 2 \\mu\\right) \\frac{\\partial}{\\partial y} v{\\left(x,y,z \\right)} & \\lambda \\left(0.5 \\frac{\\partial}{\\partial z} u{\\left(x,y,z \\right)} + 0.5 \\frac{\\partial}{\\partial x} w{\\left(x,y,z \\right)}\\right) + \\lambda \\frac{\\partial}{\\partial z} w{\\left(x,y,z \\right)} + \\left(\\lambda + 2 \\mu\\right) \\left(0.5 \\frac{\\partial}{\\partial z} v{\\left(x,y,z \\right)} + 0.5 \\frac{\\partial}{\\partial y} w{\\left(x,y,z \\right)}\\right)\\\\\\lambda \\left(0.5 \\frac{\\partial}{\\partial y} u{\\left(x,y,z \\right)} + 0.5 \\frac{\\partial}{\\partial x} v{\\left(x,y,z \\right)}\\right) + \\lambda \\frac{\\partial}{\\partial x} u{\\left(x,y,z \\right)} + \\left(\\lambda + 2 \\mu\\right) \\left(0.5 \\frac{\\partial}{\\partial z} u{\\left(x,y,z \\right)} + 0.5 \\frac{\\partial}{\\partial x} w{\\left(x,y,z \\right)}\\right) & \\lambda \\left(0.5 \\frac{\\partial}{\\partial y} u{\\left(x,y,z \\right)} + 0.5 \\frac{\\partial}{\\partial x} v{\\left(x,y,z \\right)}\\right) + \\lambda \\frac{\\partial}{\\partial y} v{\\left(x,y,z \\right)} + \\left(\\lambda + 2 \\mu\\right) \\left(0.5 \\frac{\\partial}{\\partial z} v{\\left(x,y,z \\right)} + 0.5 \\frac{\\partial}{\\partial y} w{\\left(x,y,z \\right)}\\right) & \\lambda \\left(0.5 \\frac{\\partial}{\\partial z} u{\\left(x,y,z \\right)} + 0.5 \\frac{\\partial}{\\partial x} w{\\left(x,y,z \\right)}\\right) + \\lambda \\left(0.5 \\frac{\\partial}{\\partial z} v{\\left(x,y,z \\right)} + 0.5 \\frac{\\partial}{\\partial y} w{\\left(x,y,z \\right)}\\right) + \\left(\\lambda + 2 \\mu\\right) \\frac{\\partial}{\\partial z} w{\\left(x,y,z \\right)}\\end{matrix}\\right]$"
      ],
      "text/plain": [
       "Matrix([\n",
       "[lambda*(0.5*Derivative(u(x, y, z), y) + 0.5*Derivative(v(x, y, z), x)) + lambda*(0.5*Derivative(u(x, y, z), z) + 0.5*Derivative(w(x, y, z), x)) + (lambda + 2*mu)*Derivative(u(x, y, z), x), lambda*(0.5*Derivative(v(x, y, z), z) + 0.5*Derivative(w(x, y, z), y)) + lambda*Derivative(v(x, y, z), y) + (lambda + 2*mu)*(0.5*Derivative(u(x, y, z), y) + 0.5*Derivative(v(x, y, z), x)), lambda*(0.5*Derivative(v(x, y, z), z) + 0.5*Derivative(w(x, y, z), y)) + lambda*Derivative(w(x, y, z), z) + (lambda + 2*mu)*(0.5*Derivative(u(x, y, z), z) + 0.5*Derivative(w(x, y, z), x))],\n",
       "[lambda*(0.5*Derivative(u(x, y, z), z) + 0.5*Derivative(w(x, y, z), x)) + lambda*Derivative(u(x, y, z), x) + (lambda + 2*mu)*(0.5*Derivative(u(x, y, z), y) + 0.5*Derivative(v(x, y, z), x)), lambda*(0.5*Derivative(u(x, y, z), y) + 0.5*Derivative(v(x, y, z), x)) + lambda*(0.5*Derivative(v(x, y, z), z) + 0.5*Derivative(w(x, y, z), y)) + (lambda + 2*mu)*Derivative(v(x, y, z), y), lambda*(0.5*Derivative(u(x, y, z), z) + 0.5*Derivative(w(x, y, z), x)) + lambda*Derivative(w(x, y, z), z) + (lambda + 2*mu)*(0.5*Derivative(v(x, y, z), z) + 0.5*Derivative(w(x, y, z), y))],\n",
       "[lambda*(0.5*Derivative(u(x, y, z), y) + 0.5*Derivative(v(x, y, z), x)) + lambda*Derivative(u(x, y, z), x) + (lambda + 2*mu)*(0.5*Derivative(u(x, y, z), z) + 0.5*Derivative(w(x, y, z), x)), lambda*(0.5*Derivative(u(x, y, z), y) + 0.5*Derivative(v(x, y, z), x)) + lambda*Derivative(v(x, y, z), y) + (lambda + 2*mu)*(0.5*Derivative(v(x, y, z), z) + 0.5*Derivative(w(x, y, z), y)), lambda*(0.5*Derivative(u(x, y, z), z) + 0.5*Derivative(w(x, y, z), x)) + lambda*(0.5*Derivative(v(x, y, z), z) + 0.5*Derivative(w(x, y, z), y)) + (lambda + 2*mu)*Derivative(w(x, y, z), z)]])"
      ]
     },
     "metadata": {},
     "output_type": "display_data"
    },
    {
     "data": {
      "text/latex": [
       "$\\displaystyle \\left[\\begin{matrix}0\\\\0\\\\1\\end{matrix}\\right]$"
      ],
      "text/plain": [
       "Matrix([\n",
       "[0],\n",
       "[0],\n",
       "[1]])"
      ]
     },
     "metadata": {},
     "output_type": "display_data"
    }
   ],
   "source": [
    "display(S)\n",
    "display(n)"
   ]
  },
  {
   "cell_type": "code",
   "execution_count": 95,
   "metadata": {},
   "outputs": [
    {
     "data": {
      "text/latex": [
       "$\\displaystyle \\left[\\begin{matrix}dwdz \\lambda + \\lambda \\left(0.5 dvdz + 0.5 dwdy\\right) + \\left(0.5 dudz + 0.5 dwdx\\right) \\left(\\lambda + 2 \\mu\\right)\\\\dwdz \\lambda + \\lambda \\left(0.5 dudz + 0.5 dwdx\\right) + \\left(0.5 dvdz + 0.5 dwdy\\right) \\left(\\lambda + 2 \\mu\\right)\\\\dwdz \\left(\\lambda + 2 \\mu\\right) + \\lambda \\left(0.5 dudz + 0.5 dwdx\\right) + \\lambda \\left(0.5 dvdz + 0.5 dwdy\\right)\\end{matrix}\\right]$"
      ],
      "text/plain": [
       "Matrix([\n",
       "[dwdz*lambda + lambda*(0.5*dvdz + 0.5*dwdy) + (0.5*dudz + 0.5*dwdx)*(lambda + 2*mu)],\n",
       "[dwdz*lambda + lambda*(0.5*dudz + 0.5*dwdx) + (0.5*dvdz + 0.5*dwdy)*(lambda + 2*mu)],\n",
       "[dwdz*(lambda + 2*mu) + lambda*(0.5*dudz + 0.5*dwdx) + lambda*(0.5*dvdz + 0.5*dwdy)]])"
      ]
     },
     "metadata": {},
     "output_type": "display_data"
    }
   ],
   "source": [
    "# The flat case\n",
    "dudz, dvdz, dwdz = symbols('dudz, dvdz, dwdz')\n",
    "dudx, dudy, dvdy, dvdx, dvdz, dwdx, dwdy = symbols('dudx, dudy, dvdy, dvdx, dvdz, dwdx, dwdy')\n",
    "n = Matrix([0*hx,0*hy,1])\n",
    "f = S*n\n",
    "f = f.subs(u.diff(z), dudz).subs(v.diff(z), dvdz).subs(w.diff(z), dwdz)\n",
    "f = f.subs(u.diff(y), dudy).subs(v.diff(y), dvdy).subs(w.diff(y), dwdy)\n",
    "f = f.subs(u.diff(x), dudx).subs(v.diff(x), dvdx).subs(w.diff(x), dwdx)\n",
    "x = solve(f, (dudz, dvdz, dwdz))\n",
    "display(f)"
   ]
  },
  {
   "cell_type": "code",
   "execution_count": 96,
   "metadata": {},
   "outputs": [
    {
     "data": {
      "text/latex": [
       "$\\displaystyle - dwdx$"
      ],
      "text/plain": [
       "-dwdx"
      ]
     },
     "execution_count": 96,
     "metadata": {},
     "output_type": "execute_result"
    }
   ],
   "source": [
    "x[dudz]"
   ]
  },
  {
   "cell_type": "code",
   "execution_count": 97,
   "metadata": {},
   "outputs": [
    {
     "ename": "KeyError",
     "evalue": "dvdy",
     "output_type": "error",
     "traceback": [
      "\u001b[0;31m---------------------------------------------------------------------------\u001b[0m",
      "\u001b[0;31mKeyError\u001b[0m                                  Traceback (most recent call last)",
      "\u001b[0;32m<ipython-input-97-34be865815f6>\u001b[0m in \u001b[0;36m<module>\u001b[0;34m\u001b[0m\n\u001b[0;32m----> 1\u001b[0;31m \u001b[0mx\u001b[0m\u001b[0;34m[\u001b[0m\u001b[0mdvdy\u001b[0m\u001b[0;34m]\u001b[0m\u001b[0;34m\u001b[0m\u001b[0;34m\u001b[0m\u001b[0m\n\u001b[0m",
      "\u001b[0;31mKeyError\u001b[0m: dvdy"
     ]
    }
   ],
   "source": [
    "x[dvdz]"
   ]
  },
  {
   "cell_type": "code",
   "execution_count": 57,
   "metadata": {},
   "outputs": [
    {
     "data": {
      "text/latex": [
       "$\\displaystyle \\frac{- \\lambda u_{x} - \\lambda v_{y}}{\\lambda + 2.0 \\mu}$"
      ],
      "text/plain": [
       "(-lambda*u_x - lambda*v_y)/(lambda + 2.0*mu)"
      ]
     },
     "execution_count": 57,
     "metadata": {},
     "output_type": "execute_result"
    }
   ],
   "source": [
    "x[w_z]"
   ]
  }
 ],
 "metadata": {
  "kernelspec": {
   "display_name": "Python 3.7.4 ('base')",
   "language": "python",
   "name": "python3"
  },
  "language_info": {
   "codemirror_mode": {
    "name": "ipython",
    "version": 3
   },
   "file_extension": ".py",
   "mimetype": "text/x-python",
   "name": "python",
   "nbconvert_exporter": "python",
   "pygments_lexer": "ipython3",
   "version": "3.7.4"
  },
  "orig_nbformat": 4,
  "vscode": {
   "interpreter": {
    "hash": "c8364b0fb7479dc94b0c24ab2a5292d01c2912f237aa8319c6d135d5547fe183"
   }
  }
 },
 "nbformat": 4,
 "nbformat_minor": 2
}
